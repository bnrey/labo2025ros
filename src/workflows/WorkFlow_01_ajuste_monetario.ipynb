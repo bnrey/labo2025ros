{
 "cells": [
  {
   "cell_type": "markdown",
   "id": "859d38e7-11c0-48bc-978a-d0e907f19ed1",
   "metadata": {
    "editable": true,
    "id": "859d38e7-11c0-48bc-978a-d0e907f19ed1",
    "slideshow": {
     "slide_type": ""
    },
    "tags": []
   },
   "source": [
    "# 7 WorkFlow"
   ]
  },
  {
   "cell_type": "markdown",
   "id": "29c586e3-ed7d-44b2-92a0-f19669f06940",
   "metadata": {
    "id": "29c586e3-ed7d-44b2-92a0-f19669f06940"
   },
   "source": [
    "### 7.1 Objetivo"
   ]
  },
  {
   "cell_type": "markdown",
   "id": "6fff8327-10ed-4b11-bbee-f1c3f357d123",
   "metadata": {
    "id": "6fff8327-10ed-4b11-bbee-f1c3f357d123"
   },
   "source": [
    "Presentar un workflow/pipeline completo al que los estudiantes deberán enriquecer"
   ]
  },
  {
   "cell_type": "markdown",
   "id": "PX0qg_c0yqob",
   "metadata": {
    "id": "PX0qg_c0yqob"
   },
   "source": [
    "#### 7.2  Seteo del ambiente en Google Colab"
   ]
  },
  {
   "cell_type": "markdown",
   "id": "NGY7H9xza7Zr",
   "metadata": {
    "id": "NGY7H9xza7Zr"
   },
   "source": [
    "Esta parte se debe correr con el runtime en Python3\n",
    "<br>Ir al menu, Runtime -> Change Runtime Type -> Runtime type ->  **Python 3**"
   ]
  },
  {
   "cell_type": "markdown",
   "id": "7PupIBNba7Zr",
   "metadata": {
    "id": "7PupIBNba7Zr"
   },
   "source": [
    "Conectar la virtual machine donde esta corriendo Google Colab con el  Google Drive, para poder tener persistencia de archivos"
   ]
  },
  {
   "cell_type": "code",
   "execution_count": null,
   "id": "9LpZCst5a7Zs",
   "metadata": {
    "id": "9LpZCst5a7Zs"
   },
   "outputs": [],
   "source": [
    "# primero establecer el Runtime de Python 3\n",
    "from google.colab import drive\n",
    "drive.mount('/content/.drive')"
   ]
  },
  {
   "cell_type": "markdown",
   "id": "JYC_F-wla7Zs",
   "metadata": {
    "id": "JYC_F-wla7Zs"
   },
   "source": [
    "Para correr la siguiente celda es fundamental en Arranque en Frio haber copiado el archivo kaggle.json al Google Drive, en la carpeta indicada en el instructivo\n",
    "\n",
    "<br>los siguientes comando estan en shell script de Linux\n",
    "*   Crear las carpetas en el Google Drive\n",
    "*   \"instalar\" el archivo kaggle.json desde el Google Drive a la virtual machine para que pueda ser utilizado por la libreria  kaggle de Python\n",
    "*   Bajar el  **dataset_pequeno**  al  Google Drive  y tambien al disco local de la virtual machine que esta corriendo Google Colab\n",
    "*   Bajar el **dataset_historico** al Google Drive y tambien al disco local de la virtual machine que esta corriendo Google Colab\n",
    "\n"
   ]
  },
  {
   "cell_type": "markdown",
   "id": "4fcqHsG9hdlx",
   "metadata": {
    "id": "4fcqHsG9hdlx"
   },
   "source": [
    "*  Si usted eligió modalidad *Gerencial* entonces NO debe modificar nada, su liderazgo logró que otras trabajaron por usted\n",
    "*  Si usted eligió modalidad de *Analista Junior*, entonces donde dice archivo=\"gerencial_competencia_2025.csv.gz\"  lo debe cambiar por  archivo=\"analistajr_competencia_2025.csv.gz\"\n",
    "*  Si usted eligió modalidad *Analista Senior*,  ya se las ingenierá SIN preguntar !"
   ]
  },
  {
   "cell_type": "code",
   "execution_count": null,
   "id": "XWLelftXa7Zt",
   "metadata": {
    "id": "XWLelftXa7Zt"
   },
   "outputs": [],
   "source": [
    "%%shell\n",
    "\n",
    "mkdir -p \"/content/.drive/My Drive/labo1\"\n",
    "mkdir -p \"/content/buckets\"\n",
    "ln -s \"/content/.drive/My Drive/labo1\" /content/buckets/b1\n",
    "\n",
    "mkdir -p ~/.kaggle\n",
    "cp /content/buckets/b1/kaggle/kaggle.json  ~/.kaggle\n",
    "chmod 600 ~/.kaggle/kaggle.json\n",
    "\n",
    "\n",
    "mkdir -p /content/buckets/b1/exp\n",
    "mkdir -p /content/buckets/b1/datasets\n",
    "mkdir -p /content/datasets\n",
    "\n",
    "\n",
    "webfiles=\"https://storage.googleapis.com/open-courses/austral2025-af91/labo1r\"\n",
    "destino_local=\"/content/datasets\"\n",
    "destino_bucket=\"/content/buckets/b1/datasets\"\n",
    "\n",
    "\n",
    "archivo=\"dataset_pequeno.csv\"\n",
    "\n",
    "if ! test -f $destino_bucket/$archivo; then\n",
    "  wget  $webfiles/$archivo  -O $destino_bucket/$archivo\n",
    "fi\n",
    "\n",
    "\n",
    "if ! test -f $destino_local/$pequeno; then\n",
    "  cp  $destino_bucket/$archivo  $destino_local/$archivo\n",
    "fi\n",
    "\n",
    "#-------\n",
    "\n",
    "archivo=\"gerencial_competencia_2025.csv.gz\"\n",
    "\n",
    "if ! test -f $destino_bucket/$archivo; then\n",
    "  wget  $webfiles/$archivo  -O $destino_bucket/$archivo\n",
    "fi\n",
    "\n",
    "\n",
    "if ! test -f $destino_local/$pequeno; then\n",
    "  cp  $destino_bucket/$archivo  $destino_local/$archivo\n",
    "fi\n"
   ]
  },
  {
   "cell_type": "markdown",
   "id": "oSKhZRToy2F7",
   "metadata": {
    "id": "oSKhZRToy2F7"
   },
   "source": [
    "## 7.3  Workflow"
   ]
  },
  {
   "cell_type": "markdown",
   "id": "85171302-a2d6-48cb-b9b2-8d839a276859",
   "metadata": {
    "id": "85171302-a2d6-48cb-b9b2-8d839a276859"
   },
   "source": [
    "## Inicializacion"
   ]
  },
  {
   "cell_type": "markdown",
   "id": "eSU5vi00CPRS",
   "metadata": {
    "id": "eSU5vi00CPRS"
   },
   "source": [
    "Esta parte se debe correr con el runtime en lenguaje **R** Ir al menu, Runtime -> Change Runtime Type -> Runtime type -> R"
   ]
  },
  {
   "cell_type": "markdown",
   "id": "Zq8dySimCPRT",
   "metadata": {
    "id": "Zq8dySimCPRT"
   },
   "source": [
    "limpio el ambiente de R"
   ]
  },
  {
   "cell_type": "code",
   "execution_count": 2,
   "id": "EL8wdHaUs59K",
   "metadata": {
    "id": "EL8wdHaUs59K"
   },
   "outputs": [
    {
     "data": {
      "text/html": [
       "'Thu Jul 03 00:36:56 2025'"
      ],
      "text/latex": [
       "'Thu Jul 03 00:36:56 2025'"
      ],
      "text/markdown": [
       "'Thu Jul 03 00:36:56 2025'"
      ],
      "text/plain": [
       "[1] \"Thu Jul 03 00:36:56 2025\""
      ]
     },
     "metadata": {},
     "output_type": "display_data"
    }
   ],
   "source": [
    "format(Sys.time(), \"%a %b %d %X %Y\")"
   ]
  },
  {
   "cell_type": "code",
   "execution_count": 1,
   "id": "1iE0U4_WCPRT",
   "metadata": {
    "id": "1iE0U4_WCPRT"
   },
   "outputs": [
    {
     "data": {
      "text/html": [
       "<table class=\"dataframe\">\n",
       "<caption>A matrix: 2 × 6 of type dbl</caption>\n",
       "<thead>\n",
       "\t<tr><th></th><th scope=col>used</th><th scope=col>(Mb)</th><th scope=col>gc trigger</th><th scope=col>(Mb)</th><th scope=col>max used</th><th scope=col>(Mb)</th></tr>\n",
       "</thead>\n",
       "<tbody>\n",
       "\t<tr><th scope=row>Ncells</th><td> 649910</td><td>34.8</td><td>1439408</td><td>76.9</td><td>1070121</td><td>57.2</td></tr>\n",
       "\t<tr><th scope=row>Vcells</th><td>1209785</td><td> 9.3</td><td>8388608</td><td>64.0</td><td>1924953</td><td>14.7</td></tr>\n",
       "</tbody>\n",
       "</table>\n"
      ],
      "text/latex": [
       "A matrix: 2 × 6 of type dbl\n",
       "\\begin{tabular}{r|llllll}\n",
       "  & used & (Mb) & gc trigger & (Mb) & max used & (Mb)\\\\\n",
       "\\hline\n",
       "\tNcells &  649910 & 34.8 & 1439408 & 76.9 & 1070121 & 57.2\\\\\n",
       "\tVcells & 1209785 &  9.3 & 8388608 & 64.0 & 1924953 & 14.7\\\\\n",
       "\\end{tabular}\n"
      ],
      "text/markdown": [
       "\n",
       "A matrix: 2 × 6 of type dbl\n",
       "\n",
       "| <!--/--> | used | (Mb) | gc trigger | (Mb) | max used | (Mb) |\n",
       "|---|---|---|---|---|---|---|\n",
       "| Ncells |  649910 | 34.8 | 1439408 | 76.9 | 1070121 | 57.2 |\n",
       "| Vcells | 1209785 |  9.3 | 8388608 | 64.0 | 1924953 | 14.7 |\n",
       "\n"
      ],
      "text/plain": [
       "       used    (Mb) gc trigger (Mb) max used (Mb)\n",
       "Ncells  649910 34.8 1439408    76.9 1070121  57.2\n",
       "Vcells 1209785  9.3 8388608    64.0 1924953  14.7"
      ]
     },
     "metadata": {},
     "output_type": "display_data"
    }
   ],
   "source": [
    "# limpio la memoria\n",
    "rm(list=ls(all.names=TRUE)) # remove all objects\n",
    "gc(full=TRUE, verbose=FALSE) # garbage collection"
   ]
  },
  {
   "cell_type": "code",
   "execution_count": 2,
   "id": "atmIUEUNUrK5",
   "metadata": {
    "id": "atmIUEUNUrK5"
   },
   "outputs": [
    {
     "name": "stderr",
     "output_type": "stream",
     "text": [
      "Loading required package: data.table\n",
      "\n",
      "Loading required package: R.utils\n",
      "\n",
      "Loading required package: R.oo\n",
      "\n",
      "Loading required package: R.methodsS3\n",
      "\n",
      "R.methodsS3 v1.8.2 (2022-06-13 22:00:14 UTC) successfully loaded. See ?R.methodsS3 for help.\n",
      "\n",
      "R.oo v1.27.1 (2025-05-02 21:00:05 UTC) successfully loaded. See ?R.oo for help.\n",
      "\n",
      "\n",
      "Attaching package: ‘R.oo’\n",
      "\n",
      "\n",
      "The following object is masked from ‘package:R.methodsS3’:\n",
      "\n",
      "    throw\n",
      "\n",
      "\n",
      "The following objects are masked from ‘package:methods’:\n",
      "\n",
      "    getClasses, getMethods\n",
      "\n",
      "\n",
      "The following objects are masked from ‘package:base’:\n",
      "\n",
      "    attach, detach, load, save\n",
      "\n",
      "\n",
      "R.utils v2.13.0 (2025-02-24 21:20:02 UTC) successfully loaded. See ?R.utils for help.\n",
      "\n",
      "\n",
      "Attaching package: ‘R.utils’\n",
      "\n",
      "\n",
      "The following object is masked from ‘package:utils’:\n",
      "\n",
      "    timestamp\n",
      "\n",
      "\n",
      "The following objects are masked from ‘package:base’:\n",
      "\n",
      "    cat, commandArgs, getOption, isOpen, nullfile, parse, use, warnings\n",
      "\n",
      "\n"
     ]
    }
   ],
   "source": [
    "require(\"data.table\")\n",
    "\n",
    "if( !require(\"R.utils\")) install.packages(\"R.utils\")\n",
    "require(\"R.utils\")"
   ]
  },
  {
   "cell_type": "code",
   "execution_count": 3,
   "id": "fd923b4c-c31b-4789-812d-79a3809aa2ee",
   "metadata": {
    "editable": true,
    "slideshow": {
     "slide_type": ""
    },
    "tags": []
   },
   "outputs": [],
   "source": [
    "if (!requireNamespace(\"readxl\", quietly = TRUE)) {\n",
    "  install.packages(\"readxl\")\n",
    "}"
   ]
  },
  {
   "cell_type": "markdown",
   "id": "BsxZ_ONyj9L_",
   "metadata": {
    "id": "BsxZ_ONyj9L_"
   },
   "source": [
    "#### Parametros\n",
    "Si es gerente, no cambie nada\n",
    "<br>Si es Analista, cambie el nombre del dataset"
   ]
  },
  {
   "cell_type": "code",
   "execution_count": 4,
   "id": "peRH7ySLCPRV",
   "metadata": {
    "editable": true,
    "id": "peRH7ySLCPRV",
    "slideshow": {
     "slide_type": ""
    },
    "tags": []
   },
   "outputs": [],
   "source": [
    "PARAM <- list()\n",
    "PARAM$semilla_primigenia <- 100103\n",
    "\n",
    "PARAM$experimento <- 7301\n",
    "PARAM$dataset <- \"dataset_analistajr.csv.gz\"\n",
    "PARAM$coef <- \"IPC.xlsx\""
   ]
  },
  {
   "cell_type": "markdown",
   "id": "NoJbKo_4NG8A",
   "metadata": {
    "id": "NoJbKo_4NG8A"
   },
   "source": [
    "#### Carpeta del Experimento"
   ]
  },
  {
   "cell_type": "code",
   "execution_count": 5,
   "id": "1gZD6ZMvCPRV",
   "metadata": {
    "id": "1gZD6ZMvCPRV"
   },
   "outputs": [],
   "source": [
    "# carpeta de trabajo\n",
    "\n",
    "setwd(\"/content/buckets/b1/exp\")\n",
    "experimento_folder <- paste0(\"WF2_AM\", PARAM$experimento)\n",
    "dir.create(experimento_folder, showWarnings=FALSE)\n",
    "setwd( paste0(\"/content/buckets/b1/exp/\", experimento_folder ))"
   ]
  },
  {
   "cell_type": "markdown",
   "id": "YVKBfLtkR8SO",
   "metadata": {
    "id": "YVKBfLtkR8SO"
   },
   "source": [
    "### 7.3.1   Preprocesamiento del dataset"
   ]
  },
  {
   "cell_type": "markdown",
   "id": "cr3K0RPVRjq6",
   "metadata": {
    "id": "cr3K0RPVRjq6"
   },
   "source": [
    "#### 7.3.1.1  DT incorporar dataset"
   ]
  },
  {
   "cell_type": "code",
   "execution_count": 7,
   "id": "Xi0emX2ECPRV",
   "metadata": {
    "editable": true,
    "id": "Xi0emX2ECPRV",
    "slideshow": {
     "slide_type": ""
    },
    "tags": []
   },
   "outputs": [],
   "source": [
    "# lectura del dataset\n",
    "library(\"readxl\")\n",
    "\n",
    "dataset <- fread(paste0(\"/content/datasets/\", PARAM$dataset))\n",
    "indices <- as.data.table(read_excel(paste0(\"/content/datasets/\", PARAM$coef), sheet = 2))\n"
   ]
  },
  {
   "cell_type": "code",
   "execution_count": 8,
   "id": "6ec32110-1337-4255-b79d-63b7ed395830",
   "metadata": {},
   "outputs": [
    {
     "data": {
      "text/html": [
       "<table class=\"dataframe\">\n",
       "<caption>A data.table: 6 × 4</caption>\n",
       "<thead>\n",
       "\t<tr><th scope=col>Mes</th><th scope=col>coef_IPC</th><th scope=col>coef_dls_BNA</th><th scope=col>coef_dls_blue</th></tr>\n",
       "\t<tr><th scope=col>&lt;dbl&gt;</th><th scope=col>&lt;dbl&gt;</th><th scope=col>&lt;dbl&gt;</th><th scope=col>&lt;dbl&gt;</th></tr>\n",
       "</thead>\n",
       "<tbody>\n",
       "\t<tr><td>201901</td><td>2.786962</td><td>1.374757</td><td>5.456790</td></tr>\n",
       "\t<tr><td>201902</td><td>2.684935</td><td>1.369903</td><td>5.456790</td></tr>\n",
       "\t<tr><td>201903</td><td>2.564407</td><td>1.395146</td><td>5.172840</td></tr>\n",
       "\t<tr><td>201904</td><td>2.480085</td><td>1.424272</td><td>4.827160</td></tr>\n",
       "\t<tr><td>201905</td><td>2.405514</td><td>1.444660</td><td>4.777778</td></tr>\n",
       "\t<tr><td>201906</td><td>2.342272</td><td>1.445631</td><td>4.456790</td></tr>\n",
       "</tbody>\n",
       "</table>\n"
      ],
      "text/latex": [
       "A data.table: 6 × 4\n",
       "\\begin{tabular}{llll}\n",
       " Mes & coef\\_IPC & coef\\_dls\\_BNA & coef\\_dls\\_blue\\\\\n",
       " <dbl> & <dbl> & <dbl> & <dbl>\\\\\n",
       "\\hline\n",
       "\t 201901 & 2.786962 & 1.374757 & 5.456790\\\\\n",
       "\t 201902 & 2.684935 & 1.369903 & 5.456790\\\\\n",
       "\t 201903 & 2.564407 & 1.395146 & 5.172840\\\\\n",
       "\t 201904 & 2.480085 & 1.424272 & 4.827160\\\\\n",
       "\t 201905 & 2.405514 & 1.444660 & 4.777778\\\\\n",
       "\t 201906 & 2.342272 & 1.445631 & 4.456790\\\\\n",
       "\\end{tabular}\n"
      ],
      "text/markdown": [
       "\n",
       "A data.table: 6 × 4\n",
       "\n",
       "| Mes &lt;dbl&gt; | coef_IPC &lt;dbl&gt; | coef_dls_BNA &lt;dbl&gt; | coef_dls_blue &lt;dbl&gt; |\n",
       "|---|---|---|---|\n",
       "| 201901 | 2.786962 | 1.374757 | 5.456790 |\n",
       "| 201902 | 2.684935 | 1.369903 | 5.456790 |\n",
       "| 201903 | 2.564407 | 1.395146 | 5.172840 |\n",
       "| 201904 | 2.480085 | 1.424272 | 4.827160 |\n",
       "| 201905 | 2.405514 | 1.444660 | 4.777778 |\n",
       "| 201906 | 2.342272 | 1.445631 | 4.456790 |\n",
       "\n"
      ],
      "text/plain": [
       "  Mes    coef_IPC coef_dls_BNA coef_dls_blue\n",
       "1 201901 2.786962 1.374757     5.456790     \n",
       "2 201902 2.684935 1.369903     5.456790     \n",
       "3 201903 2.564407 1.395146     5.172840     \n",
       "4 201904 2.480085 1.424272     4.827160     \n",
       "5 201905 2.405514 1.444660     4.777778     \n",
       "6 201906 2.342272 1.445631     4.456790     "
      ]
     },
     "metadata": {},
     "output_type": "display_data"
    }
   ],
   "source": [
    "head(indices)"
   ]
  },
  {
   "cell_type": "markdown",
   "id": "MWuPzK3nSLY3",
   "metadata": {
    "id": "MWuPzK3nSLY3"
   },
   "source": [
    "#### 7.3.1.2  CA  Catastrophe Analysis\n",
    "Se intentan reparar las variables que para un mes están con todos los valores en cero."
   ]
  },
  {
   "cell_type": "markdown",
   "id": "UAI16-yCVcBS",
   "metadata": {
    "id": "UAI16-yCVcBS"
   },
   "source": [
    "El método que se utiliza es **Machine Learning** se asigna NA also valores, si ha leido bien, es la \"anti imputación de valores faltantes\"\n",
    "<br> Usted podrá aplicar aquí otros métodos"
   ]
  },
  {
   "cell_type": "code",
   "execution_count": 9,
   "id": "sTmliO_FXv9E",
   "metadata": {
    "id": "sTmliO_FXv9E"
   },
   "outputs": [],
   "source": [
    "dataset[ foto_mes==202006, internet:=NA]\n",
    "dataset[ foto_mes==202006, mrentabilidad:=NA]\n",
    "dataset[ foto_mes==202006, mrentabilidad_annual:=NA]\n",
    "dataset[ foto_mes==202006, mcomisiones:=NA]\n",
    "dataset[ foto_mes==202006, mactivos_margen:=NA]\n",
    "dataset[ foto_mes==202006, mpasivos_margen:=NA]\n",
    "dataset[ foto_mes==202006, mcuentas_saldo:=NA]\n",
    "dataset[ foto_mes==202006, ctarjeta_visa_transacciones:=NA]\n",
    "dataset[ foto_mes==202006, mtarjeta_visa_consumo:=NA]\n",
    "dataset[ foto_mes==202006, mtarjeta_master_consumo:=NA]\n",
    "dataset[ foto_mes==202006, ccallcenter_transacciones:=NA]\n",
    "dataset[ foto_mes==202006, chomebanking_transacciones:=NA]\n",
    "dataset[ foto_mes==202006, chomebanking_transacciones:=NA]"
   ]
  },
  {
   "cell_type": "code",
   "execution_count": null,
   "id": "1c0e1c7f-debb-4f6d-b119-4fd783332466",
   "metadata": {},
   "outputs": [],
   "source": []
  },
  {
   "cell_type": "markdown",
   "id": "-4NiANYFSYHG",
   "metadata": {
    "id": "-4NiANYFSYHG"
   },
   "source": [
    "#### 7.3.1.3  DR  Data Drifting\n",
    "Se intenta corregir el data drifting, quizas ajustando por IPC ...\n",
    "<br>Esta parte podrá ser abordada por todos los Analistas y también la Gerenciapero se decide pedagogicamente no incluirla en esta primer version para reducir la carga cognitiva"
   ]
  },
  {
   "cell_type": "code",
   "execution_count": 10,
   "id": "L85A2lwKSe3k",
   "metadata": {
    "editable": true,
    "id": "L85A2lwKSe3k",
    "slideshow": {
     "slide_type": ""
    },
    "tags": []
   },
   "outputs": [],
   "source": [
    "# sin codigo en esta primera version del workflow\n",
    "\n",
    "coef_cols <- setdiff(names(indices), \"Mes\")\n",
    "\n",
    "# Detectamos columnas monetarias a ajustar\n",
    "cols_monetarias <- grep(\"^(m|Visa_m|Master_m)\", names(dataset), value = TRUE)\n",
    "\n",
    "\n",
    "dataset_versiones <- list()  # lista para guardar versiones\n",
    "\n",
    "for (coef in coef_cols) {\n",
    "  \n",
    "  # Creamos tabla con el coeficiente actual\n",
    "  indices_reducido <- indices[, .(foto_mes = Mes, ipc_factor = get(coef))]\n",
    "  setkey(indices_reducido, foto_mes)\n",
    "  \n",
    "  # Copiamos el dataset original\n",
    "  dt <- copy(dataset)\n",
    "  \n",
    "  # Traemos el coeficiente correspondiente\n",
    "  dt[, ipc_factor := indices_reducido[.SD, on = .(foto_mes), ipc_factor]]\n",
    "  \n",
    "  # Sobrescribimos las columnas monetarias\n",
    "  cols_monetarias <- grep(\"^(m|Visa_m|Master_m)\", names(dt), value = TRUE)\n",
    "  dt[, (cols_monetarias) := lapply(.SD, function(x) x * ipc_factor), .SDcols = cols_monetarias]\n",
    "  \n",
    "  # Limpiamos columna temporal\n",
    "  dt[, ipc_factor := NULL]\n",
    "  \n",
    "  # Guardamos esta versión en la lista\n",
    "  nombre_version <- tolower(gsub(\"coef_\", \"\", coef))\n",
    "  dataset_versiones[[nombre_version]] <- dt\n",
    "}"
   ]
  },
  {
   "cell_type": "code",
   "execution_count": 11,
   "id": "ef0282cf-85e2-4d20-b022-3755448340f4",
   "metadata": {},
   "outputs": [
    {
     "data": {
      "text/html": [
       "55"
      ],
      "text/latex": [
       "55"
      ],
      "text/markdown": [
       "55"
      ],
      "text/plain": [
       "[1] 55"
      ]
     },
     "metadata": {},
     "output_type": "display_data"
    }
   ],
   "source": [
    "ncol(dataset_versiones[[\"ipc\"]])"
   ]
  },
  {
   "cell_type": "code",
   "execution_count": 15,
   "id": "391384dc-9b0a-4e23-bda8-a07b34de7a95",
   "metadata": {},
   "outputs": [
    {
     "data": {
      "text/html": [
       "<table class=\"dataframe\">\n",
       "<caption>A data.table: 6 × 55</caption>\n",
       "<thead>\n",
       "\t<tr><th scope=col>numero_de_cliente</th><th scope=col>foto_mes</th><th scope=col>internet</th><th scope=col>cliente_edad</th><th scope=col>cliente_antiguedad</th><th scope=col>mrentabilidad</th><th scope=col>mrentabilidad_annual</th><th scope=col>mcomisiones</th><th scope=col>mactivos_margen</th><th scope=col>mpasivos_margen</th><th scope=col>⋯</th><th scope=col>Visa_mfinanciacion_limite</th><th scope=col>Visa_Fvencimiento</th><th scope=col>Visa_msaldototal</th><th scope=col>Visa_mlimitecompra</th><th scope=col>Visa_fultimo_cierre</th><th scope=col>Visa_fechaalta</th><th scope=col>Visa_mconsumototal</th><th scope=col>Visa_cconsumos</th><th scope=col>Visa_mpagominimo</th><th scope=col>clase_ternaria</th></tr>\n",
       "\t<tr><th scope=col>&lt;int&gt;</th><th scope=col>&lt;int&gt;</th><th scope=col>&lt;int&gt;</th><th scope=col>&lt;int&gt;</th><th scope=col>&lt;int&gt;</th><th scope=col>&lt;dbl&gt;</th><th scope=col>&lt;dbl&gt;</th><th scope=col>&lt;dbl&gt;</th><th scope=col>&lt;dbl&gt;</th><th scope=col>&lt;dbl&gt;</th><th scope=col>⋯</th><th scope=col>&lt;dbl&gt;</th><th scope=col>&lt;int&gt;</th><th scope=col>&lt;dbl&gt;</th><th scope=col>&lt;dbl&gt;</th><th scope=col>&lt;int&gt;</th><th scope=col>&lt;int&gt;</th><th scope=col>&lt;dbl&gt;</th><th scope=col>&lt;int&gt;</th><th scope=col>&lt;dbl&gt;</th><th scope=col>&lt;chr&gt;</th></tr>\n",
       "</thead>\n",
       "<tbody>\n",
       "\t<tr><td>29187730</td><td>201901</td><td>1</td><td>62</td><td>296</td><td>39857.52</td><td>122619.12</td><td>25001.336</td><td> -3517.7594</td><td>16182.886</td><td>⋯</td><td>1150726.9</td><td>-1337</td><td>354351.53</td><td>1278612.4</td><td>22</td><td>5604</td><td>340170.83</td><td>50</td><td>31187.277</td><td>CONTINUA</td></tr>\n",
       "\t<tr><td>29187961</td><td>201901</td><td>1</td><td>59</td><td>296</td><td>21021.36</td><td> 95541.58</td><td> 5465.093</td><td>  -128.8134</td><td>13390.768</td><td>⋯</td><td>1149330.4</td><td>-1915</td><td>133011.98</td><td>1277060.7</td><td> 1</td><td>7604</td><td>135897.04</td><td>41</td><td> 5819.010</td><td>CONTINUA</td></tr>\n",
       "\t<tr><td>29193101</td><td>201901</td><td>1</td><td>66</td><td>349</td><td>16024.56</td><td> 82670.33</td><td>13225.445</td><td>-10013.4714</td><td>12399.752</td><td>⋯</td><td> 577700.2</td><td>-1763</td><td>174299.79</td><td> 641889.1</td><td> 8</td><td>1540</td><td> 74060.87</td><td>22</td><td>16280.151</td><td>CONTINUA</td></tr>\n",
       "\t<tr><td>29193281</td><td>201901</td><td>1</td><td>52</td><td>142</td><td>35513.67</td><td>121553.27</td><td>34210.100</td><td> -2001.5683</td><td> 3112.869</td><td>⋯</td><td> 105919.1</td><td>-1154</td><td> 48051.16</td><td> 117687.8</td><td> 1</td><td>2864</td><td> 55207.74</td><td> 8</td><td> 2876.814</td><td>CONTINUA</td></tr>\n",
       "\t<tr><td>29198891</td><td>201901</td><td>1</td><td>53</td><td>296</td><td>11810.87</td><td> 64753.11</td><td> 3278.192</td><td> -1897.6704</td><td> 9171.920</td><td>⋯</td><td> 141225.4</td><td> -211</td><td> 63558.04</td><td> 156917.1</td><td> 1</td><td>6756</td><td> 74553.55</td><td> 4</td><td> 2974.887</td><td>CONTINUA</td></tr>\n",
       "\t<tr><td>29200770</td><td>201901</td><td>1</td><td>56</td><td>246</td><td>34914.70</td><td>168520.74</td><td>22966.798</td><td>   784.8364</td><td> 9400.925</td><td>⋯</td><td>1160657.7</td><td>-1763</td><td> 24597.95</td><td>1289646.8</td><td> 8</td><td>4474</td><td> 15579.73</td><td> 5</td><td> 4838.278</td><td>CONTINUA</td></tr>\n",
       "</tbody>\n",
       "</table>\n"
      ],
      "text/latex": [
       "A data.table: 6 × 55\n",
       "\\begin{tabular}{lllllllllllllllllllll}\n",
       " numero\\_de\\_cliente & foto\\_mes & internet & cliente\\_edad & cliente\\_antiguedad & mrentabilidad & mrentabilidad\\_annual & mcomisiones & mactivos\\_margen & mpasivos\\_margen & ⋯ & Visa\\_mfinanciacion\\_limite & Visa\\_Fvencimiento & Visa\\_msaldototal & Visa\\_mlimitecompra & Visa\\_fultimo\\_cierre & Visa\\_fechaalta & Visa\\_mconsumototal & Visa\\_cconsumos & Visa\\_mpagominimo & clase\\_ternaria\\\\\n",
       " <int> & <int> & <int> & <int> & <int> & <dbl> & <dbl> & <dbl> & <dbl> & <dbl> & ⋯ & <dbl> & <int> & <dbl> & <dbl> & <int> & <int> & <dbl> & <int> & <dbl> & <chr>\\\\\n",
       "\\hline\n",
       "\t 29187730 & 201901 & 1 & 62 & 296 & 39857.52 & 122619.12 & 25001.336 &  -3517.7594 & 16182.886 & ⋯ & 1150726.9 & -1337 & 354351.53 & 1278612.4 & 22 & 5604 & 340170.83 & 50 & 31187.277 & CONTINUA\\\\\n",
       "\t 29187961 & 201901 & 1 & 59 & 296 & 21021.36 &  95541.58 &  5465.093 &   -128.8134 & 13390.768 & ⋯ & 1149330.4 & -1915 & 133011.98 & 1277060.7 &  1 & 7604 & 135897.04 & 41 &  5819.010 & CONTINUA\\\\\n",
       "\t 29193101 & 201901 & 1 & 66 & 349 & 16024.56 &  82670.33 & 13225.445 & -10013.4714 & 12399.752 & ⋯ &  577700.2 & -1763 & 174299.79 &  641889.1 &  8 & 1540 &  74060.87 & 22 & 16280.151 & CONTINUA\\\\\n",
       "\t 29193281 & 201901 & 1 & 52 & 142 & 35513.67 & 121553.27 & 34210.100 &  -2001.5683 &  3112.869 & ⋯ &  105919.1 & -1154 &  48051.16 &  117687.8 &  1 & 2864 &  55207.74 &  8 &  2876.814 & CONTINUA\\\\\n",
       "\t 29198891 & 201901 & 1 & 53 & 296 & 11810.87 &  64753.11 &  3278.192 &  -1897.6704 &  9171.920 & ⋯ &  141225.4 &  -211 &  63558.04 &  156917.1 &  1 & 6756 &  74553.55 &  4 &  2974.887 & CONTINUA\\\\\n",
       "\t 29200770 & 201901 & 1 & 56 & 246 & 34914.70 & 168520.74 & 22966.798 &    784.8364 &  9400.925 & ⋯ & 1160657.7 & -1763 &  24597.95 & 1289646.8 &  8 & 4474 &  15579.73 &  5 &  4838.278 & CONTINUA\\\\\n",
       "\\end{tabular}\n"
      ],
      "text/markdown": [
       "\n",
       "A data.table: 6 × 55\n",
       "\n",
       "| numero_de_cliente &lt;int&gt; | foto_mes &lt;int&gt; | internet &lt;int&gt; | cliente_edad &lt;int&gt; | cliente_antiguedad &lt;int&gt; | mrentabilidad &lt;dbl&gt; | mrentabilidad_annual &lt;dbl&gt; | mcomisiones &lt;dbl&gt; | mactivos_margen &lt;dbl&gt; | mpasivos_margen &lt;dbl&gt; | ⋯ ⋯ | Visa_mfinanciacion_limite &lt;dbl&gt; | Visa_Fvencimiento &lt;int&gt; | Visa_msaldototal &lt;dbl&gt; | Visa_mlimitecompra &lt;dbl&gt; | Visa_fultimo_cierre &lt;int&gt; | Visa_fechaalta &lt;int&gt; | Visa_mconsumototal &lt;dbl&gt; | Visa_cconsumos &lt;int&gt; | Visa_mpagominimo &lt;dbl&gt; | clase_ternaria &lt;chr&gt; |\n",
       "|---|---|---|---|---|---|---|---|---|---|---|---|---|---|---|---|---|---|---|---|---|\n",
       "| 29187730 | 201901 | 1 | 62 | 296 | 39857.52 | 122619.12 | 25001.336 |  -3517.7594 | 16182.886 | ⋯ | 1150726.9 | -1337 | 354351.53 | 1278612.4 | 22 | 5604 | 340170.83 | 50 | 31187.277 | CONTINUA |\n",
       "| 29187961 | 201901 | 1 | 59 | 296 | 21021.36 |  95541.58 |  5465.093 |   -128.8134 | 13390.768 | ⋯ | 1149330.4 | -1915 | 133011.98 | 1277060.7 |  1 | 7604 | 135897.04 | 41 |  5819.010 | CONTINUA |\n",
       "| 29193101 | 201901 | 1 | 66 | 349 | 16024.56 |  82670.33 | 13225.445 | -10013.4714 | 12399.752 | ⋯ |  577700.2 | -1763 | 174299.79 |  641889.1 |  8 | 1540 |  74060.87 | 22 | 16280.151 | CONTINUA |\n",
       "| 29193281 | 201901 | 1 | 52 | 142 | 35513.67 | 121553.27 | 34210.100 |  -2001.5683 |  3112.869 | ⋯ |  105919.1 | -1154 |  48051.16 |  117687.8 |  1 | 2864 |  55207.74 |  8 |  2876.814 | CONTINUA |\n",
       "| 29198891 | 201901 | 1 | 53 | 296 | 11810.87 |  64753.11 |  3278.192 |  -1897.6704 |  9171.920 | ⋯ |  141225.4 |  -211 |  63558.04 |  156917.1 |  1 | 6756 |  74553.55 |  4 |  2974.887 | CONTINUA |\n",
       "| 29200770 | 201901 | 1 | 56 | 246 | 34914.70 | 168520.74 | 22966.798 |    784.8364 |  9400.925 | ⋯ | 1160657.7 | -1763 |  24597.95 | 1289646.8 |  8 | 4474 |  15579.73 |  5 |  4838.278 | CONTINUA |\n",
       "\n"
      ],
      "text/plain": [
       "  numero_de_cliente foto_mes internet cliente_edad cliente_antiguedad\n",
       "1 29187730          201901   1        62           296               \n",
       "2 29187961          201901   1        59           296               \n",
       "3 29193101          201901   1        66           349               \n",
       "4 29193281          201901   1        52           142               \n",
       "5 29198891          201901   1        53           296               \n",
       "6 29200770          201901   1        56           246               \n",
       "  mrentabilidad mrentabilidad_annual mcomisiones mactivos_margen\n",
       "1 39857.52      122619.12            25001.336    -3517.7594    \n",
       "2 21021.36       95541.58             5465.093     -128.8134    \n",
       "3 16024.56       82670.33            13225.445   -10013.4714    \n",
       "4 35513.67      121553.27            34210.100    -2001.5683    \n",
       "5 11810.87       64753.11             3278.192    -1897.6704    \n",
       "6 34914.70      168520.74            22966.798      784.8364    \n",
       "  mpasivos_margen ⋯ Visa_mfinanciacion_limite Visa_Fvencimiento\n",
       "1 16182.886       ⋯ 1150726.9                 -1337            \n",
       "2 13390.768       ⋯ 1149330.4                 -1915            \n",
       "3 12399.752       ⋯  577700.2                 -1763            \n",
       "4  3112.869       ⋯  105919.1                 -1154            \n",
       "5  9171.920       ⋯  141225.4                  -211            \n",
       "6  9400.925       ⋯ 1160657.7                 -1763            \n",
       "  Visa_msaldototal Visa_mlimitecompra Visa_fultimo_cierre Visa_fechaalta\n",
       "1 354351.53        1278612.4          22                  5604          \n",
       "2 133011.98        1277060.7           1                  7604          \n",
       "3 174299.79         641889.1           8                  1540          \n",
       "4  48051.16         117687.8           1                  2864          \n",
       "5  63558.04         156917.1           1                  6756          \n",
       "6  24597.95        1289646.8           8                  4474          \n",
       "  Visa_mconsumototal Visa_cconsumos Visa_mpagominimo clase_ternaria\n",
       "1 340170.83          50             31187.277        CONTINUA      \n",
       "2 135897.04          41              5819.010        CONTINUA      \n",
       "3  74060.87          22             16280.151        CONTINUA      \n",
       "4  55207.74           8              2876.814        CONTINUA      \n",
       "5  74553.55           4              2974.887        CONTINUA      \n",
       "6  15579.73           5              4838.278        CONTINUA      "
      ]
     },
     "metadata": {},
     "output_type": "display_data"
    },
    {
     "data": {
      "text/html": [
       "<table class=\"dataframe\">\n",
       "<caption>A data.table: 6 × 55</caption>\n",
       "<thead>\n",
       "\t<tr><th scope=col>numero_de_cliente</th><th scope=col>foto_mes</th><th scope=col>internet</th><th scope=col>cliente_edad</th><th scope=col>cliente_antiguedad</th><th scope=col>mrentabilidad</th><th scope=col>mrentabilidad_annual</th><th scope=col>mcomisiones</th><th scope=col>mactivos_margen</th><th scope=col>mpasivos_margen</th><th scope=col>⋯</th><th scope=col>Visa_mfinanciacion_limite</th><th scope=col>Visa_Fvencimiento</th><th scope=col>Visa_msaldototal</th><th scope=col>Visa_mlimitecompra</th><th scope=col>Visa_fultimo_cierre</th><th scope=col>Visa_fechaalta</th><th scope=col>Visa_mconsumototal</th><th scope=col>Visa_cconsumos</th><th scope=col>Visa_mpagominimo</th><th scope=col>clase_ternaria</th></tr>\n",
       "\t<tr><th scope=col>&lt;int&gt;</th><th scope=col>&lt;int&gt;</th><th scope=col>&lt;int&gt;</th><th scope=col>&lt;int&gt;</th><th scope=col>&lt;int&gt;</th><th scope=col>&lt;dbl&gt;</th><th scope=col>&lt;dbl&gt;</th><th scope=col>&lt;dbl&gt;</th><th scope=col>&lt;dbl&gt;</th><th scope=col>&lt;dbl&gt;</th><th scope=col>⋯</th><th scope=col>&lt;dbl&gt;</th><th scope=col>&lt;int&gt;</th><th scope=col>&lt;dbl&gt;</th><th scope=col>&lt;dbl&gt;</th><th scope=col>&lt;int&gt;</th><th scope=col>&lt;int&gt;</th><th scope=col>&lt;dbl&gt;</th><th scope=col>&lt;int&gt;</th><th scope=col>&lt;dbl&gt;</th><th scope=col>&lt;chr&gt;</th></tr>\n",
       "</thead>\n",
       "<tbody>\n",
       "\t<tr><td>29187730</td><td>201901</td><td>1</td><td>62</td><td>296</td><td>14301.42</td><td>43997.41</td><td> 8970.82</td><td>-1262.22</td><td>5806.64</td><td>⋯</td><td>412896.5</td><td>-1337</td><td>127146.16</td><td>458783.6</td><td>22</td><td>5604</td><td>122057.93</td><td>50</td><td>11190.42</td><td>CONTINUA</td></tr>\n",
       "\t<tr><td>29187961</td><td>201901</td><td>1</td><td>59</td><td>296</td><td> 7542.75</td><td>34281.62</td><td> 1960.95</td><td>  -46.22</td><td>4804.79</td><td>⋯</td><td>412395.4</td><td>-1915</td><td> 47726.51</td><td>458226.8</td><td> 1</td><td>7604</td><td> 48761.71</td><td>41</td><td> 2087.94</td><td>CONTINUA</td></tr>\n",
       "\t<tr><td>29193101</td><td>201901</td><td>1</td><td>66</td><td>349</td><td> 5749.83</td><td>29663.24</td><td> 4745.47</td><td>-3592.97</td><td>4449.20</td><td>⋯</td><td>207286.7</td><td>-1763</td><td> 62541.14</td><td>230318.5</td><td> 8</td><td>1540</td><td> 26574.05</td><td>22</td><td> 5841.54</td><td>CONTINUA</td></tr>\n",
       "\t<tr><td>29193281</td><td>201901</td><td>1</td><td>52</td><td>142</td><td>12742.79</td><td>43614.97</td><td>12275.05</td><td> -718.19</td><td>1116.94</td><td>⋯</td><td> 38005.2</td><td>-1154</td><td> 17241.41</td><td> 42228.0</td><td> 1</td><td>2864</td><td> 19809.29</td><td> 8</td><td> 1032.24</td><td>CONTINUA</td></tr>\n",
       "\t<tr><td>29198891</td><td>201901</td><td>1</td><td>53</td><td>296</td><td> 4237.90</td><td>23234.30</td><td> 1176.26</td><td> -680.91</td><td>3291.01</td><td>⋯</td><td> 50673.6</td><td> -211</td><td> 22805.49</td><td> 56304.0</td><td> 1</td><td>6756</td><td> 26750.83</td><td> 4</td><td> 1067.43</td><td>CONTINUA</td></tr>\n",
       "\t<tr><td>29200770</td><td>201901</td><td>1</td><td>56</td><td>246</td><td>12527.87</td><td>60467.54</td><td> 8240.80</td><td>  281.61</td><td>3373.18</td><td>⋯</td><td>416459.8</td><td>-1763</td><td>  8826.08</td><td>462742.9</td><td> 8</td><td>4474</td><td>  5590.22</td><td> 5</td><td> 1736.04</td><td>CONTINUA</td></tr>\n",
       "</tbody>\n",
       "</table>\n"
      ],
      "text/latex": [
       "A data.table: 6 × 55\n",
       "\\begin{tabular}{lllllllllllllllllllll}\n",
       " numero\\_de\\_cliente & foto\\_mes & internet & cliente\\_edad & cliente\\_antiguedad & mrentabilidad & mrentabilidad\\_annual & mcomisiones & mactivos\\_margen & mpasivos\\_margen & ⋯ & Visa\\_mfinanciacion\\_limite & Visa\\_Fvencimiento & Visa\\_msaldototal & Visa\\_mlimitecompra & Visa\\_fultimo\\_cierre & Visa\\_fechaalta & Visa\\_mconsumototal & Visa\\_cconsumos & Visa\\_mpagominimo & clase\\_ternaria\\\\\n",
       " <int> & <int> & <int> & <int> & <int> & <dbl> & <dbl> & <dbl> & <dbl> & <dbl> & ⋯ & <dbl> & <int> & <dbl> & <dbl> & <int> & <int> & <dbl> & <int> & <dbl> & <chr>\\\\\n",
       "\\hline\n",
       "\t 29187730 & 201901 & 1 & 62 & 296 & 14301.42 & 43997.41 &  8970.82 & -1262.22 & 5806.64 & ⋯ & 412896.5 & -1337 & 127146.16 & 458783.6 & 22 & 5604 & 122057.93 & 50 & 11190.42 & CONTINUA\\\\\n",
       "\t 29187961 & 201901 & 1 & 59 & 296 &  7542.75 & 34281.62 &  1960.95 &   -46.22 & 4804.79 & ⋯ & 412395.4 & -1915 &  47726.51 & 458226.8 &  1 & 7604 &  48761.71 & 41 &  2087.94 & CONTINUA\\\\\n",
       "\t 29193101 & 201901 & 1 & 66 & 349 &  5749.83 & 29663.24 &  4745.47 & -3592.97 & 4449.20 & ⋯ & 207286.7 & -1763 &  62541.14 & 230318.5 &  8 & 1540 &  26574.05 & 22 &  5841.54 & CONTINUA\\\\\n",
       "\t 29193281 & 201901 & 1 & 52 & 142 & 12742.79 & 43614.97 & 12275.05 &  -718.19 & 1116.94 & ⋯ &  38005.2 & -1154 &  17241.41 &  42228.0 &  1 & 2864 &  19809.29 &  8 &  1032.24 & CONTINUA\\\\\n",
       "\t 29198891 & 201901 & 1 & 53 & 296 &  4237.90 & 23234.30 &  1176.26 &  -680.91 & 3291.01 & ⋯ &  50673.6 &  -211 &  22805.49 &  56304.0 &  1 & 6756 &  26750.83 &  4 &  1067.43 & CONTINUA\\\\\n",
       "\t 29200770 & 201901 & 1 & 56 & 246 & 12527.87 & 60467.54 &  8240.80 &   281.61 & 3373.18 & ⋯ & 416459.8 & -1763 &   8826.08 & 462742.9 &  8 & 4474 &   5590.22 &  5 &  1736.04 & CONTINUA\\\\\n",
       "\\end{tabular}\n"
      ],
      "text/markdown": [
       "\n",
       "A data.table: 6 × 55\n",
       "\n",
       "| numero_de_cliente &lt;int&gt; | foto_mes &lt;int&gt; | internet &lt;int&gt; | cliente_edad &lt;int&gt; | cliente_antiguedad &lt;int&gt; | mrentabilidad &lt;dbl&gt; | mrentabilidad_annual &lt;dbl&gt; | mcomisiones &lt;dbl&gt; | mactivos_margen &lt;dbl&gt; | mpasivos_margen &lt;dbl&gt; | ⋯ ⋯ | Visa_mfinanciacion_limite &lt;dbl&gt; | Visa_Fvencimiento &lt;int&gt; | Visa_msaldototal &lt;dbl&gt; | Visa_mlimitecompra &lt;dbl&gt; | Visa_fultimo_cierre &lt;int&gt; | Visa_fechaalta &lt;int&gt; | Visa_mconsumototal &lt;dbl&gt; | Visa_cconsumos &lt;int&gt; | Visa_mpagominimo &lt;dbl&gt; | clase_ternaria &lt;chr&gt; |\n",
       "|---|---|---|---|---|---|---|---|---|---|---|---|---|---|---|---|---|---|---|---|---|\n",
       "| 29187730 | 201901 | 1 | 62 | 296 | 14301.42 | 43997.41 |  8970.82 | -1262.22 | 5806.64 | ⋯ | 412896.5 | -1337 | 127146.16 | 458783.6 | 22 | 5604 | 122057.93 | 50 | 11190.42 | CONTINUA |\n",
       "| 29187961 | 201901 | 1 | 59 | 296 |  7542.75 | 34281.62 |  1960.95 |   -46.22 | 4804.79 | ⋯ | 412395.4 | -1915 |  47726.51 | 458226.8 |  1 | 7604 |  48761.71 | 41 |  2087.94 | CONTINUA |\n",
       "| 29193101 | 201901 | 1 | 66 | 349 |  5749.83 | 29663.24 |  4745.47 | -3592.97 | 4449.20 | ⋯ | 207286.7 | -1763 |  62541.14 | 230318.5 |  8 | 1540 |  26574.05 | 22 |  5841.54 | CONTINUA |\n",
       "| 29193281 | 201901 | 1 | 52 | 142 | 12742.79 | 43614.97 | 12275.05 |  -718.19 | 1116.94 | ⋯ |  38005.2 | -1154 |  17241.41 |  42228.0 |  1 | 2864 |  19809.29 |  8 |  1032.24 | CONTINUA |\n",
       "| 29198891 | 201901 | 1 | 53 | 296 |  4237.90 | 23234.30 |  1176.26 |  -680.91 | 3291.01 | ⋯ |  50673.6 |  -211 |  22805.49 |  56304.0 |  1 | 6756 |  26750.83 |  4 |  1067.43 | CONTINUA |\n",
       "| 29200770 | 201901 | 1 | 56 | 246 | 12527.87 | 60467.54 |  8240.80 |   281.61 | 3373.18 | ⋯ | 416459.8 | -1763 |   8826.08 | 462742.9 |  8 | 4474 |   5590.22 |  5 |  1736.04 | CONTINUA |\n",
       "\n"
      ],
      "text/plain": [
       "  numero_de_cliente foto_mes internet cliente_edad cliente_antiguedad\n",
       "1 29187730          201901   1        62           296               \n",
       "2 29187961          201901   1        59           296               \n",
       "3 29193101          201901   1        66           349               \n",
       "4 29193281          201901   1        52           142               \n",
       "5 29198891          201901   1        53           296               \n",
       "6 29200770          201901   1        56           246               \n",
       "  mrentabilidad mrentabilidad_annual mcomisiones mactivos_margen\n",
       "1 14301.42      43997.41              8970.82    -1262.22       \n",
       "2  7542.75      34281.62              1960.95      -46.22       \n",
       "3  5749.83      29663.24              4745.47    -3592.97       \n",
       "4 12742.79      43614.97             12275.05     -718.19       \n",
       "5  4237.90      23234.30              1176.26     -680.91       \n",
       "6 12527.87      60467.54              8240.80      281.61       \n",
       "  mpasivos_margen ⋯ Visa_mfinanciacion_limite Visa_Fvencimiento\n",
       "1 5806.64         ⋯ 412896.5                  -1337            \n",
       "2 4804.79         ⋯ 412395.4                  -1915            \n",
       "3 4449.20         ⋯ 207286.7                  -1763            \n",
       "4 1116.94         ⋯  38005.2                  -1154            \n",
       "5 3291.01         ⋯  50673.6                   -211            \n",
       "6 3373.18         ⋯ 416459.8                  -1763            \n",
       "  Visa_msaldototal Visa_mlimitecompra Visa_fultimo_cierre Visa_fechaalta\n",
       "1 127146.16        458783.6           22                  5604          \n",
       "2  47726.51        458226.8            1                  7604          \n",
       "3  62541.14        230318.5            8                  1540          \n",
       "4  17241.41         42228.0            1                  2864          \n",
       "5  22805.49         56304.0            1                  6756          \n",
       "6   8826.08        462742.9            8                  4474          \n",
       "  Visa_mconsumototal Visa_cconsumos Visa_mpagominimo clase_ternaria\n",
       "1 122057.93          50             11190.42         CONTINUA      \n",
       "2  48761.71          41              2087.94         CONTINUA      \n",
       "3  26574.05          22              5841.54         CONTINUA      \n",
       "4  19809.29           8              1032.24         CONTINUA      \n",
       "5  26750.83           4              1067.43         CONTINUA      \n",
       "6   5590.22           5              1736.04         CONTINUA      "
      ]
     },
     "metadata": {},
     "output_type": "display_data"
    }
   ],
   "source": [
    "head(dataset_versiones[[\"ipc\"]])\n",
    "head(dataset)"
   ]
  },
  {
   "cell_type": "markdown",
   "id": "7sppIDYeSn5X",
   "metadata": {
    "id": "7sppIDYeSn5X"
   },
   "source": [
    "#### 7.3.1.3  FE_intra_manual Feature Engineering intra-mes\n",
    "\n",
    "Agrego campos nuevos dentro del mismo mes, SIN considerar la historia."
   ]
  },
  {
   "cell_type": "code",
   "execution_count": 12,
   "id": "f32a1e70-2c66-4a6f-8afb-4ecf900a38f2",
   "metadata": {
    "editable": true,
    "slideshow": {
     "slide_type": ""
    },
    "tags": []
   },
   "outputs": [],
   "source": [
    "#####\n",
    "# Copia para cambiar la version a lista de data.table\n",
    "\n",
    "\n",
    "atributos_presentes <- function(patributos, dt) {\n",
    "  atributos <- unique(patributos)\n",
    "  comun <- intersect(atributos, colnames(dt))\n",
    "  return(length(atributos) == length(comun))\n",
    "}\n",
    "\n",
    "# Elegís un dataset de la lista\n",
    "dt <- dataset_versiones[[\"ipc\"]]  # podés cambiar a \"dls_bna\" o \"dls_blue\"\n",
    "\n",
    "# Cálculo de kmes (mes del año)\n",
    "if (atributos_presentes(c(\"foto_mes\"), dt)) {\n",
    "  dt[, kmes := foto_mes %% 100]\n",
    "}\n",
    "\n",
    "# Cálculo de variable derivada\n",
    "if (atributos_presentes(c(\"mpayroll\", \"cliente_edad\"), dt)) {\n",
    "  dt[, mpayroll_sobre_edad := mpayroll / cliente_edad]\n",
    "}"
   ]
  },
  {
   "cell_type": "code",
   "execution_count": 17,
   "id": "iC4viwOdY5Kp",
   "metadata": {
    "id": "iC4viwOdY5Kp"
   },
   "outputs": [
    {
     "data": {
      "text/html": [
       "<style>\n",
       ".list-inline {list-style: none; margin:0; padding: 0}\n",
       ".list-inline>li {display: inline-block}\n",
       ".list-inline>li:not(:last-child)::after {content: \"\\00b7\"; padding: 0 .5ex}\n",
       "</style>\n",
       "<ol class=list-inline><li>'numero_de_cliente'</li><li>'foto_mes'</li><li>'internet'</li><li>'cliente_edad'</li><li>'cliente_antiguedad'</li><li>'mrentabilidad'</li><li>'mrentabilidad_annual'</li><li>'mcomisiones'</li><li>'mactivos_margen'</li><li>'mpasivos_margen'</li><li>'cproductos'</li><li>'mcuenta_corriente'</li><li>'mcaja_ahorro'</li><li>'cdescubierto_preacordado'</li><li>'mcuentas_saldo'</li><li>'ctarjeta_visa'</li><li>'ctarjeta_visa_transacciones'</li><li>'mtarjeta_visa_consumo'</li><li>'ctarjeta_master'</li><li>'ctarjeta_master_transacciones'</li><li>'mtarjeta_master_consumo'</li><li>'cprestamos_personales'</li><li>'mprestamos_personales'</li><li>'cpayroll_trx'</li><li>'mpayroll'</li><li>'mttarjeta_visa_debitos_automaticos'</li><li>'ccomisiones_mantenimiento'</li><li>'mcomisiones_mantenimiento'</li><li>'ccomisiones_otras'</li><li>'mtransferencias_recibidas'</li><li>'ccallcenter_transacciones'</li><li>'thomebanking'</li><li>'chomebanking_transacciones'</li><li>'ctrx_quarter'</li><li>'Master_status'</li><li>'Master_mfinanciacion_limite'</li><li>'Master_Fvencimiento'</li><li>'Master_msaldototal'</li><li>'Master_mlimitecompra'</li><li>'Master_fultimo_cierre'</li><li>'Master_fechaalta'</li><li>'Master_mconsumototal'</li><li>'Master_cconsumos'</li><li>'Master_mpagominimo'</li><li>'Visa_status'</li><li>'Visa_mfinanciacion_limite'</li><li>'Visa_Fvencimiento'</li><li>'Visa_msaldototal'</li><li>'Visa_mlimitecompra'</li><li>'Visa_fultimo_cierre'</li><li>'Visa_fechaalta'</li><li>'Visa_mconsumototal'</li><li>'Visa_cconsumos'</li><li>'Visa_mpagominimo'</li><li>'clase_ternaria'</li><li>'kmes'</li><li>'mpayroll_sobre_edad'</li></ol>\n"
      ],
      "text/latex": [
       "\\begin{enumerate*}\n",
       "\\item 'numero\\_de\\_cliente'\n",
       "\\item 'foto\\_mes'\n",
       "\\item 'internet'\n",
       "\\item 'cliente\\_edad'\n",
       "\\item 'cliente\\_antiguedad'\n",
       "\\item 'mrentabilidad'\n",
       "\\item 'mrentabilidad\\_annual'\n",
       "\\item 'mcomisiones'\n",
       "\\item 'mactivos\\_margen'\n",
       "\\item 'mpasivos\\_margen'\n",
       "\\item 'cproductos'\n",
       "\\item 'mcuenta\\_corriente'\n",
       "\\item 'mcaja\\_ahorro'\n",
       "\\item 'cdescubierto\\_preacordado'\n",
       "\\item 'mcuentas\\_saldo'\n",
       "\\item 'ctarjeta\\_visa'\n",
       "\\item 'ctarjeta\\_visa\\_transacciones'\n",
       "\\item 'mtarjeta\\_visa\\_consumo'\n",
       "\\item 'ctarjeta\\_master'\n",
       "\\item 'ctarjeta\\_master\\_transacciones'\n",
       "\\item 'mtarjeta\\_master\\_consumo'\n",
       "\\item 'cprestamos\\_personales'\n",
       "\\item 'mprestamos\\_personales'\n",
       "\\item 'cpayroll\\_trx'\n",
       "\\item 'mpayroll'\n",
       "\\item 'mttarjeta\\_visa\\_debitos\\_automaticos'\n",
       "\\item 'ccomisiones\\_mantenimiento'\n",
       "\\item 'mcomisiones\\_mantenimiento'\n",
       "\\item 'ccomisiones\\_otras'\n",
       "\\item 'mtransferencias\\_recibidas'\n",
       "\\item 'ccallcenter\\_transacciones'\n",
       "\\item 'thomebanking'\n",
       "\\item 'chomebanking\\_transacciones'\n",
       "\\item 'ctrx\\_quarter'\n",
       "\\item 'Master\\_status'\n",
       "\\item 'Master\\_mfinanciacion\\_limite'\n",
       "\\item 'Master\\_Fvencimiento'\n",
       "\\item 'Master\\_msaldototal'\n",
       "\\item 'Master\\_mlimitecompra'\n",
       "\\item 'Master\\_fultimo\\_cierre'\n",
       "\\item 'Master\\_fechaalta'\n",
       "\\item 'Master\\_mconsumototal'\n",
       "\\item 'Master\\_cconsumos'\n",
       "\\item 'Master\\_mpagominimo'\n",
       "\\item 'Visa\\_status'\n",
       "\\item 'Visa\\_mfinanciacion\\_limite'\n",
       "\\item 'Visa\\_Fvencimiento'\n",
       "\\item 'Visa\\_msaldototal'\n",
       "\\item 'Visa\\_mlimitecompra'\n",
       "\\item 'Visa\\_fultimo\\_cierre'\n",
       "\\item 'Visa\\_fechaalta'\n",
       "\\item 'Visa\\_mconsumototal'\n",
       "\\item 'Visa\\_cconsumos'\n",
       "\\item 'Visa\\_mpagominimo'\n",
       "\\item 'clase\\_ternaria'\n",
       "\\item 'kmes'\n",
       "\\item 'mpayroll\\_sobre\\_edad'\n",
       "\\end{enumerate*}\n"
      ],
      "text/markdown": [
       "1. 'numero_de_cliente'\n",
       "2. 'foto_mes'\n",
       "3. 'internet'\n",
       "4. 'cliente_edad'\n",
       "5. 'cliente_antiguedad'\n",
       "6. 'mrentabilidad'\n",
       "7. 'mrentabilidad_annual'\n",
       "8. 'mcomisiones'\n",
       "9. 'mactivos_margen'\n",
       "10. 'mpasivos_margen'\n",
       "11. 'cproductos'\n",
       "12. 'mcuenta_corriente'\n",
       "13. 'mcaja_ahorro'\n",
       "14. 'cdescubierto_preacordado'\n",
       "15. 'mcuentas_saldo'\n",
       "16. 'ctarjeta_visa'\n",
       "17. 'ctarjeta_visa_transacciones'\n",
       "18. 'mtarjeta_visa_consumo'\n",
       "19. 'ctarjeta_master'\n",
       "20. 'ctarjeta_master_transacciones'\n",
       "21. 'mtarjeta_master_consumo'\n",
       "22. 'cprestamos_personales'\n",
       "23. 'mprestamos_personales'\n",
       "24. 'cpayroll_trx'\n",
       "25. 'mpayroll'\n",
       "26. 'mttarjeta_visa_debitos_automaticos'\n",
       "27. 'ccomisiones_mantenimiento'\n",
       "28. 'mcomisiones_mantenimiento'\n",
       "29. 'ccomisiones_otras'\n",
       "30. 'mtransferencias_recibidas'\n",
       "31. 'ccallcenter_transacciones'\n",
       "32. 'thomebanking'\n",
       "33. 'chomebanking_transacciones'\n",
       "34. 'ctrx_quarter'\n",
       "35. 'Master_status'\n",
       "36. 'Master_mfinanciacion_limite'\n",
       "37. 'Master_Fvencimiento'\n",
       "38. 'Master_msaldototal'\n",
       "39. 'Master_mlimitecompra'\n",
       "40. 'Master_fultimo_cierre'\n",
       "41. 'Master_fechaalta'\n",
       "42. 'Master_mconsumototal'\n",
       "43. 'Master_cconsumos'\n",
       "44. 'Master_mpagominimo'\n",
       "45. 'Visa_status'\n",
       "46. 'Visa_mfinanciacion_limite'\n",
       "47. 'Visa_Fvencimiento'\n",
       "48. 'Visa_msaldototal'\n",
       "49. 'Visa_mlimitecompra'\n",
       "50. 'Visa_fultimo_cierre'\n",
       "51. 'Visa_fechaalta'\n",
       "52. 'Visa_mconsumototal'\n",
       "53. 'Visa_cconsumos'\n",
       "54. 'Visa_mpagominimo'\n",
       "55. 'clase_ternaria'\n",
       "56. 'kmes'\n",
       "57. 'mpayroll_sobre_edad'\n",
       "\n",
       "\n"
      ],
      "text/plain": [
       " [1] \"numero_de_cliente\"                  \"foto_mes\"                          \n",
       " [3] \"internet\"                           \"cliente_edad\"                      \n",
       " [5] \"cliente_antiguedad\"                 \"mrentabilidad\"                     \n",
       " [7] \"mrentabilidad_annual\"               \"mcomisiones\"                       \n",
       " [9] \"mactivos_margen\"                    \"mpasivos_margen\"                   \n",
       "[11] \"cproductos\"                         \"mcuenta_corriente\"                 \n",
       "[13] \"mcaja_ahorro\"                       \"cdescubierto_preacordado\"          \n",
       "[15] \"mcuentas_saldo\"                     \"ctarjeta_visa\"                     \n",
       "[17] \"ctarjeta_visa_transacciones\"        \"mtarjeta_visa_consumo\"             \n",
       "[19] \"ctarjeta_master\"                    \"ctarjeta_master_transacciones\"     \n",
       "[21] \"mtarjeta_master_consumo\"            \"cprestamos_personales\"             \n",
       "[23] \"mprestamos_personales\"              \"cpayroll_trx\"                      \n",
       "[25] \"mpayroll\"                           \"mttarjeta_visa_debitos_automaticos\"\n",
       "[27] \"ccomisiones_mantenimiento\"          \"mcomisiones_mantenimiento\"         \n",
       "[29] \"ccomisiones_otras\"                  \"mtransferencias_recibidas\"         \n",
       "[31] \"ccallcenter_transacciones\"          \"thomebanking\"                      \n",
       "[33] \"chomebanking_transacciones\"         \"ctrx_quarter\"                      \n",
       "[35] \"Master_status\"                      \"Master_mfinanciacion_limite\"       \n",
       "[37] \"Master_Fvencimiento\"                \"Master_msaldototal\"                \n",
       "[39] \"Master_mlimitecompra\"               \"Master_fultimo_cierre\"             \n",
       "[41] \"Master_fechaalta\"                   \"Master_mconsumototal\"              \n",
       "[43] \"Master_cconsumos\"                   \"Master_mpagominimo\"                \n",
       "[45] \"Visa_status\"                        \"Visa_mfinanciacion_limite\"         \n",
       "[47] \"Visa_Fvencimiento\"                  \"Visa_msaldototal\"                  \n",
       "[49] \"Visa_mlimitecompra\"                 \"Visa_fultimo_cierre\"               \n",
       "[51] \"Visa_fechaalta\"                     \"Visa_mconsumototal\"                \n",
       "[53] \"Visa_cconsumos\"                     \"Visa_mpagominimo\"                  \n",
       "[55] \"clase_ternaria\"                     \"kmes\"                              \n",
       "[57] \"mpayroll_sobre_edad\"               "
      ]
     },
     "metadata": {},
     "output_type": "display_data"
    },
    {
     "data": {
      "text/html": [
       "<style>\n",
       ".list-inline {list-style: none; margin:0; padding: 0}\n",
       ".list-inline>li {display: inline-block}\n",
       ".list-inline>li:not(:last-child)::after {content: \"\\00b7\"; padding: 0 .5ex}\n",
       "</style>\n",
       "<ol class=list-inline><li>'numero_de_cliente'</li><li>'foto_mes'</li><li>'internet'</li><li>'cliente_edad'</li><li>'cliente_antiguedad'</li><li>'mrentabilidad'</li><li>'mrentabilidad_annual'</li><li>'mcomisiones'</li><li>'mactivos_margen'</li><li>'mpasivos_margen'</li><li>'cproductos'</li><li>'mcuenta_corriente'</li><li>'mcaja_ahorro'</li><li>'cdescubierto_preacordado'</li><li>'mcuentas_saldo'</li><li>'ctarjeta_visa'</li><li>'ctarjeta_visa_transacciones'</li><li>'mtarjeta_visa_consumo'</li><li>'ctarjeta_master'</li><li>'ctarjeta_master_transacciones'</li><li>'mtarjeta_master_consumo'</li><li>'cprestamos_personales'</li><li>'mprestamos_personales'</li><li>'cpayroll_trx'</li><li>'mpayroll'</li><li>'mttarjeta_visa_debitos_automaticos'</li><li>'ccomisiones_mantenimiento'</li><li>'mcomisiones_mantenimiento'</li><li>'ccomisiones_otras'</li><li>'mtransferencias_recibidas'</li><li>'ccallcenter_transacciones'</li><li>'thomebanking'</li><li>'chomebanking_transacciones'</li><li>'ctrx_quarter'</li><li>'Master_status'</li><li>'Master_mfinanciacion_limite'</li><li>'Master_Fvencimiento'</li><li>'Master_msaldototal'</li><li>'Master_mlimitecompra'</li><li>'Master_fultimo_cierre'</li><li>'Master_fechaalta'</li><li>'Master_mconsumototal'</li><li>'Master_cconsumos'</li><li>'Master_mpagominimo'</li><li>'Visa_status'</li><li>'Visa_mfinanciacion_limite'</li><li>'Visa_Fvencimiento'</li><li>'Visa_msaldototal'</li><li>'Visa_mlimitecompra'</li><li>'Visa_fultimo_cierre'</li><li>'Visa_fechaalta'</li><li>'Visa_mconsumototal'</li><li>'Visa_cconsumos'</li><li>'Visa_mpagominimo'</li><li>'clase_ternaria'</li></ol>\n"
      ],
      "text/latex": [
       "\\begin{enumerate*}\n",
       "\\item 'numero\\_de\\_cliente'\n",
       "\\item 'foto\\_mes'\n",
       "\\item 'internet'\n",
       "\\item 'cliente\\_edad'\n",
       "\\item 'cliente\\_antiguedad'\n",
       "\\item 'mrentabilidad'\n",
       "\\item 'mrentabilidad\\_annual'\n",
       "\\item 'mcomisiones'\n",
       "\\item 'mactivos\\_margen'\n",
       "\\item 'mpasivos\\_margen'\n",
       "\\item 'cproductos'\n",
       "\\item 'mcuenta\\_corriente'\n",
       "\\item 'mcaja\\_ahorro'\n",
       "\\item 'cdescubierto\\_preacordado'\n",
       "\\item 'mcuentas\\_saldo'\n",
       "\\item 'ctarjeta\\_visa'\n",
       "\\item 'ctarjeta\\_visa\\_transacciones'\n",
       "\\item 'mtarjeta\\_visa\\_consumo'\n",
       "\\item 'ctarjeta\\_master'\n",
       "\\item 'ctarjeta\\_master\\_transacciones'\n",
       "\\item 'mtarjeta\\_master\\_consumo'\n",
       "\\item 'cprestamos\\_personales'\n",
       "\\item 'mprestamos\\_personales'\n",
       "\\item 'cpayroll\\_trx'\n",
       "\\item 'mpayroll'\n",
       "\\item 'mttarjeta\\_visa\\_debitos\\_automaticos'\n",
       "\\item 'ccomisiones\\_mantenimiento'\n",
       "\\item 'mcomisiones\\_mantenimiento'\n",
       "\\item 'ccomisiones\\_otras'\n",
       "\\item 'mtransferencias\\_recibidas'\n",
       "\\item 'ccallcenter\\_transacciones'\n",
       "\\item 'thomebanking'\n",
       "\\item 'chomebanking\\_transacciones'\n",
       "\\item 'ctrx\\_quarter'\n",
       "\\item 'Master\\_status'\n",
       "\\item 'Master\\_mfinanciacion\\_limite'\n",
       "\\item 'Master\\_Fvencimiento'\n",
       "\\item 'Master\\_msaldototal'\n",
       "\\item 'Master\\_mlimitecompra'\n",
       "\\item 'Master\\_fultimo\\_cierre'\n",
       "\\item 'Master\\_fechaalta'\n",
       "\\item 'Master\\_mconsumototal'\n",
       "\\item 'Master\\_cconsumos'\n",
       "\\item 'Master\\_mpagominimo'\n",
       "\\item 'Visa\\_status'\n",
       "\\item 'Visa\\_mfinanciacion\\_limite'\n",
       "\\item 'Visa\\_Fvencimiento'\n",
       "\\item 'Visa\\_msaldototal'\n",
       "\\item 'Visa\\_mlimitecompra'\n",
       "\\item 'Visa\\_fultimo\\_cierre'\n",
       "\\item 'Visa\\_fechaalta'\n",
       "\\item 'Visa\\_mconsumototal'\n",
       "\\item 'Visa\\_cconsumos'\n",
       "\\item 'Visa\\_mpagominimo'\n",
       "\\item 'clase\\_ternaria'\n",
       "\\end{enumerate*}\n"
      ],
      "text/markdown": [
       "1. 'numero_de_cliente'\n",
       "2. 'foto_mes'\n",
       "3. 'internet'\n",
       "4. 'cliente_edad'\n",
       "5. 'cliente_antiguedad'\n",
       "6. 'mrentabilidad'\n",
       "7. 'mrentabilidad_annual'\n",
       "8. 'mcomisiones'\n",
       "9. 'mactivos_margen'\n",
       "10. 'mpasivos_margen'\n",
       "11. 'cproductos'\n",
       "12. 'mcuenta_corriente'\n",
       "13. 'mcaja_ahorro'\n",
       "14. 'cdescubierto_preacordado'\n",
       "15. 'mcuentas_saldo'\n",
       "16. 'ctarjeta_visa'\n",
       "17. 'ctarjeta_visa_transacciones'\n",
       "18. 'mtarjeta_visa_consumo'\n",
       "19. 'ctarjeta_master'\n",
       "20. 'ctarjeta_master_transacciones'\n",
       "21. 'mtarjeta_master_consumo'\n",
       "22. 'cprestamos_personales'\n",
       "23. 'mprestamos_personales'\n",
       "24. 'cpayroll_trx'\n",
       "25. 'mpayroll'\n",
       "26. 'mttarjeta_visa_debitos_automaticos'\n",
       "27. 'ccomisiones_mantenimiento'\n",
       "28. 'mcomisiones_mantenimiento'\n",
       "29. 'ccomisiones_otras'\n",
       "30. 'mtransferencias_recibidas'\n",
       "31. 'ccallcenter_transacciones'\n",
       "32. 'thomebanking'\n",
       "33. 'chomebanking_transacciones'\n",
       "34. 'ctrx_quarter'\n",
       "35. 'Master_status'\n",
       "36. 'Master_mfinanciacion_limite'\n",
       "37. 'Master_Fvencimiento'\n",
       "38. 'Master_msaldototal'\n",
       "39. 'Master_mlimitecompra'\n",
       "40. 'Master_fultimo_cierre'\n",
       "41. 'Master_fechaalta'\n",
       "42. 'Master_mconsumototal'\n",
       "43. 'Master_cconsumos'\n",
       "44. 'Master_mpagominimo'\n",
       "45. 'Visa_status'\n",
       "46. 'Visa_mfinanciacion_limite'\n",
       "47. 'Visa_Fvencimiento'\n",
       "48. 'Visa_msaldototal'\n",
       "49. 'Visa_mlimitecompra'\n",
       "50. 'Visa_fultimo_cierre'\n",
       "51. 'Visa_fechaalta'\n",
       "52. 'Visa_mconsumototal'\n",
       "53. 'Visa_cconsumos'\n",
       "54. 'Visa_mpagominimo'\n",
       "55. 'clase_ternaria'\n",
       "\n",
       "\n"
      ],
      "text/plain": [
       " [1] \"numero_de_cliente\"                  \"foto_mes\"                          \n",
       " [3] \"internet\"                           \"cliente_edad\"                      \n",
       " [5] \"cliente_antiguedad\"                 \"mrentabilidad\"                     \n",
       " [7] \"mrentabilidad_annual\"               \"mcomisiones\"                       \n",
       " [9] \"mactivos_margen\"                    \"mpasivos_margen\"                   \n",
       "[11] \"cproductos\"                         \"mcuenta_corriente\"                 \n",
       "[13] \"mcaja_ahorro\"                       \"cdescubierto_preacordado\"          \n",
       "[15] \"mcuentas_saldo\"                     \"ctarjeta_visa\"                     \n",
       "[17] \"ctarjeta_visa_transacciones\"        \"mtarjeta_visa_consumo\"             \n",
       "[19] \"ctarjeta_master\"                    \"ctarjeta_master_transacciones\"     \n",
       "[21] \"mtarjeta_master_consumo\"            \"cprestamos_personales\"             \n",
       "[23] \"mprestamos_personales\"              \"cpayroll_trx\"                      \n",
       "[25] \"mpayroll\"                           \"mttarjeta_visa_debitos_automaticos\"\n",
       "[27] \"ccomisiones_mantenimiento\"          \"mcomisiones_mantenimiento\"         \n",
       "[29] \"ccomisiones_otras\"                  \"mtransferencias_recibidas\"         \n",
       "[31] \"ccallcenter_transacciones\"          \"thomebanking\"                      \n",
       "[33] \"chomebanking_transacciones\"         \"ctrx_quarter\"                      \n",
       "[35] \"Master_status\"                      \"Master_mfinanciacion_limite\"       \n",
       "[37] \"Master_Fvencimiento\"                \"Master_msaldototal\"                \n",
       "[39] \"Master_mlimitecompra\"               \"Master_fultimo_cierre\"             \n",
       "[41] \"Master_fechaalta\"                   \"Master_mconsumototal\"              \n",
       "[43] \"Master_cconsumos\"                   \"Master_mpagominimo\"                \n",
       "[45] \"Visa_status\"                        \"Visa_mfinanciacion_limite\"         \n",
       "[47] \"Visa_Fvencimiento\"                  \"Visa_msaldototal\"                  \n",
       "[49] \"Visa_mlimitecompra\"                 \"Visa_fultimo_cierre\"               \n",
       "[51] \"Visa_fechaalta\"                     \"Visa_mconsumototal\"                \n",
       "[53] \"Visa_cconsumos\"                     \"Visa_mpagominimo\"                  \n",
       "[55] \"clase_ternaria\"                    "
      ]
     },
     "metadata": {},
     "output_type": "display_data"
    }
   ],
   "source": [
    "# visualizo las columas del dataset a esta etapa\n",
    "colnames(dataset_versiones[[\"ipc\"]])\n",
    "colnames(dataset)"
   ]
  },
  {
   "cell_type": "code",
   "execution_count": 13,
   "id": "a17e0b92-14a4-4837-954d-df23c76f4f3c",
   "metadata": {},
   "outputs": [],
   "source": [
    "#### \n",
    "\n",
    "for (nombre in names(dataset_versiones)) {\n",
    "  dt <- dataset_versiones[[nombre]]\n",
    "  \n",
    "  if (atributos_presentes(c(\"foto_mes\"), dt)) {\n",
    "    dt[, kmes := foto_mes %% 100]\n",
    "  }\n",
    "  \n",
    "  if (atributos_presentes(c(\"mpayroll\", \"cliente_edad\"), dt)) {\n",
    "    dt[, mpayroll_sobre_edad := mpayroll / cliente_edad]\n",
    "  }\n",
    "  \n",
    "  # Guardar cambios en la lista\n",
    "  dataset_versiones[[nombre]] <- dt\n",
    "}"
   ]
  },
  {
   "cell_type": "code",
   "execution_count": 14,
   "id": "e72b1533-9f1f-44e9-ab01-5855a54387ec",
   "metadata": {},
   "outputs": [
    {
     "data": {
      "text/html": [
       "<style>\n",
       ".list-inline {list-style: none; margin:0; padding: 0}\n",
       ".list-inline>li {display: inline-block}\n",
       ".list-inline>li:not(:last-child)::after {content: \"\\00b7\"; padding: 0 .5ex}\n",
       "</style>\n",
       "<ol class=list-inline><li>'numero_de_cliente'</li><li>'foto_mes'</li><li>'internet'</li><li>'cliente_edad'</li><li>'cliente_antiguedad'</li><li>'mrentabilidad'</li><li>'mrentabilidad_annual'</li><li>'mcomisiones'</li><li>'mactivos_margen'</li><li>'mpasivos_margen'</li><li>'cproductos'</li><li>'mcuenta_corriente'</li><li>'mcaja_ahorro'</li><li>'cdescubierto_preacordado'</li><li>'mcuentas_saldo'</li><li>'ctarjeta_visa'</li><li>'ctarjeta_visa_transacciones'</li><li>'mtarjeta_visa_consumo'</li><li>'ctarjeta_master'</li><li>'ctarjeta_master_transacciones'</li><li>'mtarjeta_master_consumo'</li><li>'cprestamos_personales'</li><li>'mprestamos_personales'</li><li>'cpayroll_trx'</li><li>'mpayroll'</li><li>'mttarjeta_visa_debitos_automaticos'</li><li>'ccomisiones_mantenimiento'</li><li>'mcomisiones_mantenimiento'</li><li>'ccomisiones_otras'</li><li>'mtransferencias_recibidas'</li><li>'ccallcenter_transacciones'</li><li>'thomebanking'</li><li>'chomebanking_transacciones'</li><li>'ctrx_quarter'</li><li>'Master_status'</li><li>'Master_mfinanciacion_limite'</li><li>'Master_Fvencimiento'</li><li>'Master_msaldototal'</li><li>'Master_mlimitecompra'</li><li>'Master_fultimo_cierre'</li><li>'Master_fechaalta'</li><li>'Master_mconsumototal'</li><li>'Master_cconsumos'</li><li>'Master_mpagominimo'</li><li>'Visa_status'</li><li>'Visa_mfinanciacion_limite'</li><li>'Visa_Fvencimiento'</li><li>'Visa_msaldototal'</li><li>'Visa_mlimitecompra'</li><li>'Visa_fultimo_cierre'</li><li>'Visa_fechaalta'</li><li>'Visa_mconsumototal'</li><li>'Visa_cconsumos'</li><li>'Visa_mpagominimo'</li><li>'clase_ternaria'</li><li>'kmes'</li><li>'mpayroll_sobre_edad'</li></ol>\n"
      ],
      "text/latex": [
       "\\begin{enumerate*}\n",
       "\\item 'numero\\_de\\_cliente'\n",
       "\\item 'foto\\_mes'\n",
       "\\item 'internet'\n",
       "\\item 'cliente\\_edad'\n",
       "\\item 'cliente\\_antiguedad'\n",
       "\\item 'mrentabilidad'\n",
       "\\item 'mrentabilidad\\_annual'\n",
       "\\item 'mcomisiones'\n",
       "\\item 'mactivos\\_margen'\n",
       "\\item 'mpasivos\\_margen'\n",
       "\\item 'cproductos'\n",
       "\\item 'mcuenta\\_corriente'\n",
       "\\item 'mcaja\\_ahorro'\n",
       "\\item 'cdescubierto\\_preacordado'\n",
       "\\item 'mcuentas\\_saldo'\n",
       "\\item 'ctarjeta\\_visa'\n",
       "\\item 'ctarjeta\\_visa\\_transacciones'\n",
       "\\item 'mtarjeta\\_visa\\_consumo'\n",
       "\\item 'ctarjeta\\_master'\n",
       "\\item 'ctarjeta\\_master\\_transacciones'\n",
       "\\item 'mtarjeta\\_master\\_consumo'\n",
       "\\item 'cprestamos\\_personales'\n",
       "\\item 'mprestamos\\_personales'\n",
       "\\item 'cpayroll\\_trx'\n",
       "\\item 'mpayroll'\n",
       "\\item 'mttarjeta\\_visa\\_debitos\\_automaticos'\n",
       "\\item 'ccomisiones\\_mantenimiento'\n",
       "\\item 'mcomisiones\\_mantenimiento'\n",
       "\\item 'ccomisiones\\_otras'\n",
       "\\item 'mtransferencias\\_recibidas'\n",
       "\\item 'ccallcenter\\_transacciones'\n",
       "\\item 'thomebanking'\n",
       "\\item 'chomebanking\\_transacciones'\n",
       "\\item 'ctrx\\_quarter'\n",
       "\\item 'Master\\_status'\n",
       "\\item 'Master\\_mfinanciacion\\_limite'\n",
       "\\item 'Master\\_Fvencimiento'\n",
       "\\item 'Master\\_msaldototal'\n",
       "\\item 'Master\\_mlimitecompra'\n",
       "\\item 'Master\\_fultimo\\_cierre'\n",
       "\\item 'Master\\_fechaalta'\n",
       "\\item 'Master\\_mconsumototal'\n",
       "\\item 'Master\\_cconsumos'\n",
       "\\item 'Master\\_mpagominimo'\n",
       "\\item 'Visa\\_status'\n",
       "\\item 'Visa\\_mfinanciacion\\_limite'\n",
       "\\item 'Visa\\_Fvencimiento'\n",
       "\\item 'Visa\\_msaldototal'\n",
       "\\item 'Visa\\_mlimitecompra'\n",
       "\\item 'Visa\\_fultimo\\_cierre'\n",
       "\\item 'Visa\\_fechaalta'\n",
       "\\item 'Visa\\_mconsumototal'\n",
       "\\item 'Visa\\_cconsumos'\n",
       "\\item 'Visa\\_mpagominimo'\n",
       "\\item 'clase\\_ternaria'\n",
       "\\item 'kmes'\n",
       "\\item 'mpayroll\\_sobre\\_edad'\n",
       "\\end{enumerate*}\n"
      ],
      "text/markdown": [
       "1. 'numero_de_cliente'\n",
       "2. 'foto_mes'\n",
       "3. 'internet'\n",
       "4. 'cliente_edad'\n",
       "5. 'cliente_antiguedad'\n",
       "6. 'mrentabilidad'\n",
       "7. 'mrentabilidad_annual'\n",
       "8. 'mcomisiones'\n",
       "9. 'mactivos_margen'\n",
       "10. 'mpasivos_margen'\n",
       "11. 'cproductos'\n",
       "12. 'mcuenta_corriente'\n",
       "13. 'mcaja_ahorro'\n",
       "14. 'cdescubierto_preacordado'\n",
       "15. 'mcuentas_saldo'\n",
       "16. 'ctarjeta_visa'\n",
       "17. 'ctarjeta_visa_transacciones'\n",
       "18. 'mtarjeta_visa_consumo'\n",
       "19. 'ctarjeta_master'\n",
       "20. 'ctarjeta_master_transacciones'\n",
       "21. 'mtarjeta_master_consumo'\n",
       "22. 'cprestamos_personales'\n",
       "23. 'mprestamos_personales'\n",
       "24. 'cpayroll_trx'\n",
       "25. 'mpayroll'\n",
       "26. 'mttarjeta_visa_debitos_automaticos'\n",
       "27. 'ccomisiones_mantenimiento'\n",
       "28. 'mcomisiones_mantenimiento'\n",
       "29. 'ccomisiones_otras'\n",
       "30. 'mtransferencias_recibidas'\n",
       "31. 'ccallcenter_transacciones'\n",
       "32. 'thomebanking'\n",
       "33. 'chomebanking_transacciones'\n",
       "34. 'ctrx_quarter'\n",
       "35. 'Master_status'\n",
       "36. 'Master_mfinanciacion_limite'\n",
       "37. 'Master_Fvencimiento'\n",
       "38. 'Master_msaldototal'\n",
       "39. 'Master_mlimitecompra'\n",
       "40. 'Master_fultimo_cierre'\n",
       "41. 'Master_fechaalta'\n",
       "42. 'Master_mconsumototal'\n",
       "43. 'Master_cconsumos'\n",
       "44. 'Master_mpagominimo'\n",
       "45. 'Visa_status'\n",
       "46. 'Visa_mfinanciacion_limite'\n",
       "47. 'Visa_Fvencimiento'\n",
       "48. 'Visa_msaldototal'\n",
       "49. 'Visa_mlimitecompra'\n",
       "50. 'Visa_fultimo_cierre'\n",
       "51. 'Visa_fechaalta'\n",
       "52. 'Visa_mconsumototal'\n",
       "53. 'Visa_cconsumos'\n",
       "54. 'Visa_mpagominimo'\n",
       "55. 'clase_ternaria'\n",
       "56. 'kmes'\n",
       "57. 'mpayroll_sobre_edad'\n",
       "\n",
       "\n"
      ],
      "text/plain": [
       " [1] \"numero_de_cliente\"                  \"foto_mes\"                          \n",
       " [3] \"internet\"                           \"cliente_edad\"                      \n",
       " [5] \"cliente_antiguedad\"                 \"mrentabilidad\"                     \n",
       " [7] \"mrentabilidad_annual\"               \"mcomisiones\"                       \n",
       " [9] \"mactivos_margen\"                    \"mpasivos_margen\"                   \n",
       "[11] \"cproductos\"                         \"mcuenta_corriente\"                 \n",
       "[13] \"mcaja_ahorro\"                       \"cdescubierto_preacordado\"          \n",
       "[15] \"mcuentas_saldo\"                     \"ctarjeta_visa\"                     \n",
       "[17] \"ctarjeta_visa_transacciones\"        \"mtarjeta_visa_consumo\"             \n",
       "[19] \"ctarjeta_master\"                    \"ctarjeta_master_transacciones\"     \n",
       "[21] \"mtarjeta_master_consumo\"            \"cprestamos_personales\"             \n",
       "[23] \"mprestamos_personales\"              \"cpayroll_trx\"                      \n",
       "[25] \"mpayroll\"                           \"mttarjeta_visa_debitos_automaticos\"\n",
       "[27] \"ccomisiones_mantenimiento\"          \"mcomisiones_mantenimiento\"         \n",
       "[29] \"ccomisiones_otras\"                  \"mtransferencias_recibidas\"         \n",
       "[31] \"ccallcenter_transacciones\"          \"thomebanking\"                      \n",
       "[33] \"chomebanking_transacciones\"         \"ctrx_quarter\"                      \n",
       "[35] \"Master_status\"                      \"Master_mfinanciacion_limite\"       \n",
       "[37] \"Master_Fvencimiento\"                \"Master_msaldototal\"                \n",
       "[39] \"Master_mlimitecompra\"               \"Master_fultimo_cierre\"             \n",
       "[41] \"Master_fechaalta\"                   \"Master_mconsumototal\"              \n",
       "[43] \"Master_cconsumos\"                   \"Master_mpagominimo\"                \n",
       "[45] \"Visa_status\"                        \"Visa_mfinanciacion_limite\"         \n",
       "[47] \"Visa_Fvencimiento\"                  \"Visa_msaldototal\"                  \n",
       "[49] \"Visa_mlimitecompra\"                 \"Visa_fultimo_cierre\"               \n",
       "[51] \"Visa_fechaalta\"                     \"Visa_mconsumototal\"                \n",
       "[53] \"Visa_cconsumos\"                     \"Visa_mpagominimo\"                  \n",
       "[55] \"clase_ternaria\"                     \"kmes\"                              \n",
       "[57] \"mpayroll_sobre_edad\"               "
      ]
     },
     "metadata": {},
     "output_type": "display_data"
    }
   ],
   "source": [
    "colnames(dataset_versiones[[\"ipc\"]])"
   ]
  },
  {
   "cell_type": "markdown",
   "id": "9682b4ca-3ab3-4bbc-a36a-b185361e6b6b",
   "metadata": {
    "id": "9682b4ca-3ab3-4bbc-a36a-b185361e6b6b"
   },
   "source": [
    "#### 7.3.1.4  FE_rf Feature Engineering de nuevas variables a partir de hojas de Random Forest\n",
    "\n",
    "Esto se mostrará unicamente a la *modalidad Analista Sr*"
   ]
  },
  {
   "cell_type": "code",
   "execution_count": null,
   "id": "ljA3h0jOcciP",
   "metadata": {
    "id": "ljA3h0jOcciP"
   },
   "outputs": [],
   "source": [
    "# No se implementa Feature Engineering a partir de Random Forest"
   ]
  },
  {
   "cell_type": "markdown",
   "id": "XaRBjQj8ZRUZ",
   "metadata": {
    "id": "XaRBjQj8ZRUZ"
   },
   "source": [
    "#### 7.3.1.5  FEhist Feature Engineering historico\n",
    "\n",
    "El Fature Engineering Histórico es la etapa que más aporta a la ganancia final, ya que enriquece cada registro del dataset con su historia."
   ]
  },
  {
   "cell_type": "markdown",
   "id": "cfe3b8cf-0707-4512-92e7-c1407bb3f73b",
   "metadata": {
    "id": "cfe3b8cf-0707-4512-92e7-c1407bb3f73b"
   },
   "source": [
    "Para cada campo del dataset original (*)\n",
    "se crean lo siguientes campos de a partir de la historia\n",
    "* lag1  lags de orden 1\n",
    "* delta1  =  valor actual - lag1\n",
    "* lag2  lags de orden 2\n",
    "* delta2  = valor actual - lag2\n",
    "\n",
    "\n",
    "(*) Excepto para los campos  <numero_de_cliente,  foto_mes,  clase_ternaria>"
   ]
  },
  {
   "cell_type": "code",
   "execution_count": 15,
   "id": "1e4a1223-930b-4aca-a7e6-5a97d2d27557",
   "metadata": {},
   "outputs": [],
   "source": [
    "#######\n",
    "# Version para lista de datasets \n",
    "#Feature engineering historico\n",
    "\n",
    "for (nombre in names(dataset_versiones)) {\n",
    "  dt <- dataset_versiones[[nombre]]\n",
    "  \n",
    "  cols_lagueables <- setdiff(\n",
    "    colnames(dt),\n",
    "    c(\"numero_de_cliente\", \"foto_mes\", \"clase_ternaria\")\n",
    "  )\n",
    "  \n",
    "  dt[, paste0(cols_lagueables, \"_lag1\") := shift(.SD, 1, NA, \"lag\"),\n",
    "     by = numero_de_cliente,\n",
    "     .SDcols = cols_lagueables]\n",
    "  \n",
    "  dt[, paste0(cols_lagueables, \"_lag2\") := shift(.SD, 2, NA, \"lag\"),\n",
    "     by = numero_de_cliente,\n",
    "     .SDcols = cols_lagueables]\n",
    "  \n",
    "  for (vcol in cols_lagueables) {\n",
    "    dt[, paste0(vcol, \"_delta1\") := get(vcol) - get(paste0(vcol, \"_lag1\"))]\n",
    "    dt[, paste0(vcol, \"_delta2\") := get(vcol) - get(paste0(vcol, \"_lag2\"))]\n",
    "  }\n",
    "  \n",
    "  dataset_versiones[[nombre]] <- dt\n",
    "}"
   ]
  },
  {
   "cell_type": "markdown",
   "id": "cea690d9-ece9-4852-a5e2-f337c31b6721",
   "metadata": {
    "id": "cea690d9-ece9-4852-a5e2-f337c31b6721"
   },
   "source": [
    "Verificacion de los campos recien creados"
   ]
  },
  {
   "cell_type": "code",
   "execution_count": 16,
   "id": "f772896b-595a-47d4-8905-c15304ac9452",
   "metadata": {
    "editable": true,
    "id": "f772896b-595a-47d4-8905-c15304ac9452",
    "slideshow": {
     "slide_type": ""
    },
    "tags": []
   },
   "outputs": [
    {
     "data": {
      "text/html": [
       "273"
      ],
      "text/latex": [
       "273"
      ],
      "text/markdown": [
       "273"
      ],
      "text/plain": [
       "[1] 273"
      ]
     },
     "metadata": {},
     "output_type": "display_data"
    },
    {
     "data": {
      "text/html": [
       "<style>\n",
       ".list-inline {list-style: none; margin:0; padding: 0}\n",
       ".list-inline>li {display: inline-block}\n",
       ".list-inline>li:not(:last-child)::after {content: \"\\00b7\"; padding: 0 .5ex}\n",
       "</style>\n",
       "<ol class=list-inline><li>'numero_de_cliente'</li><li>'foto_mes'</li><li>'internet'</li><li>'cliente_edad'</li><li>'cliente_antiguedad'</li><li>'mrentabilidad'</li><li>'mrentabilidad_annual'</li><li>'mcomisiones'</li><li>'mactivos_margen'</li><li>'mpasivos_margen'</li><li>'cproductos'</li><li>'mcuenta_corriente'</li><li>'mcaja_ahorro'</li><li>'cdescubierto_preacordado'</li><li>'mcuentas_saldo'</li><li>'ctarjeta_visa'</li><li>'ctarjeta_visa_transacciones'</li><li>'mtarjeta_visa_consumo'</li><li>'ctarjeta_master'</li><li>'ctarjeta_master_transacciones'</li><li>'mtarjeta_master_consumo'</li><li>'cprestamos_personales'</li><li>'mprestamos_personales'</li><li>'cpayroll_trx'</li><li>'mpayroll'</li><li>'mttarjeta_visa_debitos_automaticos'</li><li>'ccomisiones_mantenimiento'</li><li>'mcomisiones_mantenimiento'</li><li>'ccomisiones_otras'</li><li>'mtransferencias_recibidas'</li><li>'ccallcenter_transacciones'</li><li>'thomebanking'</li><li>'chomebanking_transacciones'</li><li>'ctrx_quarter'</li><li>'Master_status'</li><li>'Master_mfinanciacion_limite'</li><li>'Master_Fvencimiento'</li><li>'Master_msaldototal'</li><li>'Master_mlimitecompra'</li><li>'Master_fultimo_cierre'</li><li>'Master_fechaalta'</li><li>'Master_mconsumototal'</li><li>'Master_cconsumos'</li><li>'Master_mpagominimo'</li><li>'Visa_status'</li><li>'Visa_mfinanciacion_limite'</li><li>'Visa_Fvencimiento'</li><li>'Visa_msaldototal'</li><li>'Visa_mlimitecompra'</li><li>'Visa_fultimo_cierre'</li><li>'Visa_fechaalta'</li><li>'Visa_mconsumototal'</li><li>'Visa_cconsumos'</li><li>'Visa_mpagominimo'</li><li>'clase_ternaria'</li><li>'kmes'</li><li>'mpayroll_sobre_edad'</li><li>'internet_lag1'</li><li>'cliente_edad_lag1'</li><li>'cliente_antiguedad_lag1'</li><li>'mrentabilidad_lag1'</li><li>'mrentabilidad_annual_lag1'</li><li>'mcomisiones_lag1'</li><li>'mactivos_margen_lag1'</li><li>'mpasivos_margen_lag1'</li><li>'cproductos_lag1'</li><li>'mcuenta_corriente_lag1'</li><li>'mcaja_ahorro_lag1'</li><li>'cdescubierto_preacordado_lag1'</li><li>'mcuentas_saldo_lag1'</li><li>'ctarjeta_visa_lag1'</li><li>'ctarjeta_visa_transacciones_lag1'</li><li>'mtarjeta_visa_consumo_lag1'</li><li>'ctarjeta_master_lag1'</li><li>'ctarjeta_master_transacciones_lag1'</li><li>'mtarjeta_master_consumo_lag1'</li><li>'cprestamos_personales_lag1'</li><li>'mprestamos_personales_lag1'</li><li>'cpayroll_trx_lag1'</li><li>'mpayroll_lag1'</li><li>'mttarjeta_visa_debitos_automaticos_lag1'</li><li>'ccomisiones_mantenimiento_lag1'</li><li>'mcomisiones_mantenimiento_lag1'</li><li>'ccomisiones_otras_lag1'</li><li>'mtransferencias_recibidas_lag1'</li><li>'ccallcenter_transacciones_lag1'</li><li>'thomebanking_lag1'</li><li>'chomebanking_transacciones_lag1'</li><li>'ctrx_quarter_lag1'</li><li>'Master_status_lag1'</li><li>'Master_mfinanciacion_limite_lag1'</li><li>'Master_Fvencimiento_lag1'</li><li>'Master_msaldototal_lag1'</li><li>'Master_mlimitecompra_lag1'</li><li>'Master_fultimo_cierre_lag1'</li><li>'Master_fechaalta_lag1'</li><li>'Master_mconsumototal_lag1'</li><li>'Master_cconsumos_lag1'</li><li>'Master_mpagominimo_lag1'</li><li>'Visa_status_lag1'</li><li>'Visa_mfinanciacion_limite_lag1'</li><li>'Visa_Fvencimiento_lag1'</li><li>'Visa_msaldototal_lag1'</li><li>'Visa_mlimitecompra_lag1'</li><li>'Visa_fultimo_cierre_lag1'</li><li>'Visa_fechaalta_lag1'</li><li>'Visa_mconsumototal_lag1'</li><li>'Visa_cconsumos_lag1'</li><li>'Visa_mpagominimo_lag1'</li><li>'kmes_lag1'</li><li>'mpayroll_sobre_edad_lag1'</li><li>'internet_lag2'</li><li>'cliente_edad_lag2'</li><li>'cliente_antiguedad_lag2'</li><li>'mrentabilidad_lag2'</li><li>'mrentabilidad_annual_lag2'</li><li>'mcomisiones_lag2'</li><li>'mactivos_margen_lag2'</li><li>'mpasivos_margen_lag2'</li><li>'cproductos_lag2'</li><li>'mcuenta_corriente_lag2'</li><li>'mcaja_ahorro_lag2'</li><li>'cdescubierto_preacordado_lag2'</li><li>'mcuentas_saldo_lag2'</li><li>'ctarjeta_visa_lag2'</li><li>'ctarjeta_visa_transacciones_lag2'</li><li>'mtarjeta_visa_consumo_lag2'</li><li>'ctarjeta_master_lag2'</li><li>'ctarjeta_master_transacciones_lag2'</li><li>'mtarjeta_master_consumo_lag2'</li><li>'cprestamos_personales_lag2'</li><li>'mprestamos_personales_lag2'</li><li>'cpayroll_trx_lag2'</li><li>'mpayroll_lag2'</li><li>'mttarjeta_visa_debitos_automaticos_lag2'</li><li>'ccomisiones_mantenimiento_lag2'</li><li>'mcomisiones_mantenimiento_lag2'</li><li>'ccomisiones_otras_lag2'</li><li>'mtransferencias_recibidas_lag2'</li><li>'ccallcenter_transacciones_lag2'</li><li>'thomebanking_lag2'</li><li>'chomebanking_transacciones_lag2'</li><li>'ctrx_quarter_lag2'</li><li>'Master_status_lag2'</li><li>'Master_mfinanciacion_limite_lag2'</li><li>'Master_Fvencimiento_lag2'</li><li>'Master_msaldototal_lag2'</li><li>'Master_mlimitecompra_lag2'</li><li>'Master_fultimo_cierre_lag2'</li><li>'Master_fechaalta_lag2'</li><li>'Master_mconsumototal_lag2'</li><li>'Master_cconsumos_lag2'</li><li>'Master_mpagominimo_lag2'</li><li>'Visa_status_lag2'</li><li>'Visa_mfinanciacion_limite_lag2'</li><li>'Visa_Fvencimiento_lag2'</li><li>'Visa_msaldototal_lag2'</li><li>'Visa_mlimitecompra_lag2'</li><li>'Visa_fultimo_cierre_lag2'</li><li>'Visa_fechaalta_lag2'</li><li>'Visa_mconsumototal_lag2'</li><li>'Visa_cconsumos_lag2'</li><li>'Visa_mpagominimo_lag2'</li><li>'kmes_lag2'</li><li>'mpayroll_sobre_edad_lag2'</li><li>'internet_delta1'</li><li>'internet_delta2'</li><li>'cliente_edad_delta1'</li><li>'cliente_edad_delta2'</li><li>'cliente_antiguedad_delta1'</li><li>'cliente_antiguedad_delta2'</li><li>'mrentabilidad_delta1'</li><li>'mrentabilidad_delta2'</li><li>'mrentabilidad_annual_delta1'</li><li>'mrentabilidad_annual_delta2'</li><li>'mcomisiones_delta1'</li><li>'mcomisiones_delta2'</li><li>'mactivos_margen_delta1'</li><li>'mactivos_margen_delta2'</li><li>'mpasivos_margen_delta1'</li><li>'mpasivos_margen_delta2'</li><li>'cproductos_delta1'</li><li>'cproductos_delta2'</li><li>'mcuenta_corriente_delta1'</li><li>'mcuenta_corriente_delta2'</li><li>'mcaja_ahorro_delta1'</li><li>'mcaja_ahorro_delta2'</li><li>'cdescubierto_preacordado_delta1'</li><li>'cdescubierto_preacordado_delta2'</li><li>'mcuentas_saldo_delta1'</li><li>'mcuentas_saldo_delta2'</li><li>'ctarjeta_visa_delta1'</li><li>'ctarjeta_visa_delta2'</li><li>'ctarjeta_visa_transacciones_delta1'</li><li>'ctarjeta_visa_transacciones_delta2'</li><li>'mtarjeta_visa_consumo_delta1'</li><li>'mtarjeta_visa_consumo_delta2'</li><li>'ctarjeta_master_delta1'</li><li>'ctarjeta_master_delta2'</li><li>'ctarjeta_master_transacciones_delta1'</li><li>'ctarjeta_master_transacciones_delta2'</li><li>'mtarjeta_master_consumo_delta1'</li><li>'mtarjeta_master_consumo_delta2'</li><li>'cprestamos_personales_delta1'</li><li>'cprestamos_personales_delta2'</li><li>'mprestamos_personales_delta1'</li><li>'mprestamos_personales_delta2'</li><li>'cpayroll_trx_delta1'</li><li>'cpayroll_trx_delta2'</li><li>'mpayroll_delta1'</li><li>'mpayroll_delta2'</li><li>'mttarjeta_visa_debitos_automaticos_delta1'</li><li>'mttarjeta_visa_debitos_automaticos_delta2'</li><li>'ccomisiones_mantenimiento_delta1'</li><li>'ccomisiones_mantenimiento_delta2'</li><li>'mcomisiones_mantenimiento_delta1'</li><li>'mcomisiones_mantenimiento_delta2'</li><li>'ccomisiones_otras_delta1'</li><li>'ccomisiones_otras_delta2'</li><li>'mtransferencias_recibidas_delta1'</li><li>'mtransferencias_recibidas_delta2'</li><li>'ccallcenter_transacciones_delta1'</li><li>'ccallcenter_transacciones_delta2'</li><li>'thomebanking_delta1'</li><li>'thomebanking_delta2'</li><li>'chomebanking_transacciones_delta1'</li><li>'chomebanking_transacciones_delta2'</li><li>'ctrx_quarter_delta1'</li><li>'ctrx_quarter_delta2'</li><li>'Master_status_delta1'</li><li>'Master_status_delta2'</li><li>'Master_mfinanciacion_limite_delta1'</li><li>'Master_mfinanciacion_limite_delta2'</li><li>'Master_Fvencimiento_delta1'</li><li>'Master_Fvencimiento_delta2'</li><li>'Master_msaldototal_delta1'</li><li>'Master_msaldototal_delta2'</li><li>'Master_mlimitecompra_delta1'</li><li>'Master_mlimitecompra_delta2'</li><li>'Master_fultimo_cierre_delta1'</li><li>'Master_fultimo_cierre_delta2'</li><li>'Master_fechaalta_delta1'</li><li>'Master_fechaalta_delta2'</li><li>'Master_mconsumototal_delta1'</li><li>'Master_mconsumototal_delta2'</li><li>'Master_cconsumos_delta1'</li><li>'Master_cconsumos_delta2'</li><li>'Master_mpagominimo_delta1'</li><li>'Master_mpagominimo_delta2'</li><li>'Visa_status_delta1'</li><li>'Visa_status_delta2'</li><li>'Visa_mfinanciacion_limite_delta1'</li><li>'Visa_mfinanciacion_limite_delta2'</li><li>'Visa_Fvencimiento_delta1'</li><li>'Visa_Fvencimiento_delta2'</li><li>'Visa_msaldototal_delta1'</li><li>'Visa_msaldototal_delta2'</li><li>'Visa_mlimitecompra_delta1'</li><li>'Visa_mlimitecompra_delta2'</li><li>'Visa_fultimo_cierre_delta1'</li><li>'Visa_fultimo_cierre_delta2'</li><li>'Visa_fechaalta_delta1'</li><li>'Visa_fechaalta_delta2'</li><li>'Visa_mconsumototal_delta1'</li><li>'Visa_mconsumototal_delta2'</li><li>'Visa_cconsumos_delta1'</li><li>'Visa_cconsumos_delta2'</li><li>'Visa_mpagominimo_delta1'</li><li>'Visa_mpagominimo_delta2'</li><li>'kmes_delta1'</li><li>'kmes_delta2'</li><li>'mpayroll_sobre_edad_delta1'</li><li>'mpayroll_sobre_edad_delta2'</li></ol>\n"
      ],
      "text/latex": [
       "\\begin{enumerate*}\n",
       "\\item 'numero\\_de\\_cliente'\n",
       "\\item 'foto\\_mes'\n",
       "\\item 'internet'\n",
       "\\item 'cliente\\_edad'\n",
       "\\item 'cliente\\_antiguedad'\n",
       "\\item 'mrentabilidad'\n",
       "\\item 'mrentabilidad\\_annual'\n",
       "\\item 'mcomisiones'\n",
       "\\item 'mactivos\\_margen'\n",
       "\\item 'mpasivos\\_margen'\n",
       "\\item 'cproductos'\n",
       "\\item 'mcuenta\\_corriente'\n",
       "\\item 'mcaja\\_ahorro'\n",
       "\\item 'cdescubierto\\_preacordado'\n",
       "\\item 'mcuentas\\_saldo'\n",
       "\\item 'ctarjeta\\_visa'\n",
       "\\item 'ctarjeta\\_visa\\_transacciones'\n",
       "\\item 'mtarjeta\\_visa\\_consumo'\n",
       "\\item 'ctarjeta\\_master'\n",
       "\\item 'ctarjeta\\_master\\_transacciones'\n",
       "\\item 'mtarjeta\\_master\\_consumo'\n",
       "\\item 'cprestamos\\_personales'\n",
       "\\item 'mprestamos\\_personales'\n",
       "\\item 'cpayroll\\_trx'\n",
       "\\item 'mpayroll'\n",
       "\\item 'mttarjeta\\_visa\\_debitos\\_automaticos'\n",
       "\\item 'ccomisiones\\_mantenimiento'\n",
       "\\item 'mcomisiones\\_mantenimiento'\n",
       "\\item 'ccomisiones\\_otras'\n",
       "\\item 'mtransferencias\\_recibidas'\n",
       "\\item 'ccallcenter\\_transacciones'\n",
       "\\item 'thomebanking'\n",
       "\\item 'chomebanking\\_transacciones'\n",
       "\\item 'ctrx\\_quarter'\n",
       "\\item 'Master\\_status'\n",
       "\\item 'Master\\_mfinanciacion\\_limite'\n",
       "\\item 'Master\\_Fvencimiento'\n",
       "\\item 'Master\\_msaldototal'\n",
       "\\item 'Master\\_mlimitecompra'\n",
       "\\item 'Master\\_fultimo\\_cierre'\n",
       "\\item 'Master\\_fechaalta'\n",
       "\\item 'Master\\_mconsumototal'\n",
       "\\item 'Master\\_cconsumos'\n",
       "\\item 'Master\\_mpagominimo'\n",
       "\\item 'Visa\\_status'\n",
       "\\item 'Visa\\_mfinanciacion\\_limite'\n",
       "\\item 'Visa\\_Fvencimiento'\n",
       "\\item 'Visa\\_msaldototal'\n",
       "\\item 'Visa\\_mlimitecompra'\n",
       "\\item 'Visa\\_fultimo\\_cierre'\n",
       "\\item 'Visa\\_fechaalta'\n",
       "\\item 'Visa\\_mconsumototal'\n",
       "\\item 'Visa\\_cconsumos'\n",
       "\\item 'Visa\\_mpagominimo'\n",
       "\\item 'clase\\_ternaria'\n",
       "\\item 'kmes'\n",
       "\\item 'mpayroll\\_sobre\\_edad'\n",
       "\\item 'internet\\_lag1'\n",
       "\\item 'cliente\\_edad\\_lag1'\n",
       "\\item 'cliente\\_antiguedad\\_lag1'\n",
       "\\item 'mrentabilidad\\_lag1'\n",
       "\\item 'mrentabilidad\\_annual\\_lag1'\n",
       "\\item 'mcomisiones\\_lag1'\n",
       "\\item 'mactivos\\_margen\\_lag1'\n",
       "\\item 'mpasivos\\_margen\\_lag1'\n",
       "\\item 'cproductos\\_lag1'\n",
       "\\item 'mcuenta\\_corriente\\_lag1'\n",
       "\\item 'mcaja\\_ahorro\\_lag1'\n",
       "\\item 'cdescubierto\\_preacordado\\_lag1'\n",
       "\\item 'mcuentas\\_saldo\\_lag1'\n",
       "\\item 'ctarjeta\\_visa\\_lag1'\n",
       "\\item 'ctarjeta\\_visa\\_transacciones\\_lag1'\n",
       "\\item 'mtarjeta\\_visa\\_consumo\\_lag1'\n",
       "\\item 'ctarjeta\\_master\\_lag1'\n",
       "\\item 'ctarjeta\\_master\\_transacciones\\_lag1'\n",
       "\\item 'mtarjeta\\_master\\_consumo\\_lag1'\n",
       "\\item 'cprestamos\\_personales\\_lag1'\n",
       "\\item 'mprestamos\\_personales\\_lag1'\n",
       "\\item 'cpayroll\\_trx\\_lag1'\n",
       "\\item 'mpayroll\\_lag1'\n",
       "\\item 'mttarjeta\\_visa\\_debitos\\_automaticos\\_lag1'\n",
       "\\item 'ccomisiones\\_mantenimiento\\_lag1'\n",
       "\\item 'mcomisiones\\_mantenimiento\\_lag1'\n",
       "\\item 'ccomisiones\\_otras\\_lag1'\n",
       "\\item 'mtransferencias\\_recibidas\\_lag1'\n",
       "\\item 'ccallcenter\\_transacciones\\_lag1'\n",
       "\\item 'thomebanking\\_lag1'\n",
       "\\item 'chomebanking\\_transacciones\\_lag1'\n",
       "\\item 'ctrx\\_quarter\\_lag1'\n",
       "\\item 'Master\\_status\\_lag1'\n",
       "\\item 'Master\\_mfinanciacion\\_limite\\_lag1'\n",
       "\\item 'Master\\_Fvencimiento\\_lag1'\n",
       "\\item 'Master\\_msaldototal\\_lag1'\n",
       "\\item 'Master\\_mlimitecompra\\_lag1'\n",
       "\\item 'Master\\_fultimo\\_cierre\\_lag1'\n",
       "\\item 'Master\\_fechaalta\\_lag1'\n",
       "\\item 'Master\\_mconsumototal\\_lag1'\n",
       "\\item 'Master\\_cconsumos\\_lag1'\n",
       "\\item 'Master\\_mpagominimo\\_lag1'\n",
       "\\item 'Visa\\_status\\_lag1'\n",
       "\\item 'Visa\\_mfinanciacion\\_limite\\_lag1'\n",
       "\\item 'Visa\\_Fvencimiento\\_lag1'\n",
       "\\item 'Visa\\_msaldototal\\_lag1'\n",
       "\\item 'Visa\\_mlimitecompra\\_lag1'\n",
       "\\item 'Visa\\_fultimo\\_cierre\\_lag1'\n",
       "\\item 'Visa\\_fechaalta\\_lag1'\n",
       "\\item 'Visa\\_mconsumototal\\_lag1'\n",
       "\\item 'Visa\\_cconsumos\\_lag1'\n",
       "\\item 'Visa\\_mpagominimo\\_lag1'\n",
       "\\item 'kmes\\_lag1'\n",
       "\\item 'mpayroll\\_sobre\\_edad\\_lag1'\n",
       "\\item 'internet\\_lag2'\n",
       "\\item 'cliente\\_edad\\_lag2'\n",
       "\\item 'cliente\\_antiguedad\\_lag2'\n",
       "\\item 'mrentabilidad\\_lag2'\n",
       "\\item 'mrentabilidad\\_annual\\_lag2'\n",
       "\\item 'mcomisiones\\_lag2'\n",
       "\\item 'mactivos\\_margen\\_lag2'\n",
       "\\item 'mpasivos\\_margen\\_lag2'\n",
       "\\item 'cproductos\\_lag2'\n",
       "\\item 'mcuenta\\_corriente\\_lag2'\n",
       "\\item 'mcaja\\_ahorro\\_lag2'\n",
       "\\item 'cdescubierto\\_preacordado\\_lag2'\n",
       "\\item 'mcuentas\\_saldo\\_lag2'\n",
       "\\item 'ctarjeta\\_visa\\_lag2'\n",
       "\\item 'ctarjeta\\_visa\\_transacciones\\_lag2'\n",
       "\\item 'mtarjeta\\_visa\\_consumo\\_lag2'\n",
       "\\item 'ctarjeta\\_master\\_lag2'\n",
       "\\item 'ctarjeta\\_master\\_transacciones\\_lag2'\n",
       "\\item 'mtarjeta\\_master\\_consumo\\_lag2'\n",
       "\\item 'cprestamos\\_personales\\_lag2'\n",
       "\\item 'mprestamos\\_personales\\_lag2'\n",
       "\\item 'cpayroll\\_trx\\_lag2'\n",
       "\\item 'mpayroll\\_lag2'\n",
       "\\item 'mttarjeta\\_visa\\_debitos\\_automaticos\\_lag2'\n",
       "\\item 'ccomisiones\\_mantenimiento\\_lag2'\n",
       "\\item 'mcomisiones\\_mantenimiento\\_lag2'\n",
       "\\item 'ccomisiones\\_otras\\_lag2'\n",
       "\\item 'mtransferencias\\_recibidas\\_lag2'\n",
       "\\item 'ccallcenter\\_transacciones\\_lag2'\n",
       "\\item 'thomebanking\\_lag2'\n",
       "\\item 'chomebanking\\_transacciones\\_lag2'\n",
       "\\item 'ctrx\\_quarter\\_lag2'\n",
       "\\item 'Master\\_status\\_lag2'\n",
       "\\item 'Master\\_mfinanciacion\\_limite\\_lag2'\n",
       "\\item 'Master\\_Fvencimiento\\_lag2'\n",
       "\\item 'Master\\_msaldototal\\_lag2'\n",
       "\\item 'Master\\_mlimitecompra\\_lag2'\n",
       "\\item 'Master\\_fultimo\\_cierre\\_lag2'\n",
       "\\item 'Master\\_fechaalta\\_lag2'\n",
       "\\item 'Master\\_mconsumototal\\_lag2'\n",
       "\\item 'Master\\_cconsumos\\_lag2'\n",
       "\\item 'Master\\_mpagominimo\\_lag2'\n",
       "\\item 'Visa\\_status\\_lag2'\n",
       "\\item 'Visa\\_mfinanciacion\\_limite\\_lag2'\n",
       "\\item 'Visa\\_Fvencimiento\\_lag2'\n",
       "\\item 'Visa\\_msaldototal\\_lag2'\n",
       "\\item 'Visa\\_mlimitecompra\\_lag2'\n",
       "\\item 'Visa\\_fultimo\\_cierre\\_lag2'\n",
       "\\item 'Visa\\_fechaalta\\_lag2'\n",
       "\\item 'Visa\\_mconsumototal\\_lag2'\n",
       "\\item 'Visa\\_cconsumos\\_lag2'\n",
       "\\item 'Visa\\_mpagominimo\\_lag2'\n",
       "\\item 'kmes\\_lag2'\n",
       "\\item 'mpayroll\\_sobre\\_edad\\_lag2'\n",
       "\\item 'internet\\_delta1'\n",
       "\\item 'internet\\_delta2'\n",
       "\\item 'cliente\\_edad\\_delta1'\n",
       "\\item 'cliente\\_edad\\_delta2'\n",
       "\\item 'cliente\\_antiguedad\\_delta1'\n",
       "\\item 'cliente\\_antiguedad\\_delta2'\n",
       "\\item 'mrentabilidad\\_delta1'\n",
       "\\item 'mrentabilidad\\_delta2'\n",
       "\\item 'mrentabilidad\\_annual\\_delta1'\n",
       "\\item 'mrentabilidad\\_annual\\_delta2'\n",
       "\\item 'mcomisiones\\_delta1'\n",
       "\\item 'mcomisiones\\_delta2'\n",
       "\\item 'mactivos\\_margen\\_delta1'\n",
       "\\item 'mactivos\\_margen\\_delta2'\n",
       "\\item 'mpasivos\\_margen\\_delta1'\n",
       "\\item 'mpasivos\\_margen\\_delta2'\n",
       "\\item 'cproductos\\_delta1'\n",
       "\\item 'cproductos\\_delta2'\n",
       "\\item 'mcuenta\\_corriente\\_delta1'\n",
       "\\item 'mcuenta\\_corriente\\_delta2'\n",
       "\\item 'mcaja\\_ahorro\\_delta1'\n",
       "\\item 'mcaja\\_ahorro\\_delta2'\n",
       "\\item 'cdescubierto\\_preacordado\\_delta1'\n",
       "\\item 'cdescubierto\\_preacordado\\_delta2'\n",
       "\\item 'mcuentas\\_saldo\\_delta1'\n",
       "\\item 'mcuentas\\_saldo\\_delta2'\n",
       "\\item 'ctarjeta\\_visa\\_delta1'\n",
       "\\item 'ctarjeta\\_visa\\_delta2'\n",
       "\\item 'ctarjeta\\_visa\\_transacciones\\_delta1'\n",
       "\\item 'ctarjeta\\_visa\\_transacciones\\_delta2'\n",
       "\\item 'mtarjeta\\_visa\\_consumo\\_delta1'\n",
       "\\item 'mtarjeta\\_visa\\_consumo\\_delta2'\n",
       "\\item 'ctarjeta\\_master\\_delta1'\n",
       "\\item 'ctarjeta\\_master\\_delta2'\n",
       "\\item 'ctarjeta\\_master\\_transacciones\\_delta1'\n",
       "\\item 'ctarjeta\\_master\\_transacciones\\_delta2'\n",
       "\\item 'mtarjeta\\_master\\_consumo\\_delta1'\n",
       "\\item 'mtarjeta\\_master\\_consumo\\_delta2'\n",
       "\\item 'cprestamos\\_personales\\_delta1'\n",
       "\\item 'cprestamos\\_personales\\_delta2'\n",
       "\\item 'mprestamos\\_personales\\_delta1'\n",
       "\\item 'mprestamos\\_personales\\_delta2'\n",
       "\\item 'cpayroll\\_trx\\_delta1'\n",
       "\\item 'cpayroll\\_trx\\_delta2'\n",
       "\\item 'mpayroll\\_delta1'\n",
       "\\item 'mpayroll\\_delta2'\n",
       "\\item 'mttarjeta\\_visa\\_debitos\\_automaticos\\_delta1'\n",
       "\\item 'mttarjeta\\_visa\\_debitos\\_automaticos\\_delta2'\n",
       "\\item 'ccomisiones\\_mantenimiento\\_delta1'\n",
       "\\item 'ccomisiones\\_mantenimiento\\_delta2'\n",
       "\\item 'mcomisiones\\_mantenimiento\\_delta1'\n",
       "\\item 'mcomisiones\\_mantenimiento\\_delta2'\n",
       "\\item 'ccomisiones\\_otras\\_delta1'\n",
       "\\item 'ccomisiones\\_otras\\_delta2'\n",
       "\\item 'mtransferencias\\_recibidas\\_delta1'\n",
       "\\item 'mtransferencias\\_recibidas\\_delta2'\n",
       "\\item 'ccallcenter\\_transacciones\\_delta1'\n",
       "\\item 'ccallcenter\\_transacciones\\_delta2'\n",
       "\\item 'thomebanking\\_delta1'\n",
       "\\item 'thomebanking\\_delta2'\n",
       "\\item 'chomebanking\\_transacciones\\_delta1'\n",
       "\\item 'chomebanking\\_transacciones\\_delta2'\n",
       "\\item 'ctrx\\_quarter\\_delta1'\n",
       "\\item 'ctrx\\_quarter\\_delta2'\n",
       "\\item 'Master\\_status\\_delta1'\n",
       "\\item 'Master\\_status\\_delta2'\n",
       "\\item 'Master\\_mfinanciacion\\_limite\\_delta1'\n",
       "\\item 'Master\\_mfinanciacion\\_limite\\_delta2'\n",
       "\\item 'Master\\_Fvencimiento\\_delta1'\n",
       "\\item 'Master\\_Fvencimiento\\_delta2'\n",
       "\\item 'Master\\_msaldototal\\_delta1'\n",
       "\\item 'Master\\_msaldototal\\_delta2'\n",
       "\\item 'Master\\_mlimitecompra\\_delta1'\n",
       "\\item 'Master\\_mlimitecompra\\_delta2'\n",
       "\\item 'Master\\_fultimo\\_cierre\\_delta1'\n",
       "\\item 'Master\\_fultimo\\_cierre\\_delta2'\n",
       "\\item 'Master\\_fechaalta\\_delta1'\n",
       "\\item 'Master\\_fechaalta\\_delta2'\n",
       "\\item 'Master\\_mconsumototal\\_delta1'\n",
       "\\item 'Master\\_mconsumototal\\_delta2'\n",
       "\\item 'Master\\_cconsumos\\_delta1'\n",
       "\\item 'Master\\_cconsumos\\_delta2'\n",
       "\\item 'Master\\_mpagominimo\\_delta1'\n",
       "\\item 'Master\\_mpagominimo\\_delta2'\n",
       "\\item 'Visa\\_status\\_delta1'\n",
       "\\item 'Visa\\_status\\_delta2'\n",
       "\\item 'Visa\\_mfinanciacion\\_limite\\_delta1'\n",
       "\\item 'Visa\\_mfinanciacion\\_limite\\_delta2'\n",
       "\\item 'Visa\\_Fvencimiento\\_delta1'\n",
       "\\item 'Visa\\_Fvencimiento\\_delta2'\n",
       "\\item 'Visa\\_msaldototal\\_delta1'\n",
       "\\item 'Visa\\_msaldototal\\_delta2'\n",
       "\\item 'Visa\\_mlimitecompra\\_delta1'\n",
       "\\item 'Visa\\_mlimitecompra\\_delta2'\n",
       "\\item 'Visa\\_fultimo\\_cierre\\_delta1'\n",
       "\\item 'Visa\\_fultimo\\_cierre\\_delta2'\n",
       "\\item 'Visa\\_fechaalta\\_delta1'\n",
       "\\item 'Visa\\_fechaalta\\_delta2'\n",
       "\\item 'Visa\\_mconsumototal\\_delta1'\n",
       "\\item 'Visa\\_mconsumototal\\_delta2'\n",
       "\\item 'Visa\\_cconsumos\\_delta1'\n",
       "\\item 'Visa\\_cconsumos\\_delta2'\n",
       "\\item 'Visa\\_mpagominimo\\_delta1'\n",
       "\\item 'Visa\\_mpagominimo\\_delta2'\n",
       "\\item 'kmes\\_delta1'\n",
       "\\item 'kmes\\_delta2'\n",
       "\\item 'mpayroll\\_sobre\\_edad\\_delta1'\n",
       "\\item 'mpayroll\\_sobre\\_edad\\_delta2'\n",
       "\\end{enumerate*}\n"
      ],
      "text/markdown": [
       "1. 'numero_de_cliente'\n",
       "2. 'foto_mes'\n",
       "3. 'internet'\n",
       "4. 'cliente_edad'\n",
       "5. 'cliente_antiguedad'\n",
       "6. 'mrentabilidad'\n",
       "7. 'mrentabilidad_annual'\n",
       "8. 'mcomisiones'\n",
       "9. 'mactivos_margen'\n",
       "10. 'mpasivos_margen'\n",
       "11. 'cproductos'\n",
       "12. 'mcuenta_corriente'\n",
       "13. 'mcaja_ahorro'\n",
       "14. 'cdescubierto_preacordado'\n",
       "15. 'mcuentas_saldo'\n",
       "16. 'ctarjeta_visa'\n",
       "17. 'ctarjeta_visa_transacciones'\n",
       "18. 'mtarjeta_visa_consumo'\n",
       "19. 'ctarjeta_master'\n",
       "20. 'ctarjeta_master_transacciones'\n",
       "21. 'mtarjeta_master_consumo'\n",
       "22. 'cprestamos_personales'\n",
       "23. 'mprestamos_personales'\n",
       "24. 'cpayroll_trx'\n",
       "25. 'mpayroll'\n",
       "26. 'mttarjeta_visa_debitos_automaticos'\n",
       "27. 'ccomisiones_mantenimiento'\n",
       "28. 'mcomisiones_mantenimiento'\n",
       "29. 'ccomisiones_otras'\n",
       "30. 'mtransferencias_recibidas'\n",
       "31. 'ccallcenter_transacciones'\n",
       "32. 'thomebanking'\n",
       "33. 'chomebanking_transacciones'\n",
       "34. 'ctrx_quarter'\n",
       "35. 'Master_status'\n",
       "36. 'Master_mfinanciacion_limite'\n",
       "37. 'Master_Fvencimiento'\n",
       "38. 'Master_msaldototal'\n",
       "39. 'Master_mlimitecompra'\n",
       "40. 'Master_fultimo_cierre'\n",
       "41. 'Master_fechaalta'\n",
       "42. 'Master_mconsumototal'\n",
       "43. 'Master_cconsumos'\n",
       "44. 'Master_mpagominimo'\n",
       "45. 'Visa_status'\n",
       "46. 'Visa_mfinanciacion_limite'\n",
       "47. 'Visa_Fvencimiento'\n",
       "48. 'Visa_msaldototal'\n",
       "49. 'Visa_mlimitecompra'\n",
       "50. 'Visa_fultimo_cierre'\n",
       "51. 'Visa_fechaalta'\n",
       "52. 'Visa_mconsumototal'\n",
       "53. 'Visa_cconsumos'\n",
       "54. 'Visa_mpagominimo'\n",
       "55. 'clase_ternaria'\n",
       "56. 'kmes'\n",
       "57. 'mpayroll_sobre_edad'\n",
       "58. 'internet_lag1'\n",
       "59. 'cliente_edad_lag1'\n",
       "60. 'cliente_antiguedad_lag1'\n",
       "61. 'mrentabilidad_lag1'\n",
       "62. 'mrentabilidad_annual_lag1'\n",
       "63. 'mcomisiones_lag1'\n",
       "64. 'mactivos_margen_lag1'\n",
       "65. 'mpasivos_margen_lag1'\n",
       "66. 'cproductos_lag1'\n",
       "67. 'mcuenta_corriente_lag1'\n",
       "68. 'mcaja_ahorro_lag1'\n",
       "69. 'cdescubierto_preacordado_lag1'\n",
       "70. 'mcuentas_saldo_lag1'\n",
       "71. 'ctarjeta_visa_lag1'\n",
       "72. 'ctarjeta_visa_transacciones_lag1'\n",
       "73. 'mtarjeta_visa_consumo_lag1'\n",
       "74. 'ctarjeta_master_lag1'\n",
       "75. 'ctarjeta_master_transacciones_lag1'\n",
       "76. 'mtarjeta_master_consumo_lag1'\n",
       "77. 'cprestamos_personales_lag1'\n",
       "78. 'mprestamos_personales_lag1'\n",
       "79. 'cpayroll_trx_lag1'\n",
       "80. 'mpayroll_lag1'\n",
       "81. 'mttarjeta_visa_debitos_automaticos_lag1'\n",
       "82. 'ccomisiones_mantenimiento_lag1'\n",
       "83. 'mcomisiones_mantenimiento_lag1'\n",
       "84. 'ccomisiones_otras_lag1'\n",
       "85. 'mtransferencias_recibidas_lag1'\n",
       "86. 'ccallcenter_transacciones_lag1'\n",
       "87. 'thomebanking_lag1'\n",
       "88. 'chomebanking_transacciones_lag1'\n",
       "89. 'ctrx_quarter_lag1'\n",
       "90. 'Master_status_lag1'\n",
       "91. 'Master_mfinanciacion_limite_lag1'\n",
       "92. 'Master_Fvencimiento_lag1'\n",
       "93. 'Master_msaldototal_lag1'\n",
       "94. 'Master_mlimitecompra_lag1'\n",
       "95. 'Master_fultimo_cierre_lag1'\n",
       "96. 'Master_fechaalta_lag1'\n",
       "97. 'Master_mconsumototal_lag1'\n",
       "98. 'Master_cconsumos_lag1'\n",
       "99. 'Master_mpagominimo_lag1'\n",
       "100. 'Visa_status_lag1'\n",
       "101. 'Visa_mfinanciacion_limite_lag1'\n",
       "102. 'Visa_Fvencimiento_lag1'\n",
       "103. 'Visa_msaldototal_lag1'\n",
       "104. 'Visa_mlimitecompra_lag1'\n",
       "105. 'Visa_fultimo_cierre_lag1'\n",
       "106. 'Visa_fechaalta_lag1'\n",
       "107. 'Visa_mconsumototal_lag1'\n",
       "108. 'Visa_cconsumos_lag1'\n",
       "109. 'Visa_mpagominimo_lag1'\n",
       "110. 'kmes_lag1'\n",
       "111. 'mpayroll_sobre_edad_lag1'\n",
       "112. 'internet_lag2'\n",
       "113. 'cliente_edad_lag2'\n",
       "114. 'cliente_antiguedad_lag2'\n",
       "115. 'mrentabilidad_lag2'\n",
       "116. 'mrentabilidad_annual_lag2'\n",
       "117. 'mcomisiones_lag2'\n",
       "118. 'mactivos_margen_lag2'\n",
       "119. 'mpasivos_margen_lag2'\n",
       "120. 'cproductos_lag2'\n",
       "121. 'mcuenta_corriente_lag2'\n",
       "122. 'mcaja_ahorro_lag2'\n",
       "123. 'cdescubierto_preacordado_lag2'\n",
       "124. 'mcuentas_saldo_lag2'\n",
       "125. 'ctarjeta_visa_lag2'\n",
       "126. 'ctarjeta_visa_transacciones_lag2'\n",
       "127. 'mtarjeta_visa_consumo_lag2'\n",
       "128. 'ctarjeta_master_lag2'\n",
       "129. 'ctarjeta_master_transacciones_lag2'\n",
       "130. 'mtarjeta_master_consumo_lag2'\n",
       "131. 'cprestamos_personales_lag2'\n",
       "132. 'mprestamos_personales_lag2'\n",
       "133. 'cpayroll_trx_lag2'\n",
       "134. 'mpayroll_lag2'\n",
       "135. 'mttarjeta_visa_debitos_automaticos_lag2'\n",
       "136. 'ccomisiones_mantenimiento_lag2'\n",
       "137. 'mcomisiones_mantenimiento_lag2'\n",
       "138. 'ccomisiones_otras_lag2'\n",
       "139. 'mtransferencias_recibidas_lag2'\n",
       "140. 'ccallcenter_transacciones_lag2'\n",
       "141. 'thomebanking_lag2'\n",
       "142. 'chomebanking_transacciones_lag2'\n",
       "143. 'ctrx_quarter_lag2'\n",
       "144. 'Master_status_lag2'\n",
       "145. 'Master_mfinanciacion_limite_lag2'\n",
       "146. 'Master_Fvencimiento_lag2'\n",
       "147. 'Master_msaldototal_lag2'\n",
       "148. 'Master_mlimitecompra_lag2'\n",
       "149. 'Master_fultimo_cierre_lag2'\n",
       "150. 'Master_fechaalta_lag2'\n",
       "151. 'Master_mconsumototal_lag2'\n",
       "152. 'Master_cconsumos_lag2'\n",
       "153. 'Master_mpagominimo_lag2'\n",
       "154. 'Visa_status_lag2'\n",
       "155. 'Visa_mfinanciacion_limite_lag2'\n",
       "156. 'Visa_Fvencimiento_lag2'\n",
       "157. 'Visa_msaldototal_lag2'\n",
       "158. 'Visa_mlimitecompra_lag2'\n",
       "159. 'Visa_fultimo_cierre_lag2'\n",
       "160. 'Visa_fechaalta_lag2'\n",
       "161. 'Visa_mconsumototal_lag2'\n",
       "162. 'Visa_cconsumos_lag2'\n",
       "163. 'Visa_mpagominimo_lag2'\n",
       "164. 'kmes_lag2'\n",
       "165. 'mpayroll_sobre_edad_lag2'\n",
       "166. 'internet_delta1'\n",
       "167. 'internet_delta2'\n",
       "168. 'cliente_edad_delta1'\n",
       "169. 'cliente_edad_delta2'\n",
       "170. 'cliente_antiguedad_delta1'\n",
       "171. 'cliente_antiguedad_delta2'\n",
       "172. 'mrentabilidad_delta1'\n",
       "173. 'mrentabilidad_delta2'\n",
       "174. 'mrentabilidad_annual_delta1'\n",
       "175. 'mrentabilidad_annual_delta2'\n",
       "176. 'mcomisiones_delta1'\n",
       "177. 'mcomisiones_delta2'\n",
       "178. 'mactivos_margen_delta1'\n",
       "179. 'mactivos_margen_delta2'\n",
       "180. 'mpasivos_margen_delta1'\n",
       "181. 'mpasivos_margen_delta2'\n",
       "182. 'cproductos_delta1'\n",
       "183. 'cproductos_delta2'\n",
       "184. 'mcuenta_corriente_delta1'\n",
       "185. 'mcuenta_corriente_delta2'\n",
       "186. 'mcaja_ahorro_delta1'\n",
       "187. 'mcaja_ahorro_delta2'\n",
       "188. 'cdescubierto_preacordado_delta1'\n",
       "189. 'cdescubierto_preacordado_delta2'\n",
       "190. 'mcuentas_saldo_delta1'\n",
       "191. 'mcuentas_saldo_delta2'\n",
       "192. 'ctarjeta_visa_delta1'\n",
       "193. 'ctarjeta_visa_delta2'\n",
       "194. 'ctarjeta_visa_transacciones_delta1'\n",
       "195. 'ctarjeta_visa_transacciones_delta2'\n",
       "196. 'mtarjeta_visa_consumo_delta1'\n",
       "197. 'mtarjeta_visa_consumo_delta2'\n",
       "198. 'ctarjeta_master_delta1'\n",
       "199. 'ctarjeta_master_delta2'\n",
       "200. 'ctarjeta_master_transacciones_delta1'\n",
       "201. 'ctarjeta_master_transacciones_delta2'\n",
       "202. 'mtarjeta_master_consumo_delta1'\n",
       "203. 'mtarjeta_master_consumo_delta2'\n",
       "204. 'cprestamos_personales_delta1'\n",
       "205. 'cprestamos_personales_delta2'\n",
       "206. 'mprestamos_personales_delta1'\n",
       "207. 'mprestamos_personales_delta2'\n",
       "208. 'cpayroll_trx_delta1'\n",
       "209. 'cpayroll_trx_delta2'\n",
       "210. 'mpayroll_delta1'\n",
       "211. 'mpayroll_delta2'\n",
       "212. 'mttarjeta_visa_debitos_automaticos_delta1'\n",
       "213. 'mttarjeta_visa_debitos_automaticos_delta2'\n",
       "214. 'ccomisiones_mantenimiento_delta1'\n",
       "215. 'ccomisiones_mantenimiento_delta2'\n",
       "216. 'mcomisiones_mantenimiento_delta1'\n",
       "217. 'mcomisiones_mantenimiento_delta2'\n",
       "218. 'ccomisiones_otras_delta1'\n",
       "219. 'ccomisiones_otras_delta2'\n",
       "220. 'mtransferencias_recibidas_delta1'\n",
       "221. 'mtransferencias_recibidas_delta2'\n",
       "222. 'ccallcenter_transacciones_delta1'\n",
       "223. 'ccallcenter_transacciones_delta2'\n",
       "224. 'thomebanking_delta1'\n",
       "225. 'thomebanking_delta2'\n",
       "226. 'chomebanking_transacciones_delta1'\n",
       "227. 'chomebanking_transacciones_delta2'\n",
       "228. 'ctrx_quarter_delta1'\n",
       "229. 'ctrx_quarter_delta2'\n",
       "230. 'Master_status_delta1'\n",
       "231. 'Master_status_delta2'\n",
       "232. 'Master_mfinanciacion_limite_delta1'\n",
       "233. 'Master_mfinanciacion_limite_delta2'\n",
       "234. 'Master_Fvencimiento_delta1'\n",
       "235. 'Master_Fvencimiento_delta2'\n",
       "236. 'Master_msaldototal_delta1'\n",
       "237. 'Master_msaldototal_delta2'\n",
       "238. 'Master_mlimitecompra_delta1'\n",
       "239. 'Master_mlimitecompra_delta2'\n",
       "240. 'Master_fultimo_cierre_delta1'\n",
       "241. 'Master_fultimo_cierre_delta2'\n",
       "242. 'Master_fechaalta_delta1'\n",
       "243. 'Master_fechaalta_delta2'\n",
       "244. 'Master_mconsumototal_delta1'\n",
       "245. 'Master_mconsumototal_delta2'\n",
       "246. 'Master_cconsumos_delta1'\n",
       "247. 'Master_cconsumos_delta2'\n",
       "248. 'Master_mpagominimo_delta1'\n",
       "249. 'Master_mpagominimo_delta2'\n",
       "250. 'Visa_status_delta1'\n",
       "251. 'Visa_status_delta2'\n",
       "252. 'Visa_mfinanciacion_limite_delta1'\n",
       "253. 'Visa_mfinanciacion_limite_delta2'\n",
       "254. 'Visa_Fvencimiento_delta1'\n",
       "255. 'Visa_Fvencimiento_delta2'\n",
       "256. 'Visa_msaldototal_delta1'\n",
       "257. 'Visa_msaldototal_delta2'\n",
       "258. 'Visa_mlimitecompra_delta1'\n",
       "259. 'Visa_mlimitecompra_delta2'\n",
       "260. 'Visa_fultimo_cierre_delta1'\n",
       "261. 'Visa_fultimo_cierre_delta2'\n",
       "262. 'Visa_fechaalta_delta1'\n",
       "263. 'Visa_fechaalta_delta2'\n",
       "264. 'Visa_mconsumototal_delta1'\n",
       "265. 'Visa_mconsumototal_delta2'\n",
       "266. 'Visa_cconsumos_delta1'\n",
       "267. 'Visa_cconsumos_delta2'\n",
       "268. 'Visa_mpagominimo_delta1'\n",
       "269. 'Visa_mpagominimo_delta2'\n",
       "270. 'kmes_delta1'\n",
       "271. 'kmes_delta2'\n",
       "272. 'mpayroll_sobre_edad_delta1'\n",
       "273. 'mpayroll_sobre_edad_delta2'\n",
       "\n",
       "\n"
      ],
      "text/plain": [
       "  [1] \"numero_de_cliente\"                        \n",
       "  [2] \"foto_mes\"                                 \n",
       "  [3] \"internet\"                                 \n",
       "  [4] \"cliente_edad\"                             \n",
       "  [5] \"cliente_antiguedad\"                       \n",
       "  [6] \"mrentabilidad\"                            \n",
       "  [7] \"mrentabilidad_annual\"                     \n",
       "  [8] \"mcomisiones\"                              \n",
       "  [9] \"mactivos_margen\"                          \n",
       " [10] \"mpasivos_margen\"                          \n",
       " [11] \"cproductos\"                               \n",
       " [12] \"mcuenta_corriente\"                        \n",
       " [13] \"mcaja_ahorro\"                             \n",
       " [14] \"cdescubierto_preacordado\"                 \n",
       " [15] \"mcuentas_saldo\"                           \n",
       " [16] \"ctarjeta_visa\"                            \n",
       " [17] \"ctarjeta_visa_transacciones\"              \n",
       " [18] \"mtarjeta_visa_consumo\"                    \n",
       " [19] \"ctarjeta_master\"                          \n",
       " [20] \"ctarjeta_master_transacciones\"            \n",
       " [21] \"mtarjeta_master_consumo\"                  \n",
       " [22] \"cprestamos_personales\"                    \n",
       " [23] \"mprestamos_personales\"                    \n",
       " [24] \"cpayroll_trx\"                             \n",
       " [25] \"mpayroll\"                                 \n",
       " [26] \"mttarjeta_visa_debitos_automaticos\"       \n",
       " [27] \"ccomisiones_mantenimiento\"                \n",
       " [28] \"mcomisiones_mantenimiento\"                \n",
       " [29] \"ccomisiones_otras\"                        \n",
       " [30] \"mtransferencias_recibidas\"                \n",
       " [31] \"ccallcenter_transacciones\"                \n",
       " [32] \"thomebanking\"                             \n",
       " [33] \"chomebanking_transacciones\"               \n",
       " [34] \"ctrx_quarter\"                             \n",
       " [35] \"Master_status\"                            \n",
       " [36] \"Master_mfinanciacion_limite\"              \n",
       " [37] \"Master_Fvencimiento\"                      \n",
       " [38] \"Master_msaldototal\"                       \n",
       " [39] \"Master_mlimitecompra\"                     \n",
       " [40] \"Master_fultimo_cierre\"                    \n",
       " [41] \"Master_fechaalta\"                         \n",
       " [42] \"Master_mconsumototal\"                     \n",
       " [43] \"Master_cconsumos\"                         \n",
       " [44] \"Master_mpagominimo\"                       \n",
       " [45] \"Visa_status\"                              \n",
       " [46] \"Visa_mfinanciacion_limite\"                \n",
       " [47] \"Visa_Fvencimiento\"                        \n",
       " [48] \"Visa_msaldototal\"                         \n",
       " [49] \"Visa_mlimitecompra\"                       \n",
       " [50] \"Visa_fultimo_cierre\"                      \n",
       " [51] \"Visa_fechaalta\"                           \n",
       " [52] \"Visa_mconsumototal\"                       \n",
       " [53] \"Visa_cconsumos\"                           \n",
       " [54] \"Visa_mpagominimo\"                         \n",
       " [55] \"clase_ternaria\"                           \n",
       " [56] \"kmes\"                                     \n",
       " [57] \"mpayroll_sobre_edad\"                      \n",
       " [58] \"internet_lag1\"                            \n",
       " [59] \"cliente_edad_lag1\"                        \n",
       " [60] \"cliente_antiguedad_lag1\"                  \n",
       " [61] \"mrentabilidad_lag1\"                       \n",
       " [62] \"mrentabilidad_annual_lag1\"                \n",
       " [63] \"mcomisiones_lag1\"                         \n",
       " [64] \"mactivos_margen_lag1\"                     \n",
       " [65] \"mpasivos_margen_lag1\"                     \n",
       " [66] \"cproductos_lag1\"                          \n",
       " [67] \"mcuenta_corriente_lag1\"                   \n",
       " [68] \"mcaja_ahorro_lag1\"                        \n",
       " [69] \"cdescubierto_preacordado_lag1\"            \n",
       " [70] \"mcuentas_saldo_lag1\"                      \n",
       " [71] \"ctarjeta_visa_lag1\"                       \n",
       " [72] \"ctarjeta_visa_transacciones_lag1\"         \n",
       " [73] \"mtarjeta_visa_consumo_lag1\"               \n",
       " [74] \"ctarjeta_master_lag1\"                     \n",
       " [75] \"ctarjeta_master_transacciones_lag1\"       \n",
       " [76] \"mtarjeta_master_consumo_lag1\"             \n",
       " [77] \"cprestamos_personales_lag1\"               \n",
       " [78] \"mprestamos_personales_lag1\"               \n",
       " [79] \"cpayroll_trx_lag1\"                        \n",
       " [80] \"mpayroll_lag1\"                            \n",
       " [81] \"mttarjeta_visa_debitos_automaticos_lag1\"  \n",
       " [82] \"ccomisiones_mantenimiento_lag1\"           \n",
       " [83] \"mcomisiones_mantenimiento_lag1\"           \n",
       " [84] \"ccomisiones_otras_lag1\"                   \n",
       " [85] \"mtransferencias_recibidas_lag1\"           \n",
       " [86] \"ccallcenter_transacciones_lag1\"           \n",
       " [87] \"thomebanking_lag1\"                        \n",
       " [88] \"chomebanking_transacciones_lag1\"          \n",
       " [89] \"ctrx_quarter_lag1\"                        \n",
       " [90] \"Master_status_lag1\"                       \n",
       " [91] \"Master_mfinanciacion_limite_lag1\"         \n",
       " [92] \"Master_Fvencimiento_lag1\"                 \n",
       " [93] \"Master_msaldototal_lag1\"                  \n",
       " [94] \"Master_mlimitecompra_lag1\"                \n",
       " [95] \"Master_fultimo_cierre_lag1\"               \n",
       " [96] \"Master_fechaalta_lag1\"                    \n",
       " [97] \"Master_mconsumototal_lag1\"                \n",
       " [98] \"Master_cconsumos_lag1\"                    \n",
       " [99] \"Master_mpagominimo_lag1\"                  \n",
       "[100] \"Visa_status_lag1\"                         \n",
       "[101] \"Visa_mfinanciacion_limite_lag1\"           \n",
       "[102] \"Visa_Fvencimiento_lag1\"                   \n",
       "[103] \"Visa_msaldototal_lag1\"                    \n",
       "[104] \"Visa_mlimitecompra_lag1\"                  \n",
       "[105] \"Visa_fultimo_cierre_lag1\"                 \n",
       "[106] \"Visa_fechaalta_lag1\"                      \n",
       "[107] \"Visa_mconsumototal_lag1\"                  \n",
       "[108] \"Visa_cconsumos_lag1\"                      \n",
       "[109] \"Visa_mpagominimo_lag1\"                    \n",
       "[110] \"kmes_lag1\"                                \n",
       "[111] \"mpayroll_sobre_edad_lag1\"                 \n",
       "[112] \"internet_lag2\"                            \n",
       "[113] \"cliente_edad_lag2\"                        \n",
       "[114] \"cliente_antiguedad_lag2\"                  \n",
       "[115] \"mrentabilidad_lag2\"                       \n",
       "[116] \"mrentabilidad_annual_lag2\"                \n",
       "[117] \"mcomisiones_lag2\"                         \n",
       "[118] \"mactivos_margen_lag2\"                     \n",
       "[119] \"mpasivos_margen_lag2\"                     \n",
       "[120] \"cproductos_lag2\"                          \n",
       "[121] \"mcuenta_corriente_lag2\"                   \n",
       "[122] \"mcaja_ahorro_lag2\"                        \n",
       "[123] \"cdescubierto_preacordado_lag2\"            \n",
       "[124] \"mcuentas_saldo_lag2\"                      \n",
       "[125] \"ctarjeta_visa_lag2\"                       \n",
       "[126] \"ctarjeta_visa_transacciones_lag2\"         \n",
       "[127] \"mtarjeta_visa_consumo_lag2\"               \n",
       "[128] \"ctarjeta_master_lag2\"                     \n",
       "[129] \"ctarjeta_master_transacciones_lag2\"       \n",
       "[130] \"mtarjeta_master_consumo_lag2\"             \n",
       "[131] \"cprestamos_personales_lag2\"               \n",
       "[132] \"mprestamos_personales_lag2\"               \n",
       "[133] \"cpayroll_trx_lag2\"                        \n",
       "[134] \"mpayroll_lag2\"                            \n",
       "[135] \"mttarjeta_visa_debitos_automaticos_lag2\"  \n",
       "[136] \"ccomisiones_mantenimiento_lag2\"           \n",
       "[137] \"mcomisiones_mantenimiento_lag2\"           \n",
       "[138] \"ccomisiones_otras_lag2\"                   \n",
       "[139] \"mtransferencias_recibidas_lag2\"           \n",
       "[140] \"ccallcenter_transacciones_lag2\"           \n",
       "[141] \"thomebanking_lag2\"                        \n",
       "[142] \"chomebanking_transacciones_lag2\"          \n",
       "[143] \"ctrx_quarter_lag2\"                        \n",
       "[144] \"Master_status_lag2\"                       \n",
       "[145] \"Master_mfinanciacion_limite_lag2\"         \n",
       "[146] \"Master_Fvencimiento_lag2\"                 \n",
       "[147] \"Master_msaldototal_lag2\"                  \n",
       "[148] \"Master_mlimitecompra_lag2\"                \n",
       "[149] \"Master_fultimo_cierre_lag2\"               \n",
       "[150] \"Master_fechaalta_lag2\"                    \n",
       "[151] \"Master_mconsumototal_lag2\"                \n",
       "[152] \"Master_cconsumos_lag2\"                    \n",
       "[153] \"Master_mpagominimo_lag2\"                  \n",
       "[154] \"Visa_status_lag2\"                         \n",
       "[155] \"Visa_mfinanciacion_limite_lag2\"           \n",
       "[156] \"Visa_Fvencimiento_lag2\"                   \n",
       "[157] \"Visa_msaldototal_lag2\"                    \n",
       "[158] \"Visa_mlimitecompra_lag2\"                  \n",
       "[159] \"Visa_fultimo_cierre_lag2\"                 \n",
       "[160] \"Visa_fechaalta_lag2\"                      \n",
       "[161] \"Visa_mconsumototal_lag2\"                  \n",
       "[162] \"Visa_cconsumos_lag2\"                      \n",
       "[163] \"Visa_mpagominimo_lag2\"                    \n",
       "[164] \"kmes_lag2\"                                \n",
       "[165] \"mpayroll_sobre_edad_lag2\"                 \n",
       "[166] \"internet_delta1\"                          \n",
       "[167] \"internet_delta2\"                          \n",
       "[168] \"cliente_edad_delta1\"                      \n",
       "[169] \"cliente_edad_delta2\"                      \n",
       "[170] \"cliente_antiguedad_delta1\"                \n",
       "[171] \"cliente_antiguedad_delta2\"                \n",
       "[172] \"mrentabilidad_delta1\"                     \n",
       "[173] \"mrentabilidad_delta2\"                     \n",
       "[174] \"mrentabilidad_annual_delta1\"              \n",
       "[175] \"mrentabilidad_annual_delta2\"              \n",
       "[176] \"mcomisiones_delta1\"                       \n",
       "[177] \"mcomisiones_delta2\"                       \n",
       "[178] \"mactivos_margen_delta1\"                   \n",
       "[179] \"mactivos_margen_delta2\"                   \n",
       "[180] \"mpasivos_margen_delta1\"                   \n",
       "[181] \"mpasivos_margen_delta2\"                   \n",
       "[182] \"cproductos_delta1\"                        \n",
       "[183] \"cproductos_delta2\"                        \n",
       "[184] \"mcuenta_corriente_delta1\"                 \n",
       "[185] \"mcuenta_corriente_delta2\"                 \n",
       "[186] \"mcaja_ahorro_delta1\"                      \n",
       "[187] \"mcaja_ahorro_delta2\"                      \n",
       "[188] \"cdescubierto_preacordado_delta1\"          \n",
       "[189] \"cdescubierto_preacordado_delta2\"          \n",
       "[190] \"mcuentas_saldo_delta1\"                    \n",
       "[191] \"mcuentas_saldo_delta2\"                    \n",
       "[192] \"ctarjeta_visa_delta1\"                     \n",
       "[193] \"ctarjeta_visa_delta2\"                     \n",
       "[194] \"ctarjeta_visa_transacciones_delta1\"       \n",
       "[195] \"ctarjeta_visa_transacciones_delta2\"       \n",
       "[196] \"mtarjeta_visa_consumo_delta1\"             \n",
       "[197] \"mtarjeta_visa_consumo_delta2\"             \n",
       "[198] \"ctarjeta_master_delta1\"                   \n",
       "[199] \"ctarjeta_master_delta2\"                   \n",
       "[200] \"ctarjeta_master_transacciones_delta1\"     \n",
       "[201] \"ctarjeta_master_transacciones_delta2\"     \n",
       "[202] \"mtarjeta_master_consumo_delta1\"           \n",
       "[203] \"mtarjeta_master_consumo_delta2\"           \n",
       "[204] \"cprestamos_personales_delta1\"             \n",
       "[205] \"cprestamos_personales_delta2\"             \n",
       "[206] \"mprestamos_personales_delta1\"             \n",
       "[207] \"mprestamos_personales_delta2\"             \n",
       "[208] \"cpayroll_trx_delta1\"                      \n",
       "[209] \"cpayroll_trx_delta2\"                      \n",
       "[210] \"mpayroll_delta1\"                          \n",
       "[211] \"mpayroll_delta2\"                          \n",
       "[212] \"mttarjeta_visa_debitos_automaticos_delta1\"\n",
       "[213] \"mttarjeta_visa_debitos_automaticos_delta2\"\n",
       "[214] \"ccomisiones_mantenimiento_delta1\"         \n",
       "[215] \"ccomisiones_mantenimiento_delta2\"         \n",
       "[216] \"mcomisiones_mantenimiento_delta1\"         \n",
       "[217] \"mcomisiones_mantenimiento_delta2\"         \n",
       "[218] \"ccomisiones_otras_delta1\"                 \n",
       "[219] \"ccomisiones_otras_delta2\"                 \n",
       "[220] \"mtransferencias_recibidas_delta1\"         \n",
       "[221] \"mtransferencias_recibidas_delta2\"         \n",
       "[222] \"ccallcenter_transacciones_delta1\"         \n",
       "[223] \"ccallcenter_transacciones_delta2\"         \n",
       "[224] \"thomebanking_delta1\"                      \n",
       "[225] \"thomebanking_delta2\"                      \n",
       "[226] \"chomebanking_transacciones_delta1\"        \n",
       "[227] \"chomebanking_transacciones_delta2\"        \n",
       "[228] \"ctrx_quarter_delta1\"                      \n",
       "[229] \"ctrx_quarter_delta2\"                      \n",
       "[230] \"Master_status_delta1\"                     \n",
       "[231] \"Master_status_delta2\"                     \n",
       "[232] \"Master_mfinanciacion_limite_delta1\"       \n",
       "[233] \"Master_mfinanciacion_limite_delta2\"       \n",
       "[234] \"Master_Fvencimiento_delta1\"               \n",
       "[235] \"Master_Fvencimiento_delta2\"               \n",
       "[236] \"Master_msaldototal_delta1\"                \n",
       "[237] \"Master_msaldototal_delta2\"                \n",
       "[238] \"Master_mlimitecompra_delta1\"              \n",
       "[239] \"Master_mlimitecompra_delta2\"              \n",
       "[240] \"Master_fultimo_cierre_delta1\"             \n",
       "[241] \"Master_fultimo_cierre_delta2\"             \n",
       "[242] \"Master_fechaalta_delta1\"                  \n",
       "[243] \"Master_fechaalta_delta2\"                  \n",
       "[244] \"Master_mconsumototal_delta1\"              \n",
       "[245] \"Master_mconsumototal_delta2\"              \n",
       "[246] \"Master_cconsumos_delta1\"                  \n",
       "[247] \"Master_cconsumos_delta2\"                  \n",
       "[248] \"Master_mpagominimo_delta1\"                \n",
       "[249] \"Master_mpagominimo_delta2\"                \n",
       "[250] \"Visa_status_delta1\"                       \n",
       "[251] \"Visa_status_delta2\"                       \n",
       "[252] \"Visa_mfinanciacion_limite_delta1\"         \n",
       "[253] \"Visa_mfinanciacion_limite_delta2\"         \n",
       "[254] \"Visa_Fvencimiento_delta1\"                 \n",
       "[255] \"Visa_Fvencimiento_delta2\"                 \n",
       "[256] \"Visa_msaldototal_delta1\"                  \n",
       "[257] \"Visa_msaldototal_delta2\"                  \n",
       "[258] \"Visa_mlimitecompra_delta1\"                \n",
       "[259] \"Visa_mlimitecompra_delta2\"                \n",
       "[260] \"Visa_fultimo_cierre_delta1\"               \n",
       "[261] \"Visa_fultimo_cierre_delta2\"               \n",
       "[262] \"Visa_fechaalta_delta1\"                    \n",
       "[263] \"Visa_fechaalta_delta2\"                    \n",
       "[264] \"Visa_mconsumototal_delta1\"                \n",
       "[265] \"Visa_mconsumototal_delta2\"                \n",
       "[266] \"Visa_cconsumos_delta1\"                    \n",
       "[267] \"Visa_cconsumos_delta2\"                    \n",
       "[268] \"Visa_mpagominimo_delta1\"                  \n",
       "[269] \"Visa_mpagominimo_delta2\"                  \n",
       "[270] \"kmes_delta1\"                              \n",
       "[271] \"kmes_delta2\"                              \n",
       "[272] \"mpayroll_sobre_edad_delta1\"               \n",
       "[273] \"mpayroll_sobre_edad_delta2\"               "
      ]
     },
     "metadata": {},
     "output_type": "display_data"
    },
    {
     "data": {
      "text/html": [
       "55"
      ],
      "text/latex": [
       "55"
      ],
      "text/markdown": [
       "55"
      ],
      "text/plain": [
       "[1] 55"
      ]
     },
     "metadata": {},
     "output_type": "display_data"
    },
    {
     "data": {
      "text/html": [
       "<style>\n",
       ".list-inline {list-style: none; margin:0; padding: 0}\n",
       ".list-inline>li {display: inline-block}\n",
       ".list-inline>li:not(:last-child)::after {content: \"\\00b7\"; padding: 0 .5ex}\n",
       "</style>\n",
       "<ol class=list-inline><li>'numero_de_cliente'</li><li>'foto_mes'</li><li>'internet'</li><li>'cliente_edad'</li><li>'cliente_antiguedad'</li><li>'mrentabilidad'</li><li>'mrentabilidad_annual'</li><li>'mcomisiones'</li><li>'mactivos_margen'</li><li>'mpasivos_margen'</li><li>'cproductos'</li><li>'mcuenta_corriente'</li><li>'mcaja_ahorro'</li><li>'cdescubierto_preacordado'</li><li>'mcuentas_saldo'</li><li>'ctarjeta_visa'</li><li>'ctarjeta_visa_transacciones'</li><li>'mtarjeta_visa_consumo'</li><li>'ctarjeta_master'</li><li>'ctarjeta_master_transacciones'</li><li>'mtarjeta_master_consumo'</li><li>'cprestamos_personales'</li><li>'mprestamos_personales'</li><li>'cpayroll_trx'</li><li>'mpayroll'</li><li>'mttarjeta_visa_debitos_automaticos'</li><li>'ccomisiones_mantenimiento'</li><li>'mcomisiones_mantenimiento'</li><li>'ccomisiones_otras'</li><li>'mtransferencias_recibidas'</li><li>'ccallcenter_transacciones'</li><li>'thomebanking'</li><li>'chomebanking_transacciones'</li><li>'ctrx_quarter'</li><li>'Master_status'</li><li>'Master_mfinanciacion_limite'</li><li>'Master_Fvencimiento'</li><li>'Master_msaldototal'</li><li>'Master_mlimitecompra'</li><li>'Master_fultimo_cierre'</li><li>'Master_fechaalta'</li><li>'Master_mconsumototal'</li><li>'Master_cconsumos'</li><li>'Master_mpagominimo'</li><li>'Visa_status'</li><li>'Visa_mfinanciacion_limite'</li><li>'Visa_Fvencimiento'</li><li>'Visa_msaldototal'</li><li>'Visa_mlimitecompra'</li><li>'Visa_fultimo_cierre'</li><li>'Visa_fechaalta'</li><li>'Visa_mconsumototal'</li><li>'Visa_cconsumos'</li><li>'Visa_mpagominimo'</li><li>'clase_ternaria'</li></ol>\n"
      ],
      "text/latex": [
       "\\begin{enumerate*}\n",
       "\\item 'numero\\_de\\_cliente'\n",
       "\\item 'foto\\_mes'\n",
       "\\item 'internet'\n",
       "\\item 'cliente\\_edad'\n",
       "\\item 'cliente\\_antiguedad'\n",
       "\\item 'mrentabilidad'\n",
       "\\item 'mrentabilidad\\_annual'\n",
       "\\item 'mcomisiones'\n",
       "\\item 'mactivos\\_margen'\n",
       "\\item 'mpasivos\\_margen'\n",
       "\\item 'cproductos'\n",
       "\\item 'mcuenta\\_corriente'\n",
       "\\item 'mcaja\\_ahorro'\n",
       "\\item 'cdescubierto\\_preacordado'\n",
       "\\item 'mcuentas\\_saldo'\n",
       "\\item 'ctarjeta\\_visa'\n",
       "\\item 'ctarjeta\\_visa\\_transacciones'\n",
       "\\item 'mtarjeta\\_visa\\_consumo'\n",
       "\\item 'ctarjeta\\_master'\n",
       "\\item 'ctarjeta\\_master\\_transacciones'\n",
       "\\item 'mtarjeta\\_master\\_consumo'\n",
       "\\item 'cprestamos\\_personales'\n",
       "\\item 'mprestamos\\_personales'\n",
       "\\item 'cpayroll\\_trx'\n",
       "\\item 'mpayroll'\n",
       "\\item 'mttarjeta\\_visa\\_debitos\\_automaticos'\n",
       "\\item 'ccomisiones\\_mantenimiento'\n",
       "\\item 'mcomisiones\\_mantenimiento'\n",
       "\\item 'ccomisiones\\_otras'\n",
       "\\item 'mtransferencias\\_recibidas'\n",
       "\\item 'ccallcenter\\_transacciones'\n",
       "\\item 'thomebanking'\n",
       "\\item 'chomebanking\\_transacciones'\n",
       "\\item 'ctrx\\_quarter'\n",
       "\\item 'Master\\_status'\n",
       "\\item 'Master\\_mfinanciacion\\_limite'\n",
       "\\item 'Master\\_Fvencimiento'\n",
       "\\item 'Master\\_msaldototal'\n",
       "\\item 'Master\\_mlimitecompra'\n",
       "\\item 'Master\\_fultimo\\_cierre'\n",
       "\\item 'Master\\_fechaalta'\n",
       "\\item 'Master\\_mconsumototal'\n",
       "\\item 'Master\\_cconsumos'\n",
       "\\item 'Master\\_mpagominimo'\n",
       "\\item 'Visa\\_status'\n",
       "\\item 'Visa\\_mfinanciacion\\_limite'\n",
       "\\item 'Visa\\_Fvencimiento'\n",
       "\\item 'Visa\\_msaldototal'\n",
       "\\item 'Visa\\_mlimitecompra'\n",
       "\\item 'Visa\\_fultimo\\_cierre'\n",
       "\\item 'Visa\\_fechaalta'\n",
       "\\item 'Visa\\_mconsumototal'\n",
       "\\item 'Visa\\_cconsumos'\n",
       "\\item 'Visa\\_mpagominimo'\n",
       "\\item 'clase\\_ternaria'\n",
       "\\end{enumerate*}\n"
      ],
      "text/markdown": [
       "1. 'numero_de_cliente'\n",
       "2. 'foto_mes'\n",
       "3. 'internet'\n",
       "4. 'cliente_edad'\n",
       "5. 'cliente_antiguedad'\n",
       "6. 'mrentabilidad'\n",
       "7. 'mrentabilidad_annual'\n",
       "8. 'mcomisiones'\n",
       "9. 'mactivos_margen'\n",
       "10. 'mpasivos_margen'\n",
       "11. 'cproductos'\n",
       "12. 'mcuenta_corriente'\n",
       "13. 'mcaja_ahorro'\n",
       "14. 'cdescubierto_preacordado'\n",
       "15. 'mcuentas_saldo'\n",
       "16. 'ctarjeta_visa'\n",
       "17. 'ctarjeta_visa_transacciones'\n",
       "18. 'mtarjeta_visa_consumo'\n",
       "19. 'ctarjeta_master'\n",
       "20. 'ctarjeta_master_transacciones'\n",
       "21. 'mtarjeta_master_consumo'\n",
       "22. 'cprestamos_personales'\n",
       "23. 'mprestamos_personales'\n",
       "24. 'cpayroll_trx'\n",
       "25. 'mpayroll'\n",
       "26. 'mttarjeta_visa_debitos_automaticos'\n",
       "27. 'ccomisiones_mantenimiento'\n",
       "28. 'mcomisiones_mantenimiento'\n",
       "29. 'ccomisiones_otras'\n",
       "30. 'mtransferencias_recibidas'\n",
       "31. 'ccallcenter_transacciones'\n",
       "32. 'thomebanking'\n",
       "33. 'chomebanking_transacciones'\n",
       "34. 'ctrx_quarter'\n",
       "35. 'Master_status'\n",
       "36. 'Master_mfinanciacion_limite'\n",
       "37. 'Master_Fvencimiento'\n",
       "38. 'Master_msaldototal'\n",
       "39. 'Master_mlimitecompra'\n",
       "40. 'Master_fultimo_cierre'\n",
       "41. 'Master_fechaalta'\n",
       "42. 'Master_mconsumototal'\n",
       "43. 'Master_cconsumos'\n",
       "44. 'Master_mpagominimo'\n",
       "45. 'Visa_status'\n",
       "46. 'Visa_mfinanciacion_limite'\n",
       "47. 'Visa_Fvencimiento'\n",
       "48. 'Visa_msaldototal'\n",
       "49. 'Visa_mlimitecompra'\n",
       "50. 'Visa_fultimo_cierre'\n",
       "51. 'Visa_fechaalta'\n",
       "52. 'Visa_mconsumototal'\n",
       "53. 'Visa_cconsumos'\n",
       "54. 'Visa_mpagominimo'\n",
       "55. 'clase_ternaria'\n",
       "\n",
       "\n"
      ],
      "text/plain": [
       " [1] \"numero_de_cliente\"                  \"foto_mes\"                          \n",
       " [3] \"internet\"                           \"cliente_edad\"                      \n",
       " [5] \"cliente_antiguedad\"                 \"mrentabilidad\"                     \n",
       " [7] \"mrentabilidad_annual\"               \"mcomisiones\"                       \n",
       " [9] \"mactivos_margen\"                    \"mpasivos_margen\"                   \n",
       "[11] \"cproductos\"                         \"mcuenta_corriente\"                 \n",
       "[13] \"mcaja_ahorro\"                       \"cdescubierto_preacordado\"          \n",
       "[15] \"mcuentas_saldo\"                     \"ctarjeta_visa\"                     \n",
       "[17] \"ctarjeta_visa_transacciones\"        \"mtarjeta_visa_consumo\"             \n",
       "[19] \"ctarjeta_master\"                    \"ctarjeta_master_transacciones\"     \n",
       "[21] \"mtarjeta_master_consumo\"            \"cprestamos_personales\"             \n",
       "[23] \"mprestamos_personales\"              \"cpayroll_trx\"                      \n",
       "[25] \"mpayroll\"                           \"mttarjeta_visa_debitos_automaticos\"\n",
       "[27] \"ccomisiones_mantenimiento\"          \"mcomisiones_mantenimiento\"         \n",
       "[29] \"ccomisiones_otras\"                  \"mtransferencias_recibidas\"         \n",
       "[31] \"ccallcenter_transacciones\"          \"thomebanking\"                      \n",
       "[33] \"chomebanking_transacciones\"         \"ctrx_quarter\"                      \n",
       "[35] \"Master_status\"                      \"Master_mfinanciacion_limite\"       \n",
       "[37] \"Master_Fvencimiento\"                \"Master_msaldototal\"                \n",
       "[39] \"Master_mlimitecompra\"               \"Master_fultimo_cierre\"             \n",
       "[41] \"Master_fechaalta\"                   \"Master_mconsumototal\"              \n",
       "[43] \"Master_cconsumos\"                   \"Master_mpagominimo\"                \n",
       "[45] \"Visa_status\"                        \"Visa_mfinanciacion_limite\"         \n",
       "[47] \"Visa_Fvencimiento\"                  \"Visa_msaldototal\"                  \n",
       "[49] \"Visa_mlimitecompra\"                 \"Visa_fultimo_cierre\"               \n",
       "[51] \"Visa_fechaalta\"                     \"Visa_mconsumototal\"                \n",
       "[53] \"Visa_cconsumos\"                     \"Visa_mpagominimo\"                  \n",
       "[55] \"clase_ternaria\"                    "
      ]
     },
     "metadata": {},
     "output_type": "display_data"
    }
   ],
   "source": [
    "ncol(dataset_versiones[[\"ipc\"]])\n",
    "colnames(dataset_versiones[[\"ipc\"]])\n",
    "ncol(dataset)\n",
    "colnames(dataset)"
   ]
  },
  {
   "cell_type": "markdown",
   "id": "l8mKij0XaDY0",
   "metadata": {
    "id": "l8mKij0XaDY0"
   },
   "source": [
    "#### 7.3.1.6  FEhist Reduccion dimensionalidad con canaritos\n",
    "\n",
    "Esta etapa solo se mostrará a la *modalidad Anlista Sr* por algun canal secreto de forma de no confundir a los *Analista Jr*  nni distraer con detalles operativos a la estratégica *Modalidad Gerencial*"
   ]
  },
  {
   "cell_type": "code",
   "execution_count": null,
   "id": "QrmnPtlBcEgx",
   "metadata": {
    "id": "QrmnPtlBcEgx"
   },
   "outputs": [],
   "source": [
    "# No se implementa la reduccion de la dimensionalidad con canaritos"
   ]
  },
  {
   "cell_type": "markdown",
   "id": "cf91ea5e-3341-4afb-8d05-cc4923d3d1e1",
   "metadata": {
    "id": "cf91ea5e-3341-4afb-8d05-cc4923d3d1e1"
   },
   "source": [
    "### 7.3.2 Modelado"
   ]
  },
  {
   "cell_type": "markdown",
   "id": "526048e4-8cf2-4023-bd2d-a70e4e9ff157",
   "metadata": {
    "id": "526048e4-8cf2-4023-bd2d-a70e4e9ff157"
   },
   "source": [
    "#### 7.3.2.1 Training Strategy\n",
    "\n",
    "Esta etapa de Workflow de  Training Strategy esta pensada para la *Modalidad Gerencial* que posee el dataset de [202005, 202109]\n",
    "<br> Si usted es un Analista, posee el periodo de [201901, 202109] y deberá experimentar en que meses le conviene experimentar\n",
    "\n",
    "<br> A la *Modalidad Gerencial* no se le complicada la vida con el undersampling de los continua, por eso PARAM$trainingstrategy$training_pct <- 1.0\n",
    "<br> Sin embargo, si usted es  *Analista SR* posee un dataset 50 veces ( filas x columnas) más grande que la *Modalidad Gerencial*  y por un tema de velocidad y experimentación más rápida puede llegar a necesitar activar el undersampling de la clase mayoritaria, a pesar de estar corriendo en Google Cloud."
   ]
  },
  {
   "cell_type": "markdown",
   "id": "f16bc1c1-b3ea-43ca-9d3c-53f8f9ab8ec1",
   "metadata": {
    "id": "f16bc1c1-b3ea-43ca-9d3c-53f8f9ab8ec1"
   },
   "source": [
    "Se hace una estrategia de entrenamiento muy sencilla, tomando todos los meses posibles, SIN eliminar nada x pandemia ni por ningun otro motivo\n",
    "\n",
    "* future = 202109  obviamente completo\n",
    "\n",
    "* final_train =  [ 202005, 202107 ]  con un undersampling de los CONTINUA del 2% por un tema de velocidad\n",
    "\n",
    "* training\n",
    "   * testing = NO HAY\n",
    "   * validation =  202107   completo, sin undersampling\n",
    "   * training = [ 202005, 202106 ]  donde se consideran el 100% de los CONTINUA"
   ]
  },
  {
   "cell_type": "code",
   "execution_count": 16,
   "id": "2c9c0a42-ba58-4264-8566-091a6161716f",
   "metadata": {
    "id": "2c9c0a42-ba58-4264-8566-091a6161716f"
   },
   "outputs": [],
   "source": [
    "PARAM$trainingstrategy$validate <- c(202109)\n",
    "\n",
    "PARAM$trainingstrategy$training <- c(\n",
    "  201901, 201902, 201903, 201904, 201905, 201906, \n",
    "  201907, 201908, 201909, 201910, 201911, 201912,\n",
    "  202001, 202002, 202003, 202004, 202005, 202006,\n",
    "  202007, 202008, 202009, 202010, 202011, 202012,\n",
    "  202101, 202102, 202103, 202104, 202105, 202106,\n",
    "  202107\n",
    ")\n",
    "\n",
    "PARAM$trainingstrategy$training_pct <- 1\n",
    "\n",
    "\n",
    "PARAM$trainingstrategy$positivos <- c( \"BAJA+1\", \"BAJA+2\")"
   ]
  },
  {
   "cell_type": "code",
   "execution_count": 17,
   "id": "ca46c143-6f8f-4020-be18-5c06aeb164d0",
   "metadata": {},
   "outputs": [],
   "source": [
    "####\n",
    "# Clase ternaria en los nuevos data.table. \n",
    "\n",
    "for (nombre in names(dataset_versiones)) {\n",
    "  dt <- dataset_versiones[[nombre]]\n",
    "  \n",
    "  dt[, clase01 := ifelse(clase_ternaria %in% PARAM$trainingstrategy$positivos, 1, 0)]\n",
    "  \n",
    "  # Guardamos la modificación de vuelta en la lista\n",
    "  dataset_versiones[[nombre]] <- dt\n",
    "}\n"
   ]
  },
  {
   "cell_type": "code",
   "execution_count": 22,
   "id": "b1e77dc3-9337-4248-868f-6d0ff7bb0faf",
   "metadata": {},
   "outputs": [
    {
     "data": {
      "text/plain": [
       "\n",
       "     0      1 \n",
       "967988   8386 "
      ]
     },
     "metadata": {},
     "output_type": "display_data"
    },
    {
     "data": {
      "text/plain": [
       "< table of extent 0 >"
      ]
     },
     "metadata": {},
     "output_type": "display_data"
    }
   ],
   "source": [
    "table(dataset_versiones[[\"ipc\"]]$clase01)\n",
    "table(dataset$clase01)"
   ]
  },
  {
   "cell_type": "code",
   "execution_count": 18,
   "id": "9d2a92e0-427c-4994-a9b4-dbc8bae74bca",
   "metadata": {},
   "outputs": [],
   "source": [
    "# Campos buenos para la lista de data.table\n",
    "\n",
    "# Campos que no queremos usar como predictores\n",
    "excluir <- c(\"clase_ternaria\", \"clase01\", \"azar\")\n",
    "\n",
    "# Creamos una lista vacía para guardar los campos buenos por versión\n",
    "campos_buenos_versiones <- list()\n",
    "\n",
    "# Iteramos sobre cada dataset dentro de la lista\n",
    "for (nombre in names(dataset_versiones)) {\n",
    "  dt <- dataset_versiones[[nombre]]\n",
    "  \n",
    "  campos_buenos <- setdiff(colnames(dt), excluir)\n",
    "  campos_buenos_versiones[[nombre]] <- copy(campos_buenos)\n",
    "}"
   ]
  },
  {
   "cell_type": "code",
   "execution_count": null,
   "id": "829be78d-b821-4417-923a-479feadb9ff7",
   "metadata": {},
   "outputs": [],
   "source": []
  },
  {
   "cell_type": "code",
   "execution_count": 19,
   "id": "039e13ff-ab3a-4e3a-87af-03a509856e66",
   "metadata": {},
   "outputs": [
    {
     "name": "stderr",
     "output_type": "stream",
     "text": [
      "Loading required package: lightgbm\n",
      "\n"
     ]
    }
   ],
   "source": [
    "##############\n",
    "# Adaptacion bloque anterior para lista de data.table\n",
    "\n",
    "if( !require(\"lightgbm\")) install.packages(\"lightgbm\")\n",
    "require(\"lightgbm\")\n",
    "\n",
    "# Lista donde vas a guardar los dtrain para cada versión\n",
    "dtrain_versiones <- list()\n",
    "\n",
    "# Preparación por cada dataset\n",
    "for (nombre in names(dataset_versiones)) {\n",
    "  \n",
    "  dt <- copy(dataset_versiones[[nombre]])  # trabajamos sobre una copia\n",
    "  \n",
    "  # Paso 1: azar (undersampling)\n",
    "  set.seed(PARAM$semilla_primigenia, kind = \"L'Ecuyer-CMRG\")\n",
    "  dt[, azar := runif(.N)]\n",
    "  \n",
    "  # Paso 2: fold de entrenamiento\n",
    "  dt[, fold_train := foto_mes %in% PARAM$trainingstrategy$training &\n",
    "                        (clase_ternaria %in% PARAM$trainingstrategy$positivos |\n",
    "                         azar < PARAM$trainingstrategy$training_pct)]\n",
    "  \n",
    "  # Paso 3: dataset de entrenamiento para LightGBM\n",
    "  campos <- campos_buenos_versiones[[nombre]]\n",
    "  \n",
    "  dtrain <- lgb.Dataset(\n",
    "    data = data.matrix(dt[fold_train == TRUE, ..campos]),\n",
    "    label = dt[fold_train == TRUE, clase01],\n",
    "    free_raw_data = TRUE\n",
    "  )\n",
    "  \n",
    "  # Guardamos el dtrain en la lista\n",
    "  dtrain_versiones[[nombre]] <- dtrain\n",
    "  \n",
    "  # (Opcional) Guardamos de vuelta el dataset con azar/fold en la lista\n",
    "  dataset_versiones[[nombre]] <- dt\n",
    "}"
   ]
  },
  {
   "cell_type": "code",
   "execution_count": 20,
   "id": "b91b2cdd-dc06-4912-b84e-27c0d3cc1cde",
   "metadata": {},
   "outputs": [],
   "source": [
    "####### \n",
    "#Datos de validacion \n",
    "#Adaptacion a la lista de data.table\n",
    "\n",
    "# Creamos una lista vacía para guardar los dvalidate\n",
    "dvalidate_versiones <- list()\n",
    "\n",
    "for (nombre in names(dataset_versiones)) {\n",
    "  \n",
    "  dt <- dataset_versiones[[nombre]]\n",
    "  campos <- campos_buenos_versiones[[nombre]]\n",
    "  \n",
    "  dvalidate <- lgb.Dataset(\n",
    "    data = data.matrix(dt[foto_mes %in% PARAM$trainingstrategy$validate, ..campos]),\n",
    "    label = dt[foto_mes %in% PARAM$trainingstrategy$validate, clase01],\n",
    "    free_raw_data = TRUE\n",
    "  )\n",
    "  \n",
    "  dvalidate_versiones[[nombre]] <- dvalidate\n",
    "}"
   ]
  },
  {
   "cell_type": "code",
   "execution_count": 21,
   "id": "e3b127cc-beb7-48de-b308-324d678b4b8d",
   "metadata": {},
   "outputs": [
    {
     "data": {
      "text/html": [
       "33094"
      ],
      "text/latex": [
       "33094"
      ],
      "text/markdown": [
       "33094"
      ],
      "text/plain": [
       "[1] 33094"
      ]
     },
     "metadata": {},
     "output_type": "display_data"
    }
   ],
   "source": [
    "nrow(dvalidate_versiones[[\"ipc\"]])"
   ]
  },
  {
   "cell_type": "markdown",
   "id": "28e8f788-551c-4e50-9029-302ac0834287",
   "metadata": {
    "id": "28e8f788-551c-4e50-9029-302ac0834287"
   },
   "source": [
    "####  7.3.2.2. Hyperparameter Tuning"
   ]
  },
  {
   "cell_type": "markdown",
   "id": "bf5fc836-e222-4aeb-a6a8-157346895ef7",
   "metadata": {
    "id": "bf5fc836-e222-4aeb-a6a8-157346895ef7"
   },
   "source": [
    "* Clase binaria que se optimiza :  positivos = [ BAJA+1, BAJA+2 ]"
   ]
  },
  {
   "cell_type": "markdown",
   "id": "885c03b5-77bc-4510-a930-0d1f14b52ffb",
   "metadata": {
    "id": "885c03b5-77bc-4510-a930-0d1f14b52ffb"
   },
   "source": [
    "* Metrica que se optimiza **AUC** Area Under Curve de la  ROC Curve\n",
    "\n",
    "es muy importante notar que intencionalmente  **NO** se está optimizando la funcion de ganancia del problema"
   ]
  },
  {
   "cell_type": "markdown",
   "id": "b7e6f95c-66ef-4ab9-9ba3-fcc099816704",
   "metadata": {
    "id": "b7e6f95c-66ef-4ab9-9ba3-fcc099816704"
   },
   "source": [
    "* Cantidad de iteraciones inteligentes de la Optimizacion Bayesiana = **10**"
   ]
  },
  {
   "cell_type": "markdown",
   "id": "fe047a87-e2d0-4418-97dd-0a881e66d73a",
   "metadata": {
    "id": "fe047a87-e2d0-4418-97dd-0a881e66d73a"
   },
   "source": [
    "* Parametros no default, fijos de LightGBM que no se optimizan\n",
    "  * max_bin = 31 , Alienigenas Ancestrales contruyeron las pirámides y dejaron a la humanidad en un jeroglifico  *max_bin=31*\n",
    "  * feature_fraction = 0.5  para poner algo que generalmente no falla\n",
    "  * learning_rate = 0.03  para que aprenda lento\n"
   ]
  },
  {
   "cell_type": "markdown",
   "id": "1e7da08e-fe57-4681-beff-11fe963116bd",
   "metadata": {
    "id": "1e7da08e-fe57-4681-beff-11fe963116bd"
   },
   "source": [
    "* Parametros que se optimizan en la Bayesian Optimization\n",
    "  * num_leaves  [8, 256]\n",
    "  * min_data_in_leaf  [8, 8192]"
   ]
  },
  {
   "cell_type": "code",
   "execution_count": 22,
   "id": "34V6y4GetKq_",
   "metadata": {
    "id": "34V6y4GetKq_"
   },
   "outputs": [
    {
     "name": "stderr",
     "output_type": "stream",
     "text": [
      "Loading required package: DiceKriging\n",
      "\n",
      "Loading required package: mlrMBO\n",
      "\n",
      "Loading required package: mlr\n",
      "\n",
      "Loading required package: ParamHelpers\n",
      "\n",
      "\n",
      "Attaching package: ‘ParamHelpers’\n",
      "\n",
      "\n",
      "The following object is masked from ‘package:R.utils’:\n",
      "\n",
      "    isVector\n",
      "\n",
      "\n",
      "\n",
      "Attaching package: ‘mlr’\n",
      "\n",
      "\n",
      "The following objects are masked from ‘package:R.utils’:\n",
      "\n",
      "    resample, setThreshold\n",
      "\n",
      "\n",
      "Loading required package: smoof\n",
      "\n",
      "Loading required package: checkmate\n",
      "\n",
      "\n",
      "Attaching package: ‘checkmate’\n",
      "\n",
      "\n",
      "The following object is masked from ‘package:DiceKriging’:\n",
      "\n",
      "    checkNames\n",
      "\n",
      "\n",
      "The following object is masked from ‘package:R.utils’:\n",
      "\n",
      "    asInt\n",
      "\n",
      "\n",
      "\n",
      "Attaching package: ‘smoof’\n",
      "\n",
      "\n",
      "The following objects are masked from ‘package:R.oo’:\n",
      "\n",
      "    getDescription, getName\n",
      "\n",
      "\n"
     ]
    }
   ],
   "source": [
    "# paquetes necesarios para la Bayesian Optimization\n",
    "if(!require(\"DiceKriging\")) install.packages(\"DiceKriging\")\n",
    "require(\"DiceKriging\")\n",
    "\n",
    "if(!require(\"mlrMBO\")) install.packages(\"mlrMBO\")\n",
    "require(\"mlrMBO\")"
   ]
  },
  {
   "cell_type": "markdown",
   "id": "UFbDSYtH0TTT",
   "metadata": {
    "id": "UFbDSYtH0TTT"
   },
   "source": [
    "Definición de la Bayesian Optimization\n",
    "<br> Si se desea optimizar un hiperparámetro que esta como fijo, debe QUITARSE de param_fijos y agregarse a PARAM$hipeparametertuning$hs"
   ]
  },
  {
   "cell_type": "code",
   "execution_count": 23,
   "id": "5Uag3XGHqrfZ",
   "metadata": {
    "editable": true,
    "id": "5Uag3XGHqrfZ",
    "slideshow": {
     "slide_type": ""
    },
    "tags": []
   },
   "outputs": [],
   "source": [
    "# valor ridiculamente bajo para que corra rapido en el aula y no molestar a la *Modalidad Gerencial*\n",
    "PARAM$hipeparametertuning$num_interations <- 10\n",
    "\n",
    "# parametros fijos del LightGBM\n",
    "PARAM$lgbm$param_fijos <- list(\n",
    "  objective= \"binary\",\n",
    "  metric= \"auc\",\n",
    "  first_metric_only= TRUE,\n",
    "  boost_from_average= TRUE,\n",
    "  feature_pre_filter= FALSE,\n",
    "  verbosity= -100,\n",
    "  force_row_wise= TRUE, # para evitar warning\n",
    "  seed= PARAM$semilla_primigenia,\n",
    "  max_bin= 31,\n",
    "  learning_rate= 0.03,\n",
    "  feature_fraction= 0.5,\n",
    "  num_iterations= 2048,  # valor grande, lo limita early_stopping_rounds\n",
    "  early_stopping_rounds= 200\n",
    ")\n",
    "\n",
    "PARAM$hipeparametertuning$hs <- makeParamSet(\n",
    "  makeIntegerParam(\"num_leaves\", lower = 2L, upper = 256L),\n",
    "  makeIntegerParam(\"min_data_in_leaf\", lower = 2L, upper = 8192L)\n",
    ")"
   ]
  },
  {
   "cell_type": "markdown",
   "id": "FEa1UuuAz4yj",
   "metadata": {
    "id": "FEa1UuuAz4yj"
   },
   "source": [
    "Función \"señora caja negra\"  que es llamada para verificar la realidad por la Bayesian Optimization"
   ]
  },
  {
   "cell_type": "code",
   "execution_count": 24,
   "id": "c3fd0c12-f326-4678-bd73-26e0bc4ab59e",
   "metadata": {},
   "outputs": [],
   "source": [
    "######\n",
    "# Adaptacion \n",
    "EstimarGanancia_AUC_lightgbm <- function(x, nombre_version) {\n",
    "\n",
    "  message(paste0(format(Sys.time(), \"%a %b %d %X %Y\"), \" - \", nombre_version))\n",
    "\n",
    "  # Uno hiperparámetros fijos + los que se están optimizando\n",
    "  param_completo <- c(PARAM$lgbm$param_fijos, x)\n",
    "\n",
    "  # Entreno LightGBM con los datasets correspondientes a esta versión\n",
    "  modelo_train <- lgb.train(\n",
    "    data = dtrain_versiones[[nombre_version]],\n",
    "    valids = list(valid = dvalidate_versiones[[nombre_version]]),\n",
    "    eval = \"auc\",\n",
    "    param = param_completo,\n",
    "    verbose = -100\n",
    "  )\n",
    "\n",
    "  # Recupero el AUC en validation\n",
    "  AUC <- modelo_train$record_evals$valid$auc$eval[[modelo_train$best_iter]]\n",
    "\n",
    "  # Devuelvo el número de iteraciones como atributo adicional\n",
    "  attr(AUC, \"extras\") <- list(\"num_iterations\" = modelo_train$best_iter)\n",
    "\n",
    "  # Limpieza de memoria\n",
    "  rm(modelo_train)\n",
    "  gc(full = TRUE, verbose = FALSE)\n",
    "\n",
    "  return(AUC)\n",
    "}"
   ]
  },
  {
   "cell_type": "markdown",
   "id": "267a35d4-adaf-4271-a875-3864111333b7",
   "metadata": {
    "id": "267a35d4-adaf-4271-a875-3864111333b7"
   },
   "source": [
    "seteo de la Bayesian Optimization (complejo)\n",
    "<br> copiado y pegado de la documentación de la librería"
   ]
  },
  {
   "cell_type": "code",
   "execution_count": 25,
   "id": "43c2a92d-1041-46b8-bff2-47297f209ed2",
   "metadata": {
    "id": "43c2a92d-1041-46b8-bff2-47297f209ed2"
   },
   "outputs": [],
   "source": [
    "configureMlr(show.learner.output = FALSE)\n",
    "\n",
    "# configuro la busqueda bayesiana,  los hiperparametros que se van a optimizar\n",
    "# por favor, no desesperarse por lo complejo\n",
    "obj.fun <- makeSingleObjectiveFunction(\n",
    "    fn= EstimarGanancia_AUC_lightgbm, # la funcion que voy a maximizar\n",
    "    minimize= FALSE, # estoy Maximizando AUC\n",
    "    noisy= FALSE,\n",
    "    par.set= PARAM$hipeparametertuning$hs,\n",
    "    has.simple.signature= FALSE # paso los parametros en una lista\n",
    ")\n",
    "\n",
    "# cada 600 segundos guardo el resultado intermedio\n",
    "ctrl <- makeMBOControl(\n",
    "    save.on.disk.at.time= 600,\n",
    "    save.file.path= \"HT_AM.RDATA\"\n",
    ")\n",
    "\n",
    "# indico la cantidad de iteraciones que va a tener la Bayesian Optimization\n",
    "ctrl <- setMBOControlTermination(\n",
    "    ctrl,\n",
    "    iters= PARAM$hipeparametertuning$num_interations  # cantidad de iteraciones inteligentes\n",
    ")\n",
    "\n",
    "# defino el método estandar para la creacion de los puntos iniciales\n",
    "#   los \"No Inteligentes\"\n",
    "ctrl <- setMBOControlInfill(ctrl, crit = makeMBOInfillCritEI())\n",
    "\n",
    "# mas configuraciones\n",
    "surr.km <- makeLearner(\n",
    "    \"regr.km\",\n",
    "    predict.type= \"se\",\n",
    "    covtype= \"matern3_2\",\n",
    "    control= list(trace = TRUE)\n",
    ")"
   ]
  },
  {
   "cell_type": "markdown",
   "id": "6c1e5645-d26f-4923-a53f-f30471a4c4e8",
   "metadata": {
    "id": "6c1e5645-d26f-4923-a53f-f30471a4c4e8"
   },
   "source": [
    "Corrida de la Bayesian Optimization,  aqui se hace el trabajo pesado\n",
    "<br> por favor no se asuste con los warnings que pudieran aparecer\n",
    "\n",
    "Si corrío a medias y llegó a las iteraciones inteligentes, en el archivo binario HT.RDATA quedó lo ya procesado y es utilizado para retomar la corrida desde lo último que llegó a grabar."
   ]
  },
  {
   "cell_type": "code",
   "execution_count": 26,
   "id": "c5ba4d7f-cfd0-435d-8299-e9d768c185b4",
   "metadata": {},
   "outputs": [],
   "source": [
    "#### Funcion para aplicarlo a cada dataset \n",
    "\n",
    "realizar_busqueda <- function(nombre_version) {\n",
    "  \n",
    "  archivo_ht <- paste0(\"HT_\", nombre_version, \".RDATA\")\n",
    "  \n",
    "  # Creo la función objetivo específica para esta versión\n",
    "  obj.fun <- makeSingleObjectiveFunction(\n",
    "    fn = function(x) EstimarGanancia_AUC_lightgbm(x, nombre_version),\n",
    "    minimize = FALSE,\n",
    "    noisy = FALSE,\n",
    "    par.set = PARAM$hipeparametertuning$hs,\n",
    "    has.simple.signature = FALSE\n",
    "  )\n",
    "  \n",
    "  # Configuro el control con guardado específico por versión\n",
    "  ctrl_local <- ctrl\n",
    "  ctrl_local$save.file.path <- archivo_ht\n",
    "\n",
    "  if (!file.exists(archivo_ht)) {\n",
    "    bayesiana_salida <- mbo(obj.fun, learner = surr.km, control = ctrl_local)\n",
    "  } else {\n",
    "    bayesiana_salida <- mboContinue(archivo_ht)\n",
    "  }\n",
    "  \n",
    "  return(bayesiana_salida)\n",
    "}"
   ]
  },
  {
   "cell_type": "code",
   "execution_count": 27,
   "id": "cade9556-e11e-4ed2-b645-8f8a74df843c",
   "metadata": {},
   "outputs": [
    {
     "name": "stderr",
     "output_type": "stream",
     "text": [
      "Warning message in mboContinue(archivo_ht):\n",
      "“Tuning ended with term.iter. No need to continue. Simply returning stored result.”\n",
      "Warning message in mboContinue(archivo_ht):\n",
      "“Tuning ended with term.iter. No need to continue. Simply returning stored result.”\n",
      "Warning message in mboContinue(archivo_ht):\n",
      "“Tuning ended with term.iter. No need to continue. Simply returning stored result.”\n"
     ]
    }
   ],
   "source": [
    "########\n",
    "#### Corrida para la lista de data.table\n",
    "\n",
    "resultados_bayesiana <- list()\n",
    "\n",
    "for (nombre in names(dataset_versiones)) {\n",
    "  resultados_bayesiana[[nombre]] <- realizar_busqueda(nombre)\n",
    "}"
   ]
  },
  {
   "cell_type": "code",
   "execution_count": 33,
   "id": "7dbb4b96-512a-4451-b74f-f8cb06a14ab2",
   "metadata": {},
   "outputs": [
    {
     "name": "stdout",
     "output_type": "stream",
     "text": [
      "[1] \"Mejores hiperparámetros para ipc\"\n",
      "   num_leaves min_data_in_leaf num_iterations\n",
      "        <int>            <int>          <int>\n",
      "1:        120             6500              1\n",
      "[1] \"Mejores hiperparámetros para dls_bna\"\n",
      "   num_leaves min_data_in_leaf num_iterations\n",
      "        <int>            <int>          <int>\n",
      "1:        118             4835              1\n",
      "[1] \"Mejores hiperparámetros para dls_blue\"\n",
      "   num_leaves min_data_in_leaf num_iterations\n",
      "        <int>            <int>          <int>\n",
      "1:         87             7171              1\n"
     ]
    }
   ],
   "source": [
    "################\n",
    "# Inicializo donde voy a guardar los mejores hiperparámetros\n",
    "PARAM$out$lgbm$mejores_hiperparametros <- list()\n",
    "\n",
    "for (nombre in names(resultados_bayesiana)) {\n",
    "  \n",
    "  bayesiana_salida <- resultados_bayesiana[[nombre]]\n",
    "  \n",
    "  # Extraigo el historial como data.table\n",
    "  tb_bayesiana <- as.data.table(bayesiana_salida$opt.path)\n",
    "  \n",
    "  # Ordeno por AUC y luego por iteraciones (más por estabilidad que necesidad)\n",
    "  setorder(tb_bayesiana, -y, -num_iterations)\n",
    "  \n",
    "  # Guardo los logs por separado\n",
    "  fwrite(tb_bayesiana,\n",
    "         file = paste0(\"BO_log_AM\", nombre, \".txt\"),\n",
    "         sep = \"\\t\")\n",
    "  \n",
    "  # Extraigo los mejores hiperparámetros (pueden incluir más columnas si las tenés)\n",
    "  PARAM$out$lgbm$mejores_hiperparametros[[nombre]] <- tb_bayesiana[1,\n",
    "    .(num_leaves, min_data_in_leaf, num_iterations)]\n",
    "  \n",
    "  print(paste(\"Mejores hiperparámetros para\", nombre))\n",
    "  print(PARAM$out$lgbm$mejores_hiperparametros[[nombre]])\n",
    "}"
   ]
  },
  {
   "cell_type": "markdown",
   "id": "36307612-964f-4df3-907a-1bc3c095f178",
   "metadata": {
    "id": "36307612-964f-4df3-907a-1bc3c095f178"
   },
   "source": [
    "la bayesian optimization ha corrido, extraigo los mejores hiperparametros"
   ]
  },
  {
   "cell_type": "markdown",
   "id": "ddb554cb-1d96-4f6b-ae1c-c9a076f8dbdc",
   "metadata": {
    "id": "ddb554cb-1d96-4f6b-ae1c-c9a076f8dbdc"
   },
   "source": [
    "### 7.3.3 Produccion"
   ]
  },
  {
   "cell_type": "markdown",
   "id": "c39492c3-756f-47a5-8747-93ade8275306",
   "metadata": {
    "id": "c39492c3-756f-47a5-8747-93ade8275306"
   },
   "source": [
    "### Final Training\n",
    "Construyo el modelo final, que es uno solo, no hace ningun tipo de particion < training, validation, testing>]"
   ]
  },
  {
   "cell_type": "markdown",
   "id": "xhKi_G_sYQqq",
   "metadata": {
    "id": "xhKi_G_sYQqq"
   },
   "source": [
    "#### Final Training Dataset\n",
    "\n",
    "Aqui esta la gran decision de en qué meses hago el Final Training\n",
    "<br> debo utilizar los mejores hiperparámetros que encontré en la optimización bayesiana"
   ]
  },
  {
   "cell_type": "code",
   "execution_count": 34,
   "id": "d8352ace-d7dd-46c5-9649-5274bb31f84e",
   "metadata": {},
   "outputs": [],
   "source": [
    "##############Adaptacion para lista de data.frame \n",
    "\n",
    "# Definís los meses del entrenamiento final (esto no cambia)\n",
    "PARAM$trainingstrategy$final_train <- c( \n",
    "  201901, 201902, 201903, 201904, 201905, 201906, \n",
    "  201907, 201908, 201909, 201910, 201911, 201912,\n",
    "  202001, 202002, 202003, 202004, 202005, 202006,\n",
    "  202007, 202008, 202009, 202010, 202011, 202012,\n",
    "  202101, 202102, 202103, 202104, 202105, 202106,\n",
    "  202107\n",
    ")\n",
    "\n",
    "# Lista para guardar los datasets de entrenamiento final\n",
    "dfinal_train_versiones <- list()\n",
    "\n",
    "# Recorro cada versión del dataset\n",
    "for (nombre in names(dataset_versiones)) {\n",
    "  dt <- dataset_versiones[[nombre]]\n",
    "  campos <- campos_buenos_versiones[[nombre]]\n",
    "  \n",
    "  # Genero la variable fold_final_train\n",
    "  dt[, fold_final_train := foto_mes %in% PARAM$trainingstrategy$final_train]\n",
    "  \n",
    "  # Creo el dataset final para lightGBM\n",
    "  dfinal_train <- lgb.Dataset(\n",
    "    data = data.matrix(dt[fold_final_train == TRUE, ..campos]),\n",
    "    label = dt[fold_final_train == TRUE, clase01],\n",
    "    free_raw_data = TRUE\n",
    "  )\n",
    "  \n",
    "  # Guardo en la lista\n",
    "  dfinal_train_versiones[[nombre]] <- dfinal_train\n",
    "  \n",
    "  # Guardo de vuelta el dataset modificado\n",
    "  dataset_versiones[[nombre]] <- dt\n",
    "}"
   ]
  },
  {
   "cell_type": "code",
   "execution_count": 38,
   "id": "bb659c9c-b1ba-4e1b-b239-4bd16ca25597",
   "metadata": {},
   "outputs": [
    {
     "data": {
      "text/html": [
       "<table class=\"dataframe\">\n",
       "<caption>A matrix: 2 × 3 of type chr</caption>\n",
       "<thead>\n",
       "\t<tr><th scope=col>ipc</th><th scope=col>dls_bna</th><th scope=col>dls_blue</th></tr>\n",
       "</thead>\n",
       "<tbody>\n",
       "\t<tr><td>lgb.Dataset</td><td>lgb.Dataset</td><td>lgb.Dataset</td></tr>\n",
       "\t<tr><td>R6         </td><td>R6         </td><td>R6         </td></tr>\n",
       "</tbody>\n",
       "</table>\n"
      ],
      "text/latex": [
       "A matrix: 2 × 3 of type chr\n",
       "\\begin{tabular}{lll}\n",
       " ipc & dls\\_bna & dls\\_blue\\\\\n",
       "\\hline\n",
       "\t lgb.Dataset & lgb.Dataset & lgb.Dataset\\\\\n",
       "\t R6          & R6          & R6         \\\\\n",
       "\\end{tabular}\n"
      ],
      "text/markdown": [
       "\n",
       "A matrix: 2 × 3 of type chr\n",
       "\n",
       "| ipc | dls_bna | dls_blue |\n",
       "|---|---|---|\n",
       "| lgb.Dataset | lgb.Dataset | lgb.Dataset |\n",
       "| R6          | R6          | R6          |\n",
       "\n"
      ],
      "text/plain": [
       "     ipc         dls_bna     dls_blue   \n",
       "[1,] lgb.Dataset lgb.Dataset lgb.Dataset\n",
       "[2,] R6          R6          R6         "
      ]
     },
     "metadata": {},
     "output_type": "display_data"
    },
    {
     "data": {
      "text/html": [
       "<style>\n",
       ".dl-inline {width: auto; margin:0; padding: 0}\n",
       ".dl-inline>dt, .dl-inline>dd {float: none; width: auto; display: inline-block}\n",
       ".dl-inline>dt::after {content: \":\\0020\"; padding-right: .5ex}\n",
       ".dl-inline>dt:not(:first-of-type) {padding-left: .5ex}\n",
       "</style><dl class=dl-inline><dt>ipc</dt><dd>910211</dd><dt>dls_bna</dt><dd>910211</dd><dt>dls_blue</dt><dd>910211</dd></dl>\n"
      ],
      "text/latex": [
       "\\begin{description*}\n",
       "\\item[ipc] 910211\n",
       "\\item[dls\\textbackslash{}\\_bna] 910211\n",
       "\\item[dls\\textbackslash{}\\_blue] 910211\n",
       "\\end{description*}\n"
      ],
      "text/markdown": [
       "ipc\n",
       ":   910211dls_bna\n",
       ":   910211dls_blue\n",
       ":   910211\n",
       "\n"
      ],
      "text/plain": [
       "     ipc  dls_bna dls_blue \n",
       "  910211   910211   910211 "
      ]
     },
     "metadata": {},
     "output_type": "display_data"
    }
   ],
   "source": [
    "# ver cuántas observaciones tiene el final train de cada versión\n",
    "\n",
    "sapply(dfinal_train_versiones, class)\n",
    "sapply(dfinal_train_versiones, function(d) length(d$get_field(\"label\")))\n"
   ]
  },
  {
   "cell_type": "markdown",
   "id": "HATRyklxYUpT",
   "metadata": {
    "id": "HATRyklxYUpT"
   },
   "source": [
    "#### Final Training Hyperparameters"
   ]
  },
  {
   "cell_type": "code",
   "execution_count": 35,
   "id": "d4acf8c1-20cd-426d-b97d-c4e1a7721a0b",
   "metadata": {},
   "outputs": [],
   "source": [
    "########Adaptacion\n",
    "\n",
    "param_final_versiones <- list()\n",
    "\n",
    "for (nombre in names(dataset_versiones)) {\n",
    "  fijos <- copy(PARAM$lgbm$param_fijos)\n",
    "  \n",
    "  # Quito lo que fue optimizado\n",
    "  fijos$num_iterations <- NULL\n",
    "  fijos$early_stopping_rounds <- NULL\n",
    "  \n",
    "  # Combino con los mejores hiperparámetros encontrados para esta versión\n",
    "  mejores <- PARAM$out[[nombre]]$lgbm$mejores_hiperparametros\n",
    "  \n",
    "  param_final_versiones[[nombre]] <- c(fijos, mejores)\n",
    "}"
   ]
  },
  {
   "cell_type": "markdown",
   "id": "05d3494f-0401-4f3e-9b69-f488a737879d",
   "metadata": {
    "id": "05d3494f-0401-4f3e-9b69-f488a737879d"
   },
   "source": [
    "#### Training\n",
    "Genero el modelo final, siempre sobre TODOS los datos de  final_train, sin hacer ningun tipo de undersampling de la clase mayoritaria"
   ]
  },
  {
   "cell_type": "code",
   "execution_count": 36,
   "id": "70cb1203-ec62-42c3-ac2c-a4cba9b5abcd",
   "metadata": {},
   "outputs": [
    {
     "name": "stdout",
     "output_type": "stream",
     "text": [
      "Entrenando modelo final para: ipc \n",
      "Entrenando modelo final para: dls_bna \n",
      "Entrenando modelo final para: dls_blue \n"
     ]
    }
   ],
   "source": [
    "########Adaptacion\n",
    "final_models_versiones <- list()\n",
    "\n",
    "for (nombre in names(dfinal_train_versiones)) {\n",
    "  cat(\"Entrenando modelo final para:\", nombre, \"\\n\")\n",
    "  \n",
    "  final_models_versiones[[nombre]] <- lgb.train(\n",
    "    data = dfinal_train_versiones[[nombre]],\n",
    "    param = param_final_versiones[[nombre]],\n",
    "    verbose = -100\n",
    "  )\n",
    "}"
   ]
  },
  {
   "cell_type": "code",
   "execution_count": 37,
   "id": "4f2b3d68-641c-45fa-a3d8-9565f5f34598",
   "metadata": {},
   "outputs": [],
   "source": [
    "####Guardar los modelos entrenados en archivos \n",
    "\n",
    "for (nombre in names(final_models_versiones)) {\n",
    "  modelo <- final_models_versiones[[nombre]]\n",
    "  lgb.save(modelo, paste0(\"modelo_final_\", nombre, \".txt\"))\n",
    "}"
   ]
  },
  {
   "cell_type": "code",
   "execution_count": null,
   "id": "RC1ju-5MZN5s",
   "metadata": {
    "id": "RC1ju-5MZN5s"
   },
   "outputs": [],
   "source": [
    "# grabo a disco el modelo en un formato para seres humanos ... ponele ...\n",
    "\n",
    "lgb.save(final_model, \"modelo_AM.txt\")"
   ]
  },
  {
   "cell_type": "code",
   "execution_count": 38,
   "id": "VEpv4RYOZHTU",
   "metadata": {
    "id": "VEpv4RYOZHTU"
   },
   "outputs": [],
   "source": [
    "importancias_versiones <- list()  # Lista para guardar todas las tablas\n",
    "\n",
    "for (nombre in names(final_models_versiones)) {\n",
    "  \n",
    "  modelo <- final_models_versiones[[nombre]]\n",
    "  \n",
    "  # Calcular importancia de variables\n",
    "  tb_importancia <- as.data.table(lgb.importance(modelo))\n",
    "  \n",
    "  # Guardar en la lista\n",
    "  importancias_versiones[[nombre]] <- tb_importancia\n",
    "  \n",
    "  # (Opcional) Guardar en archivo\n",
    "  archivo_importancia <- paste0(\"impo_\", nombre, \".txt\")\n",
    "  fwrite(tb_importancia,\n",
    "         file = archivo_importancia,\n",
    "         sep = \"\\t\")\n",
    "}\n"
   ]
  },
  {
   "cell_type": "code",
   "execution_count": 39,
   "id": "cf5f61e6-30c3-44fb-8647-bab894f1fe58",
   "metadata": {},
   "outputs": [
    {
     "data": {
      "text/html": [
       "<table class=\"dataframe\">\n",
       "<caption>A data.table: 248 × 4</caption>\n",
       "<thead>\n",
       "\t<tr><th scope=col>Feature</th><th scope=col>Gain</th><th scope=col>Cover</th><th scope=col>Frequency</th></tr>\n",
       "\t<tr><th scope=col>&lt;chr&gt;</th><th scope=col>&lt;dbl&gt;</th><th scope=col>&lt;dbl&gt;</th><th scope=col>&lt;dbl&gt;</th></tr>\n",
       "</thead>\n",
       "<tbody>\n",
       "\t<tr><td>ctrx_quarter                    </td><td>0.225727525</td><td>1.106582e-01</td><td>0.021000000</td></tr>\n",
       "\t<tr><td>mcaja_ahorro                    </td><td>0.080012607</td><td>8.352161e-02</td><td>0.026333333</td></tr>\n",
       "\t<tr><td>mtarjeta_visa_consumo           </td><td>0.076015900</td><td>5.754273e-02</td><td>0.022333333</td></tr>\n",
       "\t<tr><td>mcaja_ahorro_lag1               </td><td>0.051465589</td><td>9.728501e-03</td><td>0.005000000</td></tr>\n",
       "\t<tr><td>mcuentas_saldo                  </td><td>0.046483811</td><td>2.735251e-02</td><td>0.019666667</td></tr>\n",
       "\t<tr><td>Visa_mfinanciacion_limite       </td><td>0.039684292</td><td>2.815727e-03</td><td>0.005000000</td></tr>\n",
       "\t<tr><td>cpayroll_trx                    </td><td>0.032298197</td><td>7.243183e-02</td><td>0.021333333</td></tr>\n",
       "\t<tr><td>foto_mes                        </td><td>0.025449378</td><td>2.912310e-02</td><td>0.056000000</td></tr>\n",
       "\t<tr><td>mcuenta_corriente               </td><td>0.019749147</td><td>1.190779e-02</td><td>0.022666667</td></tr>\n",
       "\t<tr><td>ctrx_quarter_lag1               </td><td>0.016678611</td><td>8.045832e-03</td><td>0.003333333</td></tr>\n",
       "\t<tr><td>mprestamos_personales           </td><td>0.013600749</td><td>1.743296e-02</td><td>0.024000000</td></tr>\n",
       "\t<tr><td>mpayroll                        </td><td>0.013380425</td><td>4.787786e-02</td><td>0.016000000</td></tr>\n",
       "\t<tr><td>ctarjeta_visa_transacciones     </td><td>0.011692106</td><td>4.315678e-02</td><td>0.014666667</td></tr>\n",
       "\t<tr><td>cdescubierto_preacordado_lag1   </td><td>0.011148221</td><td>5.070826e-05</td><td>0.001000000</td></tr>\n",
       "\t<tr><td>mpayroll_sobre_edad             </td><td>0.010977294</td><td>2.536781e-02</td><td>0.013000000</td></tr>\n",
       "\t<tr><td>cdescubierto_preacordado_delta2 </td><td>0.010541966</td><td>4.578195e-03</td><td>0.007333333</td></tr>\n",
       "\t<tr><td>Visa_status                     </td><td>0.010265602</td><td>1.216547e-02</td><td>0.008000000</td></tr>\n",
       "\t<tr><td>mprestamos_personales_lag1      </td><td>0.010024788</td><td>1.167385e-03</td><td>0.004000000</td></tr>\n",
       "\t<tr><td>cprestamos_personales_delta2    </td><td>0.009067897</td><td>5.402847e-03</td><td>0.007666667</td></tr>\n",
       "\t<tr><td>ccomisiones_mantenimiento_delta2</td><td>0.008505501</td><td>2.543751e-02</td><td>0.020000000</td></tr>\n",
       "\t<tr><td>ctarjeta_visa                   </td><td>0.007920837</td><td>1.114049e-02</td><td>0.005333333</td></tr>\n",
       "\t<tr><td>Visa_msaldototal                </td><td>0.007480318</td><td>1.262212e-02</td><td>0.011333333</td></tr>\n",
       "\t<tr><td>cdescubierto_preacordado        </td><td>0.007423438</td><td>6.533306e-03</td><td>0.008666667</td></tr>\n",
       "\t<tr><td>mprestamos_personales_delta2    </td><td>0.007330297</td><td>4.755496e-03</td><td>0.010000000</td></tr>\n",
       "\t<tr><td>Visa_status_delta2              </td><td>0.007121263</td><td>3.829815e-03</td><td>0.001666667</td></tr>\n",
       "\t<tr><td>cproductos_delta2               </td><td>0.006463802</td><td>5.623036e-03</td><td>0.010666667</td></tr>\n",
       "\t<tr><td>ctrx_quarter_delta1             </td><td>0.006333611</td><td>1.307603e-02</td><td>0.013666667</td></tr>\n",
       "\t<tr><td>Visa_mpagominimo                </td><td>0.005840337</td><td>3.510984e-02</td><td>0.016666667</td></tr>\n",
       "\t<tr><td>ctarjeta_visa_delta2            </td><td>0.005297593</td><td>4.168346e-03</td><td>0.002000000</td></tr>\n",
       "\t<tr><td>Visa_mpagominimo_delta1         </td><td>0.005057994</td><td>8.093936e-03</td><td>0.011000000</td></tr>\n",
       "\t<tr><td>⋮</td><td>⋮</td><td>⋮</td><td>⋮</td></tr>\n",
       "\t<tr><td>mactivos_margen_delta1              </td><td>1.427634e-04</td><td>1.854716e-04</td><td>0.0010000000</td></tr>\n",
       "\t<tr><td>Master_msaldototal_delta1           </td><td>1.389867e-04</td><td>2.867845e-05</td><td>0.0006666667</td></tr>\n",
       "\t<tr><td>Master_mfinanciacion_limite_delta2  </td><td>1.357340e-04</td><td>3.189772e-04</td><td>0.0006666667</td></tr>\n",
       "\t<tr><td>cpayroll_trx_delta2                 </td><td>1.318592e-04</td><td>7.164805e-05</td><td>0.0006666667</td></tr>\n",
       "\t<tr><td>Visa_mfinanciacion_limite_delta2    </td><td>1.303917e-04</td><td>1.737003e-03</td><td>0.0006666667</td></tr>\n",
       "\t<tr><td>Master_Fvencimiento_delta1          </td><td>1.288170e-04</td><td>1.213329e-06</td><td>0.0006666667</td></tr>\n",
       "\t<tr><td>ccallcenter_transacciones_lag2      </td><td>1.214280e-04</td><td>6.928797e-05</td><td>0.0006666667</td></tr>\n",
       "\t<tr><td>Visa_fechaalta_delta1               </td><td>1.107955e-04</td><td>1.171972e-04</td><td>0.0003333333</td></tr>\n",
       "\t<tr><td>ctarjeta_master_transacciones_delta1</td><td>1.072701e-04</td><td>3.674512e-06</td><td>0.0003333333</td></tr>\n",
       "\t<tr><td>kmes                                </td><td>1.069911e-04</td><td>4.126797e-05</td><td>0.0006666667</td></tr>\n",
       "\t<tr><td>ctarjeta_master_transacciones_lag2  </td><td>1.034031e-04</td><td>3.435052e-05</td><td>0.0003333333</td></tr>\n",
       "\t<tr><td>Master_mpagominimo_lag2             </td><td>1.025786e-04</td><td>2.540099e-07</td><td>0.0003333333</td></tr>\n",
       "\t<tr><td>ctarjeta_master_lag2                </td><td>1.013005e-04</td><td>8.264199e-05</td><td>0.0006666667</td></tr>\n",
       "\t<tr><td>Visa_fultimo_cierre_lag1            </td><td>1.009548e-04</td><td>2.112228e-05</td><td>0.0006666667</td></tr>\n",
       "\t<tr><td>mpayroll_sobre_edad_delta1          </td><td>8.869436e-05</td><td>8.482943e-05</td><td>0.0003333333</td></tr>\n",
       "\t<tr><td>ctarjeta_master                     </td><td>8.743605e-05</td><td>2.508779e-05</td><td>0.0003333333</td></tr>\n",
       "\t<tr><td>Master_Fvencimiento_lag2            </td><td>8.677729e-05</td><td>2.468877e-04</td><td>0.0006666667</td></tr>\n",
       "\t<tr><td>mcuenta_corriente_delta1            </td><td>8.236295e-05</td><td>1.046570e-04</td><td>0.0006666667</td></tr>\n",
       "\t<tr><td>ctarjeta_visa_delta1                </td><td>8.150194e-05</td><td>7.008699e-06</td><td>0.0003333333</td></tr>\n",
       "\t<tr><td>Master_fechaalta_delta2             </td><td>8.025194e-05</td><td>7.595635e-07</td><td>0.0003333333</td></tr>\n",
       "\t<tr><td>Visa_Fvencimiento_delta2            </td><td>7.745758e-05</td><td>6.754690e-06</td><td>0.0003333333</td></tr>\n",
       "\t<tr><td>Master_status_lag1                  </td><td>7.432973e-05</td><td>1.404305e-04</td><td>0.0003333333</td></tr>\n",
       "\t<tr><td>ctarjeta_master_transacciones_lag1  </td><td>7.089424e-05</td><td>1.644406e-05</td><td>0.0003333333</td></tr>\n",
       "\t<tr><td>Master_fultimo_cierre_delta1        </td><td>7.048509e-05</td><td>2.355140e-06</td><td>0.0003333333</td></tr>\n",
       "\t<tr><td>Master_mconsumototal_delta2         </td><td>6.920603e-05</td><td>2.705328e-06</td><td>0.0003333333</td></tr>\n",
       "\t<tr><td>Master_mfinanciacion_limite_lag2    </td><td>6.593676e-05</td><td>1.795332e-06</td><td>0.0003333333</td></tr>\n",
       "\t<tr><td>Master_cconsumos_lag2               </td><td>6.198618e-05</td><td>1.950697e-06</td><td>0.0003333333</td></tr>\n",
       "\t<tr><td>mtarjeta_master_consumo_lag2        </td><td>5.507073e-05</td><td>2.461183e-06</td><td>0.0003333333</td></tr>\n",
       "\t<tr><td>cpayroll_trx_delta1                 </td><td>4.861891e-05</td><td>2.786710e-07</td><td>0.0003333333</td></tr>\n",
       "\t<tr><td>Master_status_lag2                  </td><td>4.846821e-05</td><td>7.178615e-05</td><td>0.0003333333</td></tr>\n",
       "</tbody>\n",
       "</table>\n"
      ],
      "text/latex": [
       "A data.table: 248 × 4\n",
       "\\begin{tabular}{llll}\n",
       " Feature & Gain & Cover & Frequency\\\\\n",
       " <chr> & <dbl> & <dbl> & <dbl>\\\\\n",
       "\\hline\n",
       "\t ctrx\\_quarter                     & 0.225727525 & 1.106582e-01 & 0.021000000\\\\\n",
       "\t mcaja\\_ahorro                     & 0.080012607 & 8.352161e-02 & 0.026333333\\\\\n",
       "\t mtarjeta\\_visa\\_consumo            & 0.076015900 & 5.754273e-02 & 0.022333333\\\\\n",
       "\t mcaja\\_ahorro\\_lag1                & 0.051465589 & 9.728501e-03 & 0.005000000\\\\\n",
       "\t mcuentas\\_saldo                   & 0.046483811 & 2.735251e-02 & 0.019666667\\\\\n",
       "\t Visa\\_mfinanciacion\\_limite        & 0.039684292 & 2.815727e-03 & 0.005000000\\\\\n",
       "\t cpayroll\\_trx                     & 0.032298197 & 7.243183e-02 & 0.021333333\\\\\n",
       "\t foto\\_mes                         & 0.025449378 & 2.912310e-02 & 0.056000000\\\\\n",
       "\t mcuenta\\_corriente                & 0.019749147 & 1.190779e-02 & 0.022666667\\\\\n",
       "\t ctrx\\_quarter\\_lag1                & 0.016678611 & 8.045832e-03 & 0.003333333\\\\\n",
       "\t mprestamos\\_personales            & 0.013600749 & 1.743296e-02 & 0.024000000\\\\\n",
       "\t mpayroll                         & 0.013380425 & 4.787786e-02 & 0.016000000\\\\\n",
       "\t ctarjeta\\_visa\\_transacciones      & 0.011692106 & 4.315678e-02 & 0.014666667\\\\\n",
       "\t cdescubierto\\_preacordado\\_lag1    & 0.011148221 & 5.070826e-05 & 0.001000000\\\\\n",
       "\t mpayroll\\_sobre\\_edad              & 0.010977294 & 2.536781e-02 & 0.013000000\\\\\n",
       "\t cdescubierto\\_preacordado\\_delta2  & 0.010541966 & 4.578195e-03 & 0.007333333\\\\\n",
       "\t Visa\\_status                      & 0.010265602 & 1.216547e-02 & 0.008000000\\\\\n",
       "\t mprestamos\\_personales\\_lag1       & 0.010024788 & 1.167385e-03 & 0.004000000\\\\\n",
       "\t cprestamos\\_personales\\_delta2     & 0.009067897 & 5.402847e-03 & 0.007666667\\\\\n",
       "\t ccomisiones\\_mantenimiento\\_delta2 & 0.008505501 & 2.543751e-02 & 0.020000000\\\\\n",
       "\t ctarjeta\\_visa                    & 0.007920837 & 1.114049e-02 & 0.005333333\\\\\n",
       "\t Visa\\_msaldototal                 & 0.007480318 & 1.262212e-02 & 0.011333333\\\\\n",
       "\t cdescubierto\\_preacordado         & 0.007423438 & 6.533306e-03 & 0.008666667\\\\\n",
       "\t mprestamos\\_personales\\_delta2     & 0.007330297 & 4.755496e-03 & 0.010000000\\\\\n",
       "\t Visa\\_status\\_delta2               & 0.007121263 & 3.829815e-03 & 0.001666667\\\\\n",
       "\t cproductos\\_delta2                & 0.006463802 & 5.623036e-03 & 0.010666667\\\\\n",
       "\t ctrx\\_quarter\\_delta1              & 0.006333611 & 1.307603e-02 & 0.013666667\\\\\n",
       "\t Visa\\_mpagominimo                 & 0.005840337 & 3.510984e-02 & 0.016666667\\\\\n",
       "\t ctarjeta\\_visa\\_delta2             & 0.005297593 & 4.168346e-03 & 0.002000000\\\\\n",
       "\t Visa\\_mpagominimo\\_delta1          & 0.005057994 & 8.093936e-03 & 0.011000000\\\\\n",
       "\t ⋮ & ⋮ & ⋮ & ⋮\\\\\n",
       "\t mactivos\\_margen\\_delta1               & 1.427634e-04 & 1.854716e-04 & 0.0010000000\\\\\n",
       "\t Master\\_msaldototal\\_delta1            & 1.389867e-04 & 2.867845e-05 & 0.0006666667\\\\\n",
       "\t Master\\_mfinanciacion\\_limite\\_delta2   & 1.357340e-04 & 3.189772e-04 & 0.0006666667\\\\\n",
       "\t cpayroll\\_trx\\_delta2                  & 1.318592e-04 & 7.164805e-05 & 0.0006666667\\\\\n",
       "\t Visa\\_mfinanciacion\\_limite\\_delta2     & 1.303917e-04 & 1.737003e-03 & 0.0006666667\\\\\n",
       "\t Master\\_Fvencimiento\\_delta1           & 1.288170e-04 & 1.213329e-06 & 0.0006666667\\\\\n",
       "\t ccallcenter\\_transacciones\\_lag2       & 1.214280e-04 & 6.928797e-05 & 0.0006666667\\\\\n",
       "\t Visa\\_fechaalta\\_delta1                & 1.107955e-04 & 1.171972e-04 & 0.0003333333\\\\\n",
       "\t ctarjeta\\_master\\_transacciones\\_delta1 & 1.072701e-04 & 3.674512e-06 & 0.0003333333\\\\\n",
       "\t kmes                                 & 1.069911e-04 & 4.126797e-05 & 0.0006666667\\\\\n",
       "\t ctarjeta\\_master\\_transacciones\\_lag2   & 1.034031e-04 & 3.435052e-05 & 0.0003333333\\\\\n",
       "\t Master\\_mpagominimo\\_lag2              & 1.025786e-04 & 2.540099e-07 & 0.0003333333\\\\\n",
       "\t ctarjeta\\_master\\_lag2                 & 1.013005e-04 & 8.264199e-05 & 0.0006666667\\\\\n",
       "\t Visa\\_fultimo\\_cierre\\_lag1             & 1.009548e-04 & 2.112228e-05 & 0.0006666667\\\\\n",
       "\t mpayroll\\_sobre\\_edad\\_delta1           & 8.869436e-05 & 8.482943e-05 & 0.0003333333\\\\\n",
       "\t ctarjeta\\_master                      & 8.743605e-05 & 2.508779e-05 & 0.0003333333\\\\\n",
       "\t Master\\_Fvencimiento\\_lag2             & 8.677729e-05 & 2.468877e-04 & 0.0006666667\\\\\n",
       "\t mcuenta\\_corriente\\_delta1             & 8.236295e-05 & 1.046570e-04 & 0.0006666667\\\\\n",
       "\t ctarjeta\\_visa\\_delta1                 & 8.150194e-05 & 7.008699e-06 & 0.0003333333\\\\\n",
       "\t Master\\_fechaalta\\_delta2              & 8.025194e-05 & 7.595635e-07 & 0.0003333333\\\\\n",
       "\t Visa\\_Fvencimiento\\_delta2             & 7.745758e-05 & 6.754690e-06 & 0.0003333333\\\\\n",
       "\t Master\\_status\\_lag1                   & 7.432973e-05 & 1.404305e-04 & 0.0003333333\\\\\n",
       "\t ctarjeta\\_master\\_transacciones\\_lag1   & 7.089424e-05 & 1.644406e-05 & 0.0003333333\\\\\n",
       "\t Master\\_fultimo\\_cierre\\_delta1         & 7.048509e-05 & 2.355140e-06 & 0.0003333333\\\\\n",
       "\t Master\\_mconsumototal\\_delta2          & 6.920603e-05 & 2.705328e-06 & 0.0003333333\\\\\n",
       "\t Master\\_mfinanciacion\\_limite\\_lag2     & 6.593676e-05 & 1.795332e-06 & 0.0003333333\\\\\n",
       "\t Master\\_cconsumos\\_lag2                & 6.198618e-05 & 1.950697e-06 & 0.0003333333\\\\\n",
       "\t mtarjeta\\_master\\_consumo\\_lag2         & 5.507073e-05 & 2.461183e-06 & 0.0003333333\\\\\n",
       "\t cpayroll\\_trx\\_delta1                  & 4.861891e-05 & 2.786710e-07 & 0.0003333333\\\\\n",
       "\t Master\\_status\\_lag2                   & 4.846821e-05 & 7.178615e-05 & 0.0003333333\\\\\n",
       "\\end{tabular}\n"
      ],
      "text/markdown": [
       "\n",
       "A data.table: 248 × 4\n",
       "\n",
       "| Feature &lt;chr&gt; | Gain &lt;dbl&gt; | Cover &lt;dbl&gt; | Frequency &lt;dbl&gt; |\n",
       "|---|---|---|---|\n",
       "| ctrx_quarter                     | 0.225727525 | 1.106582e-01 | 0.021000000 |\n",
       "| mcaja_ahorro                     | 0.080012607 | 8.352161e-02 | 0.026333333 |\n",
       "| mtarjeta_visa_consumo            | 0.076015900 | 5.754273e-02 | 0.022333333 |\n",
       "| mcaja_ahorro_lag1                | 0.051465589 | 9.728501e-03 | 0.005000000 |\n",
       "| mcuentas_saldo                   | 0.046483811 | 2.735251e-02 | 0.019666667 |\n",
       "| Visa_mfinanciacion_limite        | 0.039684292 | 2.815727e-03 | 0.005000000 |\n",
       "| cpayroll_trx                     | 0.032298197 | 7.243183e-02 | 0.021333333 |\n",
       "| foto_mes                         | 0.025449378 | 2.912310e-02 | 0.056000000 |\n",
       "| mcuenta_corriente                | 0.019749147 | 1.190779e-02 | 0.022666667 |\n",
       "| ctrx_quarter_lag1                | 0.016678611 | 8.045832e-03 | 0.003333333 |\n",
       "| mprestamos_personales            | 0.013600749 | 1.743296e-02 | 0.024000000 |\n",
       "| mpayroll                         | 0.013380425 | 4.787786e-02 | 0.016000000 |\n",
       "| ctarjeta_visa_transacciones      | 0.011692106 | 4.315678e-02 | 0.014666667 |\n",
       "| cdescubierto_preacordado_lag1    | 0.011148221 | 5.070826e-05 | 0.001000000 |\n",
       "| mpayroll_sobre_edad              | 0.010977294 | 2.536781e-02 | 0.013000000 |\n",
       "| cdescubierto_preacordado_delta2  | 0.010541966 | 4.578195e-03 | 0.007333333 |\n",
       "| Visa_status                      | 0.010265602 | 1.216547e-02 | 0.008000000 |\n",
       "| mprestamos_personales_lag1       | 0.010024788 | 1.167385e-03 | 0.004000000 |\n",
       "| cprestamos_personales_delta2     | 0.009067897 | 5.402847e-03 | 0.007666667 |\n",
       "| ccomisiones_mantenimiento_delta2 | 0.008505501 | 2.543751e-02 | 0.020000000 |\n",
       "| ctarjeta_visa                    | 0.007920837 | 1.114049e-02 | 0.005333333 |\n",
       "| Visa_msaldototal                 | 0.007480318 | 1.262212e-02 | 0.011333333 |\n",
       "| cdescubierto_preacordado         | 0.007423438 | 6.533306e-03 | 0.008666667 |\n",
       "| mprestamos_personales_delta2     | 0.007330297 | 4.755496e-03 | 0.010000000 |\n",
       "| Visa_status_delta2               | 0.007121263 | 3.829815e-03 | 0.001666667 |\n",
       "| cproductos_delta2                | 0.006463802 | 5.623036e-03 | 0.010666667 |\n",
       "| ctrx_quarter_delta1              | 0.006333611 | 1.307603e-02 | 0.013666667 |\n",
       "| Visa_mpagominimo                 | 0.005840337 | 3.510984e-02 | 0.016666667 |\n",
       "| ctarjeta_visa_delta2             | 0.005297593 | 4.168346e-03 | 0.002000000 |\n",
       "| Visa_mpagominimo_delta1          | 0.005057994 | 8.093936e-03 | 0.011000000 |\n",
       "| ⋮ | ⋮ | ⋮ | ⋮ |\n",
       "| mactivos_margen_delta1               | 1.427634e-04 | 1.854716e-04 | 0.0010000000 |\n",
       "| Master_msaldototal_delta1            | 1.389867e-04 | 2.867845e-05 | 0.0006666667 |\n",
       "| Master_mfinanciacion_limite_delta2   | 1.357340e-04 | 3.189772e-04 | 0.0006666667 |\n",
       "| cpayroll_trx_delta2                  | 1.318592e-04 | 7.164805e-05 | 0.0006666667 |\n",
       "| Visa_mfinanciacion_limite_delta2     | 1.303917e-04 | 1.737003e-03 | 0.0006666667 |\n",
       "| Master_Fvencimiento_delta1           | 1.288170e-04 | 1.213329e-06 | 0.0006666667 |\n",
       "| ccallcenter_transacciones_lag2       | 1.214280e-04 | 6.928797e-05 | 0.0006666667 |\n",
       "| Visa_fechaalta_delta1                | 1.107955e-04 | 1.171972e-04 | 0.0003333333 |\n",
       "| ctarjeta_master_transacciones_delta1 | 1.072701e-04 | 3.674512e-06 | 0.0003333333 |\n",
       "| kmes                                 | 1.069911e-04 | 4.126797e-05 | 0.0006666667 |\n",
       "| ctarjeta_master_transacciones_lag2   | 1.034031e-04 | 3.435052e-05 | 0.0003333333 |\n",
       "| Master_mpagominimo_lag2              | 1.025786e-04 | 2.540099e-07 | 0.0003333333 |\n",
       "| ctarjeta_master_lag2                 | 1.013005e-04 | 8.264199e-05 | 0.0006666667 |\n",
       "| Visa_fultimo_cierre_lag1             | 1.009548e-04 | 2.112228e-05 | 0.0006666667 |\n",
       "| mpayroll_sobre_edad_delta1           | 8.869436e-05 | 8.482943e-05 | 0.0003333333 |\n",
       "| ctarjeta_master                      | 8.743605e-05 | 2.508779e-05 | 0.0003333333 |\n",
       "| Master_Fvencimiento_lag2             | 8.677729e-05 | 2.468877e-04 | 0.0006666667 |\n",
       "| mcuenta_corriente_delta1             | 8.236295e-05 | 1.046570e-04 | 0.0006666667 |\n",
       "| ctarjeta_visa_delta1                 | 8.150194e-05 | 7.008699e-06 | 0.0003333333 |\n",
       "| Master_fechaalta_delta2              | 8.025194e-05 | 7.595635e-07 | 0.0003333333 |\n",
       "| Visa_Fvencimiento_delta2             | 7.745758e-05 | 6.754690e-06 | 0.0003333333 |\n",
       "| Master_status_lag1                   | 7.432973e-05 | 1.404305e-04 | 0.0003333333 |\n",
       "| ctarjeta_master_transacciones_lag1   | 7.089424e-05 | 1.644406e-05 | 0.0003333333 |\n",
       "| Master_fultimo_cierre_delta1         | 7.048509e-05 | 2.355140e-06 | 0.0003333333 |\n",
       "| Master_mconsumototal_delta2          | 6.920603e-05 | 2.705328e-06 | 0.0003333333 |\n",
       "| Master_mfinanciacion_limite_lag2     | 6.593676e-05 | 1.795332e-06 | 0.0003333333 |\n",
       "| Master_cconsumos_lag2                | 6.198618e-05 | 1.950697e-06 | 0.0003333333 |\n",
       "| mtarjeta_master_consumo_lag2         | 5.507073e-05 | 2.461183e-06 | 0.0003333333 |\n",
       "| cpayroll_trx_delta1                  | 4.861891e-05 | 2.786710e-07 | 0.0003333333 |\n",
       "| Master_status_lag2                   | 4.846821e-05 | 7.178615e-05 | 0.0003333333 |\n",
       "\n"
      ],
      "text/plain": [
       "    Feature                              Gain         Cover        Frequency   \n",
       "1   ctrx_quarter                         0.225727525  1.106582e-01 0.021000000 \n",
       "2   mcaja_ahorro                         0.080012607  8.352161e-02 0.026333333 \n",
       "3   mtarjeta_visa_consumo                0.076015900  5.754273e-02 0.022333333 \n",
       "4   mcaja_ahorro_lag1                    0.051465589  9.728501e-03 0.005000000 \n",
       "5   mcuentas_saldo                       0.046483811  2.735251e-02 0.019666667 \n",
       "6   Visa_mfinanciacion_limite            0.039684292  2.815727e-03 0.005000000 \n",
       "7   cpayroll_trx                         0.032298197  7.243183e-02 0.021333333 \n",
       "8   foto_mes                             0.025449378  2.912310e-02 0.056000000 \n",
       "9   mcuenta_corriente                    0.019749147  1.190779e-02 0.022666667 \n",
       "10  ctrx_quarter_lag1                    0.016678611  8.045832e-03 0.003333333 \n",
       "11  mprestamos_personales                0.013600749  1.743296e-02 0.024000000 \n",
       "12  mpayroll                             0.013380425  4.787786e-02 0.016000000 \n",
       "13  ctarjeta_visa_transacciones          0.011692106  4.315678e-02 0.014666667 \n",
       "14  cdescubierto_preacordado_lag1        0.011148221  5.070826e-05 0.001000000 \n",
       "15  mpayroll_sobre_edad                  0.010977294  2.536781e-02 0.013000000 \n",
       "16  cdescubierto_preacordado_delta2      0.010541966  4.578195e-03 0.007333333 \n",
       "17  Visa_status                          0.010265602  1.216547e-02 0.008000000 \n",
       "18  mprestamos_personales_lag1           0.010024788  1.167385e-03 0.004000000 \n",
       "19  cprestamos_personales_delta2         0.009067897  5.402847e-03 0.007666667 \n",
       "20  ccomisiones_mantenimiento_delta2     0.008505501  2.543751e-02 0.020000000 \n",
       "21  ctarjeta_visa                        0.007920837  1.114049e-02 0.005333333 \n",
       "22  Visa_msaldototal                     0.007480318  1.262212e-02 0.011333333 \n",
       "23  cdescubierto_preacordado             0.007423438  6.533306e-03 0.008666667 \n",
       "24  mprestamos_personales_delta2         0.007330297  4.755496e-03 0.010000000 \n",
       "25  Visa_status_delta2                   0.007121263  3.829815e-03 0.001666667 \n",
       "26  cproductos_delta2                    0.006463802  5.623036e-03 0.010666667 \n",
       "27  ctrx_quarter_delta1                  0.006333611  1.307603e-02 0.013666667 \n",
       "28  Visa_mpagominimo                     0.005840337  3.510984e-02 0.016666667 \n",
       "29  ctarjeta_visa_delta2                 0.005297593  4.168346e-03 0.002000000 \n",
       "30  Visa_mpagominimo_delta1              0.005057994  8.093936e-03 0.011000000 \n",
       "⋮   ⋮                                    ⋮            ⋮            ⋮           \n",
       "219 mactivos_margen_delta1               1.427634e-04 1.854716e-04 0.0010000000\n",
       "220 Master_msaldototal_delta1            1.389867e-04 2.867845e-05 0.0006666667\n",
       "221 Master_mfinanciacion_limite_delta2   1.357340e-04 3.189772e-04 0.0006666667\n",
       "222 cpayroll_trx_delta2                  1.318592e-04 7.164805e-05 0.0006666667\n",
       "223 Visa_mfinanciacion_limite_delta2     1.303917e-04 1.737003e-03 0.0006666667\n",
       "224 Master_Fvencimiento_delta1           1.288170e-04 1.213329e-06 0.0006666667\n",
       "225 ccallcenter_transacciones_lag2       1.214280e-04 6.928797e-05 0.0006666667\n",
       "226 Visa_fechaalta_delta1                1.107955e-04 1.171972e-04 0.0003333333\n",
       "227 ctarjeta_master_transacciones_delta1 1.072701e-04 3.674512e-06 0.0003333333\n",
       "228 kmes                                 1.069911e-04 4.126797e-05 0.0006666667\n",
       "229 ctarjeta_master_transacciones_lag2   1.034031e-04 3.435052e-05 0.0003333333\n",
       "230 Master_mpagominimo_lag2              1.025786e-04 2.540099e-07 0.0003333333\n",
       "231 ctarjeta_master_lag2                 1.013005e-04 8.264199e-05 0.0006666667\n",
       "232 Visa_fultimo_cierre_lag1             1.009548e-04 2.112228e-05 0.0006666667\n",
       "233 mpayroll_sobre_edad_delta1           8.869436e-05 8.482943e-05 0.0003333333\n",
       "234 ctarjeta_master                      8.743605e-05 2.508779e-05 0.0003333333\n",
       "235 Master_Fvencimiento_lag2             8.677729e-05 2.468877e-04 0.0006666667\n",
       "236 mcuenta_corriente_delta1             8.236295e-05 1.046570e-04 0.0006666667\n",
       "237 ctarjeta_visa_delta1                 8.150194e-05 7.008699e-06 0.0003333333\n",
       "238 Master_fechaalta_delta2              8.025194e-05 7.595635e-07 0.0003333333\n",
       "239 Visa_Fvencimiento_delta2             7.745758e-05 6.754690e-06 0.0003333333\n",
       "240 Master_status_lag1                   7.432973e-05 1.404305e-04 0.0003333333\n",
       "241 ctarjeta_master_transacciones_lag1   7.089424e-05 1.644406e-05 0.0003333333\n",
       "242 Master_fultimo_cierre_delta1         7.048509e-05 2.355140e-06 0.0003333333\n",
       "243 Master_mconsumototal_delta2          6.920603e-05 2.705328e-06 0.0003333333\n",
       "244 Master_mfinanciacion_limite_lag2     6.593676e-05 1.795332e-06 0.0003333333\n",
       "245 Master_cconsumos_lag2                6.198618e-05 1.950697e-06 0.0003333333\n",
       "246 mtarjeta_master_consumo_lag2         5.507073e-05 2.461183e-06 0.0003333333\n",
       "247 cpayroll_trx_delta1                  4.861891e-05 2.786710e-07 0.0003333333\n",
       "248 Master_status_lag2                   4.846821e-05 7.178615e-05 0.0003333333"
      ]
     },
     "metadata": {},
     "output_type": "display_data"
    }
   ],
   "source": [
    "importancias_versiones[[\"ipc\"]]"
   ]
  },
  {
   "cell_type": "markdown",
   "id": "7ea225b3-ce02-42e2-8330-b10ed250d172",
   "metadata": {
    "id": "7ea225b3-ce02-42e2-8330-b10ed250d172"
   },
   "source": [
    "### Scoring"
   ]
  },
  {
   "cell_type": "markdown",
   "id": "164981bb-f4c1-4228-8bc9-32e58a383c05",
   "metadata": {
    "id": "164981bb-f4c1-4228-8bc9-32e58a383c05"
   },
   "source": [
    "Aplico el modelo final a los datos del futuro"
   ]
  },
  {
   "cell_type": "code",
   "execution_count": 38,
   "id": "229d48a2-72cc-4386-9d00-c2dff2381ebc",
   "metadata": {},
   "outputs": [],
   "source": [
    "#####\n",
    "#Prediccion a varios modelos\n",
    "PARAM$trainingstrategy$future <- c(202109)\n",
    "\n",
    "# Lista donde guardar las predicciones por versión\n",
    "predicciones_versiones <- list()\n",
    "\n",
    "for (nombre in names(dataset_versiones)) {\n",
    "  dt <- dataset_versiones[[nombre]]\n",
    "  campos <- campos_buenos_versiones[[nombre]]\n",
    "  modelo <- final_models_versiones[[nombre]]\n",
    "  \n",
    "  # Filtro los datos del futuro\n",
    "  dfuture <- dt[foto_mes %in% PARAM$trainingstrategy$future]\n",
    "  \n",
    "  # Aplico el modelo\n",
    "  predicciones_versiones[[nombre]] <- predict(\n",
    "    modelo,\n",
    "    data.matrix(dfuture[, ..campos])\n",
    "  )\n",
    "}"
   ]
  },
  {
   "cell_type": "code",
   "execution_count": 39,
   "id": "4e08c52f-a492-43b6-bf80-6e836ceb52a5",
   "metadata": {},
   "outputs": [],
   "source": [
    "###### \n",
    "for (nombre in names(dataset_versiones)) {\n",
    "  dt <- dataset_versiones[[nombre]]\n",
    "  campos <- campos_buenos_versiones[[nombre]]\n",
    "  modelo <- final_models_versiones[[nombre]]\n",
    "  \n",
    "  dt[foto_mes %in% PARAM$trainingstrategy$future,\n",
    "     pred := predict(modelo, data.matrix(.SD)),\n",
    "     .SDcols = campos]\n",
    "  \n",
    "  dataset_versiones[[nombre]] <- dt\n",
    "}"
   ]
  },
  {
   "cell_type": "code",
   "execution_count": null,
   "id": "b8e59983-4f5c-4184-a5bd-ff552d7b4ec8",
   "metadata": {},
   "outputs": [],
   "source": []
  },
  {
   "cell_type": "markdown",
   "id": "79u0ZvjJZblE",
   "metadata": {
    "id": "79u0ZvjJZblE"
   },
   "source": [
    "#### Tabla Prediccion"
   ]
  },
  {
   "cell_type": "code",
   "execution_count": 40,
   "id": "0877c996-7341-4582-92c0-4b113c452a9c",
   "metadata": {},
   "outputs": [],
   "source": [
    "#####\n",
    "\n",
    "for (nombre in names(dataset_versiones)) {\n",
    "  dt <- dataset_versiones[[nombre]]\n",
    "  pred <- predicciones_versiones[[nombre]]\n",
    "  \n",
    "  # Filtro solo los del mes futuro\n",
    "  dfuture <- dt[foto_mes %in% PARAM$trainingstrategy$future]\n",
    "  \n",
    "  # Armo la tabla de predicción\n",
    "  tb_prediccion <- dfuture[, .(numero_de_cliente)]\n",
    "  tb_prediccion[, prob := pred]\n",
    "  \n",
    "  # Guardo en archivo por versión\n",
    "  fwrite(\n",
    "    tb_prediccion,\n",
    "    file = paste0(\"prediccion_\", nombre, \".txt\"),\n",
    "    sep = \"\\t\"\n",
    "  )\n",
    "}"
   ]
  },
  {
   "cell_type": "code",
   "execution_count": null,
   "id": "0e69c2da-fa02-476f-801e-3aa0d23ab057",
   "metadata": {},
   "outputs": [],
   "source": []
  },
  {
   "cell_type": "markdown",
   "id": "8412d838-5bd5-454e-b3a9-5eaa18d80a50",
   "metadata": {
    "id": "8412d838-5bd5-454e-b3a9-5eaa18d80a50"
   },
   "source": [
    "Kaggle Competition Submit"
   ]
  },
  {
   "cell_type": "markdown",
   "id": "55970cb6-856a-46e3-a893-7f36b8352b8e",
   "metadata": {
    "id": "55970cb6-856a-46e3-a893-7f36b8352b8e"
   },
   "source": [
    "Genero las salidas y hago los submits a Kaggle\n",
    "<br>El notebook esta preparado para la Modalidad Gerencial, los analistas deben hacer cambios.\n",
    "<br> Los analistas deben cambiar **competencia** a SU competencia  \"labo-i-2025-rosario-analista-jr\"   o  la original \"labo-i-2025-rosario\"  para los Senior\n",
    "<br> Los cortes  dependen de la cantidad de registros, multiplicar por 2 para los Analistas Jr y por 10 para los Analista Sr\n",
    "\n",
    "Los Analista Sr luego de meditar cuidadosamente reducirán la cantidad de cortes"
   ]
  },
  {
   "cell_type": "code",
   "execution_count": 41,
   "id": "3092ccc8-388c-4897-a655-af204939a598",
   "metadata": {},
   "outputs": [
    {
     "name": "stdout",
     "output_type": "stream",
     "text": [
      "Successfully submitted to LaboI 2025 Rosario Analista JR \n",
      "Successfully submitted to LaboI 2025 Rosario Analista JR \n",
      "Successfully submitted to LaboI 2025 Rosario Analista JR \n",
      "Successfully submitted to LaboI 2025 Rosario Analista JR \n",
      "Successfully submitted to LaboI 2025 Rosario Analista JR \n",
      "Successfully submitted to LaboI 2025 Rosario Analista JR \n",
      "Successfully submitted to LaboI 2025 Rosario Analista JR \n",
      "Successfully submitted to LaboI 2025 Rosario Analista JR \n",
      "Successfully submitted to LaboI 2025 Rosario Analista JR \n",
      "Successfully submitted to LaboI 2025 Rosario Analista JR \n",
      "Successfully submitted to LaboI 2025 Rosario Analista JR \n",
      "Successfully submitted to LaboI 2025 Rosario Analista JR \n",
      "Successfully submitted to LaboI 2025 Rosario Analista JR \n",
      "Successfully submitted to LaboI 2025 Rosario Analista JR \n",
      "Successfully submitted to LaboI 2025 Rosario Analista JR \n",
      "Successfully submitted to LaboI 2025 Rosario Analista JR \n"
     ]
    },
    {
     "name": "stderr",
     "output_type": "stream",
     "text": [
      "Warning message in system(comando, intern = TRUE):\n",
      "“running command 'kaggle competitions submit -c labo-i-2025-rosario-analista-jr -f ./kaggle/KA_7301_dls_bna_2100.csv -m 'envios=2100 semilla=100103 version=dls_bna'' had status 1”\n"
     ]
    },
    {
     "name": "stdout",
     "output_type": "stream",
     "text": [
      "500 Server Error: Internal Server Error for url: https://www.kaggle.com/api/v1/competitions/submissions/submit/labo-i-2025-rosario-analista-jr \n",
      "Successfully submitted to LaboI 2025 Rosario Analista JR \n",
      "Successfully submitted to LaboI 2025 Rosario Analista JR \n",
      "Successfully submitted to LaboI 2025 Rosario Analista JR \n",
      "Successfully submitted to LaboI 2025 Rosario Analista JR \n",
      "Successfully submitted to LaboI 2025 Rosario Analista JR \n",
      "Successfully submitted to LaboI 2025 Rosario Analista JR \n",
      "Successfully submitted to LaboI 2025 Rosario Analista JR \n",
      "Successfully submitted to LaboI 2025 Rosario Analista JR \n",
      "Successfully submitted to LaboI 2025 Rosario Analista JR \n",
      "Successfully submitted to LaboI 2025 Rosario Analista JR \n",
      "Successfully submitted to LaboI 2025 Rosario Analista JR \n",
      "Successfully submitted to LaboI 2025 Rosario Analista JR \n",
      "Successfully submitted to LaboI 2025 Rosario Analista JR \n",
      "Successfully submitted to LaboI 2025 Rosario Analista JR \n",
      "Successfully submitted to LaboI 2025 Rosario Analista JR \n",
      "Successfully submitted to LaboI 2025 Rosario Analista JR \n"
     ]
    }
   ],
   "source": [
    "#######\n",
    "PARAM$kaggle$competencia <- \"labo-i-2025-rosario-analista-jr\"\n",
    "PARAM$kaggle$cortes <- 2 * seq(800, 1300, by = 50)\n",
    "\n",
    "dir.create(\"kaggle\", showWarnings = FALSE)\n",
    "\n",
    "for (nombre in names(predicciones_versiones)) {\n",
    "  dt <- dataset_versiones[[nombre]]\n",
    "  pred <- predicciones_versiones[[nombre]]\n",
    "  \n",
    "  dfuture <- dt[foto_mes %in% PARAM$trainingstrategy$future]\n",
    "  tb_prediccion <- dfuture[, .(numero_de_cliente)]\n",
    "  tb_prediccion[, prob := pred]\n",
    "  \n",
    "  # ordeno por probabilidad descendente\n",
    "  setorder(tb_prediccion, -prob)\n",
    "\n",
    "  for (envios in PARAM$kaggle$cortes) {\n",
    "    tb_prediccion[, Predicted := 0L]\n",
    "    tb_prediccion[1:envios, Predicted := 1L]\n",
    "\n",
    "    archivo_kaggle <- sprintf(\"./kaggle/KA_%s_%s_%s.csv\", \n",
    "                              PARAM$experimento, nombre, envios)\n",
    "\n",
    "    fwrite(tb_prediccion[, .(numero_de_cliente, Predicted)],\n",
    "           file = archivo_kaggle, sep = \",\")\n",
    "\n",
    "    # subir a Kaggle (opcional, requiere CLI autenticada)\n",
    "    comando <- sprintf(\"kaggle competitions submit -c %s -f %s -m 'envios=%s semilla=%s version=%s'\",\n",
    "                       PARAM$kaggle$competencia,\n",
    "                       archivo_kaggle,\n",
    "                       envios,\n",
    "                       PARAM$semilla_primigenia,\n",
    "                       nombre)\n",
    "\n",
    "    salida <- system(comando, intern = TRUE)\n",
    "    cat(salida, \"\\n\")\n",
    "  }\n",
    "}"
   ]
  },
  {
   "cell_type": "code",
   "execution_count": 164,
   "id": "C94tK-xid6p2",
   "metadata": {
    "id": "C94tK-xid6p2"
   },
   "outputs": [],
   "source": [
    "# grabo los parametros\n",
    "if( !require(\"yaml\")) install.packages(\"yaml\")\n",
    "require(\"yaml\")\n",
    "\n",
    "write_yaml( PARAM, file=\"PARAM.yml\")"
   ]
  },
  {
   "cell_type": "code",
   "execution_count": 55,
   "id": "1b615a62-20cc-4e95-9af2-6b6db38d5efb",
   "metadata": {
    "id": "1b615a62-20cc-4e95-9af2-6b6db38d5efb"
   },
   "outputs": [
    {
     "data": {
      "text/html": [
       "'Fri Jun 06 20:29:27 2025'"
      ],
      "text/latex": [
       "'Fri Jun 06 20:29:27 2025'"
      ],
      "text/markdown": [
       "'Fri Jun 06 20:29:27 2025'"
      ],
      "text/plain": [
       "[1] \"Fri Jun 06 20:29:27 2025\""
      ]
     },
     "metadata": {},
     "output_type": "display_data"
    }
   ],
   "source": [
    "format(Sys.time(), \"%a %b %d %X %Y\")"
   ]
  },
  {
   "cell_type": "code",
   "execution_count": null,
   "id": "0856ab79-83b8-42c3-964e-569df4111038",
   "metadata": {},
   "outputs": [],
   "source": []
  }
 ],
 "metadata": {
  "colab": {
   "provenance": []
  },
  "kernelspec": {
   "display_name": "R",
   "language": "R",
   "name": "ir"
  },
  "language_info": {
   "codemirror_mode": "r",
   "file_extension": ".r",
   "mimetype": "text/x-r-source",
   "name": "R",
   "pygments_lexer": "r",
   "version": "4.4.3"
  }
 },
 "nbformat": 4,
 "nbformat_minor": 5
}
