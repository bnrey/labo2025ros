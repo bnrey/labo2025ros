{
 "cells": [
  {
   "cell_type": "markdown",
   "metadata": {
    "id": "O94qX1svwzoC"
   },
   "source": [
    "# 5. Ensembles de Arboles de Decision"
   ]
  },
  {
   "cell_type": "markdown",
   "metadata": {
    "id": "HsJFTcBZw1bE"
   },
   "source": [
    "## 5.4 GBDT LightGBM"
   ]
  },
  {
   "cell_type": "markdown",
   "metadata": {
    "id": "nsgvDbemw9Tc"
   },
   "source": [
    "La técnica de Gradient Boosting fue creada por Jerome H. Friedman en 1999 - 2001\n",
    "<br>Se implementaron librerías ineficientes\n",
    "<br>En 2016 se crea XGBoost, en 2017 LightGBM\n",
    "\n",
    "El Gradient Boosting of Decision Trees es un ensemble de árboles de decisión, para un nuevo registro la predicción se hace sumando el score que cada arbol asigna a ese registro.\n",
    "\n",
    "En GBDT la construccion de los árboles es secuencial, ya que el arbol n-simo se genera para predecir el error del modelo conformado por los  n-1 arboles previos, aunque sea un arbol de clasificación lo que se predice es un numero real mediante un arbol de regresión.\n"
   ]
  },
  {
   "cell_type": "markdown",
   "metadata": {
    "id": "nF6XblBIYnY6"
   },
   "source": [
    "<br>Qué tipo de perturbaciones se realiza LightGBM\n",
    "\n",
    "*   Se perturba el dataset, seleccionando para cada arbol un subconjunto de las columnas.\n",
    "*   El algortimo de arbol de decisión no presenta perturbaciones"
   ]
  },
  {
   "cell_type": "markdown",
   "metadata": {
    "id": "j75A--Tsx2df"
   },
   "source": [
    "Cada arbolito de LightGBM se entrena sobre un dataset perturbado, que en principio posee :\n",
    "* todos los registros del dataset original\n",
    "* solo un porcentaje *feature_fraction* de las columnas originales del dataset"
   ]
  },
  {
   "cell_type": "markdown",
   "metadata": {
    "id": "PX0qg_c0yqob"
   },
   "source": [
    "#### 5.4.1  Seteo del ambiente en Google Colab"
   ]
  },
  {
   "cell_type": "markdown",
   "metadata": {
    "id": "NGY7H9xza7Zr"
   },
   "source": [
    "Esta parte se debe correr con el runtime en Python3\n",
    "<br>Ir al menu, Runtime -> Change Runtime Type -> Runtime type ->  **Python 3**"
   ]
  },
  {
   "cell_type": "markdown",
   "metadata": {
    "id": "7PupIBNba7Zr"
   },
   "source": [
    "Conectar la virtual machine donde esta corriendo Google Colab con el  Google Drive, para poder tener persistencia de archivos"
   ]
  },
  {
   "cell_type": "code",
   "execution_count": null,
   "metadata": {
    "id": "9LpZCst5a7Zs"
   },
   "outputs": [],
   "source": [
    "# primero establecer el Runtime de Python 3\n",
    "from google.colab import drive\n",
    "drive.mount('/content/.drive')"
   ]
  },
  {
   "cell_type": "markdown",
   "metadata": {
    "id": "JYC_F-wla7Zs"
   },
   "source": [
    "Para correr la siguiente celda es fundamental en Arranque en Frio haber copiado el archivo kaggle.json al Google Drive, en la carpeta indicada en el instructivo\n",
    "\n",
    "<br>los siguientes comando estan en shell script de Linux\n",
    "*   Crear las carpetas en el Google Drive\n",
    "*   \"instalar\" el archivo kaggle.json desde el Google Drive a la virtual machine para que pueda ser utilizado por la libreria  kaggle de Python\n",
    "*   Bajar el  **dataset_pequeno**  al  Google Drive  y tambien al disco local de la virtual machine que esta corriendo Google Colab\n",
    "\n"
   ]
  },
  {
   "cell_type": "code",
   "execution_count": null,
   "metadata": {
    "id": "XWLelftXa7Zt"
   },
   "outputs": [],
   "source": [
    "%%shell\n",
    "\n",
    "mkdir -p \"/content/.drive/My Drive/labo1\"\n",
    "mkdir -p \"/content/buckets\"\n",
    "ln -s \"/content/.drive/My Drive/labo1\" /content/buckets/b1\n",
    "\n",
    "mkdir -p ~/.kaggle\n",
    "cp /content/buckets/b1/kaggle/kaggle.json  ~/.kaggle\n",
    "chmod 600 ~/.kaggle/kaggle.json\n",
    "\n",
    "\n",
    "mkdir -p /content/buckets/b1/exp\n",
    "mkdir -p /content/buckets/b1/datasets\n",
    "mkdir -p /content/datasets\n",
    "\n",
    "\n",
    "\n",
    "archivo_origen=\"https://storage.googleapis.com/open-courses/austral2025-af91/labo1r/dataset_pequeno.csv\"\n",
    "archivo_destino=\"/content/datasets/dataset_pequeno.csv\"\n",
    "archivo_destino_bucket=\"/content/buckets/b1/datasets/dataset_pequeno.csv\"\n",
    "\n",
    "if ! test -f $archivo_destino_bucket; then\n",
    "  wget  $archivo_origen  -O $archivo_destino_bucket\n",
    "fi\n",
    "\n",
    "\n",
    "if ! test -f $archivo_destino; then\n",
    "  cp  $archivo_destino_bucket  $archivo_destino\n",
    "fi\n"
   ]
  },
  {
   "cell_type": "markdown",
   "metadata": {
    "id": "oSKhZRToy2F7"
   },
   "source": [
    "### 5.4.2  LightGBM, una corrida"
   ]
  },
  {
   "cell_type": "markdown",
   "metadata": {
    "id": "eSU5vi00CPRS"
   },
   "source": [
    "Esta parte se debe correr con el runtime en lenguaje **R** Ir al menu, Runtime -> Change Runtime Type -> Runtime type -> R"
   ]
  },
  {
   "cell_type": "markdown",
   "metadata": {
    "id": "Zq8dySimCPRT"
   },
   "source": [
    "limpio el ambiente de R"
   ]
  },
  {
   "cell_type": "code",
   "execution_count": 123,
   "metadata": {
    "id": "1iE0U4_WCPRT"
   },
   "outputs": [
    {
     "data": {
      "text/html": [
       "<table class=\"dataframe\">\n",
       "<caption>A matrix: 2 × 6 of type dbl</caption>\n",
       "<thead>\n",
       "\t<tr><th></th><th scope=col>used</th><th scope=col>(Mb)</th><th scope=col>gc trigger</th><th scope=col>(Mb)</th><th scope=col>max used</th><th scope=col>(Mb)</th></tr>\n",
       "</thead>\n",
       "<tbody>\n",
       "\t<tr><th scope=row>Ncells</th><td>1819486</td><td>97.2</td><td>  2898550</td><td>154.8</td><td>  2898550</td><td> 154.8</td></tr>\n",
       "\t<tr><th scope=row>Vcells</th><td>3568860</td><td>27.3</td><td>118236152</td><td>902.1</td><td>139061623</td><td>1061.0</td></tr>\n",
       "</tbody>\n",
       "</table>\n"
      ],
      "text/latex": [
       "A matrix: 2 × 6 of type dbl\n",
       "\\begin{tabular}{r|llllll}\n",
       "  & used & (Mb) & gc trigger & (Mb) & max used & (Mb)\\\\\n",
       "\\hline\n",
       "\tNcells & 1819486 & 97.2 &   2898550 & 154.8 &   2898550 &  154.8\\\\\n",
       "\tVcells & 3568860 & 27.3 & 118236152 & 902.1 & 139061623 & 1061.0\\\\\n",
       "\\end{tabular}\n"
      ],
      "text/markdown": [
       "\n",
       "A matrix: 2 × 6 of type dbl\n",
       "\n",
       "| <!--/--> | used | (Mb) | gc trigger | (Mb) | max used | (Mb) |\n",
       "|---|---|---|---|---|---|---|\n",
       "| Ncells | 1819486 | 97.2 |   2898550 | 154.8 |   2898550 |  154.8 |\n",
       "| Vcells | 3568860 | 27.3 | 118236152 | 902.1 | 139061623 | 1061.0 |\n",
       "\n"
      ],
      "text/plain": [
       "       used    (Mb) gc trigger (Mb)  max used  (Mb)  \n",
       "Ncells 1819486 97.2   2898550  154.8   2898550  154.8\n",
       "Vcells 3568860 27.3 118236152  902.1 139061623 1061.0"
      ]
     },
     "metadata": {},
     "output_type": "display_data"
    }
   ],
   "source": [
    "# limpio la memoria\n",
    "rm(list=ls(all.names=TRUE)) # remove all objects\n",
    "gc(full=TRUE, verbose=FALSE) # garbage collection"
   ]
  },
  {
   "cell_type": "code",
   "execution_count": 124,
   "metadata": {
    "id": "BJDwdD0dCPRU"
   },
   "outputs": [],
   "source": [
    "# cargo las librerias que necesito\n",
    "require(\"data.table\")\n",
    "require(\"rpart\")\n",
    "\n",
    "if( !require(\"rlist\") ) install.packages(\"rlist\")\n",
    "require(\"rlist\")\n",
    "\n",
    "if( !require(\"lightgbm\") ) install.packages(\"lightgbm\")\n",
    "require(\"lightgbm\")"
   ]
  },
  {
   "cell_type": "markdown",
   "metadata": {
    "id": "M8-Pyp6CCPRU"
   },
   "source": [
    "Aqui debe cargar SU semilla primigenia"
   ]
  },
  {
   "cell_type": "code",
   "execution_count": 125,
   "metadata": {
    "id": "peRH7ySLCPRV"
   },
   "outputs": [],
   "source": [
    "PARAM <- list()\n",
    "PARAM$experimento <- 5420\n",
    "PARAM$semilla_primigenia <- 100103\n",
    "\n",
    "# estos hiperparametros de LightGBM surgieron de una Bayesian Optimization\n",
    "PARAM$lgb$num_iterations <- 2500  # cantidad de arbolitos\n",
    "PARAM$lgb$learning_rate <- 0.027\n",
    "PARAM$lgb$feature_fraction <- 0.8\n",
    "PARAM$lgb$min_data_in_leaf <- 76\n",
    "PARAM$lgb$num_leaves <- 8\n",
    "PARAM$lgb$max_bin <- 31\n"
   ]
  },
  {
   "cell_type": "code",
   "execution_count": 126,
   "metadata": {
    "id": "1gZD6ZMvCPRV"
   },
   "outputs": [],
   "source": [
    "# carpeta de trabajo\n",
    "setwd(\"/content/buckets/b1/exp\")\n",
    "experimento_folder <- paste0(\"KA_leaves2\", PARAM$experimento)\n",
    "dir.create(experimento_folder, showWarnings=FALSE)\n",
    "setwd( paste0(\"/content/buckets/b1/exp/\", experimento_folder ))"
   ]
  },
  {
   "cell_type": "code",
   "execution_count": 127,
   "metadata": {
    "id": "Xi0emX2ECPRV"
   },
   "outputs": [],
   "source": [
    "# lectura del dataset\n",
    "dataset <- fread(\"/content/datasets/dataset_pequeno.csv\", stringsAsFactors = TRUE)"
   ]
  },
  {
   "cell_type": "code",
   "execution_count": 128,
   "metadata": {
    "id": "-3XuBeDy1Ugj"
   },
   "outputs": [],
   "source": [
    "# paso la clase a binaria que tome valores {0,1}  enteros\n",
    "# set trabaja con la clase  POS = { BAJA+1, BAJA+2 }\n",
    "# esta estrategia es MUY importante\n",
    "dataset[, clase01 := ifelse(clase_ternaria %in% c(\"BAJA+2\", \"BAJA+1\"), 1L, 0L)]"
   ]
  },
  {
   "cell_type": "code",
   "execution_count": 129,
   "metadata": {
    "id": "h8Anoo4Sel8S"
   },
   "outputs": [],
   "source": [
    "# los campos que se van a utilizar\n",
    "campos_buenos <- setdiff(colnames(dataset), c(\"clase_ternaria\", \"clase01\"))"
   ]
  },
  {
   "cell_type": "code",
   "execution_count": 130,
   "metadata": {
    "id": "RA3cSJ6KaGwA"
   },
   "outputs": [],
   "source": [
    "# establezco donde entreno\n",
    "dataset[, train := 0L]\n",
    "dataset[foto_mes %in% c(202107), train := 1L]"
   ]
  },
  {
   "cell_type": "code",
   "execution_count": 131,
   "metadata": {
    "id": "T6Zr06HB1kMU"
   },
   "outputs": [],
   "source": [
    "# dejo los datos en el formato que necesita LightGBM\n",
    "dtrain <- lgb.Dataset(\n",
    "  data= data.matrix(dataset[train == 1L, campos_buenos, with = FALSE]),\n",
    "  label= dataset[train == 1L, clase01]\n",
    ")"
   ]
  },
  {
   "cell_type": "code",
   "execution_count": 132,
   "metadata": {
    "id": "TI9_5pii2zCF"
   },
   "outputs": [
    {
     "name": "stdout",
     "output_type": "stream",
     "text": [
      "[LightGBM] [Info] Number of positive: 2385, number of negative: 162211\n",
      "[LightGBM] [Info] Auto-choosing row-wise multi-threading, the overhead of testing was 0.038448 seconds.\n",
      "You can set `force_row_wise=true` to remove the overhead.\n",
      "And if memory is not enough, you can set `force_col_wise=true`.\n",
      "[LightGBM] [Info] Total Bins 3612\n",
      "[LightGBM] [Info] Number of data points in the train set: 164596, number of used features: 153\n",
      "[LightGBM] [Info] [binary:BoostFromScore]: pavg=0.014490 -> initscore=-4.219699\n",
      "[LightGBM] [Info] Start training from score -4.219699\n"
     ]
    }
   ],
   "source": [
    "# genero el modelo\n",
    "# estos hiperparametros  salieron de una laaarga Optmizacion Bayesiana\n",
    "set.seed( PARAM$semilla_primigenia ) # Establezco la semilla aleatoria\n",
    "\n",
    "modelo <- lgb.train(\n",
    "  data= dtrain,\n",
    "  param= list(\n",
    "    objective= \"binary\",\n",
    "    max_bin= PARAM$lgb$max_bin,\n",
    "    learning_rate= PARAM$lgb$learning_rate,\n",
    "    num_iterations= PARAM$lgb$num_iterations,\n",
    "    num_leaves= PARAM$lgb$num_leaves,\n",
    "    min_data_in_leaf= PARAM$lgb$min_data_in_leaf,\n",
    "    feature_fraction= PARAM$lgb$feature_fraction,\n",
    "    seed= PARAM$semilla_primigenia\n",
    "  )\n",
    ")\n"
   ]
  },
  {
   "cell_type": "code",
   "execution_count": 133,
   "metadata": {
    "id": "69QcMsSkg9d-"
   },
   "outputs": [],
   "source": [
    "# ahora imprimo la importancia de variables\n",
    "tb_importancia <- as.data.table(lgb.importance(modelo))\n",
    "archivo_importancia <- \"impo.txt\"\n",
    "\n",
    "fwrite(tb_importancia,\n",
    "  file = archivo_importancia,\n",
    "  sep = \"\\t\"\n",
    ")\n"
   ]
  },
  {
   "cell_type": "code",
   "execution_count": 134,
   "metadata": {
    "id": "lauiNeQDg-XP"
   },
   "outputs": [],
   "source": [
    "# grabo a disco el modelo en un formato para seres humanos ... ponele ...\n",
    "\n",
    "lgb.save(modelo, \"modelo.txt\" )"
   ]
  },
  {
   "cell_type": "code",
   "execution_count": 135,
   "metadata": {
    "id": "VQhEcNmBhF7u"
   },
   "outputs": [],
   "source": [
    "# aplico el modelo a los datos sin clase\n",
    "dfuture <- dataset[foto_mes == 202109]\n",
    "\n",
    "# aplico el modelo a los datos nuevos\n",
    "prediccion <- predict(\n",
    "  modelo,\n",
    "  data.matrix(dfuture[, campos_buenos, with = FALSE])\n",
    ")\n"
   ]
  },
  {
   "cell_type": "code",
   "execution_count": 136,
   "metadata": {
    "id": "Z5LYpStThlIC"
   },
   "outputs": [],
   "source": [
    "# tabla de prediccion\n",
    "\n",
    "tb_prediccion <- dfuture[, list(numero_de_cliente)]\n",
    "tb_prediccion[, prob := prediccion ]\n",
    "\n",
    "# grabo las probabilidad del modelo\n",
    "fwrite(tb_prediccion,\n",
    "  file = \"prediccion.txt\",\n",
    "  sep = \"\\t\"\n",
    ")"
   ]
  },
  {
   "cell_type": "code",
   "execution_count": 137,
   "metadata": {
    "id": "vSopCODCh6kL"
   },
   "outputs": [],
   "source": [
    "# subidas a Kaggle\n",
    "# ordeno por probabilidad descendente\n",
    "setorder(tb_prediccion, -prob)"
   ]
  },
  {
   "cell_type": "code",
   "execution_count": 138,
   "metadata": {
    "id": "-qtXKj-uiCJx"
   },
   "outputs": [
    {
     "name": "stdout",
     "output_type": "stream",
     "text": [
      "Successfully submitted to LaboI 2025 Rosario"
     ]
    },
    {
     "name": "stderr",
     "output_type": "stream",
     "text": [
      "Warning message in system(linea, intern = TRUE):\n",
      "“running command 'kaggle competitions submit -c labo-i-2025-rosario -f KA5420_9500.csv -m 'num_iterations=2500  learning_rate=0.027  feature_fraction=0.8  min_data_in_leaf=76  num_leaves=8  max_bin=31'' had status 1”\n"
     ]
    },
    {
     "name": "stdout",
     "output_type": "stream",
     "text": [
      "400 Client Error: Bad Request for url: https://www.kaggle.com/api/v1/competitions/submissions/submit/labo-i-2025-rosario"
     ]
    },
    {
     "name": "stderr",
     "output_type": "stream",
     "text": [
      "Warning message in system(linea, intern = TRUE):\n",
      "“running command 'kaggle competitions submit -c labo-i-2025-rosario -f KA5420_10000.csv -m 'num_iterations=2500  learning_rate=0.027  feature_fraction=0.8  min_data_in_leaf=76  num_leaves=8  max_bin=31'' had status 1”\n"
     ]
    },
    {
     "name": "stdout",
     "output_type": "stream",
     "text": [
      "400 Client Error: Bad Request for url: https://www.kaggle.com/api/v1/competitions/submissions/submit/labo-i-2025-rosario"
     ]
    },
    {
     "name": "stderr",
     "output_type": "stream",
     "text": [
      "Warning message in system(linea, intern = TRUE):\n",
      "“running command 'kaggle competitions submit -c labo-i-2025-rosario -f KA5420_10500.csv -m 'num_iterations=2500  learning_rate=0.027  feature_fraction=0.8  min_data_in_leaf=76  num_leaves=8  max_bin=31'' had status 1”\n"
     ]
    },
    {
     "name": "stdout",
     "output_type": "stream",
     "text": [
      "400 Client Error: Bad Request for url: https://www.kaggle.com/api/v1/competitions/submissions/submit/labo-i-2025-rosario"
     ]
    },
    {
     "name": "stderr",
     "output_type": "stream",
     "text": [
      "Warning message in system(linea, intern = TRUE):\n",
      "“running command 'kaggle competitions submit -c labo-i-2025-rosario -f KA5420_11000.csv -m 'num_iterations=2500  learning_rate=0.027  feature_fraction=0.8  min_data_in_leaf=76  num_leaves=8  max_bin=31'' had status 1”\n"
     ]
    },
    {
     "name": "stdout",
     "output_type": "stream",
     "text": [
      "400 Client Error: Bad Request for url: https://www.kaggle.com/api/v1/competitions/submissions/submit/labo-i-2025-rosario"
     ]
    },
    {
     "name": "stderr",
     "output_type": "stream",
     "text": [
      "Warning message in system(linea, intern = TRUE):\n",
      "“running command 'kaggle competitions submit -c labo-i-2025-rosario -f KA5420_11500.csv -m 'num_iterations=2500  learning_rate=0.027  feature_fraction=0.8  min_data_in_leaf=76  num_leaves=8  max_bin=31'' had status 1”\n"
     ]
    },
    {
     "name": "stdout",
     "output_type": "stream",
     "text": [
      "400 Client Error: Bad Request for url: https://www.kaggle.com/api/v1/competitions/submissions/submit/labo-i-2025-rosario"
     ]
    },
    {
     "name": "stderr",
     "output_type": "stream",
     "text": [
      "Warning message in system(linea, intern = TRUE):\n",
      "“running command 'kaggle competitions submit -c labo-i-2025-rosario -f KA5420_12000.csv -m 'num_iterations=2500  learning_rate=0.027  feature_fraction=0.8  min_data_in_leaf=76  num_leaves=8  max_bin=31'' had status 1”\n"
     ]
    },
    {
     "name": "stdout",
     "output_type": "stream",
     "text": [
      "400 Client Error: Bad Request for url: https://www.kaggle.com/api/v1/competitions/submissions/submit/labo-i-2025-rosario"
     ]
    },
    {
     "name": "stderr",
     "output_type": "stream",
     "text": [
      "Warning message in system(linea, intern = TRUE):\n",
      "“running command 'kaggle competitions submit -c labo-i-2025-rosario -f KA5420_12500.csv -m 'num_iterations=2500  learning_rate=0.027  feature_fraction=0.8  min_data_in_leaf=76  num_leaves=8  max_bin=31'' had status 1”\n"
     ]
    },
    {
     "name": "stdout",
     "output_type": "stream",
     "text": [
      "400 Client Error: Bad Request for url: https://www.kaggle.com/api/v1/competitions/submissions/submit/labo-i-2025-rosario"
     ]
    },
    {
     "name": "stderr",
     "output_type": "stream",
     "text": [
      "Warning message in system(linea, intern = TRUE):\n",
      "“running command 'kaggle competitions submit -c labo-i-2025-rosario -f KA5420_13000.csv -m 'num_iterations=2500  learning_rate=0.027  feature_fraction=0.8  min_data_in_leaf=76  num_leaves=8  max_bin=31'' had status 1”\n"
     ]
    },
    {
     "name": "stdout",
     "output_type": "stream",
     "text": [
      "400 Client Error: Bad Request for url: https://www.kaggle.com/api/v1/competitions/submissions/submit/labo-i-2025-rosario"
     ]
    },
    {
     "name": "stderr",
     "output_type": "stream",
     "text": [
      "Warning message in system(linea, intern = TRUE):\n",
      "“running command 'kaggle competitions submit -c labo-i-2025-rosario -f KA5420_13500.csv -m 'num_iterations=2500  learning_rate=0.027  feature_fraction=0.8  min_data_in_leaf=76  num_leaves=8  max_bin=31'' had status 1”\n"
     ]
    },
    {
     "name": "stdout",
     "output_type": "stream",
     "text": [
      "400 Client Error: Bad Request for url: https://www.kaggle.com/api/v1/competitions/submissions/submit/labo-i-2025-rosario"
     ]
    }
   ],
   "source": [
    "# genero archivos con los  \"envios\" mejores\n",
    "# suba TODOS los archivos a Kaggle\n",
    "\n",
    "cortes <- seq(9000, 13500, by = 500)\n",
    "\n",
    "for (envios in cortes) {\n",
    "\n",
    "  tb_prediccion[, Predicted := 0L]\n",
    "  tb_prediccion[1:envios, Predicted := 1L]\n",
    "\n",
    "  archivo_kaggle <- paste0(\"KA\", PARAM$experimento, \"_\", envios, \".csv\")\n",
    "\n",
    "  # grabo el archivo\n",
    "  fwrite(tb_prediccion[, list(numero_de_cliente, Predicted)],\n",
    "    file = archivo_kaggle,\n",
    "    sep = \",\"\n",
    "  )\n",
    "\n",
    "  # subida a Kaggle\n",
    "  comando <- \"kaggle competitions submit\"\n",
    "  competencia <- \"-c labo-i-2025-rosario\"\n",
    "  arch <- paste( \"-f\", archivo_kaggle)\n",
    "\n",
    "  mensaje <- paste0(\"-m 'num_iterations=\", PARAM$lgb$num_iterations,\n",
    "    \"  learning_rate=\", PARAM$lgb$learning_rate,\n",
    "    \"  feature_fraction=\", PARAM$lgb$feature_fraction,\n",
    "    \"  min_data_in_leaf=\", PARAM$lgb$min_data_in_leaf,\n",
    "    \"  num_leaves=\",PARAM$lgb$num_leaves,\n",
    "    \"  max_bin=\", PARAM$lgb$max_bin,\n",
    "  \"'\" )\n",
    "\n",
    "  linea <- paste( comando, competencia, arch, mensaje)\n",
    "  salida <- system(linea, intern=TRUE)\n",
    "  cat(salida)\n",
    "}"
   ]
  },
  {
   "cell_type": "markdown",
   "metadata": {
    "id": "UMr6Z1enOyd3"
   },
   "source": [
    "\n",
    "\n",
    "---\n",
    "\n"
   ]
  },
  {
   "cell_type": "markdown",
   "metadata": {
    "id": "lO4QwOEU-xPe"
   },
   "source": [
    "### 5.4.3  LightGBM  optimizacion de hiperparámetros"
   ]
  },
  {
   "cell_type": "markdown",
   "metadata": {
    "id": "75FU3LjSF2uN"
   },
   "source": [
    "La optimizacion de los hiperparámetros de LightGBM mediante el método de optimizacion bayesiana será su *caballito de batalla* durante la asignatura !"
   ]
  },
  {
   "cell_type": "markdown",
   "metadata": {
    "id": "aJBO5Dcb_B7s"
   },
   "source": [
    "limpio el ambiente de R"
   ]
  },
  {
   "cell_type": "code",
   "execution_count": 139,
   "metadata": {
    "id": "HPKFI6yP_B7s"
   },
   "outputs": [
    {
     "data": {
      "text/html": [
       "<table class=\"dataframe\">\n",
       "<caption>A matrix: 2 × 6 of type dbl</caption>\n",
       "<thead>\n",
       "\t<tr><th></th><th scope=col>used</th><th scope=col>(Mb)</th><th scope=col>gc trigger</th><th scope=col>(Mb)</th><th scope=col>max used</th><th scope=col>(Mb)</th></tr>\n",
       "</thead>\n",
       "<tbody>\n",
       "\t<tr><th scope=row>Ncells</th><td>1819891</td><td>97.2</td><td>  4493198</td><td>240.0</td><td>  4493198</td><td> 240.0</td></tr>\n",
       "\t<tr><th scope=row>Vcells</th><td>3569753</td><td>27.3</td><td>118919960</td><td>907.3</td><td>139963463</td><td>1067.9</td></tr>\n",
       "</tbody>\n",
       "</table>\n"
      ],
      "text/latex": [
       "A matrix: 2 × 6 of type dbl\n",
       "\\begin{tabular}{r|llllll}\n",
       "  & used & (Mb) & gc trigger & (Mb) & max used & (Mb)\\\\\n",
       "\\hline\n",
       "\tNcells & 1819891 & 97.2 &   4493198 & 240.0 &   4493198 &  240.0\\\\\n",
       "\tVcells & 3569753 & 27.3 & 118919960 & 907.3 & 139963463 & 1067.9\\\\\n",
       "\\end{tabular}\n"
      ],
      "text/markdown": [
       "\n",
       "A matrix: 2 × 6 of type dbl\n",
       "\n",
       "| <!--/--> | used | (Mb) | gc trigger | (Mb) | max used | (Mb) |\n",
       "|---|---|---|---|---|---|---|\n",
       "| Ncells | 1819891 | 97.2 |   4493198 | 240.0 |   4493198 |  240.0 |\n",
       "| Vcells | 3569753 | 27.3 | 118919960 | 907.3 | 139963463 | 1067.9 |\n",
       "\n"
      ],
      "text/plain": [
       "       used    (Mb) gc trigger (Mb)  max used  (Mb)  \n",
       "Ncells 1819891 97.2   4493198  240.0   4493198  240.0\n",
       "Vcells 3569753 27.3 118919960  907.3 139963463 1067.9"
      ]
     },
     "metadata": {},
     "output_type": "display_data"
    }
   ],
   "source": [
    "# limpio la memoria\n",
    "rm(list=ls(all.names=TRUE)) # remove all objects\n",
    "gc(full=TRUE, verbose=FALSE) # garbage collection"
   ]
  },
  {
   "cell_type": "code",
   "execution_count": 140,
   "metadata": {
    "id": "B6X8U6XF_B7t"
   },
   "outputs": [
    {
     "name": "stderr",
     "output_type": "stream",
     "text": [
      "Loading required package: parallel\n",
      "\n",
      "Loading required package: primes\n",
      "\n",
      "Loading required package: DiceKriging\n",
      "\n",
      "Loading required package: mlrMBO\n",
      "\n",
      "Loading required package: mlr\n",
      "\n",
      "Loading required package: ParamHelpers\n",
      "\n",
      "Loading required package: smoof\n",
      "\n",
      "Loading required package: checkmate\n",
      "\n",
      "\n",
      "Attaching package: ‘checkmate’\n",
      "\n",
      "\n",
      "The following object is masked from ‘package:DiceKriging’:\n",
      "\n",
      "    checkNames\n",
      "\n",
      "\n"
     ]
    }
   ],
   "source": [
    "# cargo las librerias que necesito\n",
    "require(\"data.table\")\n",
    "require(\"rpart\")\n",
    "require(\"parallel\")\n",
    "\n",
    "if( !require(\"primes\") ) install.packages(\"primes\")\n",
    "require(\"primes\")\n",
    "\n",
    "if( !require(\"rlist\") ) install.packages(\"rlist\")\n",
    "require(\"rlist\")\n",
    "\n",
    "if( !require(\"lightgbm\") ) install.packages(\"lightgbm\")\n",
    "require(\"lightgbm\")\n",
    "\n",
    "if( !require(\"DiceKriging\") ) install.packages(\"DiceKriging\")\n",
    "require(\"DiceKriging\")\n",
    "\n",
    "if( !require(\"mlrMBO\") ) install.packages(\"mlrMBO\")\n",
    "require(\"mlrMBO\")\n"
   ]
  },
  {
   "cell_type": "markdown",
   "metadata": {
    "id": "_qZHeAHdCJQ2"
   },
   "source": [
    "Aqui debe cargar SU semilla primigenia"
   ]
  },
  {
   "cell_type": "code",
   "execution_count": 156,
   "metadata": {
    "id": "2y3Ai8F6CJQ2"
   },
   "outputs": [],
   "source": [
    "PARAM <- list()\n",
    "PARAM$experimento <- 5431\n",
    "PARAM$semilla_primigenia <- 100103\n",
    "\n",
    "# un undersampling de 0.1  toma solo el 10% de los CONTINUA\n",
    "# undersampling de 1.0  implica tomar TODOS los datos\n",
    "PARAM$trainingstrategy$undersampling <- 1.0\n",
    "\n",
    "PARAM$hyperparametertuning$iteraciones <- 500\n",
    "PARAM$hyperparametertuning$xval_folds <- 5\n",
    "PARAM$hyperparametertuning$POS_ganancia <- 117000\n",
    "PARAM$hyperparametertuning$NEG_ganancia <- -3000\n",
    "\n",
    "# Aqui se cargan los bordes de los hiperparametros\n",
    "PARAM$hs <- makeParamSet(\n",
    "  makeNumericParam(\"learning_rate\", lower = 0.01, upper = 0.3),\n",
    "  makeIntegerParam(\"num_leaves\", lower = 8L, upper = 1024L),\n",
    "  makeNumericParam(\"feature_fraction\", lower = 0.1, upper = 1.0),\n",
    "  makeIntegerParam(\"min_data_in_leaf\", lower = 1L, upper = 8000L),\n",
    "  makeIntegerParam(\"envios\", lower = 5000L, upper = 15000L),\n",
    "  makeNumericParam(\"lambda_l1\", lower = 1e-8, upper = 10)\n",
    ")"
   ]
  },
  {
   "cell_type": "code",
   "execution_count": 157,
   "metadata": {
    "id": "P8YNRVVbCvQT"
   },
   "outputs": [],
   "source": [
    "# graba a un archivo los componentes de lista\n",
    "# para el primer registro, escribe antes los titulos\n",
    "\n",
    "loguear <- function(\n",
    "    reg, arch = NA, folder = \"./work/\",\n",
    "    ext = \".txt\", verbose = TRUE) {\n",
    "\n",
    "  archivo <- arch\n",
    "  if (is.na(arch)) archivo <- paste0(folder, substitute(reg), ext)\n",
    "\n",
    "  if (!file.exists(archivo)) # Escribo los titulos\n",
    "    {\n",
    "      linea <- paste0(\n",
    "        \"fecha\\t\",\n",
    "        paste(list.names(reg), collapse = \"\\t\"), \"\\n\"\n",
    "      )\n",
    "\n",
    "      cat(linea, file = archivo)\n",
    "    }\n",
    "\n",
    "  linea <- paste0(\n",
    "    format(Sys.time(), \"%Y%m%d %H%M%S\"), \"\\t\", # la fecha y hora\n",
    "    gsub(\", \", \"\\t\", toString(reg)), \"\\n\"\n",
    "  )\n",
    "\n",
    "  cat(linea, file = archivo, append = TRUE) # grabo al archivo\n",
    "\n",
    "  if (verbose) cat(linea) # imprimo por pantalla\n",
    "}\n"
   ]
  },
  {
   "cell_type": "code",
   "execution_count": 158,
   "metadata": {
    "id": "NnPKiCHuCwVo"
   },
   "outputs": [],
   "source": [
    "# esta funcion calcula internamente la ganancia de la prediccion probs\n",
    "# es llamada por lightgbm luego de construir cada  arbolito\n",
    "\n",
    "fganancia_logistic_lightgbm <- function(probs, datos) {\n",
    "  vpesos <- get_field(datos, \"weight\")\n",
    "\n",
    "  # vector de ganancias\n",
    "  vgan <- ifelse(vpesos == 1.0000002, PARAM$hyperparametertuning$POS_ganancia,\n",
    "    ifelse(vpesos == 1.0000001, PARAM$hyperparametertuning$NEG_ganancia,\n",
    "      PARAM$hyperparametertuning$NEG_ganancia /\n",
    "        PARAM$trainingstrategy$undersampling\n",
    "    )\n",
    "  )\n",
    "\n",
    "  tbl <- as.data.table(list(\"vprobs\" = probs, \"vgan\" = vgan))\n",
    "  setorder(tbl, -vprobs)\n",
    "  ganancia <- tbl[1:GLOBAL_envios, sum(vgan)]\n",
    "\n",
    "  return(list(\n",
    "    \"name\" = \"ganancia\",\n",
    "    \"value\" = ganancia,\n",
    "    \"higher_better\" = TRUE\n",
    "  ))\n",
    "}\n"
   ]
  },
  {
   "cell_type": "code",
   "execution_count": 159,
   "metadata": {
    "id": "kZSD7pUUCy58"
   },
   "outputs": [],
   "source": [
    "# esta funcion solo puede recibir los parametros que se estan optimizando\n",
    "# el resto de los parametros se pasan como variables globales,\n",
    "# la semilla del mal ...\n",
    "\n",
    "\n",
    "EstimarGanancia_lightgbm <- function(x) {\n",
    "  gc() # libero memoria\n",
    "\n",
    "  # llevo el registro de la iteracion por la que voy\n",
    "  GLOBAL_iteracion <<- GLOBAL_iteracion + 1\n",
    "\n",
    "  # para usar en fganancia_logistic_lightgbm\n",
    "  # asigno la variable global\n",
    "  GLOBAL_envios <<- as.integer(x$envios / PARAM$hyperparametertuning$xval_folds)\n",
    "\n",
    "  # cantidad de folds para cross validation\n",
    "  kfolds <- PARAM$hyperparametertuning$xval_folds\n",
    "\n",
    "  param_basicos <- list(\n",
    "    objective= \"binary\",\n",
    "    metric= \"custom\",\n",
    "    first_metric_only= TRUE,\n",
    "    boost_from_average= TRUE,\n",
    "    feature_pre_filter= FALSE,\n",
    "    verbosity= -100,\n",
    "    max_bin= 31, # por ahora, lo dejo fijo\n",
    "    num_iterations= 9999, # valor grande, lo limita early_stopping_rounds\n",
    "    force_row_wise= TRUE, # para evitar warning\n",
    "    seed= ksemilla_azar1\n",
    "  )\n",
    "\n",
    "  # el parametro discolo, que depende de otro\n",
    "  param_variable <- list(\n",
    "    early_stopping_rounds =\n",
    "      as.integer(50 + 5 / x$learning_rate)\n",
    "  )\n",
    "\n",
    "  param_completo <- c(param_basicos, param_variable, x)\n",
    "\n",
    "  set.seed(ksemilla_azar1)\n",
    "  modelocv <- lgb.cv(\n",
    "    data= dtrain,\n",
    "    eval= fganancia_logistic_lightgbm,\n",
    "    stratified= TRUE, # sobre el cross validation\n",
    "    nfold= kfolds, # folds del cross validation\n",
    "    param= param_completo,\n",
    "    verbose= -100\n",
    "  )\n",
    "\n",
    "  # obtengo la ganancia\n",
    "  ganancia <- unlist(modelocv$record_evals$valid$ganancia$eval)[modelocv$best_iter]\n",
    "\n",
    "  ganancia_normalizada <- ganancia * kfolds # normailizo la ganancia\n",
    "\n",
    "  # asigno el mejor num_iterations\n",
    "  param_completo$num_iterations <- modelocv$best_iter\n",
    "  # elimino de la lista el componente\n",
    "  param_completo[\"early_stopping_rounds\"] <- NULL\n",
    "\n",
    "\n",
    "  # el lenguaje R permite asignarle ATRIBUTOS a cualquier variable\n",
    "  # esta es la forma de devolver un parametro extra\n",
    "  attr(ganancia_normalizada, \"extras\") <-\n",
    "    list(\"num_iterations\" = modelocv$best_iter)\n",
    "\n",
    "  # logueo\n",
    "  xx <- param_completo\n",
    "  xx$ganancia <- ganancia_normalizada # le agrego la ganancia\n",
    "  xx$iteracion <- GLOBAL_iteracion\n",
    "  loguear(xx, arch = klog)\n",
    "\n",
    "  # Voy registrando la importancia de variables\n",
    "  if (ganancia_normalizada > GLOBAL_gananciamax) {\n",
    "    GLOBAL_gananciamax <<- ganancia_normalizada\n",
    "    modelo <- lgb.train(\n",
    "      data = dtrain,\n",
    "      param = param_completo,\n",
    "      verbose = -100\n",
    "    )\n",
    "\n",
    "    tb_importancia <- as.data.table(lgb.importance(modelo))\n",
    "    archivo_importancia <- paste0(\"impo_\", GLOBAL_iteracion, \".txt\")\n",
    "    fwrite(tb_importancia,\n",
    "      file = archivo_importancia,\n",
    "      sep = \"\\t\" )\n",
    "\n",
    "    loguear(xx, arch = klog_mejor)\n",
    "  }\n",
    "\n",
    "  return(ganancia_normalizada)\n",
    "}\n"
   ]
  },
  {
   "cell_type": "markdown",
   "metadata": {
    "id": "P7Pw1KLeE3UH"
   },
   "source": [
    "aqui se inicia el programa"
   ]
  },
  {
   "cell_type": "code",
   "execution_count": 160,
   "metadata": {
    "id": "w1lb19whCJQ3"
   },
   "outputs": [],
   "source": [
    "# carpeta de trabajo\n",
    "setwd(\"/content/buckets/b1/exp\")\n",
    "experimento_folder <- paste0(\"HT\", PARAM$experimento)\n",
    "dir.create(experimento_folder, showWarnings=FALSE)\n",
    "setwd( paste0(\"/content/buckets/b1/exp/\", experimento_folder ))"
   ]
  },
  {
   "cell_type": "code",
   "execution_count": 161,
   "metadata": {
    "id": "fbLF3Vr0DAeJ"
   },
   "outputs": [],
   "source": [
    "# genero numeros primos\n",
    "primos <- generate_primes(min = 100000, max = 1000000)\n",
    "set.seed(PARAM$semilla_primigenia) # inicializo\n",
    "# me quedo con PARAM$qsemillas   semillas\n",
    "PARAM$semillas <- sample(primos, 2 )\n",
    "ksemilla_azar1 <- PARAM$semillas[1]\n",
    "ksemilla_azar2 <- PARAM$semillas[2]\n"
   ]
  },
  {
   "cell_type": "code",
   "execution_count": 162,
   "metadata": {
    "id": "QvOokHUvuolF"
   },
   "outputs": [],
   "source": [
    "# en estos archivos quedan los resultados\n",
    "\n",
    "kbayesiana <- paste0(PARAM$experimento, \".RDATA\")\n",
    "klog <- paste0(PARAM$experimento, \".txt\")\n",
    "klog_mejor <- paste0(PARAM$experimento, \"_mejor.txt\")\n",
    "\n",
    "GLOBAL_iteracion <- 0 # inicializo la variable global\n",
    "GLOBAL_gananciamax <- -1 # inicializo la variable global\n",
    "\n",
    "# si ya existe el archivo log, traigo hasta donde llegue\n",
    "if (file.exists(klog)) {\n",
    "  tabla_log <- fread(klog)\n",
    "  GLOBAL_iteracion <- nrow(tabla_log)\n",
    "  GLOBAL_gananciamax <- tabla_log[, max(ganancia)]\n",
    "}\n"
   ]
  },
  {
   "cell_type": "code",
   "execution_count": 163,
   "metadata": {
    "id": "xcOJpoFvCJQ3"
   },
   "outputs": [],
   "source": [
    "# lectura del dataset\n",
    "dataset <- fread(\"/content/datasets/dataset_pequeno.csv\")"
   ]
  },
  {
   "cell_type": "code",
   "execution_count": 164,
   "metadata": {
    "id": "JorOk_A8EhSy"
   },
   "outputs": [],
   "source": [
    "dataset <- dataset[foto_mes %in% c(202107)]"
   ]
  },
  {
   "cell_type": "code",
   "execution_count": 165,
   "metadata": {
    "id": "JDg9xZVYrwvj"
   },
   "outputs": [],
   "source": [
    "# paso la clase a binaria que tome valores {0,1}  enteros\n",
    "dataset[\n",
    "  foto_mes %in% c(202107),\n",
    "  clase01 := ifelse(clase_ternaria == \"CONTINUA\", 0L, 1L)\n",
    "]"
   ]
  },
  {
   "cell_type": "code",
   "execution_count": 166,
   "metadata": {
    "id": "E68xpDYAr0nK"
   },
   "outputs": [],
   "source": [
    "# los campos que se van a utilizar\n",
    "campos_buenos <- setdiff(\n",
    "  colnames(dataset),\n",
    "  c(\"clase_ternaria\", \"clase01\", \"azar\", \"training\")\n",
    ")\n"
   ]
  },
  {
   "cell_type": "code",
   "execution_count": 167,
   "metadata": {
    "id": "G8zeYUfSr3GF"
   },
   "outputs": [],
   "source": [
    "# defino los datos que forma parte del training\n",
    "# aqui se hace el undersampling de los CONTINUA\n",
    "# notar que para esto utilizo la SEGUNDA semilla\n",
    "\n",
    "set.seed(ksemilla_azar2)\n",
    "dataset[, azar := runif(nrow(dataset))]\n",
    "dataset[, training := 0L]\n",
    "dataset[\n",
    "  foto_mes %in% c(202107) &\n",
    "    (azar <= PARAM$trainingstrategy$undersampling | clase_ternaria %in% c(\"BAJA+1\", \"BAJA+2\")),\n",
    "  training := 1L\n",
    "]"
   ]
  },
  {
   "cell_type": "code",
   "execution_count": 168,
   "metadata": {
    "id": "se8_aKuMr5CV"
   },
   "outputs": [],
   "source": [
    "# dejo los datos en el formato que necesita LightGBM\n",
    "dtrain <- lgb.Dataset(\n",
    "  data = data.matrix(dataset[training == 1L, campos_buenos, with = FALSE]),\n",
    "  label = dataset[training == 1L, clase01],\n",
    "  weight = dataset[training == 1L, ifelse(clase_ternaria == \"BAJA+2\", 1.0000002, ifelse(clase_ternaria == \"BAJA+1\", 1.0000001, 1.0))],\n",
    "  free_raw_data = FALSE\n",
    ")\n"
   ]
  },
  {
   "cell_type": "code",
   "execution_count": 169,
   "metadata": {
    "id": "CsRYGGeN-1ID"
   },
   "outputs": [],
   "source": [
    "# Aqui comienza la configuracion de la Bayesian Optimization\n",
    "funcion_optimizar <- EstimarGanancia_lightgbm # la funcion que voy a maximizar\n",
    "\n",
    "configureMlr(show.learner.output = FALSE)\n",
    "\n",
    "# configuro la busqueda bayesiana,  los hiperparametros que se van a optimizar\n",
    "# por favor, no desesperarse por lo complejo\n",
    "obj.fun <- makeSingleObjectiveFunction(\n",
    "  fn = funcion_optimizar, # la funcion que voy a maximizar\n",
    "  minimize = FALSE, # estoy Maximizando la ganancia\n",
    "  noisy = TRUE,\n",
    "  par.set = PARAM$hs, # definido al comienzo del programa\n",
    "  has.simple.signature = FALSE # paso los parametros en una lista\n",
    ")\n",
    "\n",
    "# cada 600 segundos guardo el resultado intermedio\n",
    "ctrl <- makeMBOControl(\n",
    "  save.on.disk.at.time = 600, # se graba cada 600 segundos\n",
    "  save.file.path = kbayesiana\n",
    ") # se graba cada 600 segundos\n",
    "\n",
    "# indico la cantidad de iteraciones que va a tener la Bayesian Optimization\n",
    "ctrl <- setMBOControlTermination(\n",
    "  ctrl,\n",
    "  iters = PARAM$hyperparametertuning$iteraciones\n",
    ") # cantidad de iteraciones\n",
    "\n",
    "# defino el método estandar para la creacion de los puntos iniciales,\n",
    "# los \"No Inteligentes\"\n",
    "ctrl <- setMBOControlInfill(ctrl, crit = makeMBOInfillCritEI())\n",
    "\n",
    "# establezco la funcion que busca el maximo\n",
    "surr.km <- makeLearner(\n",
    "  \"regr.km\",\n",
    "  predict.type = \"se\",\n",
    "  covtype = \"matern3_2\",\n",
    "  control = list(trace = TRUE)\n",
    ")\n"
   ]
  },
  {
   "cell_type": "code",
   "execution_count": 170,
   "metadata": {
    "id": "TissqCCHD1uZ",
    "scrolled": true
   },
   "outputs": [
    {
     "name": "stderr",
     "output_type": "stream",
     "text": [
      "Computing y column(s) for design. Not provided.\n",
      "\n"
     ]
    },
    {
     "name": "stdout",
     "output_type": "stream",
     "text": [
      "20250531 162431\tbinary\tcustom\tTRUE\tTRUE\tFALSE\t-100\t31\t65\tTRUE\t823819\t0.261234506171507\t61\t0.545160850303364\t3929\t9057\t5.42852127605607\t57675000\t1\n",
      "20250531 162437\tbinary\tcustom\tTRUE\tTRUE\tFALSE\t-100\t31\t65\tTRUE\t823819\t0.261234506171507\t61\t0.545160850303364\t3929\t9057\t5.42852127605607\t57675000\t1\n",
      "20250531 162517\tbinary\tcustom\tTRUE\tTRUE\tFALSE\t-100\t31\t225\tTRUE\t823819\t0.142345358642245\t556\t0.508779525241698\t4739\t11126\t0.726382536676996\t59865000\t2\n",
      "20250531 162527\tbinary\tcustom\tTRUE\tTRUE\tFALSE\t-100\t31\t225\tTRUE\t823819\t0.142345358642245\t556\t0.508779525241698\t4739\t11126\t0.726382536676996\t59865000\t2\n",
      "20250531 162549\tbinary\tcustom\tTRUE\tTRUE\tFALSE\t-100\t31\t143\tTRUE\t823819\t0.187249453576806\t286\t0.797090456905426\t5540\t12712\t4.681957731258\t59910000\t3\n",
      "20250531 162554\tbinary\tcustom\tTRUE\tTRUE\tFALSE\t-100\t31\t143\tTRUE\t823819\t0.187249453576806\t286\t0.797090456905426\t5540\t12712\t4.681957731258\t59910000\t3\n",
      "20250531 162613\tbinary\tcustom\tTRUE\tTRUE\tFALSE\t-100\t31\t89\tTRUE\t823819\t0.191390381330663\t408\t0.718061613789177\t1773\t7812\t7.08253910882175\t57210000\t4\n",
      "20250531 162704\tbinary\tcustom\tTRUE\tTRUE\tFALSE\t-100\t31\t285\tTRUE\t823819\t0.105226932045771\t725\t0.442923961620545\t6367\t9428\t3.74016381339615\t58125000\t5\n",
      "20250531 162720\tbinary\tcustom\tTRUE\tTRUE\tFALSE\t-100\t31\t91\tTRUE\t823819\t0.239068019885065\t812\t0.692624450213043\t5848\t8682\t3.16620293194062\t5.7e+07\t6\n",
      "20250531 162810\tbinary\tcustom\tTRUE\tTRUE\tFALSE\t-100\t31\t412\tTRUE\t823819\t0.127942035678522\t171\t0.638969342838391\t4261\t11984\t2.91151526947385\t60300000\t7\n",
      "20250531 162819\tbinary\tcustom\tTRUE\tTRUE\tFALSE\t-100\t31\t412\tTRUE\t823819\t0.127942035678522\t171\t0.638969342838391\t4261\t11984\t2.91151526947385\t60300000\t7\n",
      "20250531 162845\tbinary\tcustom\tTRUE\tTRUE\tFALSE\t-100\t31\t117\tTRUE\t823819\t0.155493433521575\t672\t0.332931199463201\t813\t13161\t8.97721536976972\t61320000\t8\n",
      "20250531 162850\tbinary\tcustom\tTRUE\tTRUE\tFALSE\t-100\t31\t117\tTRUE\t823819\t0.155493433521575\t672\t0.332931199463201\t813\t13161\t8.97721536976972\t61320000\t8\n",
      "20250531 162917\tbinary\tcustom\tTRUE\tTRUE\tFALSE\t-100\t31\t122\tTRUE\t823819\t0.149201268273173\t341\t0.406054991620476\t5019\t5719\t9.65340578652808\t52695000\t9\n",
      "20250531 162934\tbinary\tcustom\tTRUE\tTRUE\tFALSE\t-100\t31\t70\tTRUE\t823819\t0.207040542058724\t930\t0.604939790026401\t2617\t9839\t8.29673679531524\t58935000\t10\n",
      "20250531 163043\tbinary\tcustom\tTRUE\tTRUE\tFALSE\t-100\t31\t388\tTRUE\t823819\t0.0455417684542287\t589\t0.367002983568818\t4353\t13539\t5.15675621310208\t58995000\t11\n",
      "20250531 163122\tbinary\tcustom\tTRUE\tTRUE\tFALSE\t-100\t31\t264\tTRUE\t823819\t0.215475535123066\t835\t0.298279327343334\t7207\t7048\t9.41260728335617\t55425000\t12\n",
      "20250531 163323\tbinary\tcustom\tTRUE\tTRUE\tFALSE\t-100\t31\t840\tTRUE\t823819\t0.0237828075879952\t116\t0.227078328083735\t7862\t10333\t1.28378968461242\t57810000\t13\n",
      "20250531 163429\tbinary\tcustom\tTRUE\tTRUE\tFALSE\t-100\t31\t602\tTRUE\t823819\t0.0479463756030115\t226\t0.93208431333187\t6979\t14837\t7.2788719005426\t59655000\t14\n",
      "20250531 163442\tbinary\tcustom\tTRUE\tTRUE\tFALSE\t-100\t31\t28\tTRUE\t823819\t0.243284346086148\t478\t0.892710620566504\t2696\t6206\t1.9763921523027\t53745000\t15\n",
      "20250531 163515\tbinary\tcustom\tTRUE\tTRUE\tFALSE\t-100\t31\t183\tTRUE\t823819\t0.0715369753337776\t471\t0.862795119910152\t1432\t12411\t7.88274947212625\t60210000\t16\n",
      "20250531 163549\tbinary\tcustom\tTRUE\tTRUE\tFALSE\t-100\t31\t191\tTRUE\t823819\t0.0666100256538872\t613\t0.119725954919704\t3526\t6623\t6.66664824329782\t53460000\t17\n",
      "20250531 163618\tbinary\tcustom\tTRUE\tTRUE\tFALSE\t-100\t31\t144\tTRUE\t823819\t0.115540988481953\t178\t0.146286013678764\t2316\t8123\t0.261466262103838\t57480000\t18\n",
      "20250531 163634\tbinary\tcustom\tTRUE\tTRUE\tFALSE\t-100\t31\t68\tTRUE\t823819\t0.269586732616881\t732\t0.205216915134224\t7445\t5003\t2.31864726104723\t49800000\t19\n",
      "20250531 163651\tbinary\tcustom\tTRUE\tTRUE\tFALSE\t-100\t31\t138\tTRUE\t823819\t0.279473324506835\t14\t0.846487280543079\t167\t13765\t3.79592523376061\t56145000\t20\n",
      "20250531 163719\tbinary\tcustom\tTRUE\tTRUE\tFALSE\t-100\t31\t164\tTRUE\t823819\t0.0909770160976526\t1009\t0.981009488989366\t3287\t7173\t4.38547867484876\t55890000\t21\n",
      "20250531 163739\tbinary\tcustom\tTRUE\tTRUE\tFALSE\t-100\t31\t72\tTRUE\t823819\t0.29434044954105\t981\t0.745554796527722\t1054\t11543\t1.01039987548954\t57420000\t22\n",
      "20250531 163952\tbinary\tcustom\tTRUE\tTRUE\tFALSE\t-100\t31\t658\tTRUE\t823819\t0.0131759627251692\t889\t0.251262178743491\t630\t14255\t8.45242373479921\t59235000\t23\n",
      "20250531 164018\tbinary\tcustom\tTRUE\tTRUE\tFALSE\t-100\t31\t135\tTRUE\t823819\t0.173814517541226\t374\t0.572895151443663\t6095\t10621\t5.85532907849827\t59220000\t24\n"
     ]
    },
    {
     "name": "stderr",
     "output_type": "stream",
     "text": [
      "[mbo] 0: learning_rate=0.261; num_leaves=61; feature_fraction=0.545; min_data_in_leaf=3929; envios=9057; lambda_l1=5.43 : y = 5.77e+07 : 26.7 secs : initdesign\n",
      "\n",
      "[mbo] 0: learning_rate=0.142; num_leaves=556; feature_fraction=0.509; min_data_in_leaf=4739; envios=11126; lambda_l1=0.726 : y = 5.99e+07 : 50.0 secs : initdesign\n",
      "\n",
      "[mbo] 0: learning_rate=0.187; num_leaves=286; feature_fraction=0.797; min_data_in_leaf=5540; envios=12712; lambda_l1=4.68 : y = 5.99e+07 : 26.6 secs : initdesign\n",
      "\n",
      "[mbo] 0: learning_rate=0.191; num_leaves=408; feature_fraction=0.718; min_data_in_leaf=1773; envios=7812; lambda_l1=7.08 : y = 5.72e+07 : 19.1 secs : initdesign\n",
      "\n",
      "[mbo] 0: learning_rate=0.105; num_leaves=725; feature_fraction=0.443; min_data_in_leaf=6367; envios=9428; lambda_l1=3.74 : y = 5.81e+07 : 51.0 secs : initdesign\n",
      "\n",
      "[mbo] 0: learning_rate=0.239; num_leaves=812; feature_fraction=0.693; min_data_in_leaf=5848; envios=8682; lambda_l1=3.17 : y = 5.7e+07 : 15.8 secs : initdesign\n",
      "\n",
      "[mbo] 0: learning_rate=0.128; num_leaves=171; feature_fraction=0.639; min_data_in_leaf=4261; envios=11984; lambda_l1=2.91 : y = 6.03e+07 : 58.8 secs : initdesign\n",
      "\n",
      "[mbo] 0: learning_rate=0.155; num_leaves=672; feature_fraction=0.333; min_data_in_leaf=813; envios=13161; lambda_l1=8.98 : y = 6.13e+07 : 31.0 secs : initdesign\n",
      "\n",
      "[mbo] 0: learning_rate=0.149; num_leaves=341; feature_fraction=0.406; min_data_in_leaf=5019; envios=5719; lambda_l1=9.65 : y = 5.27e+07 : 27.0 secs : initdesign\n",
      "\n",
      "[mbo] 0: learning_rate=0.207; num_leaves=930; feature_fraction=0.605; min_data_in_leaf=2617; envios=9839; lambda_l1=8.3 : y = 5.89e+07 : 17.4 secs : initdesign\n",
      "\n",
      "[mbo] 0: learning_rate=0.0455; num_leaves=589; feature_fraction=0.367; min_data_in_leaf=4353; envios=13539; lambda_l1=5.16 : y = 5.9e+07 : 69.0 secs : initdesign\n",
      "\n",
      "[mbo] 0: learning_rate=0.215; num_leaves=835; feature_fraction=0.298; min_data_in_leaf=7207; envios=7048; lambda_l1=9.41 : y = 5.54e+07 : 38.9 secs : initdesign\n",
      "\n",
      "[mbo] 0: learning_rate=0.0238; num_leaves=116; feature_fraction=0.227; min_data_in_leaf=7862; envios=10333; lambda_l1=1.28 : y = 5.78e+07 : 122.5 secs : initdesign\n",
      "\n",
      "[mbo] 0: learning_rate=0.0479; num_leaves=226; feature_fraction=0.932; min_data_in_leaf=6979; envios=14837; lambda_l1=7.28 : y = 5.97e+07 : 65.8 secs : initdesign\n",
      "\n",
      "[mbo] 0: learning_rate=0.243; num_leaves=478; feature_fraction=0.893; min_data_in_leaf=2696; envios=6206; lambda_l1=1.98 : y = 5.37e+07 : 12.6 secs : initdesign\n",
      "\n",
      "[mbo] 0: learning_rate=0.0715; num_leaves=471; feature_fraction=0.863; min_data_in_leaf=1432; envios=12411; lambda_l1=7.88 : y = 6.02e+07 : 32.8 secs : initdesign\n",
      "\n",
      "[mbo] 0: learning_rate=0.0666; num_leaves=613; feature_fraction=0.12; min_data_in_leaf=3526; envios=6623; lambda_l1=6.67 : y = 5.35e+07 : 33.8 secs : initdesign\n",
      "\n",
      "[mbo] 0: learning_rate=0.116; num_leaves=178; feature_fraction=0.146; min_data_in_leaf=2316; envios=8123; lambda_l1=0.261 : y = 5.75e+07 : 28.4 secs : initdesign\n",
      "\n",
      "[mbo] 0: learning_rate=0.27; num_leaves=732; feature_fraction=0.205; min_data_in_leaf=7445; envios=5003; lambda_l1=2.32 : y = 4.98e+07 : 16.0 secs : initdesign\n",
      "\n",
      "[mbo] 0: learning_rate=0.279; num_leaves=14; feature_fraction=0.846; min_data_in_leaf=167; envios=13765; lambda_l1=3.8 : y = 5.61e+07 : 17.8 secs : initdesign\n",
      "\n",
      "[mbo] 0: learning_rate=0.091; num_leaves=1009; feature_fraction=0.981; min_data_in_leaf=3287; envios=7173; lambda_l1=4.39 : y = 5.59e+07 : 28.2 secs : initdesign\n",
      "\n",
      "[mbo] 0: learning_rate=0.294; num_leaves=981; feature_fraction=0.746; min_data_in_leaf=1054; envios=11543; lambda_l1=1.01 : y = 5.74e+07 : 19.1 secs : initdesign\n",
      "\n",
      "[mbo] 0: learning_rate=0.0132; num_leaves=889; feature_fraction=0.251; min_data_in_leaf=630; envios=14255; lambda_l1=8.45 : y = 5.92e+07 : 133.8 secs : initdesign\n",
      "\n",
      "[mbo] 0: learning_rate=0.174; num_leaves=374; feature_fraction=0.573; min_data_in_leaf=6095; envios=10621; lambda_l1=5.86 : y = 5.92e+07 : 26.1 secs : initdesign\n",
      "\n",
      "Saved the current state after iteration 1 in the file 5431.RDATA.\n",
      "\n"
     ]
    },
    {
     "name": "stdout",
     "output_type": "stream",
     "text": [
      "20250531 164048\tbinary\tcustom\tTRUE\tTRUE\tFALSE\t-100\t31\t112\tTRUE\t823819\t0.145576331795736\t739\t0.143953326320913\t946\t12366\t9.99977004293158\t58305000\t25\n"
     ]
    },
    {
     "name": "stderr",
     "output_type": "stream",
     "text": [
      "[mbo] 1: learning_rate=0.146; num_leaves=739; feature_fraction=0.144; min_data_in_leaf=946; envios=12366; lambda_l1=10 : y = 5.83e+07 : 23.4 secs : infill_ei\n",
      "\n"
     ]
    },
    {
     "name": "stdout",
     "output_type": "stream",
     "text": [
      "20250531 164113\tbinary\tcustom\tTRUE\tTRUE\tFALSE\t-100\t31\t73\tTRUE\t823819\t0.139697197995655\t652\t0.497910949520986\t587\t13298\t9.65069639584149\t60195000\t26\n"
     ]
    },
    {
     "name": "stderr",
     "output_type": "stream",
     "text": [
      "[mbo] 2: learning_rate=0.14; num_leaves=652; feature_fraction=0.498; min_data_in_leaf=587; envios=13298; lambda_l1=9.65 : y = 6.02e+07 : 24.3 secs : infill_ei\n",
      "\n"
     ]
    },
    {
     "name": "stdout",
     "output_type": "stream",
     "text": [
      "20250531 164147\tbinary\tcustom\tTRUE\tTRUE\tFALSE\t-100\t31\t102\tTRUE\t823819\t0.142055392074272\t325\t0.343404441005372\t80\t11900\t2.09163769911702\t58860000\t27\n"
     ]
    },
    {
     "name": "stderr",
     "output_type": "stream",
     "text": [
      "[mbo] 3: learning_rate=0.142; num_leaves=325; feature_fraction=0.343; min_data_in_leaf=80; envios=11900; lambda_l1=2.09 : y = 5.89e+07 : 33.4 secs : infill_ei\n",
      "\n"
     ]
    },
    {
     "name": "stdout",
     "output_type": "stream",
     "text": [
      "20250531 164219\tbinary\tcustom\tTRUE\tTRUE\tFALSE\t-100\t31\t138\tTRUE\t823819\t0.180037336571762\t607\t0.491194549558248\t2248\t13649\t8.119992538319\t59865000\t28\n"
     ]
    },
    {
     "name": "stderr",
     "output_type": "stream",
     "text": [
      "[mbo] 4: learning_rate=0.18; num_leaves=607; feature_fraction=0.491; min_data_in_leaf=2248; envios=13649; lambda_l1=8.12 : y = 5.99e+07 : 31.6 secs : infill_ei\n",
      "\n"
     ]
    },
    {
     "name": "stdout",
     "output_type": "stream",
     "text": [
      "20250531 164302\tbinary\tcustom\tTRUE\tTRUE\tFALSE\t-100\t31\t283\tTRUE\t823819\t0.198928248885095\t747\t0.34697641814392\t2935\t13043\t9.77019795192355\t60480000\t29\n"
     ]
    },
    {
     "name": "stderr",
     "output_type": "stream",
     "text": [
      "[mbo] 5: learning_rate=0.199; num_leaves=747; feature_fraction=0.347; min_data_in_leaf=2935; envios=13043; lambda_l1=9.77 : y = 6.05e+07 : 42.0 secs : infill_ei\n",
      "\n"
     ]
    },
    {
     "name": "stdout",
     "output_type": "stream",
     "text": [
      "20250531 164326\tbinary\tcustom\tTRUE\tTRUE\tFALSE\t-100\t31\t117\tTRUE\t823819\t0.246549124044744\t565\t0.305213700780357\t197\t13229\t9.17492971886065\t56685000\t30\n"
     ]
    },
    {
     "name": "stderr",
     "output_type": "stream",
     "text": [
      "[mbo] 6: learning_rate=0.247; num_leaves=565; feature_fraction=0.305; min_data_in_leaf=197; envios=13229; lambda_l1=9.17 : y = 5.67e+07 : 23.7 secs : infill_ei\n",
      "\n"
     ]
    },
    {
     "name": "stdout",
     "output_type": "stream",
     "text": [
      "20250531 164355\tbinary\tcustom\tTRUE\tTRUE\tFALSE\t-100\t31\t134\tTRUE\t823819\t0.143081141306191\t1000\t0.343009254647609\t2060\t13393\t8.83566749392154\t59430000\t31\n"
     ]
    },
    {
     "name": "stderr",
     "output_type": "stream",
     "text": [
      "[mbo] 7: learning_rate=0.143; num_leaves=1000; feature_fraction=0.343; min_data_in_leaf=2060; envios=13393; lambda_l1=8.84 : y = 5.94e+07 : 28.7 secs : infill_ei\n",
      "\n"
     ]
    },
    {
     "name": "stdout",
     "output_type": "stream",
     "text": [
      "20250531 164428\tbinary\tcustom\tTRUE\tTRUE\tFALSE\t-100\t31\t258\tTRUE\t823819\t0.0875337175489192\t325\t0.807658648206276\t6143\t12526\t0.302001905787681\t59265000\t32\n"
     ]
    },
    {
     "name": "stderr",
     "output_type": "stream",
     "text": [
      "[mbo] 8: learning_rate=0.0875; num_leaves=325; feature_fraction=0.808; min_data_in_leaf=6143; envios=12526; lambda_l1=0.302 : y = 5.93e+07 : 32.4 secs : infill_ei\n",
      "\n"
     ]
    },
    {
     "name": "stdout",
     "output_type": "stream",
     "text": [
      "20250531 164457\tbinary\tcustom\tTRUE\tTRUE\tFALSE\t-100\t31\t137\tTRUE\t823819\t0.161970888152513\t151\t0.347661400585502\t1044\t13064\t9.58622203797644\t59340000\t33\n"
     ]
    },
    {
     "name": "stderr",
     "output_type": "stream",
     "text": [
      "[mbo] 9: learning_rate=0.162; num_leaves=151; feature_fraction=0.348; min_data_in_leaf=1044; envios=13064; lambda_l1=9.59 : y = 5.93e+07 : 27.9 secs : infill_ei\n",
      "\n"
     ]
    },
    {
     "name": "stdout",
     "output_type": "stream",
     "text": [
      "20250531 164522\tbinary\tcustom\tTRUE\tTRUE\tFALSE\t-100\t31\t116\tTRUE\t823819\t0.156916807977197\t730\t0.725880999679517\t101\t12682\t5.90119478312715\t59280000\t34\n"
     ]
    },
    {
     "name": "stderr",
     "output_type": "stream",
     "text": [
      "[mbo] 10: learning_rate=0.157; num_leaves=730; feature_fraction=0.726; min_data_in_leaf=101; envios=12682; lambda_l1=5.9 : y = 5.93e+07 : 24.6 secs : infill_ei\n",
      "\n"
     ]
    },
    {
     "name": "stdout",
     "output_type": "stream",
     "text": [
      "20250531 164705\tbinary\tcustom\tTRUE\tTRUE\tFALSE\t-100\t31\t634\tTRUE\t823819\t0.0216239753400536\t434\t0.720123872176417\t255\t13867\t8.41168064676639\t61005000\t35\n"
     ]
    },
    {
     "name": "stderr",
     "output_type": "stream",
     "text": [
      "[mbo] 11: learning_rate=0.0216; num_leaves=434; feature_fraction=0.72; min_data_in_leaf=255; envios=13867; lambda_l1=8.41 : y = 6.1e+07 : 103.7 secs : infill_ei\n",
      "\n"
     ]
    },
    {
     "name": "stdout",
     "output_type": "stream",
     "text": [
      "20250531 164749\tbinary\tcustom\tTRUE\tTRUE\tFALSE\t-100\t31\t206\tTRUE\t823819\t0.0553118887129773\t577\t0.6453027420647\t11\t14918\t8.64999958928457\t58935000\t36\n"
     ]
    },
    {
     "name": "stderr",
     "output_type": "stream",
     "text": [
      "[mbo] 12: learning_rate=0.0553; num_leaves=577; feature_fraction=0.645; min_data_in_leaf=11; envios=14918; lambda_l1=8.65 : y = 5.89e+07 : 42.4 secs : infill_ei\n",
      "\n"
     ]
    },
    {
     "name": "stdout",
     "output_type": "stream",
     "text": [
      "20250531 165151\tbinary\tcustom\tTRUE\tTRUE\tFALSE\t-100\t31\t2113\tTRUE\t823819\t0.0104621127793968\t290\t0.828442529300917\t3331\t12658\t7.5445329150814\t60315000\t37\n"
     ]
    },
    {
     "name": "stderr",
     "output_type": "stream",
     "text": [
      "[mbo] 13: learning_rate=0.0105; num_leaves=290; feature_fraction=0.828; min_data_in_leaf=3331; envios=12658; lambda_l1=7.54 : y = 6.03e+07 : 242.4 secs : infill_ei\n",
      "\n",
      "Saved the current state after iteration 14 in the file 5431.RDATA.\n",
      "\n"
     ]
    },
    {
     "name": "stdout",
     "output_type": "stream",
     "text": [
      "20250531 165345\tbinary\tcustom\tTRUE\tTRUE\tFALSE\t-100\t31\t544\tTRUE\t823819\t0.0191445305587376\t521\t0.97739133654037\t29\t13440\t8.84862270189542\t60960000\t38\n"
     ]
    },
    {
     "name": "stderr",
     "output_type": "stream",
     "text": [
      "[mbo] 14: learning_rate=0.0191; num_leaves=521; feature_fraction=0.977; min_data_in_leaf=29; envios=13440; lambda_l1=8.85 : y = 6.1e+07 : 107.6 secs : infill_ei\n",
      "\n"
     ]
    },
    {
     "name": "stdout",
     "output_type": "stream",
     "text": [
      "20250531 165527\tbinary\tcustom\tTRUE\tTRUE\tFALSE\t-100\t31\t543\tTRUE\t823819\t0.0268196965301138\t97\t0.903279291179503\t602\t13391\t5.22235206568669\t61710000\t39\n",
      "20250531 165549\tbinary\tcustom\tTRUE\tTRUE\tFALSE\t-100\t31\t543\tTRUE\t823819\t0.0268196965301138\t97\t0.903279291179503\t602\t13391\t5.22235206568669\t61710000\t39\n"
     ]
    },
    {
     "name": "stderr",
     "output_type": "stream",
     "text": [
      "[mbo] 15: learning_rate=0.0268; num_leaves=97; feature_fraction=0.903; min_data_in_leaf=602; envios=13391; lambda_l1=5.22 : y = 6.17e+07 : 123.3 secs : infill_ei\n",
      "\n"
     ]
    },
    {
     "name": "stdout",
     "output_type": "stream",
     "text": [
      "20250531 165741\tbinary\tcustom\tTRUE\tTRUE\tFALSE\t-100\t31\t447\tTRUE\t823819\t0.0193997579239689\t492\t0.838970642473682\t320\t13274\t3.61031931660389\t61830000\t40\n",
      "20250531 165805\tbinary\tcustom\tTRUE\tTRUE\tFALSE\t-100\t31\t447\tTRUE\t823819\t0.0193997579239689\t492\t0.838970642473682\t320\t13274\t3.61031931660389\t61830000\t40\n"
     ]
    },
    {
     "name": "stderr",
     "output_type": "stream",
     "text": [
      "[mbo] 16: learning_rate=0.0194; num_leaves=492; feature_fraction=0.839; min_data_in_leaf=320; envios=13274; lambda_l1=3.61 : y = 6.18e+07 : 135.5 secs : infill_ei\n",
      "\n"
     ]
    },
    {
     "name": "stdout",
     "output_type": "stream",
     "text": [
      "20250531 165908\tbinary\tcustom\tTRUE\tTRUE\tFALSE\t-100\t31\t163\tTRUE\t823819\t0.0253520186324394\t150\t0.777834520525126\t31\t11700\t2.29307548657088\t61740000\t41\n"
     ]
    },
    {
     "name": "stderr",
     "output_type": "stream",
     "text": [
      "[mbo] 17: learning_rate=0.0254; num_leaves=150; feature_fraction=0.778; min_data_in_leaf=31; envios=11700; lambda_l1=2.29 : y = 6.17e+07 : 62.6 secs : infill_ei\n",
      "\n"
     ]
    },
    {
     "name": "stdout",
     "output_type": "stream",
     "text": [
      "20250531 170034\tbinary\tcustom\tTRUE\tTRUE\tFALSE\t-100\t31\t333\tTRUE\t823819\t0.0308467243735489\t345\t0.878304235488415\t567\t12605\t1.42437912976498\t62505000\t42\n",
      "20250531 170052\tbinary\tcustom\tTRUE\tTRUE\tFALSE\t-100\t31\t333\tTRUE\t823819\t0.0308467243735489\t345\t0.878304235488415\t567\t12605\t1.42437912976498\t62505000\t42\n"
     ]
    },
    {
     "name": "stderr",
     "output_type": "stream",
     "text": [
      "[mbo] 18: learning_rate=0.0308; num_leaves=345; feature_fraction=0.878; min_data_in_leaf=567; envios=12605; lambda_l1=1.42 : y = 6.25e+07 : 103.0 secs : infill_ei\n",
      "\n"
     ]
    },
    {
     "name": "stdout",
     "output_type": "stream",
     "text": [
      "20250531 170224\tbinary\tcustom\tTRUE\tTRUE\tFALSE\t-100\t31\t475\tTRUE\t823819\t0.034263098641909\t425\t0.998624754152039\t1520\t12064\t0.0194349454907656\t61020000\t43\n"
     ]
    },
    {
     "name": "stderr",
     "output_type": "stream",
     "text": [
      "[mbo] 19: learning_rate=0.0343; num_leaves=425; feature_fraction=0.999; min_data_in_leaf=1520; envios=12064; lambda_l1=0.0194 : y = 6.1e+07 : 92.0 secs : infill_ei\n",
      "\n",
      "Saved the current state after iteration 20 in the file 5431.RDATA.\n",
      "\n"
     ]
    },
    {
     "name": "stdout",
     "output_type": "stream",
     "text": [
      "20250531 170339\tbinary\tcustom\tTRUE\tTRUE\tFALSE\t-100\t31\t128\tTRUE\t823819\t0.03686690766359\t292\t0.835041113519135\t4\t12850\t1.53203397723414\t60450000\t44\n"
     ]
    },
    {
     "name": "stderr",
     "output_type": "stream",
     "text": [
      "[mbo] 20: learning_rate=0.0369; num_leaves=292; feature_fraction=0.835; min_data_in_leaf=4; envios=12850; lambda_l1=1.53 : y = 6.04e+07 : 68.1 secs : infill_ei\n",
      "\n"
     ]
    },
    {
     "name": "stdout",
     "output_type": "stream",
     "text": [
      "20250531 170708\tbinary\tcustom\tTRUE\tTRUE\tFALSE\t-100\t31\t1057\tTRUE\t823819\t0.0100918766611858\t487\t0.77167428611284\t688\t11043\t2.95762056128649\t60840000\t45\n"
     ]
    },
    {
     "name": "stderr",
     "output_type": "stream",
     "text": [
      "[mbo] 21: learning_rate=0.0101; num_leaves=487; feature_fraction=0.772; min_data_in_leaf=688; envios=11043; lambda_l1=2.96 : y = 6.08e+07 : 208.5 secs : infill_ei\n",
      "\n"
     ]
    },
    {
     "name": "stdout",
     "output_type": "stream",
     "text": [
      "20250531 170947\tbinary\tcustom\tTRUE\tTRUE\tFALSE\t-100\t31\t641\tTRUE\t823819\t0.0117735052412472\t375\t0.912766748546417\t195\t13270\t5.66951731445411\t61710000\t46\n"
     ]
    },
    {
     "name": "stderr",
     "output_type": "stream",
     "text": [
      "[mbo] 22: learning_rate=0.0118; num_leaves=375; feature_fraction=0.913; min_data_in_leaf=195; envios=13270; lambda_l1=5.67 : y = 6.17e+07 : 159.0 secs : infill_ei\n",
      "\n"
     ]
    },
    {
     "name": "stdout",
     "output_type": "stream",
     "text": [
      "20250531 171128\tbinary\tcustom\tTRUE\tTRUE\tFALSE\t-100\t31\t341\tTRUE\t823819\t0.0209414574430489\t397\t0.907342243580672\t534\t12224\t0.244030911311081\t61260000\t47\n"
     ]
    },
    {
     "name": "stderr",
     "output_type": "stream",
     "text": [
      "[mbo] 23: learning_rate=0.0209; num_leaves=397; feature_fraction=0.907; min_data_in_leaf=534; envios=12224; lambda_l1=0.244 : y = 6.13e+07 : 99.9 secs : infill_ei\n",
      "\n"
     ]
    },
    {
     "name": "stdout",
     "output_type": "stream",
     "text": [
      "20250531 171303\tbinary\tcustom\tTRUE\tTRUE\tFALSE\t-100\t31\t535\tTRUE\t823819\t0.026109876991031\t350\t0.844934912076658\t1562\t14629\t2.29665670329044\t61485000\t48\n"
     ]
    },
    {
     "name": "stderr",
     "output_type": "stream",
     "text": [
      "[mbo] 24: learning_rate=0.0261; num_leaves=350; feature_fraction=0.845; min_data_in_leaf=1562; envios=14629; lambda_l1=2.3 : y = 6.15e+07 : 94.3 secs : infill_ei\n",
      "\n",
      "Saved the current state after iteration 25 in the file 5431.RDATA.\n",
      "\n"
     ]
    },
    {
     "name": "stdout",
     "output_type": "stream",
     "text": [
      "20250531 171506\tbinary\tcustom\tTRUE\tTRUE\tFALSE\t-100\t31\t809\tTRUE\t823819\t0.0302356281483648\t143\t0.987973565478041\t2916\t11070\t6.8233637092781\t60630000\t49\n"
     ]
    },
    {
     "name": "stderr",
     "output_type": "stream",
     "text": [
      "[mbo] 25: learning_rate=0.0302; num_leaves=143; feature_fraction=0.988; min_data_in_leaf=2916; envios=11070; lambda_l1=6.82 : y = 6.06e+07 : 116.1 secs : infill_ei\n",
      "\n"
     ]
    },
    {
     "name": "stdout",
     "output_type": "stream",
     "text": [
      "20250531 171531\tbinary\tcustom\tTRUE\tTRUE\tFALSE\t-100\t31\t88\tTRUE\t823819\t0.163619036171528\t681\t0.379113182709864\t3181\t14917\t0.584234194730607\t57975000\t50\n"
     ]
    },
    {
     "name": "stderr",
     "output_type": "stream",
     "text": [
      "[mbo] 26: learning_rate=0.164; num_leaves=681; feature_fraction=0.379; min_data_in_leaf=3181; envios=14917; lambda_l1=0.584 : y = 5.8e+07 : 24.3 secs : infill_ei\n",
      "\n"
     ]
    },
    {
     "name": "stdout",
     "output_type": "stream",
     "text": [
      "20250531 171708\tbinary\tcustom\tTRUE\tTRUE\tFALSE\t-100\t31\t419\tTRUE\t823819\t0.0268677243542418\t117\t0.661889859371207\t208\t12583\t6.79803258011599\t60780000\t51\n"
     ]
    },
    {
     "name": "stderr",
     "output_type": "stream",
     "text": [
      "[mbo] 27: learning_rate=0.0269; num_leaves=117; feature_fraction=0.662; min_data_in_leaf=208; envios=12583; lambda_l1=6.8 : y = 6.08e+07 : 96.6 secs : infill_ei\n",
      "\n"
     ]
    },
    {
     "name": "stdout",
     "output_type": "stream",
     "text": [
      "20250531 171845\tbinary\tcustom\tTRUE\tTRUE\tFALSE\t-100\t31\t526\tTRUE\t823819\t0.029673387248821\t347\t0.990638803424566\t1198\t12283\t2.98831121126878\t60960000\t52\n"
     ]
    },
    {
     "name": "stderr",
     "output_type": "stream",
     "text": [
      "[mbo] 28: learning_rate=0.0297; num_leaves=347; feature_fraction=0.991; min_data_in_leaf=1198; envios=12283; lambda_l1=2.99 : y = 6.1e+07 : 96.7 secs : infill_ei\n",
      "\n"
     ]
    },
    {
     "name": "stdout",
     "output_type": "stream",
     "text": [
      "20250531 172047\tbinary\tcustom\tTRUE\tTRUE\tFALSE\t-100\t31\t744\tTRUE\t823819\t0.0142579157043008\t46\t0.969516708902188\t553\t12832\t2.10981416410672\t61470000\t53\n"
     ]
    },
    {
     "name": "stderr",
     "output_type": "stream",
     "text": [
      "[mbo] 29: learning_rate=0.0143; num_leaves=46; feature_fraction=0.97; min_data_in_leaf=553; envios=12832; lambda_l1=2.11 : y = 6.15e+07 : 121.0 secs : infill_ei\n",
      "\n"
     ]
    },
    {
     "name": "stdout",
     "output_type": "stream",
     "text": [
      "20250531 172122\tbinary\tcustom\tTRUE\tTRUE\tFALSE\t-100\t31\t117\tTRUE\t823819\t0.0579494798614708\t263\t0.718801508525321\t777\t13447\t1.77675761749008\t61545000\t54\n"
     ]
    },
    {
     "name": "stderr",
     "output_type": "stream",
     "text": [
      "[mbo] 30: learning_rate=0.0579; num_leaves=263; feature_fraction=0.719; min_data_in_leaf=777; envios=13447; lambda_l1=1.78 : y = 6.15e+07 : 34.1 secs : infill_ei\n",
      "\n"
     ]
    },
    {
     "name": "stdout",
     "output_type": "stream",
     "text": [
      "20250531 172156\tbinary\tcustom\tTRUE\tTRUE\tFALSE\t-100\t31\t138\tTRUE\t823819\t0.1639753407355\t983\t0.434700533931361\t791\t14220\t6.0295862363281\t60660000\t55\n"
     ]
    },
    {
     "name": "stderr",
     "output_type": "stream",
     "text": [
      "[mbo] 31: learning_rate=0.164; num_leaves=983; feature_fraction=0.435; min_data_in_leaf=791; envios=14220; lambda_l1=6.03 : y = 6.07e+07 : 34.2 secs : infill_ei\n",
      "\n"
     ]
    },
    {
     "name": "stdout",
     "output_type": "stream",
     "text": [
      "20250531 172312\tbinary\tcustom\tTRUE\tTRUE\tFALSE\t-100\t31\t478\tTRUE\t823819\t0.0316937350332751\t205\t0.795756345041552\t1807\t12559\t1.35163775549087\t61455000\t56\n"
     ]
    },
    {
     "name": "stderr",
     "output_type": "stream",
     "text": [
      "[mbo] 32: learning_rate=0.0317; num_leaves=205; feature_fraction=0.796; min_data_in_leaf=1807; envios=12559; lambda_l1=1.35 : y = 6.15e+07 : 75.8 secs : infill_ei\n",
      "\n",
      "Saved the current state after iteration 33 in the file 5431.RDATA.\n",
      "\n"
     ]
    },
    {
     "name": "stdout",
     "output_type": "stream",
     "text": [
      "20250531 172440\tbinary\tcustom\tTRUE\tTRUE\tFALSE\t-100\t31\t602\tTRUE\t823819\t0.0336438747815253\t524\t0.900527507395266\t2331\t14394\t6.35867435944076\t60030000\t57\n"
     ]
    },
    {
     "name": "stderr",
     "output_type": "stream",
     "text": [
      "[mbo] 33: learning_rate=0.0336; num_leaves=524; feature_fraction=0.901; min_data_in_leaf=2331; envios=14394; lambda_l1=6.36 : y = 6e+07 : 80.9 secs : infill_ei\n",
      "\n"
     ]
    },
    {
     "name": "stdout",
     "output_type": "stream",
     "text": [
      "20250531 172557\tbinary\tcustom\tTRUE\tTRUE\tFALSE\t-100\t31\t352\tTRUE\t823819\t0.0290093110678333\t656\t0.722587138308368\t693\t12511\t1.66768834591406\t61710000\t58\n"
     ]
    },
    {
     "name": "stderr",
     "output_type": "stream",
     "text": [
      "[mbo] 34: learning_rate=0.029; num_leaves=656; feature_fraction=0.723; min_data_in_leaf=693; envios=12511; lambda_l1=1.67 : y = 6.17e+07 : 77.0 secs : infill_ei\n",
      "\n"
     ]
    },
    {
     "name": "stdout",
     "output_type": "stream",
     "text": [
      "20250531 172708\tbinary\tcustom\tTRUE\tTRUE\tFALSE\t-100\t31\t312\tTRUE\t823819\t0.0363976844648438\t231\t0.850880353674845\t512\t11615\t2.37672156304905\t61635000\t59\n"
     ]
    },
    {
     "name": "stderr",
     "output_type": "stream",
     "text": [
      "[mbo] 35: learning_rate=0.0364; num_leaves=231; feature_fraction=0.851; min_data_in_leaf=512; envios=11615; lambda_l1=2.38 : y = 6.16e+07 : 70.4 secs : infill_ei\n",
      "\n"
     ]
    },
    {
     "name": "stdout",
     "output_type": "stream",
     "text": [
      "20250531 172756\tbinary\tcustom\tTRUE\tTRUE\tFALSE\t-100\t31\t322\tTRUE\t823819\t0.0602658741776392\t696\t0.960495381893224\t2990\t12724\t0.940491665590005\t60600000\t60\n"
     ]
    },
    {
     "name": "stderr",
     "output_type": "stream",
     "text": [
      "[mbo] 36: learning_rate=0.0603; num_leaves=696; feature_fraction=0.96; min_data_in_leaf=2990; envios=12724; lambda_l1=0.94 : y = 6.06e+07 : 45.9 secs : infill_ei\n",
      "\n"
     ]
    },
    {
     "name": "stdout",
     "output_type": "stream",
     "text": [
      "20250531 172829\tbinary\tcustom\tTRUE\tTRUE\tFALSE\t-100\t31\t219\tTRUE\t823819\t0.0598653004924558\t381\t0.976182911920978\t4797\t11577\t6.59654229269267\t58995000\t61\n"
     ]
    },
    {
     "name": "stderr",
     "output_type": "stream",
     "text": [
      "[mbo] 37: learning_rate=0.0599; num_leaves=381; feature_fraction=0.976; min_data_in_leaf=4797; envios=11577; lambda_l1=6.6 : y = 5.9e+07 : 33.0 secs : infill_ei\n",
      "\n"
     ]
    },
    {
     "name": "stdout",
     "output_type": "stream",
     "text": [
      "20250531 172902\tbinary\tcustom\tTRUE\tTRUE\tFALSE\t-100\t31\t150\tTRUE\t823819\t0.0877341465112315\t544\t0.896942507927558\t1116\t13330\t1.32029122759114\t59610000\t62\n"
     ]
    },
    {
     "name": "stderr",
     "output_type": "stream",
     "text": [
      "[mbo] 38: learning_rate=0.0877; num_leaves=544; feature_fraction=0.897; min_data_in_leaf=1116; envios=13330; lambda_l1=1.32 : y = 5.96e+07 : 33.3 secs : infill_ei\n",
      "\n"
     ]
    },
    {
     "name": "stdout",
     "output_type": "stream",
     "text": [
      "20250531 173008\tbinary\tcustom\tTRUE\tTRUE\tFALSE\t-100\t31\t262\tTRUE\t823819\t0.0312487638103718\t236\t0.752023160533685\t668\t14543\t1.71336318513255\t60420000\t63\n"
     ]
    },
    {
     "name": "stderr",
     "output_type": "stream",
     "text": [
      "[mbo] 39: learning_rate=0.0312; num_leaves=236; feature_fraction=0.752; min_data_in_leaf=668; envios=14543; lambda_l1=1.71 : y = 6.04e+07 : 65.1 secs : infill_ei\n",
      "\n"
     ]
    },
    {
     "name": "stdout",
     "output_type": "stream",
     "text": [
      "20250531 173056\tbinary\tcustom\tTRUE\tTRUE\tFALSE\t-100\t31\t264\tTRUE\t823819\t0.060702209900002\t229\t0.726921294889316\t1716\t13585\t0.102358959013595\t61725000\t64\n"
     ]
    },
    {
     "name": "stderr",
     "output_type": "stream",
     "text": [
      "[mbo] 40: learning_rate=0.0607; num_leaves=229; feature_fraction=0.727; min_data_in_leaf=1716; envios=13585; lambda_l1=0.102 : y = 6.17e+07 : 46.8 secs : infill_ei\n",
      "\n"
     ]
    },
    {
     "name": "stdout",
     "output_type": "stream",
     "text": [
      "20250531 173139\tbinary\tcustom\tTRUE\tTRUE\tFALSE\t-100\t31\t201\tTRUE\t823819\t0.0581138675922944\t293\t0.727878739016779\t1420\t11625\t0.0128508244936991\t61005000\t65\n"
     ]
    },
    {
     "name": "stderr",
     "output_type": "stream",
     "text": [
      "[mbo] 41: learning_rate=0.0581; num_leaves=293; feature_fraction=0.728; min_data_in_leaf=1420; envios=11625; lambda_l1=0.0129 : y = 6.1e+07 : 42.6 secs : infill_ei\n",
      "\n"
     ]
    },
    {
     "name": "stdout",
     "output_type": "stream",
     "text": [
      "20250531 173213\tbinary\tcustom\tTRUE\tTRUE\tFALSE\t-100\t31\t126\tTRUE\t823819\t0.057988556646019\t928\t0.692992327256384\t1379\t13390\t1.40071057992642\t60390000\t66\n"
     ]
    },
    {
     "name": "stderr",
     "output_type": "stream",
     "text": [
      "[mbo] 42: learning_rate=0.058; num_leaves=928; feature_fraction=0.693; min_data_in_leaf=1379; envios=13390; lambda_l1=1.4 : y = 6.04e+07 : 32.9 secs : infill_ei\n",
      "\n"
     ]
    },
    {
     "name": "stdout",
     "output_type": "stream",
     "text": [
      "20250531 173253\tbinary\tcustom\tTRUE\tTRUE\tFALSE\t-100\t31\t226\tTRUE\t823819\t0.0477885316283199\t124\t0.769017315940612\t3422\t13375\t0.430097921057616\t59595000\t67\n"
     ]
    },
    {
     "name": "stderr",
     "output_type": "stream",
     "text": [
      "[mbo] 43: learning_rate=0.0478; num_leaves=124; feature_fraction=0.769; min_data_in_leaf=3422; envios=13375; lambda_l1=0.43 : y = 5.96e+07 : 39.4 secs : infill_ei\n",
      "\n"
     ]
    },
    {
     "name": "stdout",
     "output_type": "stream",
     "text": [
      "20250531 173312\tbinary\tcustom\tTRUE\tTRUE\tFALSE\t-100\t31\t61\tTRUE\t823819\t0.186266178475\t998\t0.548561361197181\t4215\t12308\t7.06357213339159\t59325000\t68\n"
     ]
    },
    {
     "name": "stderr",
     "output_type": "stream",
     "text": [
      "[mbo] 44: learning_rate=0.186; num_leaves=998; feature_fraction=0.549; min_data_in_leaf=4215; envios=12308; lambda_l1=7.06 : y = 5.93e+07 : 19.7 secs : infill_ei\n",
      "\n"
     ]
    },
    {
     "name": "stdout",
     "output_type": "stream",
     "text": [
      "20250531 173400\tbinary\tcustom\tTRUE\tTRUE\tFALSE\t-100\t31\t164\tTRUE\t823819\t0.0689258467590097\t80\t0.458787103310426\t988\t12955\t0.0411033889037506\t61575000\t69\n"
     ]
    },
    {
     "name": "stderr",
     "output_type": "stream",
     "text": [
      "[mbo] 45: learning_rate=0.0689; num_leaves=80; feature_fraction=0.459; min_data_in_leaf=988; envios=12955; lambda_l1=0.0411 : y = 6.16e+07 : 47.4 secs : infill_ei\n",
      "\n",
      "Saved the current state after iteration 46 in the file 5431.RDATA.\n",
      "\n"
     ]
    },
    {
     "name": "stdout",
     "output_type": "stream",
     "text": [
      "20250531 173459\tbinary\tcustom\tTRUE\tTRUE\tFALSE\t-100\t31\t254\tTRUE\t823819\t0.0746171359366458\t98\t0.549086357987483\t2329\t12818\t2.54623044164389\t60795000\t70\n"
     ]
    },
    {
     "name": "stderr",
     "output_type": "stream",
     "text": [
      "[mbo] 46: learning_rate=0.0746; num_leaves=98; feature_fraction=0.549; min_data_in_leaf=2329; envios=12818; lambda_l1=2.55 : y = 6.08e+07 : 50.6 secs : infill_ei\n",
      "\n"
     ]
    },
    {
     "name": "stdout",
     "output_type": "stream",
     "text": [
      "20250531 173521\tbinary\tcustom\tTRUE\tTRUE\tFALSE\t-100\t31\t125\tTRUE\t823819\t0.138689830681248\t186\t0.678442745598227\t5992\t13137\t2.65621265639052\t58755000\t71\n"
     ]
    },
    {
     "name": "stderr",
     "output_type": "stream",
     "text": [
      "[mbo] 47: learning_rate=0.139; num_leaves=186; feature_fraction=0.678; min_data_in_leaf=5992; envios=13137; lambda_l1=2.66 : y = 5.88e+07 : 21.4 secs : infill_ei\n",
      "\n"
     ]
    },
    {
     "name": "stdout",
     "output_type": "stream",
     "text": [
      "20250531 173549\tbinary\tcustom\tTRUE\tTRUE\tFALSE\t-100\t31\t120\tTRUE\t823819\t0.156568841865176\t862\t0.314101142943977\t3\t14176\t9.4654365157657\t57675000\t72\n"
     ]
    },
    {
     "name": "stderr",
     "output_type": "stream",
     "text": [
      "[mbo] 48: learning_rate=0.157; num_leaves=862; feature_fraction=0.314; min_data_in_leaf=3; envios=14176; lambda_l1=9.47 : y = 5.77e+07 : 27.5 secs : infill_ei\n",
      "\n"
     ]
    },
    {
     "name": "stdout",
     "output_type": "stream",
     "text": [
      "20250531 173750\tbinary\tcustom\tTRUE\tTRUE\tFALSE\t-100\t31\t519\tTRUE\t823819\t0.026809357887083\t271\t0.351757977371513\t732\t12591\t1.40545450031258\t61830000\t73\n"
     ]
    },
    {
     "name": "stderr",
     "output_type": "stream",
     "text": [
      "[mbo] 49: learning_rate=0.0268; num_leaves=271; feature_fraction=0.352; min_data_in_leaf=732; envios=12591; lambda_l1=1.41 : y = 6.18e+07 : 121.2 secs : infill_ei\n",
      "\n"
     ]
    },
    {
     "name": "stdout",
     "output_type": "stream",
     "text": [
      "20250531 173922\tbinary\tcustom\tTRUE\tTRUE\tFALSE\t-100\t31\t259\tTRUE\t823819\t0.0200035121851241\t141\t0.775345620536817\t3\t9595\t2.52007758190768\t60495000\t74\n"
     ]
    },
    {
     "name": "stderr",
     "output_type": "stream",
     "text": [
      "[mbo] 50: learning_rate=0.02; num_leaves=141; feature_fraction=0.775; min_data_in_leaf=3; envios=9595; lambda_l1=2.52 : y = 6.05e+07 : 91.6 secs : infill_ei\n",
      "\n"
     ]
    },
    {
     "name": "stdout",
     "output_type": "stream",
     "text": [
      "20250531 174022\tbinary\tcustom\tTRUE\tTRUE\tFALSE\t-100\t31\t197\tTRUE\t823819\t0.052664390856377\t441\t0.519527898625442\t779\t13259\t5.50868107687025\t60435000\t75\n"
     ]
    },
    {
     "name": "stderr",
     "output_type": "stream",
     "text": [
      "[mbo] 51: learning_rate=0.0527; num_leaves=441; feature_fraction=0.52; min_data_in_leaf=779; envios=13259; lambda_l1=5.51 : y = 6.04e+07 : 58.2 secs : infill_ei\n",
      "\n"
     ]
    },
    {
     "name": "stdout",
     "output_type": "stream",
     "text": [
      "20250531 174108\tbinary\tcustom\tTRUE\tTRUE\tFALSE\t-100\t31\t347\tTRUE\t823819\t0.0727367883649389\t58\t0.98248941546159\t3073\t13046\t8.50642910913926\t60465000\t76\n"
     ]
    },
    {
     "name": "stderr",
     "output_type": "stream",
     "text": [
      "[mbo] 52: learning_rate=0.0727; num_leaves=58; feature_fraction=0.982; min_data_in_leaf=3073; envios=13046; lambda_l1=8.51 : y = 6.05e+07 : 45.8 secs : infill_ei\n",
      "\n"
     ]
    },
    {
     "name": "stdout",
     "output_type": "stream",
     "text": [
      "20250531 174322\tbinary\tcustom\tTRUE\tTRUE\tFALSE\t-100\t31\t829\tTRUE\t823819\t0.019720893413298\t401\t0.976957527130328\t716\t13306\t7.50444097927801\t60285000\t77\n"
     ]
    },
    {
     "name": "stderr",
     "output_type": "stream",
     "text": [
      "[mbo] 53: learning_rate=0.0197; num_leaves=401; feature_fraction=0.977; min_data_in_leaf=716; envios=13306; lambda_l1=7.5 : y = 6.03e+07 : 133.3 secs : infill_ei\n",
      "\n"
     ]
    },
    {
     "name": "stdout",
     "output_type": "stream",
     "text": [
      "20250531 174416\tbinary\tcustom\tTRUE\tTRUE\tFALSE\t-100\t31\t220\tTRUE\t823819\t0.0674985613123557\t737\t0.391955476506459\t902\t12656\t1.68435344057329\t61995000\t78\n"
     ]
    },
    {
     "name": "stderr",
     "output_type": "stream",
     "text": [
      "[mbo] 54: learning_rate=0.0675; num_leaves=737; feature_fraction=0.392; min_data_in_leaf=902; envios=12656; lambda_l1=1.68 : y = 6.2e+07 : 53.7 secs : infill_ei\n",
      "\n",
      "Saved the current state after iteration 55 in the file 5431.RDATA.\n",
      "\n"
     ]
    },
    {
     "name": "stdout",
     "output_type": "stream",
     "text": [
      "20250531 174546\tbinary\tcustom\tTRUE\tTRUE\tFALSE\t-100\t31\t397\tTRUE\t823819\t0.0439365032368299\t504\t0.332024594378756\t1245\t13128\t0.028583545330968\t62505000\t79\n"
     ]
    },
    {
     "name": "stderr",
     "output_type": "stream",
     "text": [
      "[mbo] 55: learning_rate=0.0439; num_leaves=504; feature_fraction=0.332; min_data_in_leaf=1245; envios=13128; lambda_l1=0.0286 : y = 6.25e+07 : 82.4 secs : infill_ei\n",
      "\n"
     ]
    },
    {
     "name": "stdout",
     "output_type": "stream",
     "text": [
      "20250531 174821\tbinary\tcustom\tTRUE\tTRUE\tFALSE\t-100\t31\t715\tTRUE\t823819\t0.0137228240415755\t284\t0.869433131952873\t695\t12614\t1.66063843558771\t62610000\t80\n",
      "20250531 174852\tbinary\tcustom\tTRUE\tTRUE\tFALSE\t-100\t31\t715\tTRUE\t823819\t0.0137228240415755\t284\t0.869433131952873\t695\t12614\t1.66063843558771\t62610000\t80\n"
     ]
    },
    {
     "name": "stderr",
     "output_type": "stream",
     "text": [
      "[mbo] 56: learning_rate=0.0137; num_leaves=284; feature_fraction=0.869; min_data_in_leaf=695; envios=12614; lambda_l1=1.66 : y = 6.26e+07 : 186.3 secs : infill_ei\n",
      "\n"
     ]
    },
    {
     "name": "stdout",
     "output_type": "stream",
     "text": [
      "20250531 174941\tbinary\tcustom\tTRUE\tTRUE\tFALSE\t-100\t31\t194\tTRUE\t823819\t0.061998820005288\t408\t0.349240425826807\t1499\t12643\t0.520345301793889\t62280000\t81\n"
     ]
    },
    {
     "name": "stderr",
     "output_type": "stream",
     "text": [
      "[mbo] 57: learning_rate=0.062; num_leaves=408; feature_fraction=0.349; min_data_in_leaf=1499; envios=12643; lambda_l1=0.52 : y = 6.23e+07 : 48.0 secs : infill_ei\n",
      "\n"
     ]
    },
    {
     "name": "stdout",
     "output_type": "stream",
     "text": [
      "20250531 175031\tbinary\tcustom\tTRUE\tTRUE\tFALSE\t-100\t31\t214\tTRUE\t823819\t0.0721434888070692\t499\t0.313862010570026\t1108\t13328\t1.43193149924195\t61305000\t82\n"
     ]
    },
    {
     "name": "stderr",
     "output_type": "stream",
     "text": [
      "[mbo] 58: learning_rate=0.0721; num_leaves=499; feature_fraction=0.314; min_data_in_leaf=1108; envios=13328; lambda_l1=1.43 : y = 6.13e+07 : 49.1 secs : infill_ei\n",
      "\n"
     ]
    },
    {
     "name": "stdout",
     "output_type": "stream",
     "text": [
      "20250531 175227\tbinary\tcustom\tTRUE\tTRUE\tFALSE\t-100\t31\t517\tTRUE\t823819\t0.0281423566326017\t486\t0.408373668769389\t1375\t12709\t0.220225368299042\t61725000\t83\n"
     ]
    },
    {
     "name": "stderr",
     "output_type": "stream",
     "text": [
      "[mbo] 59: learning_rate=0.0281; num_leaves=486; feature_fraction=0.408; min_data_in_leaf=1375; envios=12709; lambda_l1=0.22 : y = 6.17e+07 : 114.8 secs : infill_ei\n",
      "\n"
     ]
    },
    {
     "name": "stdout",
     "output_type": "stream",
     "text": [
      "20250531 175330\tbinary\tcustom\tTRUE\tTRUE\tFALSE\t-100\t31\t239\tTRUE\t823819\t0.0508050414748072\t565\t0.319673714156819\t898\t12557\t0.0169790859054025\t62655000\t84\n",
      "20250531 175344\tbinary\tcustom\tTRUE\tTRUE\tFALSE\t-100\t31\t239\tTRUE\t823819\t0.0508050414748072\t565\t0.319673714156819\t898\t12557\t0.0169790859054025\t62655000\t84\n"
     ]
    },
    {
     "name": "stderr",
     "output_type": "stream",
     "text": [
      "[mbo] 60: learning_rate=0.0508; num_leaves=565; feature_fraction=0.32; min_data_in_leaf=898; envios=12557; lambda_l1=0.017 : y = 6.27e+07 : 76.8 secs : infill_ei\n",
      "\n"
     ]
    },
    {
     "name": "stdout",
     "output_type": "stream",
     "text": [
      "20250531 175411\tbinary\tcustom\tTRUE\tTRUE\tFALSE\t-100\t31\t90\tTRUE\t823819\t0.169048669296294\t851\t0.39417222086166\t900\t12463\t6.53415796313142\t59340000\t85\n"
     ]
    },
    {
     "name": "stderr",
     "output_type": "stream",
     "text": [
      "[mbo] 61: learning_rate=0.169; num_leaves=851; feature_fraction=0.394; min_data_in_leaf=900; envios=12463; lambda_l1=6.53 : y = 5.93e+07 : 25.8 secs : infill_ei\n",
      "\n"
     ]
    },
    {
     "name": "stdout",
     "output_type": "stream",
     "text": [
      "20250531 175544\tbinary\tcustom\tTRUE\tTRUE\tFALSE\t-100\t31\t367\tTRUE\t823819\t0.0288157906085393\t705\t0.338715295655655\t985\t12443\t0.650447432076327\t61080000\t86\n"
     ]
    },
    {
     "name": "stderr",
     "output_type": "stream",
     "text": [
      "[mbo] 62: learning_rate=0.0288; num_leaves=705; feature_fraction=0.339; min_data_in_leaf=985; envios=12443; lambda_l1=0.65 : y = 6.11e+07 : 92.7 secs : infill_ei\n",
      "\n",
      "Saved the current state after iteration 63 in the file 5431.RDATA.\n",
      "\n"
     ]
    },
    {
     "name": "stdout",
     "output_type": "stream",
     "text": [
      "20250531 180134\tbinary\tcustom\tTRUE\tTRUE\tFALSE\t-100\t31\t1908\tTRUE\t823819\t0.0102446828780359\t218\t0.811959140178572\t400\t12382\t4.25846985461576\t61020000\t87\n"
     ]
    },
    {
     "name": "stderr",
     "output_type": "stream",
     "text": [
      "[mbo] 63: learning_rate=0.0102; num_leaves=218; feature_fraction=0.812; min_data_in_leaf=400; envios=12382; lambda_l1=4.26 : y = 6.1e+07 : 342.8 secs : infill_ei\n",
      "\n"
     ]
    },
    {
     "name": "stdout",
     "output_type": "stream",
     "text": [
      "20250531 180233\tbinary\tcustom\tTRUE\tTRUE\tFALSE\t-100\t31\t281\tTRUE\t823819\t0.0509355550170392\t364\t0.299241354405192\t1624\t13583\t0.00210323504294191\t61860000\t88\n"
     ]
    },
    {
     "name": "stderr",
     "output_type": "stream",
     "text": [
      "[mbo] 64: learning_rate=0.0509; num_leaves=364; feature_fraction=0.299; min_data_in_leaf=1624; envios=13583; lambda_l1=0.0021 : y = 6.19e+07 : 58.3 secs : infill_ei\n",
      "\n"
     ]
    },
    {
     "name": "stdout",
     "output_type": "stream",
     "text": [
      "20250531 180351\tbinary\tcustom\tTRUE\tTRUE\tFALSE\t-100\t31\t323\tTRUE\t823819\t0.0266675421282486\t325\t0.893638662097737\t757\t12651\t1.75445568061756\t61290000\t89\n"
     ]
    },
    {
     "name": "stderr",
     "output_type": "stream",
     "text": [
      "[mbo] 65: learning_rate=0.0267; num_leaves=325; feature_fraction=0.894; min_data_in_leaf=757; envios=12651; lambda_l1=1.75 : y = 6.13e+07 : 77.5 secs : infill_ei\n",
      "\n"
     ]
    },
    {
     "name": "stdout",
     "output_type": "stream",
     "text": [
      "20250531 180602\tbinary\tcustom\tTRUE\tTRUE\tFALSE\t-100\t31\t804\tTRUE\t823819\t0.0153698934292923\t59\t0.87406486973414\t314\t13253\t1.32816234486414\t61890000\t90\n"
     ]
    },
    {
     "name": "stderr",
     "output_type": "stream",
     "text": [
      "[mbo] 66: learning_rate=0.0154; num_leaves=59; feature_fraction=0.874; min_data_in_leaf=314; envios=13253; lambda_l1=1.33 : y = 6.19e+07 : 129.9 secs : infill_ei\n",
      "\n",
      "Saved the current state after iteration 67 in the file 5431.RDATA.\n",
      "\n"
     ]
    },
    {
     "name": "stdout",
     "output_type": "stream",
     "text": [
      "20250531 180840\tbinary\tcustom\tTRUE\tTRUE\tFALSE\t-100\t31\t749\tTRUE\t823819\t0.0187346341667228\t434\t0.867644788352771\t553\t13309\t1.73924534897108\t61725000\t91\n"
     ]
    },
    {
     "name": "stderr",
     "output_type": "stream",
     "text": [
      "[mbo] 67: learning_rate=0.0187; num_leaves=434; feature_fraction=0.868; min_data_in_leaf=553; envios=13309; lambda_l1=1.74 : y = 6.17e+07 : 150.9 secs : infill_ei\n",
      "\n"
     ]
    },
    {
     "name": "stdout",
     "output_type": "stream",
     "text": [
      "20250531 181312\tbinary\tcustom\tTRUE\tTRUE\tFALSE\t-100\t31\t1123\tTRUE\t823819\t0.0101962776930813\t352\t0.442037069644972\t660\t13047\t0.703856117002917\t62145000\t92\n"
     ]
    },
    {
     "name": "stderr",
     "output_type": "stream",
     "text": [
      "[mbo] 68: learning_rate=0.0102; num_leaves=352; feature_fraction=0.442; min_data_in_leaf=660; envios=13047; lambda_l1=0.704 : y = 6.21e+07 : 271.6 secs : infill_ei\n",
      "\n"
     ]
    },
    {
     "name": "stdout",
     "output_type": "stream",
     "text": [
      "20250531 181441\tbinary\tcustom\tTRUE\tTRUE\tFALSE\t-100\t31\t166\tTRUE\t823819\t0.0370270269174178\t554\t0.362792086543229\t21\t13432\t0.533625182304791\t58230000\t93\n"
     ]
    },
    {
     "name": "stderr",
     "output_type": "stream",
     "text": [
      "[mbo] 69: learning_rate=0.037; num_leaves=554; feature_fraction=0.363; min_data_in_leaf=21; envios=13432; lambda_l1=0.534 : y = 5.82e+07 : 87.8 secs : infill_ei\n",
      "\n"
     ]
    },
    {
     "name": "stdout",
     "output_type": "stream",
     "text": [
      "20250531 181511\tbinary\tcustom\tTRUE\tTRUE\tFALSE\t-100\t31\t143\tTRUE\t823819\t0.119810222205221\t44\t0.170697577167509\t833\t12891\t0.196316556573402\t60450000\t94\n"
     ]
    },
    {
     "name": "stderr",
     "output_type": "stream",
     "text": [
      "[mbo] 70: learning_rate=0.12; num_leaves=44; feature_fraction=0.171; min_data_in_leaf=833; envios=12891; lambda_l1=0.196 : y = 6.04e+07 : 28.8 secs : infill_ei\n",
      "\n"
     ]
    },
    {
     "name": "stdout",
     "output_type": "stream",
     "text": [
      "20250531 181615\tbinary\tcustom\tTRUE\tTRUE\tFALSE\t-100\t31\t245\tTRUE\t823819\t0.0607347789572097\t398\t0.412069697500776\t605\t11012\t1.29817933301247\t62730000\t95\n",
      "20250531 181630\tbinary\tcustom\tTRUE\tTRUE\tFALSE\t-100\t31\t245\tTRUE\t823819\t0.0607347789572097\t398\t0.412069697500776\t605\t11012\t1.29817933301247\t62730000\t95\n"
     ]
    },
    {
     "name": "stderr",
     "output_type": "stream",
     "text": [
      "[mbo] 71: learning_rate=0.0607; num_leaves=398; feature_fraction=0.412; min_data_in_leaf=605; envios=11012; lambda_l1=1.3 : y = 6.27e+07 : 79.1 secs : infill_ei\n",
      "\n",
      "Saved the current state after iteration 72 in the file 5431.RDATA.\n",
      "\n"
     ]
    },
    {
     "name": "stdout",
     "output_type": "stream",
     "text": [
      "20250531 181722\tbinary\tcustom\tTRUE\tTRUE\tFALSE\t-100\t31\t114\tTRUE\t823819\t0.0808339984964658\t759\t0.423992919475504\t684\t12390\t0.0241400825763406\t60990000\t96\n"
     ]
    },
    {
     "name": "stderr",
     "output_type": "stream",
     "text": [
      "[mbo] 72: learning_rate=0.0808; num_leaves=759; feature_fraction=0.424; min_data_in_leaf=684; envios=12390; lambda_l1=0.0241 : y = 6.1e+07 : 43.7 secs : infill_ei\n",
      "\n"
     ]
    },
    {
     "name": "stdout",
     "output_type": "stream",
     "text": [
      "20250531 181817\tbinary\tcustom\tTRUE\tTRUE\tFALSE\t-100\t31\t300\tTRUE\t823819\t0.0617850259925606\t211\t0.106028199867819\t863\t11174\t0.670611441495673\t60330000\t97\n"
     ]
    },
    {
     "name": "stderr",
     "output_type": "stream",
     "text": [
      "[mbo] 73: learning_rate=0.0618; num_leaves=211; feature_fraction=0.106; min_data_in_leaf=863; envios=11174; lambda_l1=0.671 : y = 6.03e+07 : 54.0 secs : infill_ei\n",
      "\n"
     ]
    },
    {
     "name": "stdout",
     "output_type": "stream",
     "text": [
      "20250531 182012\tbinary\tcustom\tTRUE\tTRUE\tFALSE\t-100\t31\t552\tTRUE\t823819\t0.0319632821485532\t264\t0.257860549005291\t589\t12026\t1.17788335059931\t60885000\t98\n"
     ]
    },
    {
     "name": "stderr",
     "output_type": "stream",
     "text": [
      "[mbo] 74: learning_rate=0.032; num_leaves=264; feature_fraction=0.258; min_data_in_leaf=589; envios=12026; lambda_l1=1.18 : y = 6.09e+07 : 115.2 secs : infill_ei\n",
      "\n"
     ]
    },
    {
     "name": "stdout",
     "output_type": "stream",
     "text": [
      "20250531 182057\tbinary\tcustom\tTRUE\tTRUE\tFALSE\t-100\t31\t130\tTRUE\t823819\t0.0696098167516398\t255\t0.865431497161097\t632\t11907\t0.20228559470683\t61245000\t99\n"
     ]
    },
    {
     "name": "stderr",
     "output_type": "stream",
     "text": [
      "[mbo] 75: learning_rate=0.0696; num_leaves=255; feature_fraction=0.865; min_data_in_leaf=632; envios=11907; lambda_l1=0.202 : y = 6.12e+07 : 43.9 secs : infill_ei\n",
      "\n"
     ]
    },
    {
     "name": "stdout",
     "output_type": "stream",
     "text": [
      "20250531 182211\tbinary\tcustom\tTRUE\tTRUE\tFALSE\t-100\t31\t311\tTRUE\t823819\t0.057226243619626\t269\t0.351142100569607\t856\t10960\t1.19147183929398\t61680000\t100\n"
     ]
    },
    {
     "name": "stderr",
     "output_type": "stream",
     "text": [
      "[mbo] 76: learning_rate=0.0572; num_leaves=269; feature_fraction=0.351; min_data_in_leaf=856; envios=10960; lambda_l1=1.19 : y = 6.17e+07 : 72.6 secs : infill_ei\n",
      "\n"
     ]
    },
    {
     "name": "stdout",
     "output_type": "stream",
     "text": [
      "20250531 182713\tbinary\tcustom\tTRUE\tTRUE\tFALSE\t-100\t31\t1187\tTRUE\t823819\t0.010131085669778\t500\t0.589214288337464\t642\t12157\t1.43471932449046\t62415000\t101\n"
     ]
    },
    {
     "name": "stderr",
     "output_type": "stream",
     "text": [
      "[mbo] 77: learning_rate=0.0101; num_leaves=500; feature_fraction=0.589; min_data_in_leaf=642; envios=12157; lambda_l1=1.43 : y = 6.24e+07 : 300.8 secs : infill_ei\n",
      "\n",
      "Saved the current state after iteration 78 in the file 5431.RDATA.\n",
      "\n"
     ]
    },
    {
     "name": "stdout",
     "output_type": "stream",
     "text": [
      "20250531 183021\tbinary\tcustom\tTRUE\tTRUE\tFALSE\t-100\t31\t841\tTRUE\t823819\t0.0136181677520987\t376\t0.600205549877918\t1356\t13500\t0.0485536380540138\t62100000\t102\n"
     ]
    },
    {
     "name": "stderr",
     "output_type": "stream",
     "text": [
      "[mbo] 78: learning_rate=0.0136; num_leaves=376; feature_fraction=0.6; min_data_in_leaf=1356; envios=13500; lambda_l1=0.0486 : y = 6.21e+07 : 180.6 secs : infill_ei\n",
      "\n"
     ]
    },
    {
     "name": "stdout",
     "output_type": "stream",
     "text": [
      "20250531 183121\tbinary\tcustom\tTRUE\tTRUE\tFALSE\t-100\t31\t170\tTRUE\t823819\t0.0612421888378309\t761\t0.43525880472723\t554\t12165\t0.0248948494530058\t61545000\t103\n"
     ]
    },
    {
     "name": "stderr",
     "output_type": "stream",
     "text": [
      "[mbo] 79: learning_rate=0.0612; num_leaves=761; feature_fraction=0.435; min_data_in_leaf=554; envios=12165; lambda_l1=0.0249 : y = 6.15e+07 : 59.6 secs : infill_ei\n",
      "\n"
     ]
    },
    {
     "name": "stdout",
     "output_type": "stream",
     "text": [
      "20250531 183209\tbinary\tcustom\tTRUE\tTRUE\tFALSE\t-100\t31\t124\tTRUE\t823819\t0.0614496890193281\t494\t0.544771628980548\t593\t12053\t1.46815841284865\t60930000\t104\n"
     ]
    },
    {
     "name": "stderr",
     "output_type": "stream",
     "text": [
      "[mbo] 80: learning_rate=0.0614; num_leaves=494; feature_fraction=0.545; min_data_in_leaf=593; envios=12053; lambda_l1=1.47 : y = 6.09e+07 : 46.2 secs : infill_ei\n",
      "\n"
     ]
    },
    {
     "name": "stdout",
     "output_type": "stream",
     "text": [
      "20250531 183613\tbinary\tcustom\tTRUE\tTRUE\tFALSE\t-100\t31\t1342\tTRUE\t823819\t0.0134519770394552\t370\t0.619058758112927\t858\t12588\t1.28444208623315\t62085000\t105\n"
     ]
    },
    {
     "name": "stderr",
     "output_type": "stream",
     "text": [
      "[mbo] 81: learning_rate=0.0135; num_leaves=370; feature_fraction=0.619; min_data_in_leaf=858; envios=12588; lambda_l1=1.28 : y = 6.21e+07 : 243.5 secs : infill_ei\n",
      "\n"
     ]
    },
    {
     "name": "stdout",
     "output_type": "stream",
     "text": [
      "20250531 183707\tbinary\tcustom\tTRUE\tTRUE\tFALSE\t-100\t31\t244\tTRUE\t823819\t0.0676175770007664\t420\t0.304900647156911\t1022\t10270\t1.30853075477038\t60270000\t106\n"
     ]
    },
    {
     "name": "stderr",
     "output_type": "stream",
     "text": [
      "[mbo] 82: learning_rate=0.0676; num_leaves=420; feature_fraction=0.305; min_data_in_leaf=1022; envios=10270; lambda_l1=1.31 : y = 6.03e+07 : 52.9 secs : infill_ei\n",
      "\n"
     ]
    },
    {
     "name": "stdout",
     "output_type": "stream",
     "text": [
      "20250531 183808\tbinary\tcustom\tTRUE\tTRUE\tFALSE\t-100\t31\t278\tTRUE\t823819\t0.0433152577071784\t43\t0.559348044162997\t1588\t13825\t0.338645461320087\t61485000\t107\n"
     ]
    },
    {
     "name": "stderr",
     "output_type": "stream",
     "text": [
      "[mbo] 83: learning_rate=0.0433; num_leaves=43; feature_fraction=0.559; min_data_in_leaf=1588; envios=13825; lambda_l1=0.339 : y = 6.15e+07 : 59.9 secs : infill_ei\n",
      "\n",
      "Saved the current state after iteration 84 in the file 5431.RDATA.\n",
      "\n"
     ]
    },
    {
     "name": "stdout",
     "output_type": "stream",
     "text": [
      "20250531 183915\tbinary\tcustom\tTRUE\tTRUE\tFALSE\t-100\t31\t273\tTRUE\t823819\t0.0428799170735986\t249\t0.616684229669606\t1147\t13393\t0.014352652592111\t60870000\t108\n"
     ]
    },
    {
     "name": "stderr",
     "output_type": "stream",
     "text": [
      "[mbo] 84: learning_rate=0.0429; num_leaves=249; feature_fraction=0.617; min_data_in_leaf=1147; envios=13393; lambda_l1=0.0144 : y = 6.09e+07 : 60.0 secs : infill_ei\n",
      "\n"
     ]
    },
    {
     "name": "stdout",
     "output_type": "stream",
     "text": [
      "20250531 184020\tbinary\tcustom\tTRUE\tTRUE\tFALSE\t-100\t31\t271\tTRUE\t823819\t0.0622319040779785\t350\t0.381569799765431\t673\t14793\t2.27742355841682\t60270000\t109\n"
     ]
    },
    {
     "name": "stderr",
     "output_type": "stream",
     "text": [
      "[mbo] 85: learning_rate=0.0622; num_leaves=350; feature_fraction=0.382; min_data_in_leaf=673; envios=14793; lambda_l1=2.28 : y = 6.03e+07 : 63.5 secs : infill_ei\n",
      "\n"
     ]
    },
    {
     "name": "stdout",
     "output_type": "stream",
     "text": [
      "20250531 184136\tbinary\tcustom\tTRUE\tTRUE\tFALSE\t-100\t31\t225\tTRUE\t823819\t0.0321835199619506\t415\t0.420970408670876\t608\t9478\t0.241177594798307\t60495000\t110\n"
     ]
    },
    {
     "name": "stderr",
     "output_type": "stream",
     "text": [
      "[mbo] 86: learning_rate=0.0322; num_leaves=415; feature_fraction=0.421; min_data_in_leaf=608; envios=9478; lambda_l1=0.241 : y = 6.05e+07 : 74.9 secs : infill_ei\n",
      "\n"
     ]
    },
    {
     "name": "stdout",
     "output_type": "stream",
     "text": [
      "20250531 184221\tbinary\tcustom\tTRUE\tTRUE\tFALSE\t-100\t31\t154\tTRUE\t823819\t0.0384019355906735\t190\t0.326439123571453\t1814\t12446\t2.73081097317358\t59385000\t111\n"
     ]
    },
    {
     "name": "stderr",
     "output_type": "stream",
     "text": [
      "[mbo] 87: learning_rate=0.0384; num_leaves=190; feature_fraction=0.326; min_data_in_leaf=1814; envios=12446; lambda_l1=2.73 : y = 5.94e+07 : 44.1 secs : infill_ei\n",
      "\n"
     ]
    },
    {
     "name": "stdout",
     "output_type": "stream",
     "text": [
      "20250531 184356\tbinary\tcustom\tTRUE\tTRUE\tFALSE\t-100\t31\t480\tTRUE\t823819\t0.0276801541727162\t511\t0.629780686445312\t873\t11068\t1.37570009707469\t62325000\t112\n"
     ]
    },
    {
     "name": "stderr",
     "output_type": "stream",
     "text": [
      "[mbo] 88: learning_rate=0.0277; num_leaves=511; feature_fraction=0.63; min_data_in_leaf=873; envios=11068; lambda_l1=1.38 : y = 6.23e+07 : 94.7 secs : infill_ei\n",
      "\n"
     ]
    },
    {
     "name": "stdout",
     "output_type": "stream",
     "text": [
      "20250531 184602\tbinary\tcustom\tTRUE\tTRUE\tFALSE\t-100\t31\t753\tTRUE\t823819\t0.0192355124020181\t694\t0.936699703270066\t1358\t12337\t1.41613234227437\t61515000\t113\n"
     ]
    },
    {
     "name": "stderr",
     "output_type": "stream",
     "text": [
      "[mbo] 89: learning_rate=0.0192; num_leaves=694; feature_fraction=0.937; min_data_in_leaf=1358; envios=12337; lambda_l1=1.42 : y = 6.15e+07 : 124.9 secs : infill_ei\n",
      "\n"
     ]
    },
    {
     "name": "stdout",
     "output_type": "stream",
     "text": [
      "20250531 185044\tbinary\tcustom\tTRUE\tTRUE\tFALSE\t-100\t31\t1649\tTRUE\t823819\t0.0105547155593145\t446\t0.231645673796616\t1380\t12237\t0.0818474609586969\t62055000\t114\n"
     ]
    },
    {
     "name": "stderr",
     "output_type": "stream",
     "text": [
      "[mbo] 90: learning_rate=0.0106; num_leaves=446; feature_fraction=0.232; min_data_in_leaf=1380; envios=12237; lambda_l1=0.0818 : y = 6.21e+07 : 281.7 secs : infill_ei\n",
      "\n",
      "Saved the current state after iteration 91 in the file 5431.RDATA.\n",
      "\n"
     ]
    },
    {
     "name": "stdout",
     "output_type": "stream",
     "text": [
      "20250531 185436\tbinary\tcustom\tTRUE\tTRUE\tFALSE\t-100\t31\t1066\tTRUE\t823819\t0.0127293422739649\t395\t0.923995287344326\t488\t11690\t1.40781887092652\t62130000\t115\n"
     ]
    },
    {
     "name": "stderr",
     "output_type": "stream",
     "text": [
      "[mbo] 91: learning_rate=0.0127; num_leaves=395; feature_fraction=0.924; min_data_in_leaf=488; envios=11690; lambda_l1=1.41 : y = 6.21e+07 : 224.4 secs : infill_ei\n",
      "\n"
     ]
    },
    {
     "name": "stdout",
     "output_type": "stream",
     "text": [
      "20250531 185808\tbinary\tcustom\tTRUE\tTRUE\tFALSE\t-100\t31\t1286\tTRUE\t823819\t0.0104242943183038\t336\t0.818917439771345\t1653\t14345\t2.47534971871494\t60885000\t116\n"
     ]
    },
    {
     "name": "stderr",
     "output_type": "stream",
     "text": [
      "[mbo] 92: learning_rate=0.0104; num_leaves=336; feature_fraction=0.819; min_data_in_leaf=1653; envios=14345; lambda_l1=2.48 : y = 6.09e+07 : 211.2 secs : infill_ei\n",
      "\n"
     ]
    },
    {
     "name": "stdout",
     "output_type": "stream",
     "text": [
      "20250531 185913\tbinary\tcustom\tTRUE\tTRUE\tFALSE\t-100\t31\t273\tTRUE\t823819\t0.0649497037814851\t426\t0.377930243393935\t1322\t13041\t0.153568584249816\t61920000\t117\n"
     ]
    },
    {
     "name": "stderr",
     "output_type": "stream",
     "text": [
      "[mbo] 93: learning_rate=0.0649; num_leaves=426; feature_fraction=0.378; min_data_in_leaf=1322; envios=13041; lambda_l1=0.154 : y = 6.19e+07 : 63.7 secs : infill_ei\n",
      "\n"
     ]
    },
    {
     "name": "stdout",
     "output_type": "stream",
     "text": [
      "20250531 185956\tbinary\tcustom\tTRUE\tTRUE\tFALSE\t-100\t31\t168\tTRUE\t823819\t0.0737749312523064\t881\t0.288785054942716\t2051\t13300\t1.94909542407693\t59220000\t118\n"
     ]
    },
    {
     "name": "stderr",
     "output_type": "stream",
     "text": [
      "[mbo] 94: learning_rate=0.0738; num_leaves=881; feature_fraction=0.289; min_data_in_leaf=2051; envios=13300; lambda_l1=1.95 : y = 5.92e+07 : 42.1 secs : infill_ei\n",
      "\n"
     ]
    },
    {
     "name": "stdout",
     "output_type": "stream",
     "text": [
      "20250531 190051\tbinary\tcustom\tTRUE\tTRUE\tFALSE\t-100\t31\t195\tTRUE\t823819\t0.0643054204046786\t411\t0.514679783593107\t2227\t12508\t0.716652985035196\t59685000\t119\n"
     ]
    },
    {
     "name": "stderr",
     "output_type": "stream",
     "text": [
      "[mbo] 95: learning_rate=0.0643; num_leaves=411; feature_fraction=0.515; min_data_in_leaf=2227; envios=12508; lambda_l1=0.717 : y = 5.97e+07 : 54.2 secs : infill_ei\n",
      "\n"
     ]
    },
    {
     "name": "stdout",
     "output_type": "stream",
     "text": [
      "20250531 190228\tbinary\tcustom\tTRUE\tTRUE\tFALSE\t-100\t31\t434\tTRUE\t823819\t0.0501901838982016\t262\t0.393522370725521\t1276\t11945\t1.53050234696146\t62085000\t120\n"
     ]
    },
    {
     "name": "stderr",
     "output_type": "stream",
     "text": [
      "[mbo] 96: learning_rate=0.0502; num_leaves=262; feature_fraction=0.394; min_data_in_leaf=1276; envios=11945; lambda_l1=1.53 : y = 6.21e+07 : 96.0 secs : infill_ei\n",
      "\n",
      "Saved the current state after iteration 97 in the file 5431.RDATA.\n",
      "\n"
     ]
    },
    {
     "name": "stdout",
     "output_type": "stream",
     "text": [
      "20250531 190450\tbinary\tcustom\tTRUE\tTRUE\tFALSE\t-100\t31\t414\tTRUE\t823819\t0.0186786258585298\t744\t0.446171204940449\t751\t11142\t1.75820565418241\t61380000\t121\n"
     ]
    },
    {
     "name": "stderr",
     "output_type": "stream",
     "text": [
      "[mbo] 97: learning_rate=0.0187; num_leaves=744; feature_fraction=0.446; min_data_in_leaf=751; envios=11142; lambda_l1=1.76 : y = 6.14e+07 : 135.1 secs : infill_ei\n",
      "\n"
     ]
    },
    {
     "name": "stdout",
     "output_type": "stream",
     "text": [
      "20250531 190546\tbinary\tcustom\tTRUE\tTRUE\tFALSE\t-100\t31\t162\tTRUE\t823819\t0.0651517602065247\t407\t0.437308935823414\t646\t12895\t3.18384962530142\t60675000\t122\n"
     ]
    },
    {
     "name": "stderr",
     "output_type": "stream",
     "text": [
      "[mbo] 98: learning_rate=0.0652; num_leaves=407; feature_fraction=0.437; min_data_in_leaf=646; envios=12895; lambda_l1=3.18 : y = 6.07e+07 : 54.1 secs : infill_ei\n",
      "\n"
     ]
    },
    {
     "name": "stdout",
     "output_type": "stream",
     "text": [
      "20250531 190807\tbinary\tcustom\tTRUE\tTRUE\tFALSE\t-100\t31\t839\tTRUE\t823819\t0.0168315721312612\t478\t0.868233067068048\t1910\t11758\t1.19162113779284\t60855000\t123\n"
     ]
    },
    {
     "name": "stderr",
     "output_type": "stream",
     "text": [
      "[mbo] 99: learning_rate=0.0168; num_leaves=478; feature_fraction=0.868; min_data_in_leaf=1910; envios=11758; lambda_l1=1.19 : y = 6.09e+07 : 141.1 secs : infill_ei\n",
      "\n"
     ]
    },
    {
     "name": "stdout",
     "output_type": "stream",
     "text": [
      "20250531 191031\tbinary\tcustom\tTRUE\tTRUE\tFALSE\t-100\t31\t633\tTRUE\t823819\t0.0105812294980808\t449\t0.604548946909838\t2186\t11173\t2.30072730827492\t59130000\t124\n"
     ]
    },
    {
     "name": "stderr",
     "output_type": "stream",
     "text": [
      "[mbo] 100: learning_rate=0.0106; num_leaves=449; feature_fraction=0.605; min_data_in_leaf=2186; envios=11173; lambda_l1=2.3 : y = 5.91e+07 : 142.2 secs : infill_ei\n",
      "\n"
     ]
    },
    {
     "name": "stdout",
     "output_type": "stream",
     "text": [
      "20250531 191515\tbinary\tcustom\tTRUE\tTRUE\tFALSE\t-100\t31\t642\tTRUE\t823819\t0.0112233599367553\t569\t0.585397994848993\t93\t13575\t0.431255948368039\t61875000\t125\n"
     ]
    },
    {
     "name": "stderr",
     "output_type": "stream",
     "text": [
      "[mbo] 101: learning_rate=0.0112; num_leaves=569; feature_fraction=0.585; min_data_in_leaf=93; envios=13575; lambda_l1=0.431 : y = 6.19e+07 : 283.9 secs : infill_ei\n",
      "\n",
      "Saved the current state after iteration 102 in the file 5431.RDATA.\n",
      "\n"
     ]
    },
    {
     "name": "stdout",
     "output_type": "stream",
     "text": [
      "20250531 191801\tbinary\tcustom\tTRUE\tTRUE\tFALSE\t-100\t31\t419\tTRUE\t823819\t0.0120010080002765\t941\t0.641551187414308\t308\t11894\t0.947583125729584\t61530000\t126\n"
     ]
    },
    {
     "name": "stderr",
     "output_type": "stream",
     "text": [
      "[mbo] 102: learning_rate=0.012; num_leaves=941; feature_fraction=0.642; min_data_in_leaf=308; envios=11894; lambda_l1=0.948 : y = 6.15e+07 : 157.7 secs : infill_ei\n",
      "\n"
     ]
    },
    {
     "name": "stdout",
     "output_type": "stream",
     "text": [
      "20250531 191841\tbinary\tcustom\tTRUE\tTRUE\tFALSE\t-100\t31\t142\tTRUE\t823819\t0.0508890625728389\t178\t0.331368211973037\t4397\t12642\t0.00981280308642243\t58080000\t127\n"
     ]
    },
    {
     "name": "stderr",
     "output_type": "stream",
     "text": [
      "[mbo] 103: learning_rate=0.0509; num_leaves=178; feature_fraction=0.331; min_data_in_leaf=4397; envios=12642; lambda_l1=0.00981 : y = 5.81e+07 : 39.0 secs : infill_ei\n",
      "\n"
     ]
    },
    {
     "name": "stdout",
     "output_type": "stream",
     "text": [
      "20250531 191939\tbinary\tcustom\tTRUE\tTRUE\tFALSE\t-100\t31\t155\tTRUE\t823819\t0.0308606871549955\t162\t0.934961345444546\t21\t12020\t9.8372532829426\t60420000\t128\n"
     ]
    },
    {
     "name": "stderr",
     "output_type": "stream",
     "text": [
      "[mbo] 104: learning_rate=0.0309; num_leaves=162; feature_fraction=0.935; min_data_in_leaf=21; envios=12020; lambda_l1=9.84 : y = 6.04e+07 : 56.9 secs : infill_ei\n",
      "\n"
     ]
    },
    {
     "name": "stdout",
     "output_type": "stream",
     "text": [
      "20250531 192017\tbinary\tcustom\tTRUE\tTRUE\tFALSE\t-100\t31\t49\tTRUE\t823819\t0.108200018735376\t450\t0.636749330231613\t27\t11526\t1.49148156102602\t58185000\t129\n"
     ]
    },
    {
     "name": "stderr",
     "output_type": "stream",
     "text": [
      "[mbo] 105: learning_rate=0.108; num_leaves=450; feature_fraction=0.637; min_data_in_leaf=27; envios=11526; lambda_l1=1.49 : y = 5.82e+07 : 36.9 secs : infill_ei\n",
      "\n"
     ]
    },
    {
     "name": "stdout",
     "output_type": "stream",
     "text": [
      "20250531 192358\tbinary\tcustom\tTRUE\tTRUE\tFALSE\t-100\t31\t1023\tTRUE\t823819\t0.0101188502900319\t65\t0.589553948888228\t364\t12635\t0.947897790339395\t62295000\t130\n"
     ]
    },
    {
     "name": "stderr",
     "output_type": "stream",
     "text": [
      "[mbo] 106: learning_rate=0.0101; num_leaves=65; feature_fraction=0.59; min_data_in_leaf=364; envios=12635; lambda_l1=0.948 : y = 6.23e+07 : 221.0 secs : infill_ei\n",
      "\n"
     ]
    },
    {
     "name": "stdout",
     "output_type": "stream",
     "text": [
      "20250531 192753\tbinary\tcustom\tTRUE\tTRUE\tFALSE\t-100\t31\t1097\tTRUE\t823819\t0.0104012676037616\t347\t0.633961149627862\t867\t12064\t0.12995685043266\t62340000\t131\n"
     ]
    },
    {
     "name": "stderr",
     "output_type": "stream",
     "text": [
      "[mbo] 107: learning_rate=0.0104; num_leaves=347; feature_fraction=0.634; min_data_in_leaf=867; envios=12064; lambda_l1=0.13 : y = 6.23e+07 : 233.9 secs : infill_ei\n",
      "\n",
      "Saved the current state after iteration 108 in the file 5431.RDATA.\n",
      "\n"
     ]
    },
    {
     "name": "stdout",
     "output_type": "stream",
     "text": [
      "20250531 192859\tbinary\tcustom\tTRUE\tTRUE\tFALSE\t-100\t31\t252\tTRUE\t823819\t0.0672638938169903\t593\t0.402287213934634\t1304\t11193\t0.107189701198805\t60510000\t132\n"
     ]
    },
    {
     "name": "stderr",
     "output_type": "stream",
     "text": [
      "[mbo] 108: learning_rate=0.0673; num_leaves=593; feature_fraction=0.402; min_data_in_leaf=1304; envios=11193; lambda_l1=0.107 : y = 6.05e+07 : 58.0 secs : infill_ei\n",
      "\n"
     ]
    },
    {
     "name": "stdout",
     "output_type": "stream",
     "text": [
      "20250531 192949\tbinary\tcustom\tTRUE\tTRUE\tFALSE\t-100\t31\t186\tTRUE\t823819\t0.0623136298839352\t397\t0.420271396112196\t1081\t12683\t1.34936177860673\t60960000\t133\n"
     ]
    },
    {
     "name": "stderr",
     "output_type": "stream",
     "text": [
      "[mbo] 109: learning_rate=0.0623; num_leaves=397; feature_fraction=0.42; min_data_in_leaf=1081; envios=12683; lambda_l1=1.35 : y = 6.1e+07 : 49.1 secs : infill_ei\n",
      "\n"
     ]
    },
    {
     "name": "stdout",
     "output_type": "stream",
     "text": [
      "20250531 193050\tbinary\tcustom\tTRUE\tTRUE\tFALSE\t-100\t31\t295\tTRUE\t823819\t0.0504601068725696\t241\t0.251887934998327\t1352\t14630\t0.325083521295524\t60030000\t134\n"
     ]
    },
    {
     "name": "stderr",
     "output_type": "stream",
     "text": [
      "[mbo] 110: learning_rate=0.0505; num_leaves=241; feature_fraction=0.252; min_data_in_leaf=1352; envios=14630; lambda_l1=0.325 : y = 6e+07 : 60.8 secs : infill_ei\n",
      "\n"
     ]
    },
    {
     "name": "stdout",
     "output_type": "stream",
     "text": [
      "20250531 193229\tbinary\tcustom\tTRUE\tTRUE\tFALSE\t-100\t31\t419\tTRUE\t823819\t0.0389720141824369\t402\t0.406429136498053\t571\t12227\t1.42029069454487\t62205000\t135\n"
     ]
    },
    {
     "name": "stderr",
     "output_type": "stream",
     "text": [
      "[mbo] 111: learning_rate=0.039; num_leaves=402; feature_fraction=0.406; min_data_in_leaf=571; envios=12227; lambda_l1=1.42 : y = 6.22e+07 : 97.9 secs : infill_ei\n",
      "\n"
     ]
    },
    {
     "name": "stdout",
     "output_type": "stream",
     "text": [
      "20250531 193537\tbinary\tcustom\tTRUE\tTRUE\tFALSE\t-100\t31\t582\tTRUE\t823819\t0.0149809531740587\t923\t0.455317913606962\t638\t14475\t0.261877176136249\t62175000\t136\n"
     ]
    },
    {
     "name": "stderr",
     "output_type": "stream",
     "text": [
      "[mbo] 112: learning_rate=0.015; num_leaves=923; feature_fraction=0.455; min_data_in_leaf=638; envios=14475; lambda_l1=0.262 : y = 6.22e+07 : 187.0 secs : infill_ei\n",
      "\n"
     ]
    },
    {
     "name": "stdout",
     "output_type": "stream",
     "text": [
      "20250531 193949\tbinary\tcustom\tTRUE\tTRUE\tFALSE\t-100\t31\t1574\tTRUE\t823819\t0.0100560861868963\t784\t0.628373519426618\t1659\t12525\t2.50357134235184\t61185000\t137\n"
     ]
    },
    {
     "name": "stderr",
     "output_type": "stream",
     "text": [
      "[mbo] 113: learning_rate=0.0101; num_leaves=784; feature_fraction=0.628; min_data_in_leaf=1659; envios=12525; lambda_l1=2.5 : y = 6.12e+07 : 250.9 secs : infill_ei\n",
      "\n",
      "Saved the current state after iteration 114 in the file 5431.RDATA.\n",
      "\n"
     ]
    },
    {
     "name": "stdout",
     "output_type": "stream",
     "text": [
      "20250531 194248\tbinary\tcustom\tTRUE\tTRUE\tFALSE\t-100\t31\t569\tTRUE\t823819\t0.0136344123630386\t230\t0.876701172467659\t6\t12135\t6.50878372986792\t61875000\t138\n"
     ]
    },
    {
     "name": "stderr",
     "output_type": "stream",
     "text": [
      "[mbo] 114: learning_rate=0.0136; num_leaves=230; feature_fraction=0.877; min_data_in_leaf=6; envios=12135; lambda_l1=6.51 : y = 6.19e+07 : 170.6 secs : infill_ei\n",
      "\n"
     ]
    },
    {
     "name": "stdout",
     "output_type": "stream",
     "text": [
      "20250531 194527\tbinary\tcustom\tTRUE\tTRUE\tFALSE\t-100\t31\t381\tTRUE\t823819\t0.0107994956848749\t825\t0.952909561717325\t161\t11650\t3.20386753787102\t61770000\t139\n"
     ]
    },
    {
     "name": "stderr",
     "output_type": "stream",
     "text": [
      "[mbo] 115: learning_rate=0.0108; num_leaves=825; feature_fraction=0.953; min_data_in_leaf=161; envios=11650; lambda_l1=3.2 : y = 6.18e+07 : 158.0 secs : infill_ei\n",
      "\n"
     ]
    },
    {
     "name": "stdout",
     "output_type": "stream",
     "text": [
      "20250531 194813\tbinary\tcustom\tTRUE\tTRUE\tFALSE\t-100\t31\t1024\tTRUE\t823819\t0.0245006854542306\t68\t0.717801196109311\t1564\t13103\t3.96904335720212\t62220000\t140\n"
     ]
    },
    {
     "name": "stderr",
     "output_type": "stream",
     "text": [
      "[mbo] 116: learning_rate=0.0245; num_leaves=68; feature_fraction=0.718; min_data_in_leaf=1564; envios=13103; lambda_l1=3.97 : y = 6.22e+07 : 164.9 secs : infill_ei\n",
      "\n"
     ]
    },
    {
     "name": "stdout",
     "output_type": "stream",
     "text": [
      "20250531 194935\tbinary\tcustom\tTRUE\tTRUE\tFALSE\t-100\t31\t414\tTRUE\t823819\t0.0353161930389313\t17\t0.465378944665431\t570\t11276\t0.188819796437298\t60255000\t141\n"
     ]
    },
    {
     "name": "stderr",
     "output_type": "stream",
     "text": [
      "[mbo] 117: learning_rate=0.0353; num_leaves=17; feature_fraction=0.465; min_data_in_leaf=570; envios=11276; lambda_l1=0.189 : y = 6.03e+07 : 81.0 secs : infill_ei\n",
      "\n"
     ]
    },
    {
     "name": "stdout",
     "output_type": "stream",
     "text": [
      "20250531 195336\tbinary\tcustom\tTRUE\tTRUE\tFALSE\t-100\t31\t910\tTRUE\t823819\t0.0114324238358395\t294\t0.631405895615322\t448\t9472\t1.23790710423711\t61590000\t142\n"
     ]
    },
    {
     "name": "stderr",
     "output_type": "stream",
     "text": [
      "[mbo] 118: learning_rate=0.0114; num_leaves=294; feature_fraction=0.631; min_data_in_leaf=448; envios=9472; lambda_l1=1.24 : y = 6.16e+07 : 239.8 secs : infill_ei\n",
      "\n",
      "Saved the current state after iteration 119 in the file 5431.RDATA.\n",
      "\n"
     ]
    },
    {
     "name": "stdout",
     "output_type": "stream",
     "text": [
      "20250531 195648\tbinary\tcustom\tTRUE\tTRUE\tFALSE\t-100\t31\t368\tTRUE\t823819\t0.0123654612946776\t498\t0.305382862544604\t205\t13034\t0.00992597118365062\t61110000\t143\n"
     ]
    },
    {
     "name": "stderr",
     "output_type": "stream",
     "text": [
      "[mbo] 119: learning_rate=0.0124; num_leaves=498; feature_fraction=0.305; min_data_in_leaf=205; envios=13034; lambda_l1=0.00993 : y = 6.11e+07 : 184.0 secs : infill_ei\n",
      "\n"
     ]
    },
    {
     "name": "stdout",
     "output_type": "stream",
     "text": [
      "20250531 195741\tbinary\tcustom\tTRUE\tTRUE\tFALSE\t-100\t31\t93\tTRUE\t823819\t0.121564799779243\t893\t0.455112252126267\t43\t13862\t0.100954315069739\t57300000\t144\n"
     ]
    },
    {
     "name": "stderr",
     "output_type": "stream",
     "text": [
      "[mbo] 120: learning_rate=0.122; num_leaves=893; feature_fraction=0.455; min_data_in_leaf=43; envios=13862; lambda_l1=0.101 : y = 5.73e+07 : 50.8 secs : infill_ei\n",
      "\n"
     ]
    },
    {
     "name": "stdout",
     "output_type": "stream",
     "text": [
      "20250531 195905\tbinary\tcustom\tTRUE\tTRUE\tFALSE\t-100\t31\t221\tTRUE\t823819\t0.0524697979532716\t437\t0.412181978439147\t13\t11336\t1.03063184248061\t59835000\t145\n"
     ]
    },
    {
     "name": "stderr",
     "output_type": "stream",
     "text": [
      "[mbo] 121: learning_rate=0.0525; num_leaves=437; feature_fraction=0.412; min_data_in_leaf=13; envios=11336; lambda_l1=1.03 : y = 5.98e+07 : 84.3 secs : infill_ei\n",
      "\n"
     ]
    },
    {
     "name": "stdout",
     "output_type": "stream",
     "text": [
      "20250531 200011\tbinary\tcustom\tTRUE\tTRUE\tFALSE\t-100\t31\t231\tTRUE\t823819\t0.0489187138892702\t488\t0.381830716445897\t634\t10161\t1.04899669754168\t61920000\t146\n"
     ]
    },
    {
     "name": "stderr",
     "output_type": "stream",
     "text": [
      "[mbo] 122: learning_rate=0.0489; num_leaves=488; feature_fraction=0.382; min_data_in_leaf=634; envios=10161; lambda_l1=1.05 : y = 6.19e+07 : 64.7 secs : infill_ei\n",
      "\n"
     ]
    },
    {
     "name": "stdout",
     "output_type": "stream",
     "text": [
      "20250531 200222\tbinary\tcustom\tTRUE\tTRUE\tFALSE\t-100\t31\t842\tTRUE\t823819\t0.0260747132295655\t454\t0.637516547601724\t1499\t11253\t1.31514770498471\t61770000\t147\n"
     ]
    },
    {
     "name": "stderr",
     "output_type": "stream",
     "text": [
      "[mbo] 123: learning_rate=0.0261; num_leaves=454; feature_fraction=0.638; min_data_in_leaf=1499; envios=11253; lambda_l1=1.32 : y = 6.18e+07 : 129.2 secs : infill_ei\n",
      "\n"
     ]
    },
    {
     "name": "stdout",
     "output_type": "stream",
     "text": [
      "20250531 200301\tbinary\tcustom\tTRUE\tTRUE\tFALSE\t-100\t31\t184\tTRUE\t823819\t0.0538180905380998\t457\t0.715369589156694\t1498\t11563\t3.52382805943846\t61320000\t148\n"
     ]
    },
    {
     "name": "stderr",
     "output_type": "stream",
     "text": [
      "[mbo] 124: learning_rate=0.0538; num_leaves=457; feature_fraction=0.715; min_data_in_leaf=1498; envios=11563; lambda_l1=3.52 : y = 6.13e+07 : 37.9 secs : infill_ei\n",
      "\n"
     ]
    },
    {
     "name": "stdout",
     "output_type": "stream",
     "text": [
      "20250531 200710\tbinary\tcustom\tTRUE\tTRUE\tFALSE\t-100\t31\t1419\tTRUE\t823819\t0.0161386814242744\t375\t0.373409486232826\t1258\t13597\t5.42557580673139\t60855000\t149\n"
     ]
    },
    {
     "name": "stderr",
     "output_type": "stream",
     "text": [
      "[mbo] 125: learning_rate=0.0161; num_leaves=375; feature_fraction=0.373; min_data_in_leaf=1258; envios=13597; lambda_l1=5.43 : y = 6.09e+07 : 247.7 secs : infill_ei\n",
      "\n",
      "Saved the current state after iteration 126 in the file 5431.RDATA.\n",
      "\n"
     ]
    },
    {
     "name": "stdout",
     "output_type": "stream",
     "text": [
      "20250531 201031\tbinary\tcustom\tTRUE\tTRUE\tFALSE\t-100\t31\t451\tTRUE\t823819\t0.0109265760190992\t420\t0.825276995172401\t94\t14048\t3.45603923294084\t60945000\t150\n"
     ]
    },
    {
     "name": "stderr",
     "output_type": "stream",
     "text": [
      "[mbo] 126: learning_rate=0.0109; num_leaves=420; feature_fraction=0.825; min_data_in_leaf=94; envios=14048; lambda_l1=3.46 : y = 6.09e+07 : 192.6 secs : infill_ei\n",
      "\n"
     ]
    },
    {
     "name": "stdout",
     "output_type": "stream",
     "text": [
      "20250531 201149\tbinary\tcustom\tTRUE\tTRUE\tFALSE\t-100\t31\t314\tTRUE\t823819\t0.0517400939148291\t478\t0.38946587913236\t1523\t13256\t0.248634712802546\t62715000\t151\n"
     ]
    },
    {
     "name": "stderr",
     "output_type": "stream",
     "text": [
      "[mbo] 127: learning_rate=0.0517; num_leaves=478; feature_fraction=0.389; min_data_in_leaf=1523; envios=13256; lambda_l1=0.249 : y = 6.27e+07 : 76.4 secs : infill_ei\n",
      "\n"
     ]
    },
    {
     "name": "stdout",
     "output_type": "stream",
     "text": [
      "20250531 201349\tbinary\tcustom\tTRUE\tTRUE\tFALSE\t-100\t31\t507\tTRUE\t823819\t0.0297603690703857\t801\t0.870845548473482\t346\t11565\t4.09566286976095\t61785000\t152\n"
     ]
    },
    {
     "name": "stderr",
     "output_type": "stream",
     "text": [
      "[mbo] 128: learning_rate=0.0298; num_leaves=801; feature_fraction=0.871; min_data_in_leaf=346; envios=11565; lambda_l1=4.1 : y = 6.18e+07 : 118.9 secs : infill_ei\n",
      "\n"
     ]
    },
    {
     "name": "stdout",
     "output_type": "stream",
     "text": [
      "20250531 201610\tbinary\tcustom\tTRUE\tTRUE\tFALSE\t-100\t31\t699\tTRUE\t823819\t0.0130553822712149\t71\t0.879859168084506\t1221\t11870\t2.32905824222691\t61110000\t153\n"
     ]
    },
    {
     "name": "stderr",
     "output_type": "stream",
     "text": [
      "[mbo] 129: learning_rate=0.0131; num_leaves=71; feature_fraction=0.88; min_data_in_leaf=1221; envios=11870; lambda_l1=2.33 : y = 6.11e+07 : 139.3 secs : infill_ei\n",
      "\n"
     ]
    },
    {
     "name": "stdout",
     "output_type": "stream",
     "text": [
      "20250531 201815\tbinary\tcustom\tTRUE\tTRUE\tFALSE\t-100\t31\t557\tTRUE\t823819\t0.0161200629916938\t453\t0.329978094256688\t1534\t11013\t0.693378356774283\t61170000\t154\n"
     ]
    },
    {
     "name": "stderr",
     "output_type": "stream",
     "text": [
      "[mbo] 130: learning_rate=0.0161; num_leaves=453; feature_fraction=0.33; min_data_in_leaf=1534; envios=11013; lambda_l1=0.693 : y = 6.12e+07 : 124.1 secs : infill_ei\n",
      "\n",
      "Saved the current state after iteration 131 in the file 5431.RDATA.\n",
      "\n"
     ]
    },
    {
     "name": "stdout",
     "output_type": "stream",
     "text": [
      "20250531 201916\tbinary\tcustom\tTRUE\tTRUE\tFALSE\t-100\t31\t169\tTRUE\t823819\t0.0606812267360045\t365\t0.384618529697502\t474\t7946\t0.648953783707078\t59685000\t155\n"
     ]
    },
    {
     "name": "stderr",
     "output_type": "stream",
     "text": [
      "[mbo] 131: learning_rate=0.0607; num_leaves=365; feature_fraction=0.385; min_data_in_leaf=474; envios=7946; lambda_l1=0.649 : y = 5.97e+07 : 52.3 secs : infill_ei\n",
      "\n"
     ]
    },
    {
     "name": "stdout",
     "output_type": "stream",
     "text": [
      "20250531 201954\tbinary\tcustom\tTRUE\tTRUE\tFALSE\t-100\t31\t95\tTRUE\t823819\t0.0693630326947651\t455\t0.381110579703432\t645\t12188\t0.999652955056057\t59925000\t156\n"
     ]
    },
    {
     "name": "stderr",
     "output_type": "stream",
     "text": [
      "[mbo] 132: learning_rate=0.0694; num_leaves=455; feature_fraction=0.381; min_data_in_leaf=645; envios=12188; lambda_l1=1 : y = 5.99e+07 : 36.0 secs : infill_ei\n",
      "\n"
     ]
    },
    {
     "name": "stdout",
     "output_type": "stream",
     "text": [
      "20250531 202114\tbinary\tcustom\tTRUE\tTRUE\tFALSE\t-100\t31\t391\tTRUE\t823819\t0.0449055094277545\t470\t0.302520078251718\t887\t10715\t1.38180737964924\t61695000\t157\n"
     ]
    },
    {
     "name": "stderr",
     "output_type": "stream",
     "text": [
      "[mbo] 133: learning_rate=0.0449; num_leaves=470; feature_fraction=0.303; min_data_in_leaf=887; envios=10715; lambda_l1=1.38 : y = 6.17e+07 : 79.7 secs : infill_ei\n",
      "\n"
     ]
    },
    {
     "name": "stdout",
     "output_type": "stream",
     "text": [
      "20250531 202221\tbinary\tcustom\tTRUE\tTRUE\tFALSE\t-100\t31\t399\tTRUE\t823819\t0.0593770298581973\t349\t0.228690415177759\t2253\t10325\t1.31529413355226\t59745000\t158\n"
     ]
    },
    {
     "name": "stderr",
     "output_type": "stream",
     "text": [
      "[mbo] 134: learning_rate=0.0594; num_leaves=349; feature_fraction=0.229; min_data_in_leaf=2253; envios=10325; lambda_l1=1.32 : y = 5.97e+07 : 65.4 secs : infill_ei\n",
      "\n"
     ]
    },
    {
     "name": "stdout",
     "output_type": "stream",
     "text": [
      "20250531 202314\tbinary\tcustom\tTRUE\tTRUE\tFALSE\t-100\t31\t144\tTRUE\t823819\t0.0390028891775325\t675\t0.534691509758324\t901\t9695\t1.36547592717204\t61155000\t159\n"
     ]
    },
    {
     "name": "stderr",
     "output_type": "stream",
     "text": [
      "[mbo] 135: learning_rate=0.039; num_leaves=675; feature_fraction=0.535; min_data_in_leaf=901; envios=9695; lambda_l1=1.37 : y = 6.12e+07 : 51.2 secs : infill_ei\n",
      "\n"
     ]
    },
    {
     "name": "stdout",
     "output_type": "stream",
     "text": [
      "20250531 202417\tbinary\tcustom\tTRUE\tTRUE\tFALSE\t-100\t31\t223\tTRUE\t823819\t0.0604010493873354\t130\t0.485781872482505\t515\t11176\t1.8015535405624\t62115000\t160\n"
     ]
    },
    {
     "name": "stderr",
     "output_type": "stream",
     "text": [
      "[mbo] 136: learning_rate=0.0604; num_leaves=130; feature_fraction=0.486; min_data_in_leaf=515; envios=11176; lambda_l1=1.8 : y = 6.21e+07 : 62.8 secs : infill_ei\n",
      "\n"
     ]
    },
    {
     "name": "stdout",
     "output_type": "stream",
     "text": [
      "20250531 202951\tbinary\tcustom\tTRUE\tTRUE\tFALSE\t-100\t31\t1714\tTRUE\t823819\t0.0102290308621777\t88\t0.534248611538702\t1520\t12785\t0.386621403976343\t62205000\t161\n"
     ]
    },
    {
     "name": "stderr",
     "output_type": "stream",
     "text": [
      "[mbo] 137: learning_rate=0.0102; num_leaves=88; feature_fraction=0.534; min_data_in_leaf=1520; envios=12785; lambda_l1=0.387 : y = 6.22e+07 : 332.8 secs : infill_ei\n",
      "\n",
      "Saved the current state after iteration 138 in the file 5431.RDATA.\n",
      "\n"
     ]
    },
    {
     "name": "stdout",
     "output_type": "stream",
     "text": [
      "20250531 203142\tbinary\tcustom\tTRUE\tTRUE\tFALSE\t-100\t31\t421\tTRUE\t823819\t0.0320744804471607\t129\t0.450801981294508\t555\t11266\t1.44783467967675\t61725000\t162\n"
     ]
    },
    {
     "name": "stderr",
     "output_type": "stream",
     "text": [
      "[mbo] 138: learning_rate=0.0321; num_leaves=129; feature_fraction=0.451; min_data_in_leaf=555; envios=11266; lambda_l1=1.45 : y = 6.17e+07 : 102.9 secs : infill_ei\n",
      "\n"
     ]
    },
    {
     "name": "stdout",
     "output_type": "stream",
     "text": [
      "20250531 203528\tbinary\tcustom\tTRUE\tTRUE\tFALSE\t-100\t31\t729\tTRUE\t823819\t0.0102834719593782\t254\t0.80595105351055\t169\t12476\t1.47902957671763\t61455000\t163\n"
     ]
    },
    {
     "name": "stderr",
     "output_type": "stream",
     "text": [
      "[mbo] 139: learning_rate=0.0103; num_leaves=254; feature_fraction=0.806; min_data_in_leaf=169; envios=12476; lambda_l1=1.48 : y = 6.15e+07 : 224.9 secs : infill_ei\n",
      "\n"
     ]
    },
    {
     "name": "stdout",
     "output_type": "stream",
     "text": [
      "20250531 203738\tbinary\tcustom\tTRUE\tTRUE\tFALSE\t-100\t31\t813\tTRUE\t823819\t0.0275999719971575\t484\t0.799958398503973\t683\t12197\t3.90243823729748\t61575000\t164\n"
     ]
    },
    {
     "name": "stderr",
     "output_type": "stream",
     "text": [
      "[mbo] 140: learning_rate=0.0276; num_leaves=484; feature_fraction=0.8; min_data_in_leaf=683; envios=12197; lambda_l1=3.9 : y = 6.16e+07 : 128.8 secs : infill_ei\n",
      "\n"
     ]
    },
    {
     "name": "stdout",
     "output_type": "stream",
     "text": [
      "20250531 203942\tbinary\tcustom\tTRUE\tTRUE\tFALSE\t-100\t31\t535\tTRUE\t823819\t0.0232912092772686\t806\t0.754504834565376\t287\t12579\t3.21633825523022\t61035000\t165\n"
     ]
    },
    {
     "name": "stderr",
     "output_type": "stream",
     "text": [
      "[mbo] 141: learning_rate=0.0233; num_leaves=806; feature_fraction=0.755; min_data_in_leaf=287; envios=12579; lambda_l1=3.22 : y = 6.1e+07 : 122.3 secs : infill_ei\n",
      "\n"
     ]
    },
    {
     "name": "stdout",
     "output_type": "stream",
     "text": [
      "20250531 204114\tbinary\tcustom\tTRUE\tTRUE\tFALSE\t-100\t31\t416\tTRUE\t823819\t0.0431311170554511\t697\t0.82545235539481\t448\t9429\t1.07864801770041\t60765000\t166\n"
     ]
    },
    {
     "name": "stderr",
     "output_type": "stream",
     "text": [
      "[mbo] 142: learning_rate=0.0431; num_leaves=697; feature_fraction=0.825; min_data_in_leaf=448; envios=9429; lambda_l1=1.08 : y = 6.08e+07 : 90.9 secs : infill_ei\n",
      "\n",
      "Saved the current state after iteration 143 in the file 5431.RDATA.\n",
      "\n"
     ]
    },
    {
     "name": "stdout",
     "output_type": "stream",
     "text": [
      "20250531 204228\tbinary\tcustom\tTRUE\tTRUE\tFALSE\t-100\t31\t433\tTRUE\t823819\t0.0584210710942622\t231\t0.741906902791917\t1389\t11927\t2.32655957563349\t61785000\t167\n"
     ]
    },
    {
     "name": "stderr",
     "output_type": "stream",
     "text": [
      "[mbo] 143: learning_rate=0.0584; num_leaves=231; feature_fraction=0.742; min_data_in_leaf=1389; envios=11927; lambda_l1=2.33 : y = 6.18e+07 : 66.0 secs : infill_ei\n",
      "\n"
     ]
    },
    {
     "name": "stdout",
     "output_type": "stream",
     "text": [
      "20250531 204800\tbinary\tcustom\tTRUE\tTRUE\tFALSE\t-100\t31\t2560\tTRUE\t823819\t0.0103161794347331\t28\t0.594588231693208\t927\t14269\t0.747326071928245\t62205000\t168\n"
     ]
    },
    {
     "name": "stderr",
     "output_type": "stream",
     "text": [
      "[mbo] 144: learning_rate=0.0103; num_leaves=28; feature_fraction=0.595; min_data_in_leaf=927; envios=14269; lambda_l1=0.747 : y = 6.22e+07 : 330.0 secs : infill_ei\n",
      "\n"
     ]
    },
    {
     "name": "stdout",
     "output_type": "stream",
     "text": [
      "20250531 204852\tbinary\tcustom\tTRUE\tTRUE\tFALSE\t-100\t31\t229\tTRUE\t823819\t0.0611649165109881\t35\t0.519735849178131\t1214\t13713\t0.306279233850159\t60750000\t169\n"
     ]
    },
    {
     "name": "stderr",
     "output_type": "stream",
     "text": [
      "[mbo] 145: learning_rate=0.0612; num_leaves=35; feature_fraction=0.52; min_data_in_leaf=1214; envios=13713; lambda_l1=0.306 : y = 6.08e+07 : 51.1 secs : infill_ei\n",
      "\n"
     ]
    },
    {
     "name": "stdout",
     "output_type": "stream",
     "text": [
      "20250531 204953\tbinary\tcustom\tTRUE\tTRUE\tFALSE\t-100\t31\t170\tTRUE\t823819\t0.0446362782342253\t268\t0.443545693609906\t523\t12079\t2.5322715295564\t61695000\t170\n"
     ]
    },
    {
     "name": "stderr",
     "output_type": "stream",
     "text": [
      "[mbo] 146: learning_rate=0.0446; num_leaves=268; feature_fraction=0.444; min_data_in_leaf=523; envios=12079; lambda_l1=2.53 : y = 6.17e+07 : 60.1 secs : infill_ei\n",
      "\n"
     ]
    },
    {
     "name": "stdout",
     "output_type": "stream",
     "text": [
      "20250531 205038\tbinary\tcustom\tTRUE\tTRUE\tFALSE\t-100\t31\t324\tTRUE\t823819\t0.0674494945069994\t21\t0.775660971665646\t858\t13411\t4.66134730190579\t60810000\t171\n"
     ]
    },
    {
     "name": "stderr",
     "output_type": "stream",
     "text": [
      "[mbo] 147: learning_rate=0.0674; num_leaves=21; feature_fraction=0.776; min_data_in_leaf=858; envios=13411; lambda_l1=4.66 : y = 6.08e+07 : 42.6 secs : infill_ei\n",
      "\n"
     ]
    },
    {
     "name": "stdout",
     "output_type": "stream",
     "text": [
      "20250531 205205\tbinary\tcustom\tTRUE\tTRUE\tFALSE\t-100\t31\t714\tTRUE\t823819\t0.0217658920645782\t12\t0.620331900813385\t1187\t14202\t1.16018279679007\t60360000\t172\n"
     ]
    },
    {
     "name": "stderr",
     "output_type": "stream",
     "text": [
      "[mbo] 148: learning_rate=0.0218; num_leaves=12; feature_fraction=0.62; min_data_in_leaf=1187; envios=14202; lambda_l1=1.16 : y = 6.04e+07 : 85.6 secs : infill_ei\n",
      "\n",
      "Saved the current state after iteration 149 in the file 5431.RDATA.\n",
      "\n"
     ]
    },
    {
     "name": "stdout",
     "output_type": "stream",
     "text": [
      "20250531 205409\tbinary\tcustom\tTRUE\tTRUE\tFALSE\t-100\t31\t241\tTRUE\t823819\t0.0143494127503314\t652\t0.899350739320034\t51\t12541\t4.68191938537461\t61140000\t173\n"
     ]
    },
    {
     "name": "stderr",
     "output_type": "stream",
     "text": [
      "[mbo] 149: learning_rate=0.0143; num_leaves=652; feature_fraction=0.899; min_data_in_leaf=51; envios=12541; lambda_l1=4.68 : y = 6.11e+07 : 115.0 secs : infill_ei\n",
      "\n"
     ]
    },
    {
     "name": "stdout",
     "output_type": "stream",
     "text": [
      "20250531 205546\tbinary\tcustom\tTRUE\tTRUE\tFALSE\t-100\t31\t409\tTRUE\t823819\t0.0310971918244359\t452\t0.831210791701358\t618\t11134\t0.263019462839072\t62850000\t174\n",
      "20250531 205608\tbinary\tcustom\tTRUE\tTRUE\tFALSE\t-100\t31\t409\tTRUE\t823819\t0.0310971918244359\t452\t0.831210791701358\t618\t11134\t0.263019462839072\t62850000\t174\n"
     ]
    },
    {
     "name": "stderr",
     "output_type": "stream",
     "text": [
      "[mbo] 150: learning_rate=0.0311; num_leaves=452; feature_fraction=0.831; min_data_in_leaf=618; envios=11134; lambda_l1=0.263 : y = 6.28e+07 : 117.7 secs : infill_ei\n",
      "\n"
     ]
    },
    {
     "name": "stdout",
     "output_type": "stream",
     "text": [
      "20250531 205706\tbinary\tcustom\tTRUE\tTRUE\tFALSE\t-100\t31\t143\tTRUE\t823819\t0.0309133606086174\t472\t0.608274682103873\t342\t11429\t2.96347022173859\t60885000\t175\n"
     ]
    },
    {
     "name": "stderr",
     "output_type": "stream",
     "text": [
      "[mbo] 151: learning_rate=0.0309; num_leaves=472; feature_fraction=0.608; min_data_in_leaf=342; envios=11429; lambda_l1=2.96 : y = 6.09e+07 : 56.4 secs : infill_ei\n",
      "\n"
     ]
    },
    {
     "name": "stdout",
     "output_type": "stream",
     "text": [
      "20250531 205913\tbinary\tcustom\tTRUE\tTRUE\tFALSE\t-100\t31\t661\tTRUE\t823819\t0.030224902420834\t319\t0.859574506429936\t759\t10682\t0.272456693408085\t62520000\t176\n"
     ]
    },
    {
     "name": "stderr",
     "output_type": "stream",
     "text": [
      "[mbo] 152: learning_rate=0.0302; num_leaves=319; feature_fraction=0.86; min_data_in_leaf=759; envios=10682; lambda_l1=0.272 : y = 6.25e+07 : 125.5 secs : infill_ei\n",
      "\n"
     ]
    },
    {
     "name": "stdout",
     "output_type": "stream",
     "text": [
      "20250531 210019\tbinary\tcustom\tTRUE\tTRUE\tFALSE\t-100\t31\t172\tTRUE\t823819\t0.0302608616601596\t595\t0.868366343626518\t424\t11059\t0.829877440240911\t61755000\t177\n"
     ]
    },
    {
     "name": "stderr",
     "output_type": "stream",
     "text": [
      "[mbo] 153: learning_rate=0.0303; num_leaves=595; feature_fraction=0.868; min_data_in_leaf=424; envios=11059; lambda_l1=0.83 : y = 6.18e+07 : 63.9 secs : infill_ei\n",
      "\n"
     ]
    },
    {
     "name": "stdout",
     "output_type": "stream",
     "text": [
      "20250531 210050\tbinary\tcustom\tTRUE\tTRUE\tFALSE\t-100\t31\t124\tTRUE\t823819\t0.154285570951993\t96\t0.365817599982168\t1381\t12185\t6.24418714272717\t59925000\t178\n"
     ]
    },
    {
     "name": "stderr",
     "output_type": "stream",
     "text": [
      "[mbo] 154: learning_rate=0.154; num_leaves=96; feature_fraction=0.366; min_data_in_leaf=1381; envios=12185; lambda_l1=6.24 : y = 5.99e+07 : 29.4 secs : infill_ei\n",
      "\n"
     ]
    },
    {
     "name": "stdout",
     "output_type": "stream",
     "text": [
      "20250531 210157\tbinary\tcustom\tTRUE\tTRUE\tFALSE\t-100\t31\t394\tTRUE\t823819\t0.0675746596577257\t232\t0.285483027962105\t1876\t14516\t5.82757292198065\t60375000\t179\n"
     ]
    },
    {
     "name": "stderr",
     "output_type": "stream",
     "text": [
      "[mbo] 155: learning_rate=0.0676; num_leaves=232; feature_fraction=0.285; min_data_in_leaf=1876; envios=14516; lambda_l1=5.83 : y = 6.04e+07 : 65.6 secs : infill_ei\n",
      "\n"
     ]
    },
    {
     "name": "stdout",
     "output_type": "stream",
     "text": [
      "20250531 210310\tbinary\tcustom\tTRUE\tTRUE\tFALSE\t-100\t31\t233\tTRUE\t823819\t0.040612200919892\t152\t0.429129059925066\t175\t11630\t1.16705455462317\t61710000\t180\n"
     ]
    },
    {
     "name": "stderr",
     "output_type": "stream",
     "text": [
      "[mbo] 156: learning_rate=0.0406; num_leaves=152; feature_fraction=0.429; min_data_in_leaf=175; envios=11630; lambda_l1=1.17 : y = 6.17e+07 : 72.0 secs : infill_ei\n",
      "\n",
      "Saved the current state after iteration 157 in the file 5431.RDATA.\n",
      "\n"
     ]
    },
    {
     "name": "stdout",
     "output_type": "stream",
     "text": [
      "20250531 210428\tbinary\tcustom\tTRUE\tTRUE\tFALSE\t-100\t31\t321\tTRUE\t823819\t0.048429931667441\t494\t0.376515864087244\t1258\t11983\t0.602930512524882\t61740000\t181\n"
     ]
    },
    {
     "name": "stderr",
     "output_type": "stream",
     "text": [
      "[mbo] 157: learning_rate=0.0484; num_leaves=494; feature_fraction=0.377; min_data_in_leaf=1258; envios=11983; lambda_l1=0.603 : y = 6.17e+07 : 69.3 secs : infill_ei\n",
      "\n"
     ]
    },
    {
     "name": "stdout",
     "output_type": "stream",
     "text": [
      "20250531 210548\tbinary\tcustom\tTRUE\tTRUE\tFALSE\t-100\t31\t322\tTRUE\t823819\t0.0320044699524087\t346\t0.845603234263526\t747\t11298\t0.00359448850231502\t62355000\t182\n"
     ]
    },
    {
     "name": "stderr",
     "output_type": "stream",
     "text": [
      "[mbo] 158: learning_rate=0.032; num_leaves=346; feature_fraction=0.846; min_data_in_leaf=747; envios=11298; lambda_l1=0.00359 : y = 6.24e+07 : 78.7 secs : infill_ei\n",
      "\n"
     ]
    },
    {
     "name": "stdout",
     "output_type": "stream",
     "text": [
      "20250531 210747\tbinary\tcustom\tTRUE\tTRUE\tFALSE\t-100\t31\t444\tTRUE\t823819\t0.0278787836462076\t142\t0.375699949882575\t96\t9643\t1.27394672423945\t61320000\t183\n"
     ]
    },
    {
     "name": "stderr",
     "output_type": "stream",
     "text": [
      "[mbo] 159: learning_rate=0.0279; num_leaves=142; feature_fraction=0.376; min_data_in_leaf=96; envios=9643; lambda_l1=1.27 : y = 6.13e+07 : 117.4 secs : infill_ei\n",
      "\n"
     ]
    },
    {
     "name": "stdout",
     "output_type": "stream",
     "text": [
      "20250531 211124\tbinary\tcustom\tTRUE\tTRUE\tFALSE\t-100\t31\t656\tTRUE\t823819\t0.0100573238106363\t228\t0.274082116909517\t381\t7950\t0.117716852354424\t59670000\t184\n"
     ]
    },
    {
     "name": "stderr",
     "output_type": "stream",
     "text": [
      "[mbo] 160: learning_rate=0.0101; num_leaves=228; feature_fraction=0.274; min_data_in_leaf=381; envios=7950; lambda_l1=0.118 : y = 5.97e+07 : 214.8 secs : infill_ei\n",
      "\n"
     ]
    },
    {
     "name": "stdout",
     "output_type": "stream",
     "text": [
      "20250531 211233\tbinary\tcustom\tTRUE\tTRUE\tFALSE\t-100\t31\t237\tTRUE\t823819\t0.0309123643121971\t143\t0.826105278790987\t848\t10990\t0.457114943191751\t62310000\t185\n"
     ]
    },
    {
     "name": "stderr",
     "output_type": "stream",
     "text": [
      "[mbo] 161: learning_rate=0.0309; num_leaves=143; feature_fraction=0.826; min_data_in_leaf=848; envios=10990; lambda_l1=0.457 : y = 6.23e+07 : 68.2 secs : infill_ei\n",
      "\n"
     ]
    },
    {
     "name": "stdout",
     "output_type": "stream",
     "text": [
      "20250531 211353\tbinary\tcustom\tTRUE\tTRUE\tFALSE\t-100\t31\t351\tTRUE\t823819\t0.0507399547865013\t608\t0.674635057940389\t997\t12658\t2.90786718712647\t62355000\t186\n"
     ]
    },
    {
     "name": "stderr",
     "output_type": "stream",
     "text": [
      "[mbo] 162: learning_rate=0.0507; num_leaves=608; feature_fraction=0.675; min_data_in_leaf=997; envios=12658; lambda_l1=2.91 : y = 6.24e+07 : 78.6 secs : infill_ei\n",
      "\n",
      "Saved the current state after iteration 163 in the file 5431.RDATA.\n",
      "\n"
     ]
    },
    {
     "name": "stdout",
     "output_type": "stream",
     "text": [
      "20250531 211440\tbinary\tcustom\tTRUE\tTRUE\tFALSE\t-100\t31\t237\tTRUE\t823819\t0.0718542911014676\t20\t0.716317757323853\t963\t14020\t0.21775035586038\t62100000\t187\n"
     ]
    },
    {
     "name": "stderr",
     "output_type": "stream",
     "text": [
      "[mbo] 163: learning_rate=0.0719; num_leaves=20; feature_fraction=0.716; min_data_in_leaf=963; envios=14020; lambda_l1=0.218 : y = 6.21e+07 : 36.8 secs : infill_ei\n",
      "\n"
     ]
    },
    {
     "name": "stdout",
     "output_type": "stream",
     "text": [
      "20250531 211624\tbinary\tcustom\tTRUE\tTRUE\tFALSE\t-100\t31\t579\tTRUE\t823819\t0.0284962469208328\t300\t0.70693970477692\t1762\t10280\t0.22367379502602\t61320000\t188\n"
     ]
    },
    {
     "name": "stderr",
     "output_type": "stream",
     "text": [
      "[mbo] 164: learning_rate=0.0285; num_leaves=300; feature_fraction=0.707; min_data_in_leaf=1762; envios=10280; lambda_l1=0.224 : y = 6.13e+07 : 103.8 secs : infill_ei\n",
      "\n"
     ]
    },
    {
     "name": "stdout",
     "output_type": "stream",
     "text": [
      "20250531 211909\tbinary\tcustom\tTRUE\tTRUE\tFALSE\t-100\t31\t327\tTRUE\t823819\t0.013906625650512\t284\t0.811436473533112\t61\t9344\t0.109061019064788\t60540000\t189\n"
     ]
    },
    {
     "name": "stderr",
     "output_type": "stream",
     "text": [
      "[mbo] 165: learning_rate=0.0139; num_leaves=284; feature_fraction=0.811; min_data_in_leaf=61; envios=9344; lambda_l1=0.109 : y = 6.05e+07 : 162.8 secs : infill_ei\n",
      "\n"
     ]
    },
    {
     "name": "stdout",
     "output_type": "stream",
     "text": [
      "20250531 212021\tbinary\tcustom\tTRUE\tTRUE\tFALSE\t-100\t31\t295\tTRUE\t823819\t0.0503617962681434\t719\t0.44447067384403\t1098\t13121\t1.66379702204567\t62520000\t190\n"
     ]
    },
    {
     "name": "stderr",
     "output_type": "stream",
     "text": [
      "[mbo] 166: learning_rate=0.0504; num_leaves=719; feature_fraction=0.444; min_data_in_leaf=1098; envios=13121; lambda_l1=1.66 : y = 6.25e+07 : 71.0 secs : infill_ei\n",
      "\n"
     ]
    },
    {
     "name": "stdout",
     "output_type": "stream",
     "text": [
      "20250531 212116\tbinary\tcustom\tTRUE\tTRUE\tFALSE\t-100\t31\t153\tTRUE\t823819\t0.0597223632242835\t521\t0.34776115513459\t555\t13174\t0.0975865445825801\t61770000\t191\n"
     ]
    },
    {
     "name": "stderr",
     "output_type": "stream",
     "text": [
      "[mbo] 167: learning_rate=0.0597; num_leaves=521; feature_fraction=0.348; min_data_in_leaf=555; envios=13174; lambda_l1=0.0976 : y = 6.18e+07 : 52.6 secs : infill_ei\n",
      "\n"
     ]
    },
    {
     "name": "stdout",
     "output_type": "stream",
     "text": [
      "20250531 212231\tbinary\tcustom\tTRUE\tTRUE\tFALSE\t-100\t31\t250\tTRUE\t823819\t0.0420326717911211\t615\t0.40754030410229\t556\t12055\t0.708946243772974\t61515000\t192\n"
     ]
    },
    {
     "name": "stderr",
     "output_type": "stream",
     "text": [
      "[mbo] 168: learning_rate=0.042; num_leaves=615; feature_fraction=0.408; min_data_in_leaf=556; envios=12055; lambda_l1=0.709 : y = 6.15e+07 : 74.4 secs : infill_ei\n",
      "\n"
     ]
    },
    {
     "name": "stdout",
     "output_type": "stream",
     "text": [
      "20250531 212319\tbinary\tcustom\tTRUE\tTRUE\tFALSE\t-100\t31\t217\tTRUE\t823819\t0.0390544466183119\t453\t0.819709374281269\t1107\t10793\t5.27001899638784\t60630000\t193\n"
     ]
    },
    {
     "name": "stderr",
     "output_type": "stream",
     "text": [
      "[mbo] 169: learning_rate=0.0391; num_leaves=453; feature_fraction=0.82; min_data_in_leaf=1107; envios=10793; lambda_l1=5.27 : y = 6.06e+07 : 45.4 secs : infill_ei\n",
      "\n"
     ]
    },
    {
     "name": "stdout",
     "output_type": "stream",
     "text": [
      "20250531 212523\tbinary\tcustom\tTRUE\tTRUE\tFALSE\t-100\t31\t205\tTRUE\t823819\t0.0179088636815282\t927\t0.57409928342403\t137\t13893\t0.458253524350052\t60090000\t194\n"
     ]
    },
    {
     "name": "stderr",
     "output_type": "stream",
     "text": [
      "[mbo] 170: learning_rate=0.0179; num_leaves=927; feature_fraction=0.574; min_data_in_leaf=137; envios=13893; lambda_l1=0.458 : y = 6.01e+07 : 122.3 secs : infill_ei\n",
      "\n",
      "Saved the current state after iteration 171 in the file 5431.RDATA.\n",
      "\n"
     ]
    },
    {
     "name": "stdout",
     "output_type": "stream",
     "text": [
      "20250531 212624\tbinary\tcustom\tTRUE\tTRUE\tFALSE\t-100\t31\t245\tTRUE\t823819\t0.0653931038210195\t753\t0.315210315932342\t1041\t12908\t4.91732422179398\t61725000\t195\n"
     ]
    },
    {
     "name": "stderr",
     "output_type": "stream",
     "text": [
      "[mbo] 171: learning_rate=0.0654; num_leaves=753; feature_fraction=0.315; min_data_in_leaf=1041; envios=12908; lambda_l1=4.92 : y = 6.17e+07 : 51.6 secs : infill_ei\n",
      "\n"
     ]
    },
    {
     "name": "stdout",
     "output_type": "stream",
     "text": [
      "20250531 212713\tbinary\tcustom\tTRUE\tTRUE\tFALSE\t-100\t31\t229\tTRUE\t823819\t0.0500025055805125\t751\t0.775381467312336\t1390\t10200\t0.116735847889465\t60960000\t196\n"
     ]
    },
    {
     "name": "stderr",
     "output_type": "stream",
     "text": [
      "[mbo] 172: learning_rate=0.05; num_leaves=751; feature_fraction=0.775; min_data_in_leaf=1390; envios=10200; lambda_l1=0.117 : y = 6.1e+07 : 47.7 secs : infill_ei\n",
      "\n"
     ]
    },
    {
     "name": "stdout",
     "output_type": "stream",
     "text": [
      "20250531 212810\tbinary\tcustom\tTRUE\tTRUE\tFALSE\t-100\t31\t194\tTRUE\t823819\t0.0398964149977625\t423\t0.396013153652618\t515\t10245\t5.24990938832274\t60825000\t197\n"
     ]
    },
    {
     "name": "stderr",
     "output_type": "stream",
     "text": [
      "[mbo] 173: learning_rate=0.0399; num_leaves=423; feature_fraction=0.396; min_data_in_leaf=515; envios=10245; lambda_l1=5.25 : y = 6.08e+07 : 55.0 secs : infill_ei\n",
      "\n"
     ]
    },
    {
     "name": "stdout",
     "output_type": "stream",
     "text": [
      "20250531 212933\tbinary\tcustom\tTRUE\tTRUE\tFALSE\t-100\t31\t365\tTRUE\t823819\t0.0492872853951479\t202\t0.528386523313076\t857\t9455\t1.94998872037845\t61635000\t198\n"
     ]
    },
    {
     "name": "stderr",
     "output_type": "stream",
     "text": [
      "[mbo] 174: learning_rate=0.0493; num_leaves=202; feature_fraction=0.528; min_data_in_leaf=857; envios=9455; lambda_l1=1.95 : y = 6.16e+07 : 81.7 secs : infill_ei\n",
      "\n"
     ]
    },
    {
     "name": "stdout",
     "output_type": "stream",
     "text": [
      "20250531 213202\tbinary\tcustom\tTRUE\tTRUE\tFALSE\t-100\t31\t605\tTRUE\t823819\t0.0137493692541245\t262\t0.794862466435294\t695\t14834\t0.0447284424546454\t61590000\t199\n"
     ]
    },
    {
     "name": "stderr",
     "output_type": "stream",
     "text": [
      "[mbo] 175: learning_rate=0.0137; num_leaves=262; feature_fraction=0.795; min_data_in_leaf=695; envios=14834; lambda_l1=0.0447 : y = 6.16e+07 : 147.0 secs : infill_ei\n",
      "\n"
     ]
    },
    {
     "name": "stdout",
     "output_type": "stream",
     "text": [
      "20250531 213309\tbinary\tcustom\tTRUE\tTRUE\tFALSE\t-100\t31\t409\tTRUE\t823819\t0.0513752100254081\t257\t0.73284129747179\t1346\t13492\t1.39749212379064\t61890000\t200\n"
     ]
    },
    {
     "name": "stderr",
     "output_type": "stream",
     "text": [
      "[mbo] 176: learning_rate=0.0514; num_leaves=257; feature_fraction=0.733; min_data_in_leaf=1346; envios=13492; lambda_l1=1.4 : y = 6.19e+07 : 65.6 secs : infill_ei\n",
      "\n"
     ]
    },
    {
     "name": "stdout",
     "output_type": "stream",
     "text": [
      "20250531 213356\tbinary\tcustom\tTRUE\tTRUE\tFALSE\t-100\t31\t185\tTRUE\t823819\t0.0720980075764979\t64\t0.477974856450633\t1697\t14992\t1.25307246116831\t59670000\t201\n"
     ]
    },
    {
     "name": "stderr",
     "output_type": "stream",
     "text": [
      "[mbo] 177: learning_rate=0.0721; num_leaves=64; feature_fraction=0.478; min_data_in_leaf=1697; envios=14992; lambda_l1=1.25 : y = 5.97e+07 : 45.2 secs : infill_ei\n",
      "\n"
     ]
    },
    {
     "name": "stdout",
     "output_type": "stream",
     "text": [
      "20250531 213437\tbinary\tcustom\tTRUE\tTRUE\tFALSE\t-100\t31\t279\tTRUE\t823819\t0.0731319445653155\t37\t0.852575662366666\t484\t12778\t0.434405339965655\t61995000\t202\n"
     ]
    },
    {
     "name": "stderr",
     "output_type": "stream",
     "text": [
      "[mbo] 178: learning_rate=0.0731; num_leaves=37; feature_fraction=0.853; min_data_in_leaf=484; envios=12778; lambda_l1=0.434 : y = 6.2e+07 : 38.7 secs : infill_ei\n",
      "\n"
     ]
    },
    {
     "name": "stdout",
     "output_type": "stream",
     "text": [
      "20250531 213624\tbinary\tcustom\tTRUE\tTRUE\tFALSE\t-100\t31\t580\tTRUE\t823819\t0.0244459281565656\t220\t0.857549930185724\t435\t14684\t5.51515560600734\t60840000\t203\n"
     ]
    },
    {
     "name": "stderr",
     "output_type": "stream",
     "text": [
      "[mbo] 179: learning_rate=0.0244; num_leaves=220; feature_fraction=0.858; min_data_in_leaf=435; envios=14684; lambda_l1=5.52 : y = 6.08e+07 : 105.9 secs : infill_ei\n",
      "\n",
      "Saved the current state after iteration 180 in the file 5431.RDATA.\n",
      "\n"
     ]
    },
    {
     "name": "stdout",
     "output_type": "stream",
     "text": [
      "20250531 213720\tbinary\tcustom\tTRUE\tTRUE\tFALSE\t-100\t31\t59\tTRUE\t823819\t0.0298575700227368\t159\t0.602652854827557\t135\t11828\t0.063946457021387\t61605000\t204\n"
     ]
    },
    {
     "name": "stderr",
     "output_type": "stream",
     "text": [
      "[mbo] 180: learning_rate=0.0299; num_leaves=159; feature_fraction=0.603; min_data_in_leaf=135; envios=11828; lambda_l1=0.0639 : y = 6.16e+07 : 47.7 secs : infill_ei\n",
      "\n"
     ]
    },
    {
     "name": "stdout",
     "output_type": "stream",
     "text": [
      "20250531 213803\tbinary\tcustom\tTRUE\tTRUE\tFALSE\t-100\t31\t142\tTRUE\t823819\t0.0464042778246151\t565\t0.613152934545427\t1062\t11256\t0.354703965254015\t61755000\t205\n"
     ]
    },
    {
     "name": "stderr",
     "output_type": "stream",
     "text": [
      "[mbo] 181: learning_rate=0.0464; num_leaves=565; feature_fraction=0.613; min_data_in_leaf=1062; envios=11256; lambda_l1=0.355 : y = 6.18e+07 : 41.1 secs : infill_ei\n",
      "\n"
     ]
    },
    {
     "name": "stdout",
     "output_type": "stream",
     "text": [
      "20250531 213859\tbinary\tcustom\tTRUE\tTRUE\tFALSE\t-100\t31\t243\tTRUE\t823819\t0.0312047405443645\t419\t0.898225672577028\t823\t9109\t5.10347827736614\t59805000\t206\n"
     ]
    },
    {
     "name": "stderr",
     "output_type": "stream",
     "text": [
      "[mbo] 182: learning_rate=0.0312; num_leaves=419; feature_fraction=0.898; min_data_in_leaf=823; envios=9109; lambda_l1=5.1 : y = 5.98e+07 : 53.9 secs : infill_ei\n",
      "\n"
     ]
    },
    {
     "name": "stdout",
     "output_type": "stream",
     "text": [
      "20250531 214023\tbinary\tcustom\tTRUE\tTRUE\tFALSE\t-100\t31\t687\tTRUE\t823819\t0.029266539473312\t882\t0.878860558795253\t3200\t13654\t9.07371253188834\t60330000\t207\n"
     ]
    },
    {
     "name": "stderr",
     "output_type": "stream",
     "text": [
      "[mbo] 183: learning_rate=0.0293; num_leaves=882; feature_fraction=0.879; min_data_in_leaf=3200; envios=13654; lambda_l1=9.07 : y = 6.03e+07 : 83.2 secs : infill_ei\n",
      "\n"
     ]
    },
    {
     "name": "stdout",
     "output_type": "stream",
     "text": [
      "20250531 214146\tbinary\tcustom\tTRUE\tTRUE\tFALSE\t-100\t31\t452\tTRUE\t823819\t0.0607025110997658\t666\t0.354509825676518\t1378\t11661\t2.37572225081172\t61860000\t208\n"
     ]
    },
    {
     "name": "stderr",
     "output_type": "stream",
     "text": [
      "[mbo] 184: learning_rate=0.0607; num_leaves=666; feature_fraction=0.355; min_data_in_leaf=1378; envios=11661; lambda_l1=2.38 : y = 6.19e+07 : 81.1 secs : infill_ei\n",
      "\n"
     ]
    },
    {
     "name": "stdout",
     "output_type": "stream",
     "text": [
      "20250531 214226\tbinary\tcustom\tTRUE\tTRUE\tFALSE\t-100\t31\t133\tTRUE\t823819\t0.0778866041220268\t272\t0.725318367945975\t353\t12855\t1.95888554635543\t60795000\t209\n"
     ]
    },
    {
     "name": "stderr",
     "output_type": "stream",
     "text": [
      "[mbo] 185: learning_rate=0.0779; num_leaves=272; feature_fraction=0.725; min_data_in_leaf=353; envios=12855; lambda_l1=1.96 : y = 6.08e+07 : 37.6 secs : infill_ei\n",
      "\n"
     ]
    },
    {
     "name": "stdout",
     "output_type": "stream",
     "text": [
      "20250531 214259\tbinary\tcustom\tTRUE\tTRUE\tFALSE\t-100\t31\t172\tTRUE\t823819\t0.071382971952197\t46\t0.816362849240583\t3060\t12802\t0.113185837831289\t59520000\t210\n"
     ]
    },
    {
     "name": "stderr",
     "output_type": "stream",
     "text": [
      "[mbo] 186: learning_rate=0.0714; num_leaves=46; feature_fraction=0.816; min_data_in_leaf=3060; envios=12802; lambda_l1=0.113 : y = 5.95e+07 : 31.5 secs : infill_ei\n",
      "\n"
     ]
    },
    {
     "name": "stdout",
     "output_type": "stream",
     "text": [
      "20250531 214356\tbinary\tcustom\tTRUE\tTRUE\tFALSE\t-100\t31\t209\tTRUE\t823819\t0.0509187198775249\t562\t0.481011712313488\t1337\t12712\t0.0672019545101562\t61350000\t211\n"
     ]
    },
    {
     "name": "stderr",
     "output_type": "stream",
     "text": [
      "[mbo] 187: learning_rate=0.0509; num_leaves=562; feature_fraction=0.481; min_data_in_leaf=1337; envios=12712; lambda_l1=0.0672 : y = 6.14e+07 : 54.6 secs : infill_ei\n",
      "\n"
     ]
    },
    {
     "name": "stdout",
     "output_type": "stream",
     "text": [
      "20250531 214451\tbinary\tcustom\tTRUE\tTRUE\tFALSE\t-100\t31\t316\tTRUE\t823819\t0.0496031386022335\t397\t0.768081960318837\t928\t11629\t5.44124218025567\t60645000\t212\n"
     ]
    },
    {
     "name": "stderr",
     "output_type": "stream",
     "text": [
      "[mbo] 188: learning_rate=0.0496; num_leaves=397; feature_fraction=0.768; min_data_in_leaf=928; envios=11629; lambda_l1=5.44 : y = 6.06e+07 : 53.8 secs : infill_ei\n",
      "\n"
     ]
    },
    {
     "name": "stdout",
     "output_type": "stream",
     "text": [
      "20250531 214547\tbinary\tcustom\tTRUE\tTRUE\tFALSE\t-100\t31\t232\tTRUE\t823819\t0.0514016605198141\t768\t0.3551955684795\t1064\t13208\t1.75323886033614\t62985000\t213\n",
      "20250531 214557\tbinary\tcustom\tTRUE\tTRUE\tFALSE\t-100\t31\t232\tTRUE\t823819\t0.0514016605198141\t768\t0.3551955684795\t1064\t13208\t1.75323886033614\t62985000\t213\n"
     ]
    },
    {
     "name": "stderr",
     "output_type": "stream",
     "text": [
      "[mbo] 189: learning_rate=0.0514; num_leaves=768; feature_fraction=0.355; min_data_in_leaf=1064; envios=13208; lambda_l1=1.75 : y = 6.3e+07 : 65.6 secs : infill_ei\n",
      "\n"
     ]
    },
    {
     "name": "stdout",
     "output_type": "stream",
     "text": [
      "20250531 214656\tbinary\tcustom\tTRUE\tTRUE\tFALSE\t-100\t31\t291\tTRUE\t823819\t0.0467708380612579\t631\t0.641055836204399\t1039\t7664\t2.10521592912208\t59100000\t214\n"
     ]
    },
    {
     "name": "stderr",
     "output_type": "stream",
     "text": [
      "[mbo] 190: learning_rate=0.0468; num_leaves=631; feature_fraction=0.641; min_data_in_leaf=1039; envios=7664; lambda_l1=2.11 : y = 5.91e+07 : 56.3 secs : infill_ei\n",
      "\n",
      "Saved the current state after iteration 191 in the file 5431.RDATA.\n",
      "\n"
     ]
    },
    {
     "name": "stdout",
     "output_type": "stream",
     "text": [
      "20250531 214758\tbinary\tcustom\tTRUE\tTRUE\tFALSE\t-100\t31\t217\tTRUE\t823819\t0.0503459098495835\t629\t0.3595398541933\t883\t13317\t1.97671930708275\t60975000\t215\n"
     ]
    },
    {
     "name": "stderr",
     "output_type": "stream",
     "text": [
      "[mbo] 191: learning_rate=0.0503; num_leaves=629; feature_fraction=0.36; min_data_in_leaf=883; envios=13317; lambda_l1=1.98 : y = 6.1e+07 : 52.3 secs : infill_ei\n",
      "\n"
     ]
    },
    {
     "name": "stdout",
     "output_type": "stream",
     "text": [
      "20250531 214902\tbinary\tcustom\tTRUE\tTRUE\tFALSE\t-100\t31\t296\tTRUE\t823819\t0.0514742541436643\t854\t0.425720850365558\t1626\t13501\t1.35041587040927\t61740000\t216\n"
     ]
    },
    {
     "name": "stderr",
     "output_type": "stream",
     "text": [
      "[mbo] 192: learning_rate=0.0515; num_leaves=854; feature_fraction=0.426; min_data_in_leaf=1626; envios=13501; lambda_l1=1.35 : y = 6.17e+07 : 64.0 secs : infill_ei\n",
      "\n"
     ]
    },
    {
     "name": "stdout",
     "output_type": "stream",
     "text": [
      "20250531 215025\tbinary\tcustom\tTRUE\tTRUE\tFALSE\t-100\t31\t364\tTRUE\t823819\t0.0578084090843646\t448\t0.475258410715659\t926\t10185\t1.6298027556277\t61125000\t217\n"
     ]
    },
    {
     "name": "stderr",
     "output_type": "stream",
     "text": [
      "[mbo] 193: learning_rate=0.0578; num_leaves=448; feature_fraction=0.475; min_data_in_leaf=926; envios=10185; lambda_l1=1.63 : y = 6.11e+07 : 79.9 secs : infill_ei\n",
      "\n"
     ]
    },
    {
     "name": "stdout",
     "output_type": "stream",
     "text": [
      "20250531 215149\tbinary\tcustom\tTRUE\tTRUE\tFALSE\t-100\t31\t478\tTRUE\t823819\t0.0456186934140025\t123\t0.693493654125762\t1096\t11222\t1.73944812085612\t63060000\t218\n",
      "20250531 215207\tbinary\tcustom\tTRUE\tTRUE\tFALSE\t-100\t31\t478\tTRUE\t823819\t0.0456186934140025\t123\t0.693493654125762\t1096\t11222\t1.73944812085612\t63060000\t218\n"
     ]
    },
    {
     "name": "stderr",
     "output_type": "stream",
     "text": [
      "[mbo] 194: learning_rate=0.0456; num_leaves=123; feature_fraction=0.693; min_data_in_leaf=1096; envios=11222; lambda_l1=1.74 : y = 6.31e+07 : 101.2 secs : infill_ei\n",
      "\n"
     ]
    },
    {
     "name": "stdout",
     "output_type": "stream",
     "text": [
      "20250531 215302\tbinary\tcustom\tTRUE\tTRUE\tFALSE\t-100\t31\t250\tTRUE\t823819\t0.0581277366417672\t788\t0.388845351086312\t2191\t12399\t5.37288905220836\t59175000\t219\n"
     ]
    },
    {
     "name": "stderr",
     "output_type": "stream",
     "text": [
      "[mbo] 195: learning_rate=0.0581; num_leaves=788; feature_fraction=0.389; min_data_in_leaf=2191; envios=12399; lambda_l1=5.37 : y = 5.92e+07 : 53.0 secs : infill_ei\n",
      "\n"
     ]
    },
    {
     "name": "stdout",
     "output_type": "stream",
     "text": [
      "20250531 215402\tbinary\tcustom\tTRUE\tTRUE\tFALSE\t-100\t31\t247\tTRUE\t823819\t0.0524919264289685\t999\t0.344402872403676\t1809\t13111\t0.544832193595338\t60150000\t220\n"
     ]
    },
    {
     "name": "stderr",
     "output_type": "stream",
     "text": [
      "[mbo] 196: learning_rate=0.0525; num_leaves=999; feature_fraction=0.344; min_data_in_leaf=1809; envios=13111; lambda_l1=0.545 : y = 6.02e+07 : 58.3 secs : infill_ei\n",
      "\n"
     ]
    },
    {
     "name": "stdout",
     "output_type": "stream",
     "text": [
      "20250531 215531\tbinary\tcustom\tTRUE\tTRUE\tFALSE\t-100\t31\t479\tTRUE\t823819\t0.0467785904898629\t775\t0.253446020657291\t1697\t12152\t0.23753458711364\t61110000\t221\n"
     ]
    },
    {
     "name": "stderr",
     "output_type": "stream",
     "text": [
      "[mbo] 197: learning_rate=0.0468; num_leaves=775; feature_fraction=0.253; min_data_in_leaf=1697; envios=12152; lambda_l1=0.238 : y = 6.11e+07 : 87.4 secs : infill_ei\n",
      "\n"
     ]
    },
    {
     "name": "stdout",
     "output_type": "stream",
     "text": [
      "20250531 215959\tbinary\tcustom\tTRUE\tTRUE\tFALSE\t-100\t31\t1469\tTRUE\t823819\t0.0100463004831074\t435\t0.594416472307131\t1377\t14059\t0.286856612304756\t62715000\t222\n"
     ]
    },
    {
     "name": "stderr",
     "output_type": "stream",
     "text": [
      "[mbo] 198: learning_rate=0.01; num_leaves=435; feature_fraction=0.594; min_data_in_leaf=1377; envios=14059; lambda_l1=0.287 : y = 6.27e+07 : 266.3 secs : infill_ei\n",
      "\n",
      "Saved the current state after iteration 199 in the file 5431.RDATA.\n",
      "\n"
     ]
    },
    {
     "name": "stdout",
     "output_type": "stream",
     "text": [
      "20250531 220142\tbinary\tcustom\tTRUE\tTRUE\tFALSE\t-100\t31\t593\tTRUE\t823819\t0.0485798726493222\t487\t0.233388486558628\t1616\t12623\t1.71224230084807\t61620000\t223\n"
     ]
    },
    {
     "name": "stderr",
     "output_type": "stream",
     "text": [
      "[mbo] 199: learning_rate=0.0486; num_leaves=487; feature_fraction=0.233; min_data_in_leaf=1616; envios=12623; lambda_l1=1.71 : y = 6.16e+07 : 94.0 secs : infill_ei\n",
      "\n"
     ]
    },
    {
     "name": "stdout",
     "output_type": "stream",
     "text": [
      "20250531 220231\tbinary\tcustom\tTRUE\tTRUE\tFALSE\t-100\t31\t191\tTRUE\t823819\t0.0506780535801726\t120\t0.919390113671771\t718\t10887\t1.34997614179786\t62625000\t224\n"
     ]
    },
    {
     "name": "stderr",
     "output_type": "stream",
     "text": [
      "[mbo] 200: learning_rate=0.0507; num_leaves=120; feature_fraction=0.919; min_data_in_leaf=718; envios=10887; lambda_l1=1.35 : y = 6.26e+07 : 46.7 secs : infill_ei\n",
      "\n"
     ]
    },
    {
     "name": "stdout",
     "output_type": "stream",
     "text": [
      "20250531 220343\tbinary\tcustom\tTRUE\tTRUE\tFALSE\t-100\t31\t338\tTRUE\t823819\t0.0455486802019791\t873\t0.368292628109742\t1366\t12350\t1.65733178929694\t62790000\t225\n"
     ]
    },
    {
     "name": "stderr",
     "output_type": "stream",
     "text": [
      "[mbo] 201: learning_rate=0.0455; num_leaves=873; feature_fraction=0.368; min_data_in_leaf=1366; envios=12350; lambda_l1=1.66 : y = 6.28e+07 : 70.4 secs : infill_ei\n",
      "\n"
     ]
    },
    {
     "name": "stdout",
     "output_type": "stream",
     "text": [
      "20250531 220416\tbinary\tcustom\tTRUE\tTRUE\tFALSE\t-100\t31\t88\tTRUE\t823819\t0.0560006926132268\t85\t0.753385437961854\t386\t10813\t1.35922993196613\t60810000\t226\n"
     ]
    },
    {
     "name": "stderr",
     "output_type": "stream",
     "text": [
      "[mbo] 202: learning_rate=0.056; num_leaves=85; feature_fraction=0.753; min_data_in_leaf=386; envios=10813; lambda_l1=1.36 : y = 6.08e+07 : 30.2 secs : infill_ei\n",
      "\n"
     ]
    },
    {
     "name": "stdout",
     "output_type": "stream",
     "text": [
      "20250531 220528\tbinary\tcustom\tTRUE\tTRUE\tFALSE\t-100\t31\t403\tTRUE\t823819\t0.0485121834195131\t190\t0.846436501643406\t791\t11777\t2.36632674519954\t61515000\t227\n"
     ]
    },
    {
     "name": "stderr",
     "output_type": "stream",
     "text": [
      "[mbo] 203: learning_rate=0.0485; num_leaves=190; feature_fraction=0.846; min_data_in_leaf=791; envios=11777; lambda_l1=2.37 : y = 6.15e+07 : 71.3 secs : infill_ei\n",
      "\n"
     ]
    },
    {
     "name": "stdout",
     "output_type": "stream",
     "text": [
      "20250531 220639\tbinary\tcustom\tTRUE\tTRUE\tFALSE\t-100\t31\t388\tTRUE\t823819\t0.0461599571574\t282\t0.981744588815907\t1021\t12044\t1.33408962609861\t61080000\t228\n"
     ]
    },
    {
     "name": "stderr",
     "output_type": "stream",
     "text": [
      "[mbo] 204: learning_rate=0.0462; num_leaves=282; feature_fraction=0.982; min_data_in_leaf=1021; envios=12044; lambda_l1=1.33 : y = 6.11e+07 : 69.3 secs : infill_ei\n",
      "\n"
     ]
    },
    {
     "name": "stdout",
     "output_type": "stream",
     "text": [
      "20250531 220754\tbinary\tcustom\tTRUE\tTRUE\tFALSE\t-100\t31\t273\tTRUE\t823819\t0.0385449456956322\t671\t0.393467018744579\t600\t10855\t1.26178474617305\t60915000\t229\n"
     ]
    },
    {
     "name": "stderr",
     "output_type": "stream",
     "text": [
      "[mbo] 205: learning_rate=0.0385; num_leaves=671; feature_fraction=0.393; min_data_in_leaf=600; envios=10855; lambda_l1=1.26 : y = 6.09e+07 : 73.0 secs : infill_ei\n",
      "\n"
     ]
    },
    {
     "name": "stdout",
     "output_type": "stream",
     "text": [
      "20250531 220848\tbinary\tcustom\tTRUE\tTRUE\tFALSE\t-100\t31\t181\tTRUE\t823819\t0.0439201326180113\t169\t0.580815608270965\t824\t11283\t1.56554437619025\t61080000\t230\n"
     ]
    },
    {
     "name": "stderr",
     "output_type": "stream",
     "text": [
      "[mbo] 206: learning_rate=0.0439; num_leaves=169; feature_fraction=0.581; min_data_in_leaf=824; envios=11283; lambda_l1=1.57 : y = 6.11e+07 : 52.3 secs : infill_ei\n",
      "\n"
     ]
    },
    {
     "name": "stdout",
     "output_type": "stream",
     "text": [
      "20250531 221131\tbinary\tcustom\tTRUE\tTRUE\tFALSE\t-100\t31\t519\tTRUE\t823819\t0.0102031358454891\t387\t0.635013994175461\t445\t11811\t0.71204230375128\t62010000\t231\n"
     ]
    },
    {
     "name": "stderr",
     "output_type": "stream",
     "text": [
      "[mbo] 207: learning_rate=0.0102; num_leaves=387; feature_fraction=0.635; min_data_in_leaf=445; envios=11811; lambda_l1=0.712 : y = 6.2e+07 : 161.6 secs : infill_ei\n",
      "\n",
      "Saved the current state after iteration 208 in the file 5431.RDATA.\n",
      "\n"
     ]
    },
    {
     "name": "stdout",
     "output_type": "stream",
     "text": [
      "20250531 221320\tbinary\tcustom\tTRUE\tTRUE\tFALSE\t-100\t31\t448\tTRUE\t823819\t0.0147901751121517\t133\t0.878656077757299\t1032\t10687\t1.71493552759821\t60585000\t232\n"
     ]
    },
    {
     "name": "stderr",
     "output_type": "stream",
     "text": [
      "[mbo] 208: learning_rate=0.0148; num_leaves=133; feature_fraction=0.879; min_data_in_leaf=1032; envios=10687; lambda_l1=1.71 : y = 6.06e+07 : 99.6 secs : infill_ei\n",
      "\n"
     ]
    },
    {
     "name": "stdout",
     "output_type": "stream",
     "text": [
      "20250531 221452\tbinary\tcustom\tTRUE\tTRUE\tFALSE\t-100\t31\t425\tTRUE\t823819\t0.0345129853251326\t618\t0.434896466718572\t1637\t14042\t0.760613898092974\t60960000\t233\n"
     ]
    },
    {
     "name": "stderr",
     "output_type": "stream",
     "text": [
      "[mbo] 209: learning_rate=0.0345; num_leaves=618; feature_fraction=0.435; min_data_in_leaf=1637; envios=14042; lambda_l1=0.761 : y = 6.1e+07 : 90.4 secs : infill_ei\n",
      "\n"
     ]
    },
    {
     "name": "stdout",
     "output_type": "stream",
     "text": [
      "20250531 221555\tbinary\tcustom\tTRUE\tTRUE\tFALSE\t-100\t31\t254\tTRUE\t823819\t0.0484414916574564\t771\t0.348270907787206\t883\t13818\t1.58130425250737\t61395000\t234\n"
     ]
    },
    {
     "name": "stderr",
     "output_type": "stream",
     "text": [
      "[mbo] 210: learning_rate=0.0484; num_leaves=771; feature_fraction=0.348; min_data_in_leaf=883; envios=13818; lambda_l1=1.58 : y = 6.14e+07 : 61.3 secs : infill_ei\n",
      "\n"
     ]
    },
    {
     "name": "stdout",
     "output_type": "stream",
     "text": [
      "20250531 221725\tbinary\tcustom\tTRUE\tTRUE\tFALSE\t-100\t31\t591\tTRUE\t823819\t0.0496282724422508\t506\t0.639355042053919\t1811\t11501\t1.77743662047396\t61860000\t235\n"
     ]
    },
    {
     "name": "stderr",
     "output_type": "stream",
     "text": [
      "[mbo] 211: learning_rate=0.0496; num_leaves=506; feature_fraction=0.639; min_data_in_leaf=1811; envios=11501; lambda_l1=1.78 : y = 6.19e+07 : 88.8 secs : infill_ei\n",
      "\n"
     ]
    },
    {
     "name": "stdout",
     "output_type": "stream",
     "text": [
      "20250531 222039\tbinary\tcustom\tTRUE\tTRUE\tFALSE\t-100\t31\t794\tTRUE\t823819\t0.0102700987590409\t659\t0.513812930658579\t1947\t12843\t0.818834355101568\t59520000\t236\n"
     ]
    },
    {
     "name": "stderr",
     "output_type": "stream",
     "text": [
      "[mbo] 212: learning_rate=0.0103; num_leaves=659; feature_fraction=0.514; min_data_in_leaf=1947; envios=12843; lambda_l1=0.819 : y = 5.95e+07 : 191.4 secs : infill_ei\n",
      "\n"
     ]
    },
    {
     "name": "stdout",
     "output_type": "stream",
     "text": [
      "20250531 222120\tbinary\tcustom\tTRUE\tTRUE\tFALSE\t-100\t31\t191\tTRUE\t823819\t0.0972892392417857\t28\t0.411799103557428\t1104\t10333\t6.81880496456882\t60210000\t237\n"
     ]
    },
    {
     "name": "stderr",
     "output_type": "stream",
     "text": [
      "[mbo] 213: learning_rate=0.0973; num_leaves=28; feature_fraction=0.412; min_data_in_leaf=1104; envios=10333; lambda_l1=6.82 : y = 6.02e+07 : 38.6 secs : infill_ei\n",
      "\n"
     ]
    },
    {
     "name": "stdout",
     "output_type": "stream",
     "text": [
      "20250531 222206\tbinary\tcustom\tTRUE\tTRUE\tFALSE\t-100\t31\t186\tTRUE\t823819\t0.0647640551629424\t194\t0.410833715765296\t1681\t10227\t2.31520677303561\t60525000\t238\n"
     ]
    },
    {
     "name": "stderr",
     "output_type": "stream",
     "text": [
      "[mbo] 214: learning_rate=0.0648; num_leaves=194; feature_fraction=0.411; min_data_in_leaf=1681; envios=10227; lambda_l1=2.32 : y = 6.05e+07 : 44.6 secs : infill_ei\n",
      "\n",
      "Saved the current state after iteration 215 in the file 5431.RDATA.\n",
      "\n"
     ]
    },
    {
     "name": "stdout",
     "output_type": "stream",
     "text": [
      "20250531 222824\tbinary\tcustom\tTRUE\tTRUE\tFALSE\t-100\t31\t2052\tTRUE\t823819\t0.0101213959368347\t901\t0.447093518677739\t1400\t13148\t2.05097400766719\t62445000\t239\n"
     ]
    },
    {
     "name": "stderr",
     "output_type": "stream",
     "text": [
      "[mbo] 215: learning_rate=0.0101; num_leaves=901; feature_fraction=0.447; min_data_in_leaf=1400; envios=13148; lambda_l1=2.05 : y = 6.24e+07 : 368.8 secs : infill_ei\n",
      "\n"
     ]
    },
    {
     "name": "stdout",
     "output_type": "stream",
     "text": [
      "20250531 222955\tbinary\tcustom\tTRUE\tTRUE\tFALSE\t-100\t31\t373\tTRUE\t823819\t0.0266085884212829\t132\t0.912900936012556\t688\t9045\t0.134353085448211\t61425000\t240\n"
     ]
    },
    {
     "name": "stderr",
     "output_type": "stream",
     "text": [
      "[mbo] 216: learning_rate=0.0266; num_leaves=132; feature_fraction=0.913; min_data_in_leaf=688; envios=9045; lambda_l1=0.134 : y = 6.14e+07 : 88.5 secs : infill_ei\n",
      "\n"
     ]
    },
    {
     "name": "stdout",
     "output_type": "stream",
     "text": [
      "20250531 223053\tbinary\tcustom\tTRUE\tTRUE\tFALSE\t-100\t31\t219\tTRUE\t823819\t0.0477862183790857\t1013\t0.313243252034944\t1059\t14236\t0.0406788073929306\t60735000\t241\n"
     ]
    },
    {
     "name": "stderr",
     "output_type": "stream",
     "text": [
      "[mbo] 217: learning_rate=0.0478; num_leaves=1013; feature_fraction=0.313; min_data_in_leaf=1059; envios=14236; lambda_l1=0.0407 : y = 6.07e+07 : 55.4 secs : infill_ei\n",
      "\n"
     ]
    },
    {
     "name": "stdout",
     "output_type": "stream",
     "text": [
      "20250531 223144\tbinary\tcustom\tTRUE\tTRUE\tFALSE\t-100\t31\t299\tTRUE\t823819\t0.0539991450809317\t757\t0.109290973009404\t2093\t11012\t2.15479634692364\t59490000\t242\n"
     ]
    },
    {
     "name": "stderr",
     "output_type": "stream",
     "text": [
      "[mbo] 218: learning_rate=0.054; num_leaves=757; feature_fraction=0.109; min_data_in_leaf=2093; envios=11012; lambda_l1=2.15 : y = 5.95e+07 : 47.5 secs : infill_ei\n",
      "\n"
     ]
    },
    {
     "name": "stdout",
     "output_type": "stream",
     "text": [
      "20250531 223239\tbinary\tcustom\tTRUE\tTRUE\tFALSE\t-100\t31\t279\tTRUE\t823819\t0.0585780902940576\t405\t0.105309629197047\t691\t10477\t0.215302590345136\t60135000\t243\n"
     ]
    },
    {
     "name": "stderr",
     "output_type": "stream",
     "text": [
      "[mbo] 219: learning_rate=0.0586; num_leaves=405; feature_fraction=0.105; min_data_in_leaf=691; envios=10477; lambda_l1=0.215 : y = 6.01e+07 : 53.3 secs : infill_ei\n",
      "\n",
      "Saved the current state after iteration 220 in the file 5431.RDATA.\n",
      "\n"
     ]
    },
    {
     "name": "stdout",
     "output_type": "stream",
     "text": [
      "20250531 223425\tbinary\tcustom\tTRUE\tTRUE\tFALSE\t-100\t31\t362\tTRUE\t823819\t0.0216667532866063\t863\t0.473120549812155\t1049\t10686\t1.75500795008733\t60825000\t244\n"
     ]
    },
    {
     "name": "stderr",
     "output_type": "stream",
     "text": [
      "[mbo] 220: learning_rate=0.0217; num_leaves=863; feature_fraction=0.473; min_data_in_leaf=1049; envios=10686; lambda_l1=1.76 : y = 6.08e+07 : 96.9 secs : infill_ei\n",
      "\n"
     ]
    },
    {
     "name": "stdout",
     "output_type": "stream",
     "text": [
      "20250531 223518\tbinary\tcustom\tTRUE\tTRUE\tFALSE\t-100\t31\t187\tTRUE\t823819\t0.0525694353726674\t616\t0.624435341030786\t365\t12546\t2.51628973218697\t61485000\t245\n"
     ]
    },
    {
     "name": "stderr",
     "output_type": "stream",
     "text": [
      "[mbo] 221: learning_rate=0.0526; num_leaves=616; feature_fraction=0.624; min_data_in_leaf=365; envios=12546; lambda_l1=2.52 : y = 6.15e+07 : 50.3 secs : infill_ei\n",
      "\n"
     ]
    },
    {
     "name": "stdout",
     "output_type": "stream",
     "text": [
      "20250531 223558\tbinary\tcustom\tTRUE\tTRUE\tFALSE\t-100\t31\t224\tTRUE\t823819\t0.0474700959161272\t173\t0.693355608732512\t2679\t12021\t1.87974872770253\t59940000\t246\n"
     ]
    },
    {
     "name": "stderr",
     "output_type": "stream",
     "text": [
      "[mbo] 222: learning_rate=0.0475; num_leaves=173; feature_fraction=0.693; min_data_in_leaf=2679; envios=12021; lambda_l1=1.88 : y = 5.99e+07 : 37.9 secs : infill_ei\n",
      "\n"
     ]
    },
    {
     "name": "stdout",
     "output_type": "stream",
     "text": [
      "20250531 223647\tbinary\tcustom\tTRUE\tTRUE\tFALSE\t-100\t31\t195\tTRUE\t823819\t0.0451991842841176\t88\t0.858435125228823\t586\t10402\t2.96608691898904\t61440000\t247\n"
     ]
    },
    {
     "name": "stderr",
     "output_type": "stream",
     "text": [
      "[mbo] 223: learning_rate=0.0452; num_leaves=88; feature_fraction=0.858; min_data_in_leaf=586; envios=10402; lambda_l1=2.97 : y = 6.14e+07 : 45.3 secs : infill_ei\n",
      "\n"
     ]
    },
    {
     "name": "stdout",
     "output_type": "stream",
     "text": [
      "20250531 223756\tbinary\tcustom\tTRUE\tTRUE\tFALSE\t-100\t31\t389\tTRUE\t823819\t0.0513382273806443\t729\t0.702536558337177\t845\t13226\t3.68405633898552\t61365000\t248\n"
     ]
    },
    {
     "name": "stderr",
     "output_type": "stream",
     "text": [
      "[mbo] 224: learning_rate=0.0513; num_leaves=729; feature_fraction=0.703; min_data_in_leaf=845; envios=13226; lambda_l1=3.68 : y = 6.14e+07 : 66.1 secs : infill_ei\n",
      "\n"
     ]
    },
    {
     "name": "stdout",
     "output_type": "stream",
     "text": [
      "20250531 223850\tbinary\tcustom\tTRUE\tTRUE\tFALSE\t-100\t31\t206\tTRUE\t823819\t0.0459753543396829\t535\t0.356596658663314\t1084\t13038\t3.1338591095161\t61215000\t249\n"
     ]
    },
    {
     "name": "stderr",
     "output_type": "stream",
     "text": [
      "[mbo] 225: learning_rate=0.046; num_leaves=535; feature_fraction=0.357; min_data_in_leaf=1084; envios=13038; lambda_l1=3.13 : y = 6.12e+07 : 51.1 secs : infill_ei\n",
      "\n"
     ]
    },
    {
     "name": "stdout",
     "output_type": "stream",
     "text": [
      "20250531 223943\tbinary\tcustom\tTRUE\tTRUE\tFALSE\t-100\t31\t202\tTRUE\t823819\t0.0460942495666419\t107\t0.611964165545269\t8\t12065\t1.77066594645582\t61485000\t250\n"
     ]
    },
    {
     "name": "stderr",
     "output_type": "stream",
     "text": [
      "[mbo] 226: learning_rate=0.0461; num_leaves=107; feature_fraction=0.612; min_data_in_leaf=8; envios=12065; lambda_l1=1.77 : y = 6.15e+07 : 49.7 secs : infill_ei\n",
      "\n"
     ]
    },
    {
     "name": "stdout",
     "output_type": "stream",
     "text": [
      "20250531 224044\tbinary\tcustom\tTRUE\tTRUE\tFALSE\t-100\t31\t169\tTRUE\t823819\t0.046919363409235\t427\t0.683505696143198\t328\t14254\t0.226516768619547\t61770000\t251\n"
     ]
    },
    {
     "name": "stderr",
     "output_type": "stream",
     "text": [
      "[mbo] 227: learning_rate=0.0469; num_leaves=427; feature_fraction=0.684; min_data_in_leaf=328; envios=14254; lambda_l1=0.227 : y = 6.18e+07 : 59.2 secs : infill_ei\n",
      "\n"
     ]
    },
    {
     "name": "stdout",
     "output_type": "stream",
     "text": [
      "20250531 224144\tbinary\tcustom\tTRUE\tTRUE\tFALSE\t-100\t31\t253\tTRUE\t823819\t0.0483563039182791\t815\t0.401526105672871\t1287\t11975\t1.73013361110843\t61755000\t252\n"
     ]
    },
    {
     "name": "stderr",
     "output_type": "stream",
     "text": [
      "[mbo] 228: learning_rate=0.0484; num_leaves=815; feature_fraction=0.402; min_data_in_leaf=1287; envios=11975; lambda_l1=1.73 : y = 6.18e+07 : 59.3 secs : infill_ei\n",
      "\n"
     ]
    },
    {
     "name": "stdout",
     "output_type": "stream",
     "text": [
      "20250531 224235\tbinary\tcustom\tTRUE\tTRUE\tFALSE\t-100\t31\t196\tTRUE\t823819\t0.0521408071011776\t820\t0.694838007982995\t998\t11844\t1.4010051797383\t61800000\t253\n"
     ]
    },
    {
     "name": "stderr",
     "output_type": "stream",
     "text": [
      "[mbo] 229: learning_rate=0.0521; num_leaves=820; feature_fraction=0.695; min_data_in_leaf=998; envios=11844; lambda_l1=1.4 : y = 6.18e+07 : 45.8 secs : infill_ei\n",
      "\n"
     ]
    },
    {
     "name": "stdout",
     "output_type": "stream",
     "text": [
      "20250531 224410\tbinary\tcustom\tTRUE\tTRUE\tFALSE\t-100\t31\t497\tTRUE\t823819\t0.0415987789883198\t364\t0.356514141552329\t1431\t12425\t1.3595113289345\t61725000\t254\n"
     ]
    },
    {
     "name": "stderr",
     "output_type": "stream",
     "text": [
      "[mbo] 230: learning_rate=0.0416; num_leaves=364; feature_fraction=0.357; min_data_in_leaf=1431; envios=12425; lambda_l1=1.36 : y = 6.17e+07 : 91.9 secs : infill_ei\n",
      "\n",
      "Saved the current state after iteration 231 in the file 5431.RDATA.\n",
      "\n"
     ]
    },
    {
     "name": "stdout",
     "output_type": "stream",
     "text": [
      "20250531 224453\tbinary\tcustom\tTRUE\tTRUE\tFALSE\t-100\t31\t81\tTRUE\t823819\t0.0812332129543917\t986\t0.465323537331288\t868\t12894\t0.0338274199113441\t62130000\t255\n"
     ]
    },
    {
     "name": "stderr",
     "output_type": "stream",
     "text": [
      "[mbo] 231: learning_rate=0.0812; num_leaves=986; feature_fraction=0.465; min_data_in_leaf=868; envios=12894; lambda_l1=0.0338 : y = 6.21e+07 : 32.3 secs : infill_ei\n",
      "\n"
     ]
    },
    {
     "name": "stdout",
     "output_type": "stream",
     "text": [
      "20250531 224557\tbinary\tcustom\tTRUE\tTRUE\tFALSE\t-100\t31\t385\tTRUE\t823819\t0.050628469431275\t65\t0.714772571639538\t1116\t11895\t3.50191207408024\t61395000\t256\n"
     ]
    },
    {
     "name": "stderr",
     "output_type": "stream",
     "text": [
      "[mbo] 232: learning_rate=0.0506; num_leaves=65; feature_fraction=0.715; min_data_in_leaf=1116; envios=11895; lambda_l1=3.5 : y = 6.14e+07 : 61.4 secs : infill_ei\n",
      "\n"
     ]
    },
    {
     "name": "stdout",
     "output_type": "stream",
     "text": [
      "20250531 224706\tbinary\tcustom\tTRUE\tTRUE\tFALSE\t-100\t31\t377\tTRUE\t823819\t0.0430863483686119\t470\t0.717777521108853\t1075\t13104\t1.78893371147003\t62220000\t257\n"
     ]
    },
    {
     "name": "stderr",
     "output_type": "stream",
     "text": [
      "[mbo] 233: learning_rate=0.0431; num_leaves=470; feature_fraction=0.718; min_data_in_leaf=1075; envios=13104; lambda_l1=1.79 : y = 6.22e+07 : 66.3 secs : infill_ei\n",
      "\n"
     ]
    },
    {
     "name": "stdout",
     "output_type": "stream",
     "text": [
      "20250531 225106\tbinary\tcustom\tTRUE\tTRUE\tFALSE\t-100\t31\t1155\tTRUE\t823819\t0.0115878183981841\t667\t0.786595987650426\t693\t11214\t0.75438689918128\t62370000\t258\n"
     ]
    },
    {
     "name": "stderr",
     "output_type": "stream",
     "text": [
      "[mbo] 234: learning_rate=0.0116; num_leaves=667; feature_fraction=0.787; min_data_in_leaf=693; envios=11214; lambda_l1=0.754 : y = 6.24e+07 : 236.2 secs : infill_ei\n",
      "\n"
     ]
    },
    {
     "name": "stdout",
     "output_type": "stream",
     "text": [
      "20250531 225230\tbinary\tcustom\tTRUE\tTRUE\tFALSE\t-100\t31\t472\tTRUE\t823819\t0.0254439198333218\t932\t0.776851255268268\t1420\t12456\t4.21753045175415\t61035000\t259\n"
     ]
    },
    {
     "name": "stderr",
     "output_type": "stream",
     "text": [
      "[mbo] 235: learning_rate=0.0254; num_leaves=932; feature_fraction=0.777; min_data_in_leaf=1420; envios=12456; lambda_l1=4.22 : y = 6.1e+07 : 80.0 secs : infill_ei\n",
      "\n"
     ]
    },
    {
     "name": "stdout",
     "output_type": "stream",
     "text": [
      "20250531 225327\tbinary\tcustom\tTRUE\tTRUE\tFALSE\t-100\t31\t318\tTRUE\t823819\t0.0574134373397891\t64\t0.818609307875311\t764\t9038\t0.447772441486556\t60615000\t260\n"
     ]
    },
    {
     "name": "stderr",
     "output_type": "stream",
     "text": [
      "[mbo] 236: learning_rate=0.0574; num_leaves=64; feature_fraction=0.819; min_data_in_leaf=764; envios=9038; lambda_l1=0.448 : y = 6.06e+07 : 54.9 secs : infill_ei\n",
      "\n"
     ]
    },
    {
     "name": "stdout",
     "output_type": "stream",
     "text": [
      "20250531 225757\tbinary\tcustom\tTRUE\tTRUE\tFALSE\t-100\t31\t1433\tTRUE\t823819\t0.0103926914189632\t417\t0.570980487149205\t1382\t12004\t1.99195492070166\t61800000\t261\n"
     ]
    },
    {
     "name": "stderr",
     "output_type": "stream",
     "text": [
      "[mbo] 237: learning_rate=0.0104; num_leaves=417; feature_fraction=0.571; min_data_in_leaf=1382; envios=12004; lambda_l1=1.99 : y = 6.18e+07 : 266.9 secs : infill_ei\n",
      "\n",
      "Saved the current state after iteration 238 in the file 5431.RDATA.\n",
      "\n"
     ]
    },
    {
     "name": "stdout",
     "output_type": "stream",
     "text": [
      "20250531 225925\tbinary\tcustom\tTRUE\tTRUE\tFALSE\t-100\t31\t365\tTRUE\t823819\t0.0391447219685817\t835\t0.316413154527091\t1233\t13974\t1.67521743320207\t61530000\t262\n"
     ]
    },
    {
     "name": "stderr",
     "output_type": "stream",
     "text": [
      "[mbo] 238: learning_rate=0.0391; num_leaves=835; feature_fraction=0.316; min_data_in_leaf=1233; envios=13974; lambda_l1=1.68 : y = 6.15e+07 : 77.6 secs : infill_ei\n",
      "\n"
     ]
    },
    {
     "name": "stdout",
     "output_type": "stream",
     "text": [
      "20250531 230017\tbinary\tcustom\tTRUE\tTRUE\tFALSE\t-100\t31\t176\tTRUE\t823819\t0.0430815825175874\t94\t0.692942628336705\t27\t10620\t3.55921213406353\t60420000\t263\n"
     ]
    },
    {
     "name": "stderr",
     "output_type": "stream",
     "text": [
      "[mbo] 239: learning_rate=0.0431; num_leaves=94; feature_fraction=0.693; min_data_in_leaf=27; envios=10620; lambda_l1=3.56 : y = 6.04e+07 : 50.2 secs : infill_ei\n",
      "\n"
     ]
    },
    {
     "name": "stdout",
     "output_type": "stream",
     "text": [
      "20250531 230159\tbinary\tcustom\tTRUE\tTRUE\tFALSE\t-100\t31\t375\tTRUE\t823819\t0.0266358699754241\t332\t0.349611241698962\t863\t9878\t0.0823944780906233\t60375000\t264\n"
     ]
    },
    {
     "name": "stderr",
     "output_type": "stream",
     "text": [
      "[mbo] 240: learning_rate=0.0266; num_leaves=332; feature_fraction=0.35; min_data_in_leaf=863; envios=9878; lambda_l1=0.0824 : y = 6.04e+07 : 98.5 secs : infill_ei\n",
      "\n"
     ]
    },
    {
     "name": "stdout",
     "output_type": "stream",
     "text": [
      "20250531 230304\tbinary\tcustom\tTRUE\tTRUE\tFALSE\t-100\t31\t235\tTRUE\t823819\t0.0557313087949068\t98\t0.426071816354713\t783\t9570\t1.28774763336054\t61050000\t265\n"
     ]
    },
    {
     "name": "stderr",
     "output_type": "stream",
     "text": [
      "[mbo] 241: learning_rate=0.0557; num_leaves=98; feature_fraction=0.426; min_data_in_leaf=783; envios=9570; lambda_l1=1.29 : y = 6.1e+07 : 62.3 secs : infill_ei\n",
      "\n"
     ]
    },
    {
     "name": "stdout",
     "output_type": "stream",
     "text": [
      "20250531 230418\tbinary\tcustom\tTRUE\tTRUE\tFALSE\t-100\t31\t328\tTRUE\t823819\t0.0540875560187798\t888\t0.384449543218787\t1183\t13816\t0.999704885256849\t61395000\t266\n"
     ]
    },
    {
     "name": "stderr",
     "output_type": "stream",
     "text": [
      "[mbo] 242: learning_rate=0.0541; num_leaves=888; feature_fraction=0.384; min_data_in_leaf=1183; envios=13816; lambda_l1=1 : y = 6.14e+07 : 71.9 secs : infill_ei\n",
      "\n"
     ]
    },
    {
     "name": "stdout",
     "output_type": "stream",
     "text": [
      "20250531 230502\tbinary\tcustom\tTRUE\tTRUE\tFALSE\t-100\t31\t179\tTRUE\t823819\t0.0454000273648963\t646\t0.785180833504184\t1626\t10703\t1.67115006184925\t60660000\t267\n"
     ]
    },
    {
     "name": "stderr",
     "output_type": "stream",
     "text": [
      "[mbo] 243: learning_rate=0.0454; num_leaves=646; feature_fraction=0.785; min_data_in_leaf=1626; envios=10703; lambda_l1=1.67 : y = 6.07e+07 : 39.9 secs : infill_ei\n",
      "\n"
     ]
    },
    {
     "name": "stdout",
     "output_type": "stream",
     "text": [
      "20250531 230607\tbinary\tcustom\tTRUE\tTRUE\tFALSE\t-100\t31\t260\tTRUE\t823819\t0.0560924171162549\t367\t0.384288072638642\t575\t7783\t2.59760972345822\t58980000\t268\n"
     ]
    },
    {
     "name": "stderr",
     "output_type": "stream",
     "text": [
      "[mbo] 244: learning_rate=0.0561; num_leaves=367; feature_fraction=0.384; min_data_in_leaf=575; envios=7783; lambda_l1=2.6 : y = 5.9e+07 : 62.3 secs : infill_ei\n",
      "\n"
     ]
    },
    {
     "name": "stdout",
     "output_type": "stream",
     "text": [
      "20250531 231110\tbinary\tcustom\tTRUE\tTRUE\tFALSE\t-100\t31\t1376\tTRUE\t823819\t0.0101899662283447\t871\t0.482953891088699\t1226\t12549\t0.0708683305638951\t62085000\t269\n"
     ]
    },
    {
     "name": "stderr",
     "output_type": "stream",
     "text": [
      "[mbo] 245: learning_rate=0.0102; num_leaves=871; feature_fraction=0.483; min_data_in_leaf=1226; envios=12549; lambda_l1=0.0709 : y = 6.21e+07 : 298.4 secs : infill_ei\n",
      "\n",
      "Saved the current state after iteration 246 in the file 5431.RDATA.\n",
      "\n"
     ]
    },
    {
     "name": "stdout",
     "output_type": "stream",
     "text": [
      "20250531 231536\tbinary\tcustom\tTRUE\tTRUE\tFALSE\t-100\t31\t1392\tTRUE\t823819\t0.0103506196486347\t735\t0.783437684829312\t922\t11053\t0.384552212960347\t62250000\t270\n"
     ]
    },
    {
     "name": "stderr",
     "output_type": "stream",
     "text": [
      "[mbo] 246: learning_rate=0.0104; num_leaves=735; feature_fraction=0.783; min_data_in_leaf=922; envios=11053; lambda_l1=0.385 : y = 6.22e+07 : 255.9 secs : infill_ei\n",
      "\n"
     ]
    },
    {
     "name": "stdout",
     "output_type": "stream",
     "text": [
      "20250531 231850\tbinary\tcustom\tTRUE\tTRUE\tFALSE\t-100\t31\t1507\tTRUE\t823819\t0.0102623245953734\t320\t0.643278580714515\t3937\t12928\t1.65716543324605\t59505000\t271\n"
     ]
    },
    {
     "name": "stderr",
     "output_type": "stream",
     "text": [
      "[mbo] 247: learning_rate=0.0103; num_leaves=320; feature_fraction=0.643; min_data_in_leaf=3937; envios=12928; lambda_l1=1.66 : y = 5.95e+07 : 193.2 secs : infill_ei\n",
      "\n"
     ]
    },
    {
     "name": "stdout",
     "output_type": "stream",
     "text": [
      "20250531 231936\tbinary\tcustom\tTRUE\tTRUE\tFALSE\t-100\t31\t271\tTRUE\t823819\t0.0504970138179288\t39\t0.725410595793373\t766\t11227\t1.75343478184781\t61725000\t272\n"
     ]
    },
    {
     "name": "stderr",
     "output_type": "stream",
     "text": [
      "[mbo] 248: learning_rate=0.0505; num_leaves=39; feature_fraction=0.725; min_data_in_leaf=766; envios=11227; lambda_l1=1.75 : y = 6.17e+07 : 42.5 secs : infill_ei\n",
      "\n"
     ]
    },
    {
     "name": "stdout",
     "output_type": "stream",
     "text": [
      "20250531 232312\tbinary\tcustom\tTRUE\tTRUE\tFALSE\t-100\t31\t976\tTRUE\t823819\t0.0105650426745073\t73\t0.435700259632511\t33\t12571\t1.68649874516916\t62010000\t273\n"
     ]
    },
    {
     "name": "stderr",
     "output_type": "stream",
     "text": [
      "[mbo] 249: learning_rate=0.0106; num_leaves=73; feature_fraction=0.436; min_data_in_leaf=33; envios=12571; lambda_l1=1.69 : y = 6.2e+07 : 214.6 secs : infill_ei\n",
      "\n",
      "Saved the current state after iteration 250 in the file 5431.RDATA.\n",
      "\n"
     ]
    },
    {
     "name": "stdout",
     "output_type": "stream",
     "text": [
      "20250531 232402\tbinary\tcustom\tTRUE\tTRUE\tFALSE\t-100\t31\t95\tTRUE\t823819\t0.0760085893622506\t279\t0.646548476438214\t351\t13911\t0.118839644400187\t60750000\t274\n"
     ]
    },
    {
     "name": "stderr",
     "output_type": "stream",
     "text": [
      "[mbo] 250: learning_rate=0.076; num_leaves=279; feature_fraction=0.647; min_data_in_leaf=351; envios=13911; lambda_l1=0.119 : y = 6.08e+07 : 38.9 secs : infill_ei\n",
      "\n"
     ]
    },
    {
     "name": "stdout",
     "output_type": "stream",
     "text": [
      "20250531 232458\tbinary\tcustom\tTRUE\tTRUE\tFALSE\t-100\t31\t284\tTRUE\t823819\t0.045002767641779\t398\t0.688603324045274\t1548\t13166\t0.4433225686133\t62145000\t275\n"
     ]
    },
    {
     "name": "stderr",
     "output_type": "stream",
     "text": [
      "[mbo] 251: learning_rate=0.045; num_leaves=398; feature_fraction=0.689; min_data_in_leaf=1548; envios=13166; lambda_l1=0.443 : y = 6.21e+07 : 52.6 secs : infill_ei\n",
      "\n"
     ]
    },
    {
     "name": "stdout",
     "output_type": "stream",
     "text": [
      "20250531 232606\tbinary\tcustom\tTRUE\tTRUE\tFALSE\t-100\t31\t508\tTRUE\t823819\t0.0227910512788342\t21\t0.909500739287142\t484\t12611\t4.14753837065463\t60690000\t276\n"
     ]
    },
    {
     "name": "stderr",
     "output_type": "stream",
     "text": [
      "[mbo] 252: learning_rate=0.0228; num_leaves=21; feature_fraction=0.91; min_data_in_leaf=484; envios=12611; lambda_l1=4.15 : y = 6.07e+07 : 66.5 secs : infill_ei\n",
      "\n"
     ]
    },
    {
     "name": "stdout",
     "output_type": "stream",
     "text": [
      "20250531 232935\tbinary\tcustom\tTRUE\tTRUE\tFALSE\t-100\t31\t999\tTRUE\t823819\t0.0127571967173432\t435\t0.561902510736634\t1010\t14744\t1.94521845469732\t62460000\t277\n"
     ]
    },
    {
     "name": "stderr",
     "output_type": "stream",
     "text": [
      "[mbo] 253: learning_rate=0.0128; num_leaves=435; feature_fraction=0.562; min_data_in_leaf=1010; envios=14744; lambda_l1=1.95 : y = 6.25e+07 : 205.9 secs : infill_ei\n",
      "\n"
     ]
    },
    {
     "name": "stdout",
     "output_type": "stream",
     "text": [
      "20250531 233037\tbinary\tcustom\tTRUE\tTRUE\tFALSE\t-100\t31\t236\tTRUE\t823819\t0.0446842310854429\t751\t0.40708089801277\t1007\t14151\t1.44483572736873\t61950000\t278\n"
     ]
    },
    {
     "name": "stderr",
     "output_type": "stream",
     "text": [
      "[mbo] 254: learning_rate=0.0447; num_leaves=751; feature_fraction=0.407; min_data_in_leaf=1007; envios=14151; lambda_l1=1.44 : y = 6.2e+07 : 59.9 secs : infill_ei\n",
      "\n"
     ]
    },
    {
     "name": "stdout",
     "output_type": "stream",
     "text": [
      "20250531 233214\tbinary\tcustom\tTRUE\tTRUE\tFALSE\t-100\t31\t625\tTRUE\t823819\t0.0290256274851323\t65\t0.680691300732632\t1215\t13592\t4.60684346700393\t61350000\t279\n"
     ]
    },
    {
     "name": "stderr",
     "output_type": "stream",
     "text": [
      "[mbo] 255: learning_rate=0.029; num_leaves=65; feature_fraction=0.681; min_data_in_leaf=1215; envios=13592; lambda_l1=4.61 : y = 6.14e+07 : 93.6 secs : infill_ei\n",
      "\n"
     ]
    },
    {
     "name": "stdout",
     "output_type": "stream",
     "text": [
      "20250531 233308\tbinary\tcustom\tTRUE\tTRUE\tFALSE\t-100\t31\t220\tTRUE\t823819\t0.0515831578355679\t668\t0.28779859589913\t974\t12708\t1.3655441197646\t62325000\t280\n"
     ]
    },
    {
     "name": "stderr",
     "output_type": "stream",
     "text": [
      "[mbo] 256: learning_rate=0.0516; num_leaves=668; feature_fraction=0.288; min_data_in_leaf=974; envios=12708; lambda_l1=1.37 : y = 6.23e+07 : 51.8 secs : infill_ei\n",
      "\n"
     ]
    },
    {
     "name": "stdout",
     "output_type": "stream",
     "text": [
      "20250531 233344\tbinary\tcustom\tTRUE\tTRUE\tFALSE\t-100\t31\t126\tTRUE\t823819\t0.0547281564125392\t263\t0.875376609832067\t1054\t13641\t2.83181205101419\t60600000\t281\n"
     ]
    },
    {
     "name": "stderr",
     "output_type": "stream",
     "text": [
      "[mbo] 257: learning_rate=0.0547; num_leaves=263; feature_fraction=0.875; min_data_in_leaf=1054; envios=13641; lambda_l1=2.83 : y = 6.06e+07 : 32.9 secs : infill_ei\n",
      "\n",
      "Saved the current state after iteration 258 in the file 5431.RDATA.\n",
      "\n"
     ]
    },
    {
     "name": "stdout",
     "output_type": "stream",
     "text": [
      "20250531 233713\tbinary\tcustom\tTRUE\tTRUE\tFALSE\t-100\t31\t1112\tTRUE\t823819\t0.0192099991670898\t182\t0.565791804938479\t867\t13690\t3.92940053005628\t61890000\t282\n"
     ]
    },
    {
     "name": "stderr",
     "output_type": "stream",
     "text": [
      "[mbo] 258: learning_rate=0.0192; num_leaves=182; feature_fraction=0.566; min_data_in_leaf=867; envios=13690; lambda_l1=3.93 : y = 6.19e+07 : 198.1 secs : infill_ei\n",
      "\n"
     ]
    },
    {
     "name": "stdout",
     "output_type": "stream",
     "text": [
      "20250531 233746\tbinary\tcustom\tTRUE\tTRUE\tFALSE\t-100\t31\t127\tTRUE\t823819\t0.155438037130459\t368\t0.36355344364287\t2173\t12654\t8.26099043825178\t61650000\t283\n"
     ]
    },
    {
     "name": "stderr",
     "output_type": "stream",
     "text": [
      "[mbo] 259: learning_rate=0.155; num_leaves=368; feature_fraction=0.364; min_data_in_leaf=2173; envios=12654; lambda_l1=8.26 : y = 6.16e+07 : 28.9 secs : infill_ei\n",
      "\n"
     ]
    },
    {
     "name": "stdout",
     "output_type": "stream",
     "text": [
      "20250531 234116\tbinary\tcustom\tTRUE\tTRUE\tFALSE\t-100\t31\t611\tTRUE\t823819\t0.0100028295438309\t262\t0.556311709764053\t467\t13519\t2.18802288380575\t61095000\t284\n"
     ]
    },
    {
     "name": "stderr",
     "output_type": "stream",
     "text": [
      "[mbo] 260: learning_rate=0.01; num_leaves=262; feature_fraction=0.556; min_data_in_leaf=467; envios=13519; lambda_l1=2.19 : y = 6.11e+07 : 208.0 secs : infill_ei\n",
      "\n"
     ]
    },
    {
     "name": "stdout",
     "output_type": "stream",
     "text": [
      "20250531 234626\tbinary\tcustom\tTRUE\tTRUE\tFALSE\t-100\t31\t1415\tTRUE\t823819\t0.010045920213915\t684\t0.361693358023148\t453\t12002\t1.97583599209939\t61320000\t285\n"
     ]
    },
    {
     "name": "stderr",
     "output_type": "stream",
     "text": [
      "[mbo] 261: learning_rate=0.01; num_leaves=684; feature_fraction=0.362; min_data_in_leaf=453; envios=12002; lambda_l1=1.98 : y = 6.13e+07 : 308.3 secs : infill_ei\n",
      "\n",
      "Saved the current state after iteration 262 in the file 5431.RDATA.\n",
      "\n"
     ]
    },
    {
     "name": "stdout",
     "output_type": "stream",
     "text": [
      "20250531 234812\tbinary\tcustom\tTRUE\tTRUE\tFALSE\t-100\t31\t341\tTRUE\t823819\t0.0275721043377831\t264\t0.518785848558076\t558\t12458\t2.12145327281607\t62475000\t286\n"
     ]
    },
    {
     "name": "stderr",
     "output_type": "stream",
     "text": [
      "[mbo] 262: learning_rate=0.0276; num_leaves=264; feature_fraction=0.519; min_data_in_leaf=558; envios=12458; lambda_l1=2.12 : y = 6.25e+07 : 95.0 secs : infill_ei\n",
      "\n"
     ]
    },
    {
     "name": "stdout",
     "output_type": "stream",
     "text": [
      "20250531 235230\tbinary\tcustom\tTRUE\tTRUE\tFALSE\t-100\t31\t1318\tTRUE\t823819\t0.014335852647215\t443\t0.445833792391447\t834\t14216\t2.0885296217236\t61515000\t287\n"
     ]
    },
    {
     "name": "stderr",
     "output_type": "stream",
     "text": [
      "[mbo] 263: learning_rate=0.0143; num_leaves=443; feature_fraction=0.446; min_data_in_leaf=834; envios=14216; lambda_l1=2.09 : y = 6.15e+07 : 256.2 secs : infill_ei\n",
      "\n"
     ]
    },
    {
     "name": "stdout",
     "output_type": "stream",
     "text": [
      "20250531 235407\tbinary\tcustom\tTRUE\tTRUE\tFALSE\t-100\t31\t488\tTRUE\t823819\t0.0398256774611615\t744\t0.462391800404736\t1819\t13758\t1.79987457293385\t61575000\t288\n"
     ]
    },
    {
     "name": "stderr",
     "output_type": "stream",
     "text": [
      "[mbo] 264: learning_rate=0.0398; num_leaves=744; feature_fraction=0.462; min_data_in_leaf=1819; envios=13758; lambda_l1=1.8 : y = 6.16e+07 : 95.2 secs : infill_ei\n",
      "\n"
     ]
    },
    {
     "name": "stdout",
     "output_type": "stream",
     "text": [
      "20250531 235456\tbinary\tcustom\tTRUE\tTRUE\tFALSE\t-100\t31\t211\tTRUE\t823819\t0.066369823391685\t662\t0.310658660351222\t1699\t14264\t1.70938146999488\t60900000\t289\n"
     ]
    },
    {
     "name": "stderr",
     "output_type": "stream",
     "text": [
      "[mbo] 265: learning_rate=0.0664; num_leaves=662; feature_fraction=0.311; min_data_in_leaf=1699; envios=14264; lambda_l1=1.71 : y = 6.09e+07 : 45.7 secs : infill_ei\n",
      "\n"
     ]
    },
    {
     "name": "stdout",
     "output_type": "stream",
     "text": [
      "20250531 235539\tbinary\tcustom\tTRUE\tTRUE\tFALSE\t-100\t31\t192\tTRUE\t823819\t0.0728964309635849\t250\t0.731858277917076\t746\t13662\t2.64030795350173\t61740000\t290\n"
     ]
    },
    {
     "name": "stderr",
     "output_type": "stream",
     "text": [
      "[mbo] 266: learning_rate=0.0729; num_leaves=250; feature_fraction=0.732; min_data_in_leaf=746; envios=13662; lambda_l1=2.64 : y = 6.17e+07 : 41.3 secs : infill_ei\n",
      "\n"
     ]
    },
    {
     "name": "stdout",
     "output_type": "stream",
     "text": [
      "20250531 235622\tbinary\tcustom\tTRUE\tTRUE\tFALSE\t-100\t31\t89\tTRUE\t823819\t0.0686316989935953\t702\t0.695975086224174\t293\t14202\t0.204847296354929\t6e+07\t291\n"
     ]
    },
    {
     "name": "stderr",
     "output_type": "stream",
     "text": [
      "[mbo] 267: learning_rate=0.0686; num_leaves=702; feature_fraction=0.696; min_data_in_leaf=293; envios=14202; lambda_l1=0.205 : y = 6e+07 : 40.5 secs : infill_ei\n",
      "\n"
     ]
    },
    {
     "name": "stdout",
     "output_type": "stream",
     "text": [
      "20250531 235732\tbinary\tcustom\tTRUE\tTRUE\tFALSE\t-100\t31\t318\tTRUE\t823819\t0.0556133945193335\t156\t0.376242617908229\t1018\t14293\t1.43977559554504\t61050000\t292\n"
     ]
    },
    {
     "name": "stderr",
     "output_type": "stream",
     "text": [
      "[mbo] 268: learning_rate=0.0556; num_leaves=156; feature_fraction=0.376; min_data_in_leaf=1018; envios=14293; lambda_l1=1.44 : y = 6.1e+07 : 68.2 secs : infill_ei\n",
      "\n",
      "Saved the current state after iteration 269 in the file 5431.RDATA.\n",
      "\n"
     ]
    },
    {
     "name": "stdout",
     "output_type": "stream",
     "text": [
      "20250531 235830\tbinary\tcustom\tTRUE\tTRUE\tFALSE\t-100\t31\t228\tTRUE\t823819\t0.0454970154022429\t67\t0.70856350789985\t625\t11514\t0.801580574436613\t61950000\t293\n"
     ]
    },
    {
     "name": "stderr",
     "output_type": "stream",
     "text": [
      "[mbo] 269: learning_rate=0.0455; num_leaves=67; feature_fraction=0.709; min_data_in_leaf=625; envios=11514; lambda_l1=0.802 : y = 6.2e+07 : 47.3 secs : infill_ei\n",
      "\n"
     ]
    },
    {
     "name": "stdout",
     "output_type": "stream",
     "text": [
      "20250531 235936\tbinary\tcustom\tTRUE\tTRUE\tFALSE\t-100\t31\t375\tTRUE\t823819\t0.0451990911921062\t203\t0.693130287828419\t1166\t14235\t2.20934332771212\t61815000\t294\n"
     ]
    },
    {
     "name": "stderr",
     "output_type": "stream",
     "text": [
      "[mbo] 270: learning_rate=0.0452; num_leaves=203; feature_fraction=0.693; min_data_in_leaf=1166; envios=14235; lambda_l1=2.21 : y = 6.18e+07 : 63.9 secs : infill_ei\n",
      "\n"
     ]
    },
    {
     "name": "stdout",
     "output_type": "stream",
     "text": [
      "20250601 000027\tbinary\tcustom\tTRUE\tTRUE\tFALSE\t-100\t31\t172\tTRUE\t823819\t0.0685087188983974\t152\t0.813929590912026\t416\t12085\t2.17801060292159\t61185000\t295\n"
     ]
    },
    {
     "name": "stderr",
     "output_type": "stream",
     "text": [
      "[mbo] 271: learning_rate=0.0685; num_leaves=152; feature_fraction=0.814; min_data_in_leaf=416; envios=12085; lambda_l1=2.18 : y = 6.12e+07 : 47.2 secs : infill_ei\n",
      "\n"
     ]
    },
    {
     "name": "stdout",
     "output_type": "stream",
     "text": [
      "20250601 000123\tbinary\tcustom\tTRUE\tTRUE\tFALSE\t-100\t31\t215\tTRUE\t823819\t0.0514633541602982\t256\t0.375548463415413\t1054\t13071\t0.944731051008476\t60630000\t296\n"
     ]
    },
    {
     "name": "stderr",
     "output_type": "stream",
     "text": [
      "[mbo] 272: learning_rate=0.0515; num_leaves=256; feature_fraction=0.376; min_data_in_leaf=1054; envios=13071; lambda_l1=0.945 : y = 6.06e+07 : 54.3 secs : infill_ei\n",
      "\n"
     ]
    },
    {
     "name": "stdout",
     "output_type": "stream",
     "text": [
      "20250601 000342\tbinary\tcustom\tTRUE\tTRUE\tFALSE\t-100\t31\t703\tTRUE\t823819\t0.0199711798031186\t353\t0.683215083438679\t810\t12370\t0.348310247466114\t62730000\t297\n"
     ]
    },
    {
     "name": "stderr",
     "output_type": "stream",
     "text": [
      "[mbo] 273: learning_rate=0.02; num_leaves=353; feature_fraction=0.683; min_data_in_leaf=810; envios=12370; lambda_l1=0.348 : y = 6.27e+07 : 135.3 secs : infill_ei\n",
      "\n"
     ]
    },
    {
     "name": "stdout",
     "output_type": "stream",
     "text": [
      "20250601 000545\tbinary\tcustom\tTRUE\tTRUE\tFALSE\t-100\t31\t606\tTRUE\t823819\t0.0228240153730302\t909\t0.37062684952362\t1298\t12975\t1.72489043746186\t61635000\t298\n"
     ]
    },
    {
     "name": "stderr",
     "output_type": "stream",
     "text": [
      "[mbo] 274: learning_rate=0.0228; num_leaves=909; feature_fraction=0.371; min_data_in_leaf=1298; envios=12975; lambda_l1=1.72 : y = 6.16e+07 : 121.4 secs : infill_ei\n",
      "\n"
     ]
    },
    {
     "name": "stdout",
     "output_type": "stream",
     "text": [
      "20250601 000951\tbinary\tcustom\tTRUE\tTRUE\tFALSE\t-100\t31\t1039\tTRUE\t823819\t0.0100315864977977\t126\t0.434656832176524\t919\t14502\t0.222893287390163\t61380000\t299\n"
     ]
    },
    {
     "name": "stderr",
     "output_type": "stream",
     "text": [
      "[mbo] 275: learning_rate=0.01; num_leaves=126; feature_fraction=0.435; min_data_in_leaf=919; envios=14502; lambda_l1=0.223 : y = 6.14e+07 : 242.1 secs : infill_ei\n",
      "\n",
      "Saved the current state after iteration 276 in the file 5431.RDATA.\n",
      "\n"
     ]
    },
    {
     "name": "stdout",
     "output_type": "stream",
     "text": [
      "20250601 001202\tbinary\tcustom\tTRUE\tTRUE\tFALSE\t-100\t31\t806\tTRUE\t823819\t0.0167779835713981\t47\t0.72877471939793\t1168\t12603\t5.29721785117743\t61320000\t300\n"
     ]
    },
    {
     "name": "stderr",
     "output_type": "stream",
     "text": [
      "[mbo] 276: learning_rate=0.0168; num_leaves=47; feature_fraction=0.729; min_data_in_leaf=1168; envios=12603; lambda_l1=5.3 : y = 6.13e+07 : 119.9 secs : infill_ei\n",
      "\n"
     ]
    },
    {
     "name": "stdout",
     "output_type": "stream",
     "text": [
      "20250601 001427\tbinary\tcustom\tTRUE\tTRUE\tFALSE\t-100\t31\t817\tTRUE\t823819\t0.0252143994912557\t223\t0.568025740008724\t1704\t14616\t3.65102705829148\t61755000\t301\n"
     ]
    },
    {
     "name": "stderr",
     "output_type": "stream",
     "text": [
      "[mbo] 277: learning_rate=0.0252; num_leaves=223; feature_fraction=0.568; min_data_in_leaf=1704; envios=14616; lambda_l1=3.65 : y = 6.18e+07 : 141.6 secs : infill_ei\n",
      "\n"
     ]
    },
    {
     "name": "stdout",
     "output_type": "stream",
     "text": [
      "20250601 001612\tbinary\tcustom\tTRUE\tTRUE\tFALSE\t-100\t31\t786\tTRUE\t823819\t0.0200495920763052\t99\t0.721851508171103\t3435\t14072\t3.78220800003246\t59550000\t302\n"
     ]
    },
    {
     "name": "stderr",
     "output_type": "stream",
     "text": [
      "[mbo] 278: learning_rate=0.02; num_leaves=99; feature_fraction=0.722; min_data_in_leaf=3435; envios=14072; lambda_l1=3.78 : y = 5.96e+07 : 100.8 secs : infill_ei\n",
      "\n"
     ]
    },
    {
     "name": "stdout",
     "output_type": "stream",
     "text": [
      "20250601 001951\tbinary\tcustom\tTRUE\tTRUE\tFALSE\t-100\t31\t1177\tTRUE\t823819\t0.0130412306597081\t612\t0.769446970180625\t603\t13311\t1.84003626564178\t61470000\t303\n"
     ]
    },
    {
     "name": "stderr",
     "output_type": "stream",
     "text": [
      "[mbo] 279: learning_rate=0.013; num_leaves=612; feature_fraction=0.769; min_data_in_leaf=603; envios=13311; lambda_l1=1.84 : y = 6.15e+07 : 217.2 secs : infill_ei\n",
      "\n"
     ]
    },
    {
     "name": "stdout",
     "output_type": "stream",
     "text": [
      "20250601 002038\tbinary\tcustom\tTRUE\tTRUE\tFALSE\t-100\t31\t146\tTRUE\t823819\t0.0447993658923174\t325\t0.701112121949247\t508\t11599\t2.57988883486631\t60735000\t304\n"
     ]
    },
    {
     "name": "stderr",
     "output_type": "stream",
     "text": [
      "[mbo] 280: learning_rate=0.0448; num_leaves=325; feature_fraction=0.701; min_data_in_leaf=508; envios=11599; lambda_l1=2.58 : y = 6.07e+07 : 43.7 secs : infill_ei\n",
      "\n",
      "Saved the current state after iteration 281 in the file 5431.RDATA.\n",
      "\n"
     ]
    },
    {
     "name": "stdout",
     "output_type": "stream",
     "text": [
      "20250601 002349\tbinary\tcustom\tTRUE\tTRUE\tFALSE\t-100\t31\t944\tTRUE\t823819\t0.0115062869550999\t202\t0.711096684697404\t1024\t13329\t0.371156104844405\t62265000\t305\n"
     ]
    },
    {
     "name": "stderr",
     "output_type": "stream",
     "text": [
      "[mbo] 281: learning_rate=0.0115; num_leaves=202; feature_fraction=0.711; min_data_in_leaf=1024; envios=13329; lambda_l1=0.371 : y = 6.23e+07 : 180.2 secs : infill_ei\n",
      "\n"
     ]
    },
    {
     "name": "stdout",
     "output_type": "stream",
     "text": [
      "20250601 002447\tbinary\tcustom\tTRUE\tTRUE\tFALSE\t-100\t31\t96\tTRUE\t823819\t0.0283398191639027\t477\t0.794136052917679\t378\t12547\t0.25271004062221\t62205000\t306\n"
     ]
    },
    {
     "name": "stderr",
     "output_type": "stream",
     "text": [
      "[mbo] 282: learning_rate=0.0283; num_leaves=477; feature_fraction=0.794; min_data_in_leaf=378; envios=12547; lambda_l1=0.253 : y = 6.22e+07 : 54.0 secs : infill_ei\n",
      "\n"
     ]
    },
    {
     "name": "stdout",
     "output_type": "stream",
     "text": [
      "20250601 002704\tbinary\tcustom\tTRUE\tTRUE\tFALSE\t-100\t31\t578\tTRUE\t823819\t0.0246474308364004\t515\t0.539850578599452\t365\t12478\t4.06266392400608\t62175000\t307\n"
     ]
    },
    {
     "name": "stderr",
     "output_type": "stream",
     "text": [
      "[mbo] 283: learning_rate=0.0246; num_leaves=515; feature_fraction=0.54; min_data_in_leaf=365; envios=12478; lambda_l1=4.06 : y = 6.22e+07 : 135.3 secs : infill_ei\n",
      "\n"
     ]
    },
    {
     "name": "stdout",
     "output_type": "stream",
     "text": [
      "20250601 003043\tbinary\tcustom\tTRUE\tTRUE\tFALSE\t-100\t31\t512\tTRUE\t823819\t0.0119875922380405\t846\t0.566691166806606\t55\t12593\t1.85615877138536\t60990000\t308\n"
     ]
    },
    {
     "name": "stderr",
     "output_type": "stream",
     "text": [
      "[mbo] 284: learning_rate=0.012; num_leaves=846; feature_fraction=0.567; min_data_in_leaf=55; envios=12593; lambda_l1=1.86 : y = 6.1e+07 : 215.8 secs : infill_ei\n",
      "\n"
     ]
    },
    {
     "name": "stdout",
     "output_type": "stream",
     "text": [
      "20250601 003121\tbinary\tcustom\tTRUE\tTRUE\tFALSE\t-100\t31\t20\tTRUE\t823819\t0.06101021794585\t783\t0.43339011523202\t81\t11539\t1.72999857567643\t59955000\t309\n"
     ]
    },
    {
     "name": "stderr",
     "output_type": "stream",
     "text": [
      "[mbo] 285: learning_rate=0.061; num_leaves=783; feature_fraction=0.433; min_data_in_leaf=81; envios=11539; lambda_l1=1.73 : y = 6e+07 : 35.0 secs : infill_ei\n",
      "\n",
      "Saved the current state after iteration 286 in the file 5431.RDATA.\n",
      "\n"
     ]
    },
    {
     "name": "stdout",
     "output_type": "stream",
     "text": [
      "20250601 003258\tbinary\tcustom\tTRUE\tTRUE\tFALSE\t-100\t31\t415\tTRUE\t823819\t0.0391280025135523\t185\t0.409407061265456\t1080\t11259\t1.72101053992833\t61395000\t310\n"
     ]
    },
    {
     "name": "stderr",
     "output_type": "stream",
     "text": [
      "[mbo] 286: learning_rate=0.0391; num_leaves=185; feature_fraction=0.409; min_data_in_leaf=1080; envios=11259; lambda_l1=1.72 : y = 6.14e+07 : 86.8 secs : infill_ei\n",
      "\n"
     ]
    },
    {
     "name": "stdout",
     "output_type": "stream",
     "text": [
      "20250601 003409\tbinary\tcustom\tTRUE\tTRUE\tFALSE\t-100\t31\t368\tTRUE\t823819\t0.059824398247037\t472\t0.378866796262914\t2093\t10539\t1.43349509822226\t59955000\t311\n"
     ]
    },
    {
     "name": "stderr",
     "output_type": "stream",
     "text": [
      "[mbo] 287: learning_rate=0.0598; num_leaves=472; feature_fraction=0.379; min_data_in_leaf=2093; envios=10539; lambda_l1=1.43 : y = 6e+07 : 68.3 secs : infill_ei\n",
      "\n"
     ]
    },
    {
     "name": "stdout",
     "output_type": "stream",
     "text": [
      "20250601 003515\tbinary\tcustom\tTRUE\tTRUE\tFALSE\t-100\t31\t320\tTRUE\t823819\t0.0467190618215008\t145\t0.684123250996543\t1027\t12293\t0.149290565708792\t62850000\t312\n"
     ]
    },
    {
     "name": "stderr",
     "output_type": "stream",
     "text": [
      "[mbo] 288: learning_rate=0.0467; num_leaves=145; feature_fraction=0.684; min_data_in_leaf=1027; envios=12293; lambda_l1=0.149 : y = 6.28e+07 : 63.6 secs : infill_ei\n",
      "\n"
     ]
    },
    {
     "name": "stdout",
     "output_type": "stream",
     "text": [
      "20250601 003656\tbinary\tcustom\tTRUE\tTRUE\tFALSE\t-100\t31\t448\tTRUE\t823819\t0.0220540913397712\t523\t0.664091731080459\t859\t14171\t0.143091909722697\t62730000\t313\n"
     ]
    },
    {
     "name": "stderr",
     "output_type": "stream",
     "text": [
      "[mbo] 289: learning_rate=0.0221; num_leaves=523; feature_fraction=0.664; min_data_in_leaf=859; envios=14171; lambda_l1=0.143 : y = 6.27e+07 : 98.8 secs : infill_ei\n",
      "\n"
     ]
    },
    {
     "name": "stdout",
     "output_type": "stream",
     "text": [
      "20250601 003746\tbinary\tcustom\tTRUE\tTRUE\tFALSE\t-100\t31\t446\tTRUE\t823819\t0.0365834159618145\t11\t0.691010682103567\t1045\t7377\t1.03811506471211\t57795000\t314\n"
     ]
    },
    {
     "name": "stderr",
     "output_type": "stream",
     "text": [
      "[mbo] 290: learning_rate=0.0366; num_leaves=11; feature_fraction=0.691; min_data_in_leaf=1045; envios=7377; lambda_l1=1.04 : y = 5.78e+07 : 47.1 secs : infill_ei\n",
      "\n"
     ]
    },
    {
     "name": "stdout",
     "output_type": "stream",
     "text": [
      "20250601 004050\tbinary\tcustom\tTRUE\tTRUE\tFALSE\t-100\t31\t798\tTRUE\t823819\t0.011421152027519\t928\t0.823227832596339\t814\t12548\t0.196120413510452\t62565000\t315\n"
     ]
    },
    {
     "name": "stderr",
     "output_type": "stream",
     "text": [
      "[mbo] 291: learning_rate=0.0114; num_leaves=928; feature_fraction=0.823; min_data_in_leaf=814; envios=12548; lambda_l1=0.196 : y = 6.26e+07 : 181.7 secs : infill_ei\n",
      "\n"
     ]
    },
    {
     "name": "stdout",
     "output_type": "stream",
     "text": [
      "20250601 004208\tbinary\tcustom\tTRUE\tTRUE\tFALSE\t-100\t31\t216\tTRUE\t823819\t0.0404902380523117\t470\t0.496128019677525\t459\t12503\t1.92488807138437\t62100000\t316\n"
     ]
    },
    {
     "name": "stderr",
     "output_type": "stream",
     "text": [
      "[mbo] 292: learning_rate=0.0405; num_leaves=470; feature_fraction=0.496; min_data_in_leaf=459; envios=12503; lambda_l1=1.92 : y = 6.21e+07 : 72.4 secs : infill_ei\n",
      "\n",
      "Saved the current state after iteration 293 in the file 5431.RDATA.\n",
      "\n"
     ]
    },
    {
     "name": "stdout",
     "output_type": "stream",
     "text": [
      "20250601 004629\tbinary\tcustom\tTRUE\tTRUE\tFALSE\t-100\t31\t1382\tTRUE\t823819\t0.0120134571363343\t1021\t0.287851503246963\t1236\t13650\t1.49446891728208\t61650000\t317\n"
     ]
    },
    {
     "name": "stderr",
     "output_type": "stream",
     "text": [
      "[mbo] 293: learning_rate=0.012; num_leaves=1021; feature_fraction=0.288; min_data_in_leaf=1236; envios=13650; lambda_l1=1.49 : y = 6.16e+07 : 248.8 secs : infill_ei\n",
      "\n"
     ]
    },
    {
     "name": "stdout",
     "output_type": "stream",
     "text": [
      "20250601 004905\tbinary\tcustom\tTRUE\tTRUE\tFALSE\t-100\t31\t771\tTRUE\t823819\t0.0197139459530652\t550\t0.574363767856653\t1388\t14582\t0.161301038324511\t61260000\t318\n"
     ]
    },
    {
     "name": "stderr",
     "output_type": "stream",
     "text": [
      "[mbo] 294: learning_rate=0.0197; num_leaves=550; feature_fraction=0.574; min_data_in_leaf=1388; envios=14582; lambda_l1=0.161 : y = 6.13e+07 : 151.3 secs : infill_ei\n",
      "\n"
     ]
    },
    {
     "name": "stdout",
     "output_type": "stream",
     "text": [
      "20250601 005015\tbinary\tcustom\tTRUE\tTRUE\tFALSE\t-100\t31\t331\tTRUE\t823819\t0.045895410353617\t205\t0.688184960322647\t815\t11220\t0.505665537620801\t61860000\t319\n"
     ]
    },
    {
     "name": "stderr",
     "output_type": "stream",
     "text": [
      "[mbo] 295: learning_rate=0.0459; num_leaves=205; feature_fraction=0.688; min_data_in_leaf=815; envios=11220; lambda_l1=0.506 : y = 6.19e+07 : 66.9 secs : infill_ei\n",
      "\n"
     ]
    },
    {
     "name": "stdout",
     "output_type": "stream",
     "text": [
      "20250601 005132\tbinary\tcustom\tTRUE\tTRUE\tFALSE\t-100\t31\t294\tTRUE\t823819\t0.0241408383035247\t219\t0.693934240512417\t842\t13232\t0.136616344086381\t61710000\t320\n"
     ]
    },
    {
     "name": "stderr",
     "output_type": "stream",
     "text": [
      "[mbo] 296: learning_rate=0.0241; num_leaves=219; feature_fraction=0.694; min_data_in_leaf=842; envios=13232; lambda_l1=0.137 : y = 6.17e+07 : 74.1 secs : infill_ei\n",
      "\n"
     ]
    },
    {
     "name": "stdout",
     "output_type": "stream",
     "text": [
      "20250601 005239\tbinary\tcustom\tTRUE\tTRUE\tFALSE\t-100\t31\t291\tTRUE\t823819\t0.0367053190725185\t210\t0.662585623898189\t526\t12763\t4.05255450647958\t60720000\t321\n"
     ]
    },
    {
     "name": "stderr",
     "output_type": "stream",
     "text": [
      "[mbo] 297: learning_rate=0.0367; num_leaves=210; feature_fraction=0.663; min_data_in_leaf=526; envios=12763; lambda_l1=4.05 : y = 6.07e+07 : 63.0 secs : infill_ei\n",
      "\n",
      "Saved the current state after iteration 298 in the file 5431.RDATA.\n",
      "\n"
     ]
    },
    {
     "name": "stdout",
     "output_type": "stream",
     "text": [
      "20250601 005610\tbinary\tcustom\tTRUE\tTRUE\tFALSE\t-100\t31\t1203\tTRUE\t823819\t0.0118090236859547\t804\t0.834622989204209\t977\t12699\t3.03193283258409\t62115000\t322\n"
     ]
    },
    {
     "name": "stderr",
     "output_type": "stream",
     "text": [
      "[mbo] 298: learning_rate=0.0118; num_leaves=804; feature_fraction=0.835; min_data_in_leaf=977; envios=12699; lambda_l1=3.03 : y = 6.21e+07 : 200.8 secs : infill_ei\n",
      "\n"
     ]
    },
    {
     "name": "stdout",
     "output_type": "stream",
     "text": [
      "20250601 005652\tbinary\tcustom\tTRUE\tTRUE\tFALSE\t-100\t31\t122\tTRUE\t823819\t0.0591710521244958\t263\t0.929953638152582\t661\t11714\t0.0259158339703043\t61230000\t323\n"
     ]
    },
    {
     "name": "stderr",
     "output_type": "stream",
     "text": [
      "[mbo] 299: learning_rate=0.0592; num_leaves=263; feature_fraction=0.93; min_data_in_leaf=661; envios=11714; lambda_l1=0.0259 : y = 6.12e+07 : 39.2 secs : infill_ei\n",
      "\n"
     ]
    },
    {
     "name": "stdout",
     "output_type": "stream",
     "text": [
      "20250601 010315\tbinary\tcustom\tTRUE\tTRUE\tFALSE\t-100\t31\t2748\tTRUE\t823819\t0.0104428418236188\t18\t0.391534227778965\t657\t14405\t5.67569742009593\t61185000\t324\n"
     ]
    },
    {
     "name": "stderr",
     "output_type": "stream",
     "text": [
      "[mbo] 300: learning_rate=0.0104; num_leaves=18; feature_fraction=0.392; min_data_in_leaf=657; envios=14405; lambda_l1=5.68 : y = 6.12e+07 : 379.7 secs : infill_ei\n",
      "\n",
      "Saved the current state after iteration 301 in the file 5431.RDATA.\n",
      "\n"
     ]
    },
    {
     "name": "stdout",
     "output_type": "stream",
     "text": [
      "20250601 010417\tbinary\tcustom\tTRUE\tTRUE\tFALSE\t-100\t31\t222\tTRUE\t823819\t0.0630673659423177\t863\t0.356692630291116\t1342\t14094\t0.0868448995399198\t60570000\t325\n"
     ]
    },
    {
     "name": "stderr",
     "output_type": "stream",
     "text": [
      "[mbo] 301: learning_rate=0.0631; num_leaves=863; feature_fraction=0.357; min_data_in_leaf=1342; envios=14094; lambda_l1=0.0868 : y = 6.06e+07 : 51.4 secs : infill_ei\n",
      "\n"
     ]
    },
    {
     "name": "stdout",
     "output_type": "stream",
     "text": [
      "20250601 010513\tbinary\tcustom\tTRUE\tTRUE\tFALSE\t-100\t31\t255\tTRUE\t823819\t0.0670788874518641\t172\t0.371424943845527\t1768\t12251\t0.386059357209338\t61170000\t326\n"
     ]
    },
    {
     "name": "stderr",
     "output_type": "stream",
     "text": [
      "[mbo] 302: learning_rate=0.0671; num_leaves=172; feature_fraction=0.371; min_data_in_leaf=1768; envios=12251; lambda_l1=0.386 : y = 6.12e+07 : 52.3 secs : infill_ei\n",
      "\n"
     ]
    },
    {
     "name": "stdout",
     "output_type": "stream",
     "text": [
      "20250601 010636\tbinary\tcustom\tTRUE\tTRUE\tFALSE\t-100\t31\t515\tTRUE\t823819\t0.0452301945149408\t701\t0.152751790456045\t1415\t12931\t1.77937409981659\t60690000\t327\n"
     ]
    },
    {
     "name": "stderr",
     "output_type": "stream",
     "text": [
      "[mbo] 303: learning_rate=0.0452; num_leaves=701; feature_fraction=0.153; min_data_in_leaf=1415; envios=12931; lambda_l1=1.78 : y = 6.07e+07 : 79.3 secs : infill_ei\n",
      "\n"
     ]
    },
    {
     "name": "stdout",
     "output_type": "stream",
     "text": [
      "20250601 010738\tbinary\tcustom\tTRUE\tTRUE\tFALSE\t-100\t31\t347\tTRUE\t823819\t0.0493134800305567\t53\t0.902024302796418\t991\t9307\t1.42545459132642\t60765000\t328\n"
     ]
    },
    {
     "name": "stderr",
     "output_type": "stream",
     "text": [
      "[mbo] 304: learning_rate=0.0493; num_leaves=53; feature_fraction=0.902; min_data_in_leaf=991; envios=9307; lambda_l1=1.43 : y = 6.08e+07 : 58.0 secs : infill_ei\n",
      "\n"
     ]
    },
    {
     "name": "stdout",
     "output_type": "stream",
     "text": [
      "20250601 010857\tbinary\tcustom\tTRUE\tTRUE\tFALSE\t-100\t31\t469\tTRUE\t823819\t0.023025571613048\t41\t0.726132834433093\t738\t13810\t0.751458667958588\t62010000\t329\n"
     ]
    },
    {
     "name": "stderr",
     "output_type": "stream",
     "text": [
      "[mbo] 305: learning_rate=0.023; num_leaves=41; feature_fraction=0.726; min_data_in_leaf=738; envios=13810; lambda_l1=0.751 : y = 6.2e+07 : 75.3 secs : infill_ei\n",
      "\n"
     ]
    },
    {
     "name": "stdout",
     "output_type": "stream",
     "text": [
      "20250601 011057\tbinary\tcustom\tTRUE\tTRUE\tFALSE\t-100\t31\t523\tTRUE\t823819\t0.0256031094268252\t670\t0.440910438198876\t975\t12991\t2.43911076063247\t61950000\t330\n"
     ]
    },
    {
     "name": "stderr",
     "output_type": "stream",
     "text": [
      "[mbo] 306: learning_rate=0.0256; num_leaves=670; feature_fraction=0.441; min_data_in_leaf=975; envios=12991; lambda_l1=2.44 : y = 6.2e+07 : 117.6 secs : infill_ei\n",
      "\n"
     ]
    },
    {
     "name": "stdout",
     "output_type": "stream",
     "text": [
      "20250601 011210\tbinary\tcustom\tTRUE\tTRUE\tFALSE\t-100\t31\t333\tTRUE\t823819\t0.0541589460460445\t386\t0.351886131461066\t1541\t13310\t0.166207305333878\t60630000\t331\n"
     ]
    },
    {
     "name": "stderr",
     "output_type": "stream",
     "text": [
      "[mbo] 307: learning_rate=0.0542; num_leaves=386; feature_fraction=0.352; min_data_in_leaf=1541; envios=13310; lambda_l1=0.166 : y = 6.06e+07 : 68.9 secs : infill_ei\n",
      "\n"
     ]
    },
    {
     "name": "stdout",
     "output_type": "stream",
     "text": [
      "20250601 011419\tbinary\tcustom\tTRUE\tTRUE\tFALSE\t-100\t31\t369\tTRUE\t823819\t0.0223495811136401\t687\t0.468004920911662\t350\t12529\t0.416649312071439\t62145000\t332\n"
     ]
    },
    {
     "name": "stderr",
     "output_type": "stream",
     "text": [
      "[mbo] 308: learning_rate=0.0223; num_leaves=687; feature_fraction=0.468; min_data_in_leaf=350; envios=12529; lambda_l1=0.417 : y = 6.21e+07 : 125.5 secs : infill_ei\n",
      "\n",
      "Saved the current state after iteration 309 in the file 5431.RDATA.\n",
      "\n"
     ]
    },
    {
     "name": "stdout",
     "output_type": "stream",
     "text": [
      "20250601 011557\tbinary\tcustom\tTRUE\tTRUE\tFALSE\t-100\t31\t440\tTRUE\t823819\t0.0308566053593219\t495\t0.781378526532262\t1027\t14096\t0.24410231255231\t61395000\t333\n"
     ]
    },
    {
     "name": "stderr",
     "output_type": "stream",
     "text": [
      "[mbo] 309: learning_rate=0.0309; num_leaves=495; feature_fraction=0.781; min_data_in_leaf=1027; envios=14096; lambda_l1=0.244 : y = 6.14e+07 : 86.7 secs : infill_ei\n",
      "\n"
     ]
    },
    {
     "name": "stdout",
     "output_type": "stream",
     "text": [
      "20250601 011828\tbinary\tcustom\tTRUE\tTRUE\tFALSE\t-100\t31\t713\tTRUE\t823819\t0.0139800003465585\t402\t0.789443961248167\t831\t14530\t0.706259486046374\t62250000\t334\n"
     ]
    },
    {
     "name": "stderr",
     "output_type": "stream",
     "text": [
      "[mbo] 310: learning_rate=0.014; num_leaves=402; feature_fraction=0.789; min_data_in_leaf=831; envios=14530; lambda_l1=0.706 : y = 6.22e+07 : 147.6 secs : infill_ei\n",
      "\n"
     ]
    },
    {
     "name": "stdout",
     "output_type": "stream",
     "text": [
      "20250601 012032\tbinary\tcustom\tTRUE\tTRUE\tFALSE\t-100\t31\t357\tTRUE\t823819\t0.0175069687979172\t501\t0.550146272725021\t273\t12534\t3.56703301627116\t61290000\t335\n"
     ]
    },
    {
     "name": "stderr",
     "output_type": "stream",
     "text": [
      "[mbo] 311: learning_rate=0.0175; num_leaves=501; feature_fraction=0.55; min_data_in_leaf=273; envios=12534; lambda_l1=3.57 : y = 6.13e+07 : 119.6 secs : infill_ei\n",
      "\n"
     ]
    },
    {
     "name": "stdout",
     "output_type": "stream",
     "text": [
      "20250601 012125\tbinary\tcustom\tTRUE\tTRUE\tFALSE\t-100\t31\t95\tTRUE\t823819\t0.0603890029194761\t446\t0.41004592120442\t96\t12329\t1.06614222888226\t60705000\t336\n"
     ]
    },
    {
     "name": "stderr",
     "output_type": "stream",
     "text": [
      "[mbo] 312: learning_rate=0.0604; num_leaves=446; feature_fraction=0.41; min_data_in_leaf=96; envios=12329; lambda_l1=1.07 : y = 6.07e+07 : 48.1 secs : infill_ei\n",
      "\n"
     ]
    },
    {
     "name": "stdout",
     "output_type": "stream",
     "text": [
      "20250601 012221\tbinary\tcustom\tTRUE\tTRUE\tFALSE\t-100\t31\t188\tTRUE\t823819\t0.0409246465801956\t343\t0.684433120853078\t590\t10434\t1.71647038517644\t62190000\t337\n"
     ]
    },
    {
     "name": "stderr",
     "output_type": "stream",
     "text": [
      "[mbo] 313: learning_rate=0.0409; num_leaves=343; feature_fraction=0.684; min_data_in_leaf=590; envios=10434; lambda_l1=1.72 : y = 6.22e+07 : 53.5 secs : infill_ei\n",
      "\n"
     ]
    },
    {
     "name": "stdout",
     "output_type": "stream",
     "text": [
      "20250601 012307\tbinary\tcustom\tTRUE\tTRUE\tFALSE\t-100\t31\t215\tTRUE\t823819\t0.0527574481301124\t793\t0.759760807237325\t1426\t12591\t3.02606690924037\t60750000\t338\n"
     ]
    },
    {
     "name": "stderr",
     "output_type": "stream",
     "text": [
      "[mbo] 314: learning_rate=0.0528; num_leaves=793; feature_fraction=0.76; min_data_in_leaf=1426; envios=12591; lambda_l1=3.03 : y = 6.08e+07 : 41.8 secs : infill_ei\n",
      "\n"
     ]
    },
    {
     "name": "stdout",
     "output_type": "stream",
     "text": [
      "20250601 012443\tbinary\tcustom\tTRUE\tTRUE\tFALSE\t-100\t31\t273\tTRUE\t823819\t0.0254971669235036\t1000\t0.84244709207859\t413\t12000\t0.063508330236921\t62400000\t339\n"
     ]
    },
    {
     "name": "stderr",
     "output_type": "stream",
     "text": [
      "[mbo] 315: learning_rate=0.0255; num_leaves=1000; feature_fraction=0.842; min_data_in_leaf=413; envios=12000; lambda_l1=0.0635 : y = 6.24e+07 : 93.1 secs : infill_ei\n",
      "\n",
      "Saved the current state after iteration 316 in the file 5431.RDATA.\n",
      "\n"
     ]
    },
    {
     "name": "stdout",
     "output_type": "stream",
     "text": [
      "20250601 012602\tbinary\tcustom\tTRUE\tTRUE\tFALSE\t-100\t31\t201\tTRUE\t823819\t0.0331311935288448\t904\t0.842610575150057\t409\t11390\t0.32939375382352\t62070000\t340\n"
     ]
    },
    {
     "name": "stderr",
     "output_type": "stream",
     "text": [
      "[mbo] 316: learning_rate=0.0331; num_leaves=904; feature_fraction=0.843; min_data_in_leaf=409; envios=11390; lambda_l1=0.329 : y = 6.21e+07 : 68.3 secs : infill_ei\n",
      "\n"
     ]
    },
    {
     "name": "stdout",
     "output_type": "stream",
     "text": [
      "20250601 012804\tbinary\tcustom\tTRUE\tTRUE\tFALSE\t-100\t31\t380\tTRUE\t823819\t0.0304514442741778\t776\t0.51146998673944\t200\t12795\t1.35867195166074\t61335000\t341\n"
     ]
    },
    {
     "name": "stderr",
     "output_type": "stream",
     "text": [
      "[mbo] 317: learning_rate=0.0305; num_leaves=776; feature_fraction=0.511; min_data_in_leaf=200; envios=12795; lambda_l1=1.36 : y = 6.13e+07 : 118.0 secs : infill_ei\n",
      "\n"
     ]
    },
    {
     "name": "stdout",
     "output_type": "stream",
     "text": [
      "20250601 012859\tbinary\tcustom\tTRUE\tTRUE\tFALSE\t-100\t31\t202\tTRUE\t823819\t0.0723277142586952\t191\t0.660706576327334\t171\t12845\t2.87374203254089\t60585000\t342\n"
     ]
    },
    {
     "name": "stderr",
     "output_type": "stream",
     "text": [
      "[mbo] 318: learning_rate=0.0723; num_leaves=191; feature_fraction=0.661; min_data_in_leaf=171; envios=12845; lambda_l1=2.87 : y = 6.06e+07 : 50.2 secs : infill_ei\n",
      "\n"
     ]
    },
    {
     "name": "stdout",
     "output_type": "stream",
     "text": [
      "20250601 013038\tbinary\tcustom\tTRUE\tTRUE\tFALSE\t-100\t31\t542\tTRUE\t823819\t0.0491534716136343\t901\t0.310481890904955\t1339\t9770\t1.08740319796448\t61290000\t343\n"
     ]
    },
    {
     "name": "stderr",
     "output_type": "stream",
     "text": [
      "[mbo] 319: learning_rate=0.0492; num_leaves=901; feature_fraction=0.31; min_data_in_leaf=1339; envios=9770; lambda_l1=1.09 : y = 6.13e+07 : 95.0 secs : infill_ei\n",
      "\n"
     ]
    },
    {
     "name": "stdout",
     "output_type": "stream",
     "text": [
      "20250601 013158\tbinary\tcustom\tTRUE\tTRUE\tFALSE\t-100\t31\t390\tTRUE\t823819\t0.0495359355978306\t162\t0.551486174983851\t1636\t10118\t2.88705349731533\t60975000\t344\n"
     ]
    },
    {
     "name": "stderr",
     "output_type": "stream",
     "text": [
      "[mbo] 320: learning_rate=0.0495; num_leaves=162; feature_fraction=0.551; min_data_in_leaf=1636; envios=10118; lambda_l1=2.89 : y = 6.1e+07 : 76.4 secs : infill_ei\n",
      "\n"
     ]
    },
    {
     "name": "stdout",
     "output_type": "stream",
     "text": [
      "20250601 013309\tbinary\tcustom\tTRUE\tTRUE\tFALSE\t-100\t31\t289\tTRUE\t823819\t0.0603452178050879\t162\t0.535159373394346\t826\t11863\t2.61600375356662\t61260000\t345\n"
     ]
    },
    {
     "name": "stderr",
     "output_type": "stream",
     "text": [
      "[mbo] 321: learning_rate=0.0603; num_leaves=162; feature_fraction=0.535; min_data_in_leaf=826; envios=11863; lambda_l1=2.62 : y = 6.13e+07 : 66.7 secs : infill_ei\n",
      "\n"
     ]
    },
    {
     "name": "stdout",
     "output_type": "stream",
     "text": [
      "20250601 013517\tbinary\tcustom\tTRUE\tTRUE\tFALSE\t-100\t31\t656\tTRUE\t823819\t0.0137213593988409\t145\t0.678465528728363\t663\t12638\t6.02820681593467\t60375000\t346\n"
     ]
    },
    {
     "name": "stderr",
     "output_type": "stream",
     "text": [
      "[mbo] 322: learning_rate=0.0137; num_leaves=145; feature_fraction=0.678; min_data_in_leaf=663; envios=12638; lambda_l1=6.03 : y = 6.04e+07 : 124.9 secs : infill_ei\n",
      "\n",
      "Saved the current state after iteration 323 in the file 5431.RDATA.\n",
      "\n"
     ]
    },
    {
     "name": "stdout",
     "output_type": "stream",
     "text": [
      "20250601 013647\tbinary\tcustom\tTRUE\tTRUE\tFALSE\t-100\t31\t300\tTRUE\t823819\t0.0292180821850604\t412\t0.55945859558027\t1003\t9864\t2.25686799149234\t61740000\t347\n"
     ]
    },
    {
     "name": "stderr",
     "output_type": "stream",
     "text": [
      "[mbo] 323: learning_rate=0.0292; num_leaves=412; feature_fraction=0.559; min_data_in_leaf=1003; envios=9864; lambda_l1=2.26 : y = 6.17e+07 : 77.7 secs : infill_ei\n",
      "\n"
     ]
    },
    {
     "name": "stdout",
     "output_type": "stream",
     "text": [
      "20250601 013906\tbinary\tcustom\tTRUE\tTRUE\tFALSE\t-100\t31\t865\tTRUE\t823819\t0.0253063421197711\t21\t0.401971164371895\t1699\t12589\t3.97380540983402\t60885000\t348\n"
     ]
    },
    {
     "name": "stderr",
     "output_type": "stream",
     "text": [
      "[mbo] 324: learning_rate=0.0253; num_leaves=21; feature_fraction=0.402; min_data_in_leaf=1699; envios=12589; lambda_l1=3.97 : y = 6.09e+07 : 135.2 secs : infill_ei\n",
      "\n"
     ]
    },
    {
     "name": "stdout",
     "output_type": "stream",
     "text": [
      "20250601 013957\tbinary\tcustom\tTRUE\tTRUE\tFALSE\t-100\t31\t357\tTRUE\t823819\t0.0451823028256707\t27\t0.714874549530702\t817\t11077\t1.78788817610284\t61335000\t349\n"
     ]
    },
    {
     "name": "stderr",
     "output_type": "stream",
     "text": [
      "[mbo] 325: learning_rate=0.0452; num_leaves=27; feature_fraction=0.715; min_data_in_leaf=817; envios=11077; lambda_l1=1.79 : y = 6.13e+07 : 47.0 secs : infill_ei\n",
      "\n"
     ]
    },
    {
     "name": "stdout",
     "output_type": "stream",
     "text": [
      "20250601 014125\tbinary\tcustom\tTRUE\tTRUE\tFALSE\t-100\t31\t461\tTRUE\t823819\t0.0563651330069548\t861\t0.351935470023351\t1306\t12616\t1.69736093555273\t61275000\t350\n"
     ]
    },
    {
     "name": "stderr",
     "output_type": "stream",
     "text": [
      "[mbo] 326: learning_rate=0.0564; num_leaves=861; feature_fraction=0.352; min_data_in_leaf=1306; envios=12616; lambda_l1=1.7 : y = 6.13e+07 : 84.8 secs : infill_ei\n",
      "\n"
     ]
    },
    {
     "name": "stdout",
     "output_type": "stream",
     "text": [
      "20250601 014256\tbinary\tcustom\tTRUE\tTRUE\tFALSE\t-100\t31\t412\tTRUE\t823819\t0.0463735158925774\t882\t0.463976332334704\t1497\t11861\t0.303734713693178\t61380000\t351\n"
     ]
    },
    {
     "name": "stderr",
     "output_type": "stream",
     "text": [
      "[mbo] 327: learning_rate=0.0464; num_leaves=882; feature_fraction=0.464; min_data_in_leaf=1497; envios=11861; lambda_l1=0.304 : y = 6.14e+07 : 86.9 secs : infill_ei\n",
      "\n"
     ]
    },
    {
     "name": "stdout",
     "output_type": "stream",
     "text": [
      "20250601 014347\tbinary\tcustom\tTRUE\tTRUE\tFALSE\t-100\t31\t167\tTRUE\t823819\t0.0507638124781901\t771\t0.413681121563216\t1510\t14258\t1.63752745884247\t60915000\t352\n"
     ]
    },
    {
     "name": "stderr",
     "output_type": "stream",
     "text": [
      "[mbo] 328: learning_rate=0.0508; num_leaves=771; feature_fraction=0.414; min_data_in_leaf=1510; envios=14258; lambda_l1=1.64 : y = 6.09e+07 : 47.0 secs : infill_ei\n",
      "\n"
     ]
    },
    {
     "name": "stdout",
     "output_type": "stream",
     "text": [
      "20250601 014444\tbinary\tcustom\tTRUE\tTRUE\tFALSE\t-100\t31\t255\tTRUE\t823819\t0.0744978777778499\t848\t0.284618553228478\t993\t13839\t2.50361775617409\t60735000\t353\n"
     ]
    },
    {
     "name": "stderr",
     "output_type": "stream",
     "text": [
      "[mbo] 329: learning_rate=0.0745; num_leaves=848; feature_fraction=0.285; min_data_in_leaf=993; envios=13839; lambda_l1=2.5 : y = 6.07e+07 : 52.6 secs : infill_ei\n",
      "\n"
     ]
    },
    {
     "name": "stdout",
     "output_type": "stream",
     "text": [
      "20250601 014644\tbinary\tcustom\tTRUE\tTRUE\tFALSE\t-100\t31\t625\tTRUE\t823819\t0.038222788796458\t927\t0.398492859595247\t1363\t11551\t3.02156695017026\t61590000\t354\n"
     ]
    },
    {
     "name": "stderr",
     "output_type": "stream",
     "text": [
      "[mbo] 330: learning_rate=0.0382; num_leaves=927; feature_fraction=0.398; min_data_in_leaf=1363; envios=11551; lambda_l1=3.02 : y = 6.16e+07 : 114.2 secs : infill_ei\n",
      "\n",
      "Saved the current state after iteration 331 in the file 5431.RDATA.\n",
      "\n"
     ]
    },
    {
     "name": "stdout",
     "output_type": "stream",
     "text": [
      "20250601 014854\tbinary\tcustom\tTRUE\tTRUE\tFALSE\t-100\t31\t360\tTRUE\t823819\t0.0405075740657481\t394\t0.714950678475977\t47\t7973\t1.27914416367228\t57570000\t355\n"
     ]
    },
    {
     "name": "stderr",
     "output_type": "stream",
     "text": [
      "[mbo] 331: learning_rate=0.0405; num_leaves=394; feature_fraction=0.715; min_data_in_leaf=47; envios=7973; lambda_l1=1.28 : y = 5.76e+07 : 118.0 secs : infill_ei\n",
      "\n"
     ]
    },
    {
     "name": "stdout",
     "output_type": "stream",
     "text": [
      "20250601 015031\tbinary\tcustom\tTRUE\tTRUE\tFALSE\t-100\t31\t483\tTRUE\t823819\t0.0515804749890306\t788\t0.26609976370025\t1085\t12088\t1.87161370803587\t60105000\t356\n"
     ]
    },
    {
     "name": "stderr",
     "output_type": "stream",
     "text": [
      "[mbo] 332: learning_rate=0.0516; num_leaves=788; feature_fraction=0.266; min_data_in_leaf=1085; envios=12088; lambda_l1=1.87 : y = 6.01e+07 : 91.5 secs : infill_ei\n",
      "\n"
     ]
    },
    {
     "name": "stdout",
     "output_type": "stream",
     "text": [
      "20250601 015220\tbinary\tcustom\tTRUE\tTRUE\tFALSE\t-100\t31\t434\tTRUE\t823819\t0.0215266247427077\t491\t0.694990906829898\t697\t11187\t0.0690877515624514\t61845000\t357\n"
     ]
    },
    {
     "name": "stderr",
     "output_type": "stream",
     "text": [
      "[mbo] 333: learning_rate=0.0215; num_leaves=491; feature_fraction=0.695; min_data_in_leaf=697; envios=11187; lambda_l1=0.0691 : y = 6.18e+07 : 104.6 secs : infill_ei\n",
      "\n"
     ]
    },
    {
     "name": "stdout",
     "output_type": "stream",
     "text": [
      "20250601 015333\tbinary\tcustom\tTRUE\tTRUE\tFALSE\t-100\t31\t346\tTRUE\t823819\t0.0404323487122635\t670\t0.669136516151327\t1094\t11911\t1.19035051725118\t61710000\t358\n"
     ]
    },
    {
     "name": "stderr",
     "output_type": "stream",
     "text": [
      "[mbo] 334: learning_rate=0.0404; num_leaves=670; feature_fraction=0.669; min_data_in_leaf=1094; envios=11911; lambda_l1=1.19 : y = 6.17e+07 : 69.1 secs : infill_ei\n",
      "\n"
     ]
    },
    {
     "name": "stdout",
     "output_type": "stream",
     "text": [
      "20250601 015651\tbinary\tcustom\tTRUE\tTRUE\tFALSE\t-100\t31\t925\tTRUE\t823819\t0.0113536301583852\t510\t0.666871384890452\t1045\t14508\t0.545739439801091\t61725000\t359\n"
     ]
    },
    {
     "name": "stderr",
     "output_type": "stream",
     "text": [
      "[mbo] 335: learning_rate=0.0114; num_leaves=510; feature_fraction=0.667; min_data_in_leaf=1045; envios=14508; lambda_l1=0.546 : y = 6.17e+07 : 193.2 secs : infill_ei\n",
      "\n"
     ]
    },
    {
     "name": "stdout",
     "output_type": "stream",
     "text": [
      "20250601 015729\tbinary\tcustom\tTRUE\tTRUE\tFALSE\t-100\t31\t151\tTRUE\t823819\t0.155182992738751\t621\t0.444838808514083\t1322\t12699\t8.6262919665504\t59955000\t360\n"
     ]
    },
    {
     "name": "stderr",
     "output_type": "stream",
     "text": [
      "[mbo] 336: learning_rate=0.155; num_leaves=621; feature_fraction=0.445; min_data_in_leaf=1322; envios=12699; lambda_l1=8.63 : y = 6e+07 : 33.5 secs : infill_ei\n",
      "\n",
      "Saved the current state after iteration 337 in the file 5431.RDATA.\n",
      "\n"
     ]
    },
    {
     "name": "stdout",
     "output_type": "stream",
     "text": [
      "20250601 020158\tbinary\tcustom\tTRUE\tTRUE\tFALSE\t-100\t31\t1086\tTRUE\t823819\t0.0105220958219636\t1006\t0.421594557389537\t844\t12782\t0.621670127008875\t62220000\t361\n"
     ]
    },
    {
     "name": "stderr",
     "output_type": "stream",
     "text": [
      "[mbo] 337: learning_rate=0.0105; num_leaves=1006; feature_fraction=0.422; min_data_in_leaf=844; envios=12782; lambda_l1=0.622 : y = 6.22e+07 : 257.4 secs : infill_ei\n",
      "\n"
     ]
    },
    {
     "name": "stdout",
     "output_type": "stream",
     "text": [
      "20250601 020258\tbinary\tcustom\tTRUE\tTRUE\tFALSE\t-100\t31\t220\tTRUE\t823819\t0.0752688048996774\t950\t0.52695796374722\t873\t13157\t1.20889445453151\t61215000\t362\n"
     ]
    },
    {
     "name": "stderr",
     "output_type": "stream",
     "text": [
      "[mbo] 338: learning_rate=0.0753; num_leaves=950; feature_fraction=0.527; min_data_in_leaf=873; envios=13157; lambda_l1=1.21 : y = 6.12e+07 : 54.9 secs : infill_ei\n",
      "\n"
     ]
    },
    {
     "name": "stdout",
     "output_type": "stream",
     "text": [
      "20250601 020402\tbinary\tcustom\tTRUE\tTRUE\tFALSE\t-100\t31\t288\tTRUE\t823819\t0.0607051596469753\t61\t0.392580516494664\t726\t11564\t2.75652325142676\t61680000\t363\n"
     ]
    },
    {
     "name": "stderr",
     "output_type": "stream",
     "text": [
      "[mbo] 339: learning_rate=0.0607; num_leaves=61; feature_fraction=0.393; min_data_in_leaf=726; envios=11564; lambda_l1=2.76 : y = 6.17e+07 : 60.2 secs : infill_ei\n",
      "\n"
     ]
    },
    {
     "name": "stdout",
     "output_type": "stream",
     "text": [
      "20250601 020523\tbinary\tcustom\tTRUE\tTRUE\tFALSE\t-100\t31\t193\tTRUE\t823819\t0.022891339429023\t113\t0.422954641816913\t252\t12001\t2.16173085553775\t61680000\t364\n"
     ]
    },
    {
     "name": "stderr",
     "output_type": "stream",
     "text": [
      "[mbo] 340: learning_rate=0.0229; num_leaves=113; feature_fraction=0.423; min_data_in_leaf=252; envios=12001; lambda_l1=2.16 : y = 6.17e+07 : 76.5 secs : infill_ei\n",
      "\n"
     ]
    },
    {
     "name": "stdout",
     "output_type": "stream",
     "text": [
      "20250601 020652\tbinary\tcustom\tTRUE\tTRUE\tFALSE\t-100\t31\t458\tTRUE\t823819\t0.04426594800927\t793\t0.326244403601669\t1396\t12800\t1.67998517084843\t62160000\t365\n"
     ]
    },
    {
     "name": "stderr",
     "output_type": "stream",
     "text": [
      "[mbo] 341: learning_rate=0.0443; num_leaves=793; feature_fraction=0.326; min_data_in_leaf=1396; envios=12800; lambda_l1=1.68 : y = 6.22e+07 : 85.1 secs : infill_ei\n",
      "\n"
     ]
    },
    {
     "name": "stdout",
     "output_type": "stream",
     "text": [
      "20250601 020817\tbinary\tcustom\tTRUE\tTRUE\tFALSE\t-100\t31\t345\tTRUE\t823819\t0.0519389829999183\t851\t0.384420963348146\t1021\t12727\t0.0432885850565558\t61425000\t366\n"
     ]
    },
    {
     "name": "stderr",
     "output_type": "stream",
     "text": [
      "[mbo] 342: learning_rate=0.0519; num_leaves=851; feature_fraction=0.384; min_data_in_leaf=1021; envios=12727; lambda_l1=0.0433 : y = 6.14e+07 : 80.6 secs : infill_ei\n",
      "\n",
      "Saved the current state after iteration 343 in the file 5431.RDATA.\n",
      "\n"
     ]
    },
    {
     "name": "stdout",
     "output_type": "stream",
     "text": [
      "20250601 020952\tbinary\tcustom\tTRUE\tTRUE\tFALSE\t-100\t31\t417\tTRUE\t823819\t0.0412828943826778\t536\t0.288865067391216\t1402\t13305\t0.105365545117518\t61965000\t367\n"
     ]
    },
    {
     "name": "stderr",
     "output_type": "stream",
     "text": [
      "[mbo] 343: learning_rate=0.0413; num_leaves=536; feature_fraction=0.289; min_data_in_leaf=1402; envios=13305; lambda_l1=0.105 : y = 6.2e+07 : 82.2 secs : infill_ei\n",
      "\n"
     ]
    },
    {
     "name": "stdout",
     "output_type": "stream",
     "text": [
      "20250601 021125\tbinary\tcustom\tTRUE\tTRUE\tFALSE\t-100\t31\t455\tTRUE\t823819\t0.0437468234586755\t422\t0.398613865276978\t1649\t12993\t0.89021591793949\t62550000\t368\n"
     ]
    },
    {
     "name": "stderr",
     "output_type": "stream",
     "text": [
      "[mbo] 344: learning_rate=0.0437; num_leaves=422; feature_fraction=0.399; min_data_in_leaf=1649; envios=12993; lambda_l1=0.89 : y = 6.26e+07 : 87.6 secs : infill_ei\n",
      "\n"
     ]
    },
    {
     "name": "stdout",
     "output_type": "stream",
     "text": [
      "20250601 021316\tbinary\tcustom\tTRUE\tTRUE\tFALSE\t-100\t31\t607\tTRUE\t823819\t0.0274441061493958\t454\t0.675363460420813\t1005\t12274\t1.66811098907058\t62670000\t369\n"
     ]
    },
    {
     "name": "stderr",
     "output_type": "stream",
     "text": [
      "[mbo] 345: learning_rate=0.0274; num_leaves=454; feature_fraction=0.675; min_data_in_leaf=1005; envios=12274; lambda_l1=1.67 : y = 6.27e+07 : 105.7 secs : infill_ei\n",
      "\n"
     ]
    },
    {
     "name": "stdout",
     "output_type": "stream",
     "text": [
      "20250601 021514\tbinary\tcustom\tTRUE\tTRUE\tFALSE\t-100\t31\t501\tTRUE\t823819\t0.0282776376897742\t201\t0.539143339674934\t1104\t12458\t0.229255346747056\t61875000\t370\n"
     ]
    },
    {
     "name": "stderr",
     "output_type": "stream",
     "text": [
      "[mbo] 346: learning_rate=0.0283; num_leaves=201; feature_fraction=0.539; min_data_in_leaf=1104; envios=12458; lambda_l1=0.229 : y = 6.19e+07 : 114.5 secs : infill_ei\n",
      "\n"
     ]
    },
    {
     "name": "stdout",
     "output_type": "stream",
     "text": [
      "20250601 021547\tbinary\tcustom\tTRUE\tTRUE\tFALSE\t-100\t31\t75\tTRUE\t823819\t0.070742942364526\t454\t0.334465007303451\t1072\t12420\t2.05756703912667\t59820000\t371\n"
     ]
    },
    {
     "name": "stderr",
     "output_type": "stream",
     "text": [
      "[mbo] 347: learning_rate=0.0707; num_leaves=454; feature_fraction=0.334; min_data_in_leaf=1072; envios=12420; lambda_l1=2.06 : y = 5.98e+07 : 29.2 secs : infill_ei\n",
      "\n"
     ]
    },
    {
     "name": "stdout",
     "output_type": "stream",
     "text": [
      "20250601 021752\tbinary\tcustom\tTRUE\tTRUE\tFALSE\t-100\t31\t490\tTRUE\t823819\t0.0180278390275623\t665\t0.819266591747528\t792\t12272\t0.103915280794431\t61710000\t372\n"
     ]
    },
    {
     "name": "stderr",
     "output_type": "stream",
     "text": [
      "[mbo] 348: learning_rate=0.018; num_leaves=665; feature_fraction=0.819; min_data_in_leaf=792; envios=12272; lambda_l1=0.104 : y = 6.17e+07 : 117.5 secs : infill_ei\n",
      "\n"
     ]
    },
    {
     "name": "stdout",
     "output_type": "stream",
     "text": [
      "20250601 021921\tbinary\tcustom\tTRUE\tTRUE\tFALSE\t-100\t31\t429\tTRUE\t823819\t0.0512971682093126\t529\t0.427495963404057\t1456\t10403\t1.85142679940379\t61560000\t373\n"
     ]
    },
    {
     "name": "stderr",
     "output_type": "stream",
     "text": [
      "[mbo] 349: learning_rate=0.0513; num_leaves=529; feature_fraction=0.427; min_data_in_leaf=1456; envios=10403; lambda_l1=1.85 : y = 6.16e+07 : 84.5 secs : infill_ei\n",
      "\n",
      "Saved the current state after iteration 350 in the file 5431.RDATA.\n",
      "\n"
     ]
    },
    {
     "name": "stdout",
     "output_type": "stream",
     "text": [
      "20250601 022058\tbinary\tcustom\tTRUE\tTRUE\tFALSE\t-100\t31\t364\tTRUE\t823819\t0.0426370966506624\t811\t0.443173023839688\t908\t13356\t3.39082167172363\t61095000\t374\n"
     ]
    },
    {
     "name": "stderr",
     "output_type": "stream",
     "text": [
      "[mbo] 350: learning_rate=0.0426; num_leaves=811; feature_fraction=0.443; min_data_in_leaf=908; envios=13356; lambda_l1=3.39 : y = 6.11e+07 : 82.7 secs : infill_ei\n",
      "\n"
     ]
    },
    {
     "name": "stdout",
     "output_type": "stream",
     "text": [
      "20250601 022222\tbinary\tcustom\tTRUE\tTRUE\tFALSE\t-100\t31\t211\tTRUE\t823819\t0.0271402219745365\t406\t0.476223590455515\t463\t13875\t1.77787466879445\t61575000\t375\n"
     ]
    },
    {
     "name": "stderr",
     "output_type": "stream",
     "text": [
      "[mbo] 351: learning_rate=0.0271; num_leaves=406; feature_fraction=0.476; min_data_in_leaf=463; envios=13875; lambda_l1=1.78 : y = 6.16e+07 : 79.0 secs : infill_ei\n",
      "\n"
     ]
    },
    {
     "name": "stdout",
     "output_type": "stream",
     "text": [
      "20250601 022320\tbinary\tcustom\tTRUE\tTRUE\tFALSE\t-100\t31\t214\tTRUE\t823819\t0.0612595414253918\t470\t0.308283080136963\t994\t12950\t0.231531412219625\t61950000\t376\n"
     ]
    },
    {
     "name": "stderr",
     "output_type": "stream",
     "text": [
      "[mbo] 352: learning_rate=0.0613; num_leaves=470; feature_fraction=0.308; min_data_in_leaf=994; envios=12950; lambda_l1=0.232 : y = 6.2e+07 : 50.8 secs : infill_ei\n",
      "\n"
     ]
    },
    {
     "name": "stdout",
     "output_type": "stream",
     "text": [
      "20250601 022524\tbinary\tcustom\tTRUE\tTRUE\tFALSE\t-100\t31\t605\tTRUE\t823819\t0.019789370041883\t416\t0.729837272801463\t1005\t14394\t0.158964787903085\t61110000\t377\n"
     ]
    },
    {
     "name": "stderr",
     "output_type": "stream",
     "text": [
      "[mbo] 353: learning_rate=0.0198; num_leaves=416; feature_fraction=0.73; min_data_in_leaf=1005; envios=14394; lambda_l1=0.159 : y = 6.11e+07 : 119.1 secs : infill_ei\n",
      "\n"
     ]
    },
    {
     "name": "stdout",
     "output_type": "stream",
     "text": [
      "20250601 022648\tbinary\tcustom\tTRUE\tTRUE\tFALSE\t-100\t31\t258\tTRUE\t823819\t0.0214764771430061\t498\t0.651984117844583\t565\t12568\t0.541288582971237\t61665000\t378\n"
     ]
    },
    {
     "name": "stderr",
     "output_type": "stream",
     "text": [
      "[mbo] 354: learning_rate=0.0215; num_leaves=498; feature_fraction=0.652; min_data_in_leaf=565; envios=12568; lambda_l1=0.541 : y = 6.17e+07 : 80.2 secs : infill_ei\n",
      "\n"
     ]
    },
    {
     "name": "stdout",
     "output_type": "stream",
     "text": [
      "20250601 023002\tbinary\tcustom\tTRUE\tTRUE\tFALSE\t-100\t31\t1182\tTRUE\t823819\t0.0206154171580857\t550\t0.251489692333948\t1516\t13181\t0.813199779061147\t62460000\t379\n"
     ]
    },
    {
     "name": "stderr",
     "output_type": "stream",
     "text": [
      "[mbo] 355: learning_rate=0.0206; num_leaves=550; feature_fraction=0.251; min_data_in_leaf=1516; envios=13181; lambda_l1=0.813 : y = 6.25e+07 : 187.5 secs : infill_ei\n",
      "\n",
      "Saved the current state after iteration 356 in the file 5431.RDATA.\n",
      "\n"
     ]
    },
    {
     "name": "stdout",
     "output_type": "stream",
     "text": [
      "20250601 023220\tbinary\tcustom\tTRUE\tTRUE\tFALSE\t-100\t31\t777\tTRUE\t823819\t0.0276762988808162\t540\t0.229356712049213\t1707\t12272\t0.664325153223864\t62550000\t380\n"
     ]
    },
    {
     "name": "stderr",
     "output_type": "stream",
     "text": [
      "[mbo] 356: learning_rate=0.0277; num_leaves=540; feature_fraction=0.229; min_data_in_leaf=1707; envios=12272; lambda_l1=0.664 : y = 6.26e+07 : 124.8 secs : infill_ei\n",
      "\n"
     ]
    },
    {
     "name": "stdout",
     "output_type": "stream",
     "text": [
      "20250601 023429\tbinary\tcustom\tTRUE\tTRUE\tFALSE\t-100\t31\t688\tTRUE\t823819\t0.0230556409995959\t400\t0.218373747800629\t1170\t13645\t0.526660588507899\t62025000\t381\n"
     ]
    },
    {
     "name": "stderr",
     "output_type": "stream",
     "text": [
      "[mbo] 357: learning_rate=0.0231; num_leaves=400; feature_fraction=0.218; min_data_in_leaf=1170; envios=13645; lambda_l1=0.527 : y = 6.2e+07 : 123.2 secs : infill_ei\n",
      "\n"
     ]
    },
    {
     "name": "stdout",
     "output_type": "stream",
     "text": [
      "20250601 023819\tbinary\tcustom\tTRUE\tTRUE\tFALSE\t-100\t31\t1422\tTRUE\t823819\t0.017061543683503\t745\t0.228253483246363\t1757\t12302\t0.152601682970557\t62100000\t382\n"
     ]
    },
    {
     "name": "stderr",
     "output_type": "stream",
     "text": [
      "[mbo] 358: learning_rate=0.0171; num_leaves=745; feature_fraction=0.228; min_data_in_leaf=1757; envios=12302; lambda_l1=0.153 : y = 6.21e+07 : 224.5 secs : infill_ei\n",
      "\n"
     ]
    },
    {
     "name": "stdout",
     "output_type": "stream",
     "text": [
      "20250601 024007\tbinary\tcustom\tTRUE\tTRUE\tFALSE\t-100\t31\t533\tTRUE\t823819\t0.027149031650662\t828\t0.243315902582029\t1370\t13576\t0.256293483521047\t61395000\t383\n"
     ]
    },
    {
     "name": "stderr",
     "output_type": "stream",
     "text": [
      "[mbo] 359: learning_rate=0.0271; num_leaves=828; feature_fraction=0.243; min_data_in_leaf=1370; envios=13576; lambda_l1=0.256 : y = 6.14e+07 : 101.7 secs : infill_ei\n",
      "\n"
     ]
    },
    {
     "name": "stdout",
     "output_type": "stream",
     "text": [
      "20250601 024116\tbinary\tcustom\tTRUE\tTRUE\tFALSE\t-100\t31\t375\tTRUE\t823819\t0.0417635440776491\t71\t0.92201393371816\t1300\t12983\t2.34821993826591\t60900000\t384\n"
     ]
    },
    {
     "name": "stderr",
     "output_type": "stream",
     "text": [
      "[mbo] 360: learning_rate=0.0418; num_leaves=71; feature_fraction=0.922; min_data_in_leaf=1300; envios=12983; lambda_l1=2.35 : y = 6.09e+07 : 65.0 secs : infill_ei\n",
      "\n",
      "Saved the current state after iteration 361 in the file 5431.RDATA.\n",
      "\n"
     ]
    },
    {
     "name": "stdout",
     "output_type": "stream",
     "text": [
      "20250601 024258\tbinary\tcustom\tTRUE\tTRUE\tFALSE\t-100\t31\t457\tTRUE\t823819\t0.0435722473481999\t781\t0.35552677429032\t1598\t12392\t1.02038623847529\t61950000\t385\n"
     ]
    },
    {
     "name": "stderr",
     "output_type": "stream",
     "text": [
      "[mbo] 361: learning_rate=0.0436; num_leaves=781; feature_fraction=0.356; min_data_in_leaf=1598; envios=12392; lambda_l1=1.02 : y = 6.2e+07 : 88.5 secs : infill_ei\n",
      "\n"
     ]
    },
    {
     "name": "stdout",
     "output_type": "stream",
     "text": [
      "20250601 024459\tbinary\tcustom\tTRUE\tTRUE\tFALSE\t-100\t31\t681\tTRUE\t823819\t0.0261376305482422\t386\t0.268992891865503\t1828\t13608\t2.79420701938375\t60825000\t386\n"
     ]
    },
    {
     "name": "stderr",
     "output_type": "stream",
     "text": [
      "[mbo] 362: learning_rate=0.0261; num_leaves=386; feature_fraction=0.269; min_data_in_leaf=1828; envios=13608; lambda_l1=2.79 : y = 6.08e+07 : 115.4 secs : infill_ei\n",
      "\n"
     ]
    },
    {
     "name": "stdout",
     "output_type": "stream",
     "text": [
      "20250601 024735\tbinary\tcustom\tTRUE\tTRUE\tFALSE\t-100\t31\t712\tTRUE\t823819\t0.021183911456663\t526\t0.228447047368809\t1450\t10716\t1.0697641280473\t60495000\t387\n"
     ]
    },
    {
     "name": "stderr",
     "output_type": "stream",
     "text": [
      "[mbo] 363: learning_rate=0.0212; num_leaves=526; feature_fraction=0.228; min_data_in_leaf=1450; envios=10716; lambda_l1=1.07 : y = 6.05e+07 : 151.7 secs : infill_ei\n",
      "\n"
     ]
    },
    {
     "name": "stdout",
     "output_type": "stream",
     "text": [
      "20250601 024950\tbinary\tcustom\tTRUE\tTRUE\tFALSE\t-100\t31\t593\tTRUE\t823819\t0.0173003864643247\t374\t0.235653529240954\t1699\t14707\t0.0436669783201301\t59805000\t388\n"
     ]
    },
    {
     "name": "stderr",
     "output_type": "stream",
     "text": [
      "[mbo] 364: learning_rate=0.0173; num_leaves=374; feature_fraction=0.236; min_data_in_leaf=1699; envios=14707; lambda_l1=0.0437 : y = 5.98e+07 : 128.8 secs : infill_ei\n",
      "\n"
     ]
    },
    {
     "name": "stdout",
     "output_type": "stream",
     "text": [
      "20250601 025117\tbinary\tcustom\tTRUE\tTRUE\tFALSE\t-100\t31\t360\tTRUE\t823819\t0.0471660558605007\t790\t0.368195680363792\t948\t9903\t0.780723481849835\t60780000\t389\n"
     ]
    },
    {
     "name": "stderr",
     "output_type": "stream",
     "text": [
      "[mbo] 365: learning_rate=0.0472; num_leaves=790; feature_fraction=0.368; min_data_in_leaf=948; envios=9903; lambda_l1=0.781 : y = 6.08e+07 : 83.2 secs : infill_ei\n",
      "\n"
     ]
    },
    {
     "name": "stdout",
     "output_type": "stream",
     "text": [
      "20250601 025220\tbinary\tcustom\tTRUE\tTRUE\tFALSE\t-100\t31\t215\tTRUE\t823819\t0.0461723208766654\t655\t0.450206406895259\t1284\t12762\t0.264023804481427\t61080000\t390\n"
     ]
    },
    {
     "name": "stderr",
     "output_type": "stream",
     "text": [
      "[mbo] 366: learning_rate=0.0462; num_leaves=655; feature_fraction=0.45; min_data_in_leaf=1284; envios=12762; lambda_l1=0.264 : y = 6.11e+07 : 59.6 secs : infill_ei\n",
      "\n",
      "Saved the current state after iteration 367 in the file 5431.RDATA.\n",
      "\n"
     ]
    },
    {
     "name": "stdout",
     "output_type": "stream",
     "text": [
      "20250601 025352\tbinary\tcustom\tTRUE\tTRUE\tFALSE\t-100\t31\t395\tTRUE\t823819\t0.0492129298397943\t201\t0.31423869778425\t1200\t9898\t0.336408124014072\t61515000\t391\n"
     ]
    },
    {
     "name": "stderr",
     "output_type": "stream",
     "text": [
      "[mbo] 367: learning_rate=0.0492; num_leaves=201; feature_fraction=0.314; min_data_in_leaf=1200; envios=9898; lambda_l1=0.336 : y = 6.15e+07 : 78.0 secs : infill_ei\n",
      "\n"
     ]
    },
    {
     "name": "stdout",
     "output_type": "stream",
     "text": [
      "20250601 025639\tbinary\tcustom\tTRUE\tTRUE\tFALSE\t-100\t31\t904\tTRUE\t823819\t0.0228066366058852\t577\t0.557650887981268\t1267\t14725\t6.29228396919176\t60705000\t392\n"
     ]
    },
    {
     "name": "stderr",
     "output_type": "stream",
     "text": [
      "[mbo] 368: learning_rate=0.0228; num_leaves=577; feature_fraction=0.558; min_data_in_leaf=1267; envios=14725; lambda_l1=6.29 : y = 6.07e+07 : 160.5 secs : infill_ei\n",
      "\n"
     ]
    },
    {
     "name": "stdout",
     "output_type": "stream",
     "text": [
      "20250601 025810\tbinary\tcustom\tTRUE\tTRUE\tFALSE\t-100\t31\t608\tTRUE\t823819\t0.0413284925199672\t453\t0.680570720572497\t1511\t11796\t6.03860930645905\t61215000\t393\n"
     ]
    },
    {
     "name": "stderr",
     "output_type": "stream",
     "text": [
      "[mbo] 369: learning_rate=0.0413; num_leaves=453; feature_fraction=0.681; min_data_in_leaf=1511; envios=11796; lambda_l1=6.04 : y = 6.12e+07 : 84.6 secs : infill_ei\n",
      "\n"
     ]
    },
    {
     "name": "stdout",
     "output_type": "stream",
     "text": [
      "20250601 030046\tbinary\tcustom\tTRUE\tTRUE\tFALSE\t-100\t31\t756\tTRUE\t823819\t0.0202024509964841\t813\t0.289550604939765\t1071\t14307\t0.158075978270953\t61485000\t394\n"
     ]
    },
    {
     "name": "stderr",
     "output_type": "stream",
     "text": [
      "[mbo] 370: learning_rate=0.0202; num_leaves=813; feature_fraction=0.29; min_data_in_leaf=1071; envios=14307; lambda_l1=0.158 : y = 6.15e+07 : 149.9 secs : infill_ei\n",
      "\n"
     ]
    },
    {
     "name": "stdout",
     "output_type": "stream",
     "text": [
      "20250601 030155\tbinary\tcustom\tTRUE\tTRUE\tFALSE\t-100\t31\t338\tTRUE\t823819\t0.0517508490192417\t725\t0.324690951865209\t1184\t13436\t6.68330019649723\t60495000\t395\n"
     ]
    },
    {
     "name": "stderr",
     "output_type": "stream",
     "text": [
      "[mbo] 371: learning_rate=0.0518; num_leaves=725; feature_fraction=0.325; min_data_in_leaf=1184; envios=13436; lambda_l1=6.68 : y = 6.05e+07 : 63.8 secs : infill_ei\n",
      "\n"
     ]
    },
    {
     "name": "stdout",
     "output_type": "stream",
     "text": [
      "20250601 030329\tbinary\tcustom\tTRUE\tTRUE\tFALSE\t-100\t31\t500\tTRUE\t823819\t0.0279290239064358\t324\t0.187573874252551\t787\t12466\t5.0463780575632\t59685000\t396\n"
     ]
    },
    {
     "name": "stderr",
     "output_type": "stream",
     "text": [
      "[mbo] 372: learning_rate=0.0279; num_leaves=324; feature_fraction=0.188; min_data_in_leaf=787; envios=12466; lambda_l1=5.05 : y = 5.97e+07 : 87.5 secs : infill_ei\n",
      "\n",
      "Saved the current state after iteration 373 in the file 5431.RDATA.\n",
      "\n"
     ]
    },
    {
     "name": "stdout",
     "output_type": "stream",
     "text": [
      "20250601 031001\tbinary\tcustom\tTRUE\tTRUE\tFALSE\t-100\t31\t2235\tTRUE\t823819\t0.0100063136172096\t931\t0.318752876555887\t1304\t14667\t1.09910170677795\t61365000\t397\n"
     ]
    },
    {
     "name": "stderr",
     "output_type": "stream",
     "text": [
      "[mbo] 373: learning_rate=0.01; num_leaves=931; feature_fraction=0.319; min_data_in_leaf=1304; envios=14667; lambda_l1=1.1 : y = 6.14e+07 : 378.6 secs : infill_ei\n",
      "\n"
     ]
    },
    {
     "name": "stdout",
     "output_type": "stream",
     "text": [
      "20250601 031224\tbinary\tcustom\tTRUE\tTRUE\tFALSE\t-100\t31\t607\tTRUE\t823819\t0.0230828433462278\t640\t0.560412792274601\t1247\t13974\t1.44387438385137\t62850000\t398\n"
     ]
    },
    {
     "name": "stderr",
     "output_type": "stream",
     "text": [
      "[mbo] 374: learning_rate=0.0231; num_leaves=640; feature_fraction=0.56; min_data_in_leaf=1247; envios=13974; lambda_l1=1.44 : y = 6.28e+07 : 134.0 secs : infill_ei\n",
      "\n"
     ]
    },
    {
     "name": "stdout",
     "output_type": "stream",
     "text": [
      "20250601 031509\tbinary\tcustom\tTRUE\tTRUE\tFALSE\t-100\t31\t765\tTRUE\t823819\t0.0155713868119277\t966\t0.379757505488752\t1532\t12289\t0.269943814144656\t61665000\t399\n"
     ]
    },
    {
     "name": "stderr",
     "output_type": "stream",
     "text": [
      "[mbo] 375: learning_rate=0.0156; num_leaves=966; feature_fraction=0.38; min_data_in_leaf=1532; envios=12289; lambda_l1=0.27 : y = 6.17e+07 : 160.4 secs : infill_ei\n",
      "\n",
      "Saved the current state after iteration 376 in the file 5431.RDATA.\n",
      "\n"
     ]
    },
    {
     "name": "stdout",
     "output_type": "stream",
     "text": [
      "20250601 031825\tbinary\tcustom\tTRUE\tTRUE\tFALSE\t-100\t31\t1161\tTRUE\t823819\t0.0190339175138349\t345\t0.654000158073833\t1211\t10042\t0.998229356941479\t62160000\t400\n"
     ]
    },
    {
     "name": "stderr",
     "output_type": "stream",
     "text": [
      "[mbo] 376: learning_rate=0.019; num_leaves=345; feature_fraction=0.654; min_data_in_leaf=1211; envios=10042; lambda_l1=0.998 : y = 6.22e+07 : 181.0 secs : infill_ei\n",
      "\n"
     ]
    },
    {
     "name": "stdout",
     "output_type": "stream",
     "text": [
      "20250601 031944\tbinary\tcustom\tTRUE\tTRUE\tFALSE\t-100\t31\t380\tTRUE\t823819\t0.0455293452787733\t75\t0.4638645846173\t1497\t11461\t8.89858990917062\t60660000\t401\n"
     ]
    },
    {
     "name": "stderr",
     "output_type": "stream",
     "text": [
      "[mbo] 377: learning_rate=0.0455; num_leaves=75; feature_fraction=0.464; min_data_in_leaf=1497; envios=11461; lambda_l1=8.9 : y = 6.07e+07 : 73.6 secs : infill_ei\n",
      "\n"
     ]
    },
    {
     "name": "stdout",
     "output_type": "stream",
     "text": [
      "20250601 032221\tbinary\tcustom\tTRUE\tTRUE\tFALSE\t-100\t31\t927\tTRUE\t823819\t0.0194353329090073\t655\t0.282967790214635\t2771\t13140\t2.52585409398747\t59700000\t402\n"
     ]
    },
    {
     "name": "stderr",
     "output_type": "stream",
     "text": [
      "[mbo] 378: learning_rate=0.0194; num_leaves=655; feature_fraction=0.283; min_data_in_leaf=2771; envios=13140; lambda_l1=2.53 : y = 5.97e+07 : 151.3 secs : infill_ei\n",
      "\n"
     ]
    },
    {
     "name": "stdout",
     "output_type": "stream",
     "text": [
      "20250601 032534\tbinary\tcustom\tTRUE\tTRUE\tFALSE\t-100\t31\t1318\tTRUE\t823819\t0.0278279309487459\t596\t0.226372612225258\t3029\t12127\t1.24126792549215\t61305000\t403\n"
     ]
    },
    {
     "name": "stderr",
     "output_type": "stream",
     "text": [
      "[mbo] 379: learning_rate=0.0278; num_leaves=596; feature_fraction=0.226; min_data_in_leaf=3029; envios=12127; lambda_l1=1.24 : y = 6.13e+07 : 187.3 secs : infill_ei\n",
      "\n",
      "Saved the current state after iteration 380 in the file 5431.RDATA.\n",
      "\n"
     ]
    },
    {
     "name": "stdout",
     "output_type": "stream",
     "text": [
      "20250601 032658\tbinary\tcustom\tTRUE\tTRUE\tFALSE\t-100\t31\t324\tTRUE\t823819\t0.049461707269704\t914\t0.582365047723285\t671\t10274\t5.65670791952655\t61110000\t404\n"
     ]
    },
    {
     "name": "stderr",
     "output_type": "stream",
     "text": [
      "[mbo] 380: learning_rate=0.0495; num_leaves=914; feature_fraction=0.582; min_data_in_leaf=671; envios=10274; lambda_l1=5.66 : y = 6.11e+07 : 69.4 secs : infill_ei\n",
      "\n"
     ]
    },
    {
     "name": "stdout",
     "output_type": "stream",
     "text": [
      "20250601 032744\tbinary\tcustom\tTRUE\tTRUE\tFALSE\t-100\t31\t172\tTRUE\t823819\t0.0802761860356695\t961\t0.582089357961933\t1035\t10371\t5.77242685643241\t61890000\t405\n"
     ]
    },
    {
     "name": "stderr",
     "output_type": "stream",
     "text": [
      "[mbo] 381: learning_rate=0.0803; num_leaves=961; feature_fraction=0.582; min_data_in_leaf=1035; envios=10371; lambda_l1=5.77 : y = 6.19e+07 : 40.3 secs : infill_ei\n",
      "\n"
     ]
    },
    {
     "name": "stdout",
     "output_type": "stream",
     "text": [
      "20250601 033022\tbinary\tcustom\tTRUE\tTRUE\tFALSE\t-100\t31\t690\tTRUE\t823819\t0.0242070819619808\t669\t0.510627497783854\t1036\t13561\t0.71212247104158\t62400000\t406\n"
     ]
    },
    {
     "name": "stderr",
     "output_type": "stream",
     "text": [
      "[mbo] 382: learning_rate=0.0242; num_leaves=669; feature_fraction=0.511; min_data_in_leaf=1036; envios=13561; lambda_l1=0.712 : y = 6.24e+07 : 151.9 secs : infill_ei\n",
      "\n"
     ]
    },
    {
     "name": "stdout",
     "output_type": "stream",
     "text": [
      "20250601 033116\tbinary\tcustom\tTRUE\tTRUE\tFALSE\t-100\t31\t161\tTRUE\t823819\t0.049864087715924\t726\t0.616628797440186\t584\t11965\t1.32424698799272\t61665000\t407\n"
     ]
    },
    {
     "name": "stderr",
     "output_type": "stream",
     "text": [
      "[mbo] 383: learning_rate=0.0499; num_leaves=726; feature_fraction=0.617; min_data_in_leaf=584; envios=11965; lambda_l1=1.32 : y = 6.17e+07 : 47.6 secs : infill_ei\n",
      "\n"
     ]
    },
    {
     "name": "stdout",
     "output_type": "stream",
     "text": [
      "20250601 033208\tbinary\tcustom\tTRUE\tTRUE\tFALSE\t-100\t31\t189\tTRUE\t823819\t0.0791880381699565\t991\t0.502387344763103\t772\t13814\t7.34180415616412\t60210000\t408\n"
     ]
    },
    {
     "name": "stderr",
     "output_type": "stream",
     "text": [
      "[mbo] 384: learning_rate=0.0792; num_leaves=991; feature_fraction=0.502; min_data_in_leaf=772; envios=13814; lambda_l1=7.34 : y = 6.02e+07 : 46.2 secs : infill_ei\n",
      "\n"
     ]
    },
    {
     "name": "stdout",
     "output_type": "stream",
     "text": [
      "20250601 033253\tbinary\tcustom\tTRUE\tTRUE\tFALSE\t-100\t31\t137\tTRUE\t823819\t0.0519163111927957\t395\t0.89522610955941\t797\t11091\t1.56340786226131\t61290000\t409\n"
     ]
    },
    {
     "name": "stderr",
     "output_type": "stream",
     "text": [
      "[mbo] 385: learning_rate=0.0519; num_leaves=395; feature_fraction=0.895; min_data_in_leaf=797; envios=11091; lambda_l1=1.56 : y = 6.13e+07 : 39.0 secs : infill_ei\n",
      "\n"
     ]
    },
    {
     "name": "stdout",
     "output_type": "stream",
     "text": [
      "20250601 033507\tbinary\tcustom\tTRUE\tTRUE\tFALSE\t-100\t31\t676\tTRUE\t823819\t0.0292172599722134\t909\t0.820674409621275\t693\t11114\t1.03520845858992\t62670000\t410\n"
     ]
    },
    {
     "name": "stderr",
     "output_type": "stream",
     "text": [
      "[mbo] 386: learning_rate=0.0292; num_leaves=909; feature_fraction=0.821; min_data_in_leaf=693; envios=11114; lambda_l1=1.04 : y = 6.27e+07 : 126.1 secs : infill_ei\n",
      "\n"
     ]
    },
    {
     "name": "stdout",
     "output_type": "stream",
     "text": [
      "20250601 033645\tbinary\tcustom\tTRUE\tTRUE\tFALSE\t-100\t31\t484\tTRUE\t823819\t0.0309826470751485\t1012\t0.819923232523718\t924\t11472\t1.4938420571326\t62430000\t411\n"
     ]
    },
    {
     "name": "stderr",
     "output_type": "stream",
     "text": [
      "[mbo] 387: learning_rate=0.031; num_leaves=1012; feature_fraction=0.82; min_data_in_leaf=924; envios=11472; lambda_l1=1.49 : y = 6.24e+07 : 90.7 secs : infill_ei\n",
      "\n",
      "Saved the current state after iteration 388 in the file 5431.RDATA.\n",
      "\n"
     ]
    },
    {
     "name": "stdout",
     "output_type": "stream",
     "text": [
      "20250601 033853\tbinary\tcustom\tTRUE\tTRUE\tFALSE\t-100\t31\t622\tTRUE\t823819\t0.0275250856003039\t912\t0.807420178765079\t1076\t12085\t0.395446607344555\t62385000\t412\n"
     ]
    },
    {
     "name": "stderr",
     "output_type": "stream",
     "text": [
      "[mbo] 388: learning_rate=0.0275; num_leaves=912; feature_fraction=0.807; min_data_in_leaf=1076; envios=12085; lambda_l1=0.395 : y = 6.24e+07 : 111.9 secs : infill_ei\n",
      "\n"
     ]
    },
    {
     "name": "stdout",
     "output_type": "stream",
     "text": [
      "20250601 034004\tbinary\tcustom\tTRUE\tTRUE\tFALSE\t-100\t31\t182\tTRUE\t823819\t0.0263545848993633\t664\t0.567340251878413\t1026\t13532\t1.64261119661059\t60450000\t413\n"
     ]
    },
    {
     "name": "stderr",
     "output_type": "stream",
     "text": [
      "[mbo] 389: learning_rate=0.0264; num_leaves=664; feature_fraction=0.567; min_data_in_leaf=1026; envios=13532; lambda_l1=1.64 : y = 6.04e+07 : 62.8 secs : infill_ei\n",
      "\n"
     ]
    },
    {
     "name": "stdout",
     "output_type": "stream",
     "text": [
      "20250601 034200\tbinary\tcustom\tTRUE\tTRUE\tFALSE\t-100\t31\t449\tTRUE\t823819\t0.0230954256503551\t513\t0.432522609482013\t1122\t13250\t0.251686090191597\t62250000\t414\n"
     ]
    },
    {
     "name": "stderr",
     "output_type": "stream",
     "text": [
      "[mbo] 390: learning_rate=0.0231; num_leaves=513; feature_fraction=0.433; min_data_in_leaf=1122; envios=13250; lambda_l1=0.252 : y = 6.22e+07 : 109.7 secs : infill_ei\n",
      "\n"
     ]
    },
    {
     "name": "stdout",
     "output_type": "stream",
     "text": [
      "20250601 034255\tbinary\tcustom\tTRUE\tTRUE\tFALSE\t-100\t31\t246\tTRUE\t823819\t0.045696617188767\t74\t0.684964951183117\t1442\t12692\t1.06311871663127\t61170000\t415\n"
     ]
    },
    {
     "name": "stderr",
     "output_type": "stream",
     "text": [
      "[mbo] 391: learning_rate=0.0457; num_leaves=74; feature_fraction=0.685; min_data_in_leaf=1442; envios=12692; lambda_l1=1.06 : y = 6.12e+07 : 48.2 secs : infill_ei\n",
      "\n"
     ]
    },
    {
     "name": "stdout",
     "output_type": "stream",
     "text": [
      "20250601 034442\tbinary\tcustom\tTRUE\tTRUE\tFALSE\t-100\t31\t543\tTRUE\t823819\t0.0225398654694512\t778\t0.796987327805358\t1432\t12302\t0.0881321659637334\t61980000\t416\n"
     ]
    },
    {
     "name": "stderr",
     "output_type": "stream",
     "text": [
      "[mbo] 392: learning_rate=0.0225; num_leaves=778; feature_fraction=0.797; min_data_in_leaf=1432; envios=12302; lambda_l1=0.0881 : y = 6.2e+07 : 98.1 secs : infill_ei\n",
      "\n"
     ]
    },
    {
     "name": "stdout",
     "output_type": "stream",
     "text": [
      "20250601 034532\tbinary\tcustom\tTRUE\tTRUE\tFALSE\t-100\t31\t176\tTRUE\t823819\t0.0467729554729304\t122\t0.75056739808644\t1027\t10850\t1.70704273689521\t61770000\t417\n"
     ]
    },
    {
     "name": "stderr",
     "output_type": "stream",
     "text": [
      "[mbo] 393: learning_rate=0.0468; num_leaves=122; feature_fraction=0.751; min_data_in_leaf=1027; envios=10850; lambda_l1=1.71 : y = 6.18e+07 : 42.2 secs : infill_ei\n",
      "\n"
     ]
    },
    {
     "name": "stdout",
     "output_type": "stream",
     "text": [
      "20250601 034844\tbinary\tcustom\tTRUE\tTRUE\tFALSE\t-100\t31\t893\tTRUE\t823819\t0.0165750053335539\t782\t0.556693230113621\t1526\t13138\t0.010474496190169\t61395000\t418\n"
     ]
    },
    {
     "name": "stderr",
     "output_type": "stream",
     "text": [
      "[mbo] 394: learning_rate=0.0166; num_leaves=782; feature_fraction=0.557; min_data_in_leaf=1526; envios=13138; lambda_l1=0.0105 : y = 6.14e+07 : 187.7 secs : infill_ei\n",
      "\n",
      "Saved the current state after iteration 395 in the file 5431.RDATA.\n",
      "\n"
     ]
    },
    {
     "name": "stdout",
     "output_type": "stream",
     "text": [
      "20250601 035028\tbinary\tcustom\tTRUE\tTRUE\tFALSE\t-100\t31\t486\tTRUE\t823819\t0.0273777210419203\t54\t0.704210298287692\t1171\t11294\t1.9079586001446\t61770000\t419\n"
     ]
    },
    {
     "name": "stderr",
     "output_type": "stream",
     "text": [
      "[mbo] 395: learning_rate=0.0274; num_leaves=54; feature_fraction=0.704; min_data_in_leaf=1171; envios=11294; lambda_l1=1.91 : y = 6.18e+07 : 85.3 secs : infill_ei\n",
      "\n"
     ]
    },
    {
     "name": "stdout",
     "output_type": "stream",
     "text": [
      "20250601 035106\tbinary\tcustom\tTRUE\tTRUE\tFALSE\t-100\t31\t103\tTRUE\t823819\t0.0820516923459326\t981\t0.544238376784466\t2264\t11376\t1.93423520431894\t59595000\t420\n"
     ]
    },
    {
     "name": "stderr",
     "output_type": "stream",
     "text": [
      "[mbo] 396: learning_rate=0.0821; num_leaves=981; feature_fraction=0.544; min_data_in_leaf=2264; envios=11376; lambda_l1=1.93 : y = 5.96e+07 : 31.1 secs : infill_ei\n",
      "\n"
     ]
    },
    {
     "name": "stdout",
     "output_type": "stream",
     "text": [
      "20250601 035320\tbinary\tcustom\tTRUE\tTRUE\tFALSE\t-100\t31\t684\tTRUE\t823819\t0.0228583717868483\t767\t0.218154304119787\t1511\t13417\t0.502002638686213\t61035000\t421\n"
     ]
    },
    {
     "name": "stderr",
     "output_type": "stream",
     "text": [
      "[mbo] 397: learning_rate=0.0229; num_leaves=767; feature_fraction=0.218; min_data_in_leaf=1511; envios=13417; lambda_l1=0.502 : y = 6.1e+07 : 127.9 secs : infill_ei\n",
      "\n"
     ]
    },
    {
     "name": "stdout",
     "output_type": "stream",
     "text": [
      "20250601 035740\tbinary\tcustom\tTRUE\tTRUE\tFALSE\t-100\t31\t1395\tTRUE\t823819\t0.0117930110458288\t729\t0.251942969338279\t1414\t12254\t0.0546733772831301\t61890000\t422\n"
     ]
    },
    {
     "name": "stderr",
     "output_type": "stream",
     "text": [
      "[mbo] 398: learning_rate=0.0118; num_leaves=729; feature_fraction=0.252; min_data_in_leaf=1414; envios=12254; lambda_l1=0.0547 : y = 6.19e+07 : 250.8 secs : infill_ei\n",
      "\n"
     ]
    },
    {
     "name": "stdout",
     "output_type": "stream",
     "text": [
      "20250601 035947\tbinary\tcustom\tTRUE\tTRUE\tFALSE\t-100\t31\t483\tTRUE\t823819\t0.0233939056445589\t472\t0.530072332382416\t829\t14834\t1.45652635795371\t61590000\t423\n"
     ]
    },
    {
     "name": "stderr",
     "output_type": "stream",
     "text": [
      "[mbo] 399: learning_rate=0.0234; num_leaves=472; feature_fraction=0.53; min_data_in_leaf=829; envios=14834; lambda_l1=1.46 : y = 6.16e+07 : 120.4 secs : infill_ei\n",
      "\n",
      "Saved the current state after iteration 400 in the file 5431.RDATA.\n",
      "\n"
     ]
    },
    {
     "name": "stdout",
     "output_type": "stream",
     "text": [
      "20250601 040204\tbinary\tcustom\tTRUE\tTRUE\tFALSE\t-100\t31\t734\tTRUE\t823819\t0.0227213528716161\t812\t0.664414880336016\t1292\t14111\t2.30365987231269\t61470000\t424\n"
     ]
    },
    {
     "name": "stderr",
     "output_type": "stream",
     "text": [
      "[mbo] 400: learning_rate=0.0227; num_leaves=812; feature_fraction=0.664; min_data_in_leaf=1292; envios=14111; lambda_l1=2.3 : y = 6.15e+07 : 120.0 secs : infill_ei\n",
      "\n"
     ]
    },
    {
     "name": "stdout",
     "output_type": "stream",
     "text": [
      "20250601 040310\tbinary\tcustom\tTRUE\tTRUE\tFALSE\t-100\t31\t195\tTRUE\t823819\t0.0508141499257721\t155\t0.943106977625678\t350\t12378\t0.480419628757047\t61875000\t425\n"
     ]
    },
    {
     "name": "stderr",
     "output_type": "stream",
     "text": [
      "[mbo] 401: learning_rate=0.0508; num_leaves=155; feature_fraction=0.943; min_data_in_leaf=350; envios=12378; lambda_l1=0.48 : y = 6.19e+07 : 58.8 secs : infill_ei\n",
      "\n"
     ]
    },
    {
     "name": "stdout",
     "output_type": "stream",
     "text": [
      "20250601 040443\tbinary\tcustom\tTRUE\tTRUE\tFALSE\t-100\t31\t207\tTRUE\t823819\t0.0223573404388362\t642\t0.493447711805333\t525\t13974\t1.61267429031429\t60930000\t426\n"
     ]
    },
    {
     "name": "stderr",
     "output_type": "stream",
     "text": [
      "[mbo] 402: learning_rate=0.0224; num_leaves=642; feature_fraction=0.493; min_data_in_leaf=525; envios=13974; lambda_l1=1.61 : y = 6.09e+07 : 87.6 secs : infill_ei\n",
      "\n"
     ]
    },
    {
     "name": "stdout",
     "output_type": "stream",
     "text": [
      "20250601 040656\tbinary\tcustom\tTRUE\tTRUE\tFALSE\t-100\t31\t588\tTRUE\t823819\t0.0248903942010585\t492\t0.250616736299618\t922\t13252\t0.051747246777584\t61290000\t427\n"
     ]
    },
    {
     "name": "stderr",
     "output_type": "stream",
     "text": [
      "[mbo] 403: learning_rate=0.0249; num_leaves=492; feature_fraction=0.251; min_data_in_leaf=922; envios=13252; lambda_l1=0.0517 : y = 6.13e+07 : 123.8 secs : infill_ei\n",
      "\n"
     ]
    },
    {
     "name": "stdout",
     "output_type": "stream",
     "text": [
      "20250601 040837\tbinary\tcustom\tTRUE\tTRUE\tFALSE\t-100\t31\t433\tTRUE\t823819\t0.0393879387173381\t1000\t0.535477389192745\t1726\t11932\t1.44669351332891\t62850000\t428\n"
     ]
    },
    {
     "name": "stderr",
     "output_type": "stream",
     "text": [
      "[mbo] 404: learning_rate=0.0394; num_leaves=1000; feature_fraction=0.535; min_data_in_leaf=1726; envios=11932; lambda_l1=1.45 : y = 6.28e+07 : 91.6 secs : infill_ei\n",
      "\n"
     ]
    },
    {
     "name": "stdout",
     "output_type": "stream",
     "text": [
      "20250601 040937\tbinary\tcustom\tTRUE\tTRUE\tFALSE\t-100\t31\t225\tTRUE\t823819\t0.061218041240561\t841\t0.44407826974589\t1616\t12931\t0.846180217632701\t60690000\t429\n"
     ]
    },
    {
     "name": "stderr",
     "output_type": "stream",
     "text": [
      "[mbo] 405: learning_rate=0.0612; num_leaves=841; feature_fraction=0.444; min_data_in_leaf=1616; envios=12931; lambda_l1=0.846 : y = 6.07e+07 : 53.9 secs : infill_ei\n",
      "\n"
     ]
    },
    {
     "name": "stdout",
     "output_type": "stream",
     "text": [
      "20250601 041121\tbinary\tcustom\tTRUE\tTRUE\tFALSE\t-100\t31\t516\tTRUE\t823819\t0.0230951403226059\t465\t0.635980156561488\t1449\t11686\t0.750697233208274\t62385000\t430\n"
     ]
    },
    {
     "name": "stderr",
     "output_type": "stream",
     "text": [
      "[mbo] 406: learning_rate=0.0231; num_leaves=465; feature_fraction=0.636; min_data_in_leaf=1449; envios=11686; lambda_l1=0.751 : y = 6.24e+07 : 96.6 secs : infill_ei\n",
      "\n",
      "Saved the current state after iteration 407 in the file 5431.RDATA.\n",
      "\n"
     ]
    },
    {
     "name": "stdout",
     "output_type": "stream",
     "text": [
      "20250601 041307\tbinary\tcustom\tTRUE\tTRUE\tFALSE\t-100\t31\t274\tTRUE\t823819\t0.0235679643718789\t681\t0.644140260982662\t609\t13176\t0.147569504405446\t62115000\t431\n"
     ]
    },
    {
     "name": "stderr",
     "output_type": "stream",
     "text": [
      "[mbo] 407: learning_rate=0.0236; num_leaves=681; feature_fraction=0.644; min_data_in_leaf=609; envios=13176; lambda_l1=0.148 : y = 6.21e+07 : 84.9 secs : infill_ei\n",
      "\n"
     ]
    },
    {
     "name": "stdout",
     "output_type": "stream",
     "text": [
      "20250601 041550\tbinary\tcustom\tTRUE\tTRUE\tFALSE\t-100\t31\t686\tTRUE\t823819\t0.0207888174621913\t930\t0.502716869566198\t1315\t12569\t1.42486092204617\t61545000\t432\n"
     ]
    },
    {
     "name": "stderr",
     "output_type": "stream",
     "text": [
      "[mbo] 408: learning_rate=0.0208; num_leaves=930; feature_fraction=0.503; min_data_in_leaf=1315; envios=12569; lambda_l1=1.42 : y = 6.15e+07 : 148.8 secs : infill_ei\n",
      "\n"
     ]
    },
    {
     "name": "stdout",
     "output_type": "stream",
     "text": [
      "20250601 041653\tbinary\tcustom\tTRUE\tTRUE\tFALSE\t-100\t31\t211\tTRUE\t823819\t0.0362891700904235\t973\t0.570328733821279\t2053\t11950\t0.334026915025475\t59310000\t433\n"
     ]
    },
    {
     "name": "stderr",
     "output_type": "stream",
     "text": [
      "[mbo] 409: learning_rate=0.0363; num_leaves=973; feature_fraction=0.57; min_data_in_leaf=2053; envios=11950; lambda_l1=0.334 : y = 5.93e+07 : 56.1 secs : infill_ei\n",
      "\n"
     ]
    },
    {
     "name": "stdout",
     "output_type": "stream",
     "text": [
      "20250601 041832\tbinary\tcustom\tTRUE\tTRUE\tFALSE\t-100\t31\t405\tTRUE\t823819\t0.0442255342884884\t992\t0.442700898100484\t951\t12631\t1.66153504783025\t61830000\t434\n"
     ]
    },
    {
     "name": "stderr",
     "output_type": "stream",
     "text": [
      "[mbo] 410: learning_rate=0.0442; num_leaves=992; feature_fraction=0.443; min_data_in_leaf=951; envios=12631; lambda_l1=1.66 : y = 6.18e+07 : 89.2 secs : infill_ei\n",
      "\n"
     ]
    },
    {
     "name": "stdout",
     "output_type": "stream",
     "text": [
      "20250601 042035\tbinary\tcustom\tTRUE\tTRUE\tFALSE\t-100\t31\t834\tTRUE\t823819\t0.0257936828302131\t83\t0.820782018783054\t2324\t12022\t1.1226783639177\t60540000\t435\n"
     ]
    },
    {
     "name": "stderr",
     "output_type": "stream",
     "text": [
      "[mbo] 411: learning_rate=0.0258; num_leaves=83; feature_fraction=0.821; min_data_in_leaf=2324; envios=12022; lambda_l1=1.12 : y = 6.05e+07 : 115.4 secs : infill_ei\n",
      "\n"
     ]
    },
    {
     "name": "stdout",
     "output_type": "stream",
     "text": [
      "20250601 042300\tbinary\tcustom\tTRUE\tTRUE\tFALSE\t-100\t31\t854\tTRUE\t823819\t0.0238388451261328\t692\t0.678451976033246\t1295\t12892\t1.43922588515865\t62370000\t436\n"
     ]
    },
    {
     "name": "stderr",
     "output_type": "stream",
     "text": [
      "[mbo] 412: learning_rate=0.0238; num_leaves=692; feature_fraction=0.678; min_data_in_leaf=1295; envios=12892; lambda_l1=1.44 : y = 6.24e+07 : 132.6 secs : infill_ei\n",
      "\n",
      "Saved the current state after iteration 413 in the file 5431.RDATA.\n",
      "\n"
     ]
    },
    {
     "name": "stdout",
     "output_type": "stream",
     "text": [
      "20250601 042414\tbinary\tcustom\tTRUE\tTRUE\tFALSE\t-100\t31\t284\tTRUE\t823819\t0.0425921843850578\t826\t0.892263148532431\t1091\t12437\t1.11659037950242\t61575000\t437\n"
     ]
    },
    {
     "name": "stderr",
     "output_type": "stream",
     "text": [
      "[mbo] 413: learning_rate=0.0426; num_leaves=826; feature_fraction=0.892; min_data_in_leaf=1091; envios=12437; lambda_l1=1.12 : y = 6.16e+07 : 58.1 secs : infill_ei\n",
      "\n"
     ]
    },
    {
     "name": "stdout",
     "output_type": "stream",
     "text": [
      "20250601 042611\tbinary\tcustom\tTRUE\tTRUE\tFALSE\t-100\t31\t686\tTRUE\t823819\t0.0329765891012655\t828\t0.674989777232253\t1650\t11743\t1.44593800344927\t61620000\t438\n"
     ]
    },
    {
     "name": "stderr",
     "output_type": "stream",
     "text": [
      "[mbo] 414: learning_rate=0.033; num_leaves=828; feature_fraction=0.675; min_data_in_leaf=1650; envios=11743; lambda_l1=1.45 : y = 6.16e+07 : 103.5 secs : infill_ei\n",
      "\n"
     ]
    },
    {
     "name": "stdout",
     "output_type": "stream",
     "text": [
      "20250601 042816\tbinary\tcustom\tTRUE\tTRUE\tFALSE\t-100\t31\t525\tTRUE\t823819\t0.0244182816067072\t1001\t0.538310478156203\t1352\t13580\t1.83454071662347\t61740000\t439\n"
     ]
    },
    {
     "name": "stderr",
     "output_type": "stream",
     "text": [
      "[mbo] 415: learning_rate=0.0244; num_leaves=1001; feature_fraction=0.538; min_data_in_leaf=1352; envios=13580; lambda_l1=1.83 : y = 6.17e+07 : 116.3 secs : infill_ei\n",
      "\n"
     ]
    },
    {
     "name": "stdout",
     "output_type": "stream",
     "text": [
      "20250601 042953\tbinary\tcustom\tTRUE\tTRUE\tFALSE\t-100\t31\t414\tTRUE\t823819\t0.02276258098898\t721\t0.758563291823222\t1137\t14058\t0.974046845088043\t61395000\t440\n"
     ]
    },
    {
     "name": "stderr",
     "output_type": "stream",
     "text": [
      "[mbo] 416: learning_rate=0.0228; num_leaves=721; feature_fraction=0.759; min_data_in_leaf=1137; envios=14058; lambda_l1=0.974 : y = 6.14e+07 : 84.9 secs : infill_ei\n",
      "\n"
     ]
    },
    {
     "name": "stdout",
     "output_type": "stream",
     "text": [
      "20250601 043112\tbinary\tcustom\tTRUE\tTRUE\tFALSE\t-100\t31\t333\tTRUE\t823819\t0.0293710018651532\t426\t0.651849407842861\t1286\t10961\t1.7598454268832\t61320000\t441\n"
     ]
    },
    {
     "name": "stderr",
     "output_type": "stream",
     "text": [
      "[mbo] 417: learning_rate=0.0294; num_leaves=426; feature_fraction=0.652; min_data_in_leaf=1286; envios=10961; lambda_l1=1.76 : y = 6.13e+07 : 66.6 secs : infill_ei\n",
      "\n"
     ]
    },
    {
     "name": "stdout",
     "output_type": "stream",
     "text": [
      "20250601 043350\tbinary\tcustom\tTRUE\tTRUE\tFALSE\t-100\t31\t629\tTRUE\t823819\t0.0201979391326973\t358\t0.442022367456894\t924\t12036\t0.337838444104652\t62175000\t442\n"
     ]
    },
    {
     "name": "stderr",
     "output_type": "stream",
     "text": [
      "[mbo] 418: learning_rate=0.0202; num_leaves=358; feature_fraction=0.442; min_data_in_leaf=924; envios=12036; lambda_l1=0.338 : y = 6.22e+07 : 145.7 secs : infill_ei\n",
      "\n",
      "Saved the current state after iteration 419 in the file 5431.RDATA.\n",
      "\n"
     ]
    },
    {
     "name": "stdout",
     "output_type": "stream",
     "text": [
      "20250601 043522\tbinary\tcustom\tTRUE\tTRUE\tFALSE\t-100\t31\t367\tTRUE\t823819\t0.0394408174131999\t950\t0.60970376025102\t990\t11813\t1.81654067917519\t61050000\t443\n"
     ]
    },
    {
     "name": "stderr",
     "output_type": "stream",
     "text": [
      "[mbo] 419: learning_rate=0.0394; num_leaves=950; feature_fraction=0.61; min_data_in_leaf=990; envios=11813; lambda_l1=1.82 : y = 6.1e+07 : 73.7 secs : infill_ei\n",
      "\n"
     ]
    },
    {
     "name": "stdout",
     "output_type": "stream",
     "text": [
      "20250601 043645\tbinary\tcustom\tTRUE\tTRUE\tFALSE\t-100\t31\t295\tTRUE\t823819\t0.0512924851104434\t353\t0.488475126053926\t917\t12523\t1.74726305270075\t62160000\t444\n"
     ]
    },
    {
     "name": "stderr",
     "output_type": "stream",
     "text": [
      "[mbo] 420: learning_rate=0.0513; num_leaves=353; feature_fraction=0.488; min_data_in_leaf=917; envios=12523; lambda_l1=1.75 : y = 6.22e+07 : 71.0 secs : infill_ei\n",
      "\n"
     ]
    },
    {
     "name": "stdout",
     "output_type": "stream",
     "text": [
      "20250601 043923\tbinary\tcustom\tTRUE\tTRUE\tFALSE\t-100\t31\t757\tTRUE\t823819\t0.0239977099087798\t518\t0.545800067944122\t1224\t10862\t1.55437206993967\t62460000\t445\n"
     ]
    },
    {
     "name": "stderr",
     "output_type": "stream",
     "text": [
      "[mbo] 421: learning_rate=0.024; num_leaves=518; feature_fraction=0.546; min_data_in_leaf=1224; envios=10862; lambda_l1=1.55 : y = 6.25e+07 : 150.0 secs : infill_ei\n",
      "\n"
     ]
    },
    {
     "name": "stdout",
     "output_type": "stream",
     "text": [
      "20250601 044040\tbinary\tcustom\tTRUE\tTRUE\tFALSE\t-100\t31\t203\tTRUE\t823819\t0.0231271965773386\t762\t0.549026972023248\t1956\t13236\t0.057284704169422\t59055000\t446\n"
     ]
    },
    {
     "name": "stderr",
     "output_type": "stream",
     "text": [
      "[mbo] 422: learning_rate=0.0231; num_leaves=762; feature_fraction=0.549; min_data_in_leaf=1956; envios=13236; lambda_l1=0.0573 : y = 5.91e+07 : 68.8 secs : infill_ei\n",
      "\n"
     ]
    },
    {
     "name": "stdout",
     "output_type": "stream",
     "text": [
      "20250601 044217\tbinary\tcustom\tTRUE\tTRUE\tFALSE\t-100\t31\t411\tTRUE\t823819\t0.0377485947606304\t1024\t0.529948787800176\t1245\t11953\t1.67749009255643\t61230000\t447\n"
     ]
    },
    {
     "name": "stderr",
     "output_type": "stream",
     "text": [
      "[mbo] 423: learning_rate=0.0377; num_leaves=1024; feature_fraction=0.53; min_data_in_leaf=1245; envios=11953; lambda_l1=1.68 : y = 6.12e+07 : 91.0 secs : infill_ei\n",
      "\n"
     ]
    },
    {
     "name": "stdout",
     "output_type": "stream",
     "text": [
      "20250601 044430\tbinary\tcustom\tTRUE\tTRUE\tFALSE\t-100\t31\t489\tTRUE\t823819\t0.0267990403064929\t214\t0.506752574936221\t628\t13477\t0.877279393617534\t61815000\t448\n"
     ]
    },
    {
     "name": "stderr",
     "output_type": "stream",
     "text": [
      "[mbo] 424: learning_rate=0.0268; num_leaves=214; feature_fraction=0.507; min_data_in_leaf=628; envios=13477; lambda_l1=0.877 : y = 6.18e+07 : 124.5 secs : infill_ei\n",
      "\n",
      "Saved the current state after iteration 425 in the file 5431.RDATA.\n",
      "\n"
     ]
    },
    {
     "name": "stdout",
     "output_type": "stream",
     "text": [
      "20250601 045034\tbinary\tcustom\tTRUE\tTRUE\tFALSE\t-100\t31\t1852\tTRUE\t823819\t0.0106710982713584\t735\t0.558993288944699\t1484\t11093\t1.58929320349145\t62010000\t449\n"
     ]
    },
    {
     "name": "stderr",
     "output_type": "stream",
     "text": [
      "[mbo] 425: learning_rate=0.0107; num_leaves=735; feature_fraction=0.559; min_data_in_leaf=1484; envios=11093; lambda_l1=1.59 : y = 6.2e+07 : 346.6 secs : infill_ei\n",
      "\n"
     ]
    },
    {
     "name": "stdout",
     "output_type": "stream",
     "text": [
      "20250601 045214\tbinary\tcustom\tTRUE\tTRUE\tFALSE\t-100\t31\t590\tTRUE\t823819\t0.0284551031672314\t692\t0.712198302400654\t1696\t13541\t2.47075257401737\t61620000\t450\n"
     ]
    },
    {
     "name": "stderr",
     "output_type": "stream",
     "text": [
      "[mbo] 426: learning_rate=0.0285; num_leaves=692; feature_fraction=0.712; min_data_in_leaf=1696; envios=13541; lambda_l1=2.47 : y = 6.16e+07 : 94.3 secs : infill_ei\n",
      "\n"
     ]
    },
    {
     "name": "stdout",
     "output_type": "stream",
     "text": [
      "20250601 045533\tbinary\tcustom\tTRUE\tTRUE\tFALSE\t-100\t31\t1303\tTRUE\t823819\t0.0196872810272661\t922\t0.832176224040643\t1818\t11721\t0.41524113970469\t61560000\t451\n"
     ]
    },
    {
     "name": "stderr",
     "output_type": "stream",
     "text": [
      "[mbo] 427: learning_rate=0.0197; num_leaves=922; feature_fraction=0.832; min_data_in_leaf=1818; envios=11721; lambda_l1=0.415 : y = 6.16e+07 : 188.8 secs : infill_ei\n",
      "\n",
      "Saved the current state after iteration 428 in the file 5431.RDATA.\n",
      "\n"
     ]
    },
    {
     "name": "stdout",
     "output_type": "stream",
     "text": [
      "20250601 045712\tbinary\tcustom\tTRUE\tTRUE\tFALSE\t-100\t31\t505\tTRUE\t823819\t0.0450720716074979\t849\t0.633103192230465\t1881\t12152\t0.00668899448091452\t61110000\t452\n"
     ]
    },
    {
     "name": "stderr",
     "output_type": "stream",
     "text": [
      "[mbo] 428: learning_rate=0.0451; num_leaves=849; feature_fraction=0.633; min_data_in_leaf=1881; envios=12152; lambda_l1=0.00669 : y = 6.11e+07 : 82.0 secs : infill_ei\n",
      "\n"
     ]
    },
    {
     "name": "stdout",
     "output_type": "stream",
     "text": [
      "20250601 045826\tbinary\tcustom\tTRUE\tTRUE\tFALSE\t-100\t31\t323\tTRUE\t823819\t0.0424989990994522\t301\t0.679903562514965\t1151\t11528\t0.0138599694531585\t61905000\t453\n"
     ]
    },
    {
     "name": "stderr",
     "output_type": "stream",
     "text": [
      "[mbo] 429: learning_rate=0.0425; num_leaves=301; feature_fraction=0.68; min_data_in_leaf=1151; envios=11528; lambda_l1=0.0139 : y = 6.19e+07 : 65.5 secs : infill_ei\n",
      "\n"
     ]
    },
    {
     "name": "stdout",
     "output_type": "stream",
     "text": [
      "20250601 045944\tbinary\tcustom\tTRUE\tTRUE\tFALSE\t-100\t31\t342\tTRUE\t823819\t0.029813043105572\t527\t0.684012448761999\t912\t12736\t2.35355567046067\t61755000\t454\n"
     ]
    },
    {
     "name": "stderr",
     "output_type": "stream",
     "text": [
      "[mbo] 430: learning_rate=0.0298; num_leaves=527; feature_fraction=0.684; min_data_in_leaf=912; envios=12736; lambda_l1=2.35 : y = 6.18e+07 : 71.8 secs : infill_ei\n",
      "\n"
     ]
    },
    {
     "name": "stdout",
     "output_type": "stream",
     "text": [
      "20250601 050130\tbinary\tcustom\tTRUE\tTRUE\tFALSE\t-100\t31\t329\tTRUE\t823819\t0.0191655718953775\t107\t0.533027109446947\t1076\t9952\t2.84645821760637\t60750000\t455\n"
     ]
    },
    {
     "name": "stderr",
     "output_type": "stream",
     "text": [
      "[mbo] 431: learning_rate=0.0192; num_leaves=107; feature_fraction=0.533; min_data_in_leaf=1076; envios=9952; lambda_l1=2.85 : y = 6.08e+07 : 99.0 secs : infill_ei\n",
      "\n"
     ]
    },
    {
     "name": "stdout",
     "output_type": "stream",
     "text": [
      "20250601 050244\tbinary\tcustom\tTRUE\tTRUE\tFALSE\t-100\t31\t295\tTRUE\t823819\t0.0433895482924811\t469\t0.239047365532471\t2012\t12423\t0.842960435841986\t59700000\t456\n"
     ]
    },
    {
     "name": "stderr",
     "output_type": "stream",
     "text": [
      "[mbo] 432: learning_rate=0.0434; num_leaves=469; feature_fraction=0.239; min_data_in_leaf=2012; envios=12423; lambda_l1=0.843 : y = 5.97e+07 : 61.5 secs : infill_ei\n",
      "\n"
     ]
    },
    {
     "name": "stdout",
     "output_type": "stream",
     "text": [
      "20250601 050416\tbinary\tcustom\tTRUE\tTRUE\tFALSE\t-100\t31\t481\tTRUE\t823819\t0.042196380233446\t56\t0.677135419645729\t1008\t12319\t0.297663447518778\t61935000\t457\n"
     ]
    },
    {
     "name": "stderr",
     "output_type": "stream",
     "text": [
      "[mbo] 433: learning_rate=0.0422; num_leaves=56; feature_fraction=0.677; min_data_in_leaf=1008; envios=12319; lambda_l1=0.298 : y = 6.19e+07 : 80.8 secs : infill_ei\n",
      "\n"
     ]
    },
    {
     "name": "stdout",
     "output_type": "stream",
     "text": [
      "20250601 050518\tbinary\tcustom\tTRUE\tTRUE\tFALSE\t-100\t31\t315\tTRUE\t823819\t0.0599687071378857\t473\t0.694841168052639\t1354\t11383\t3.0848587159987\t61860000\t458\n"
     ]
    },
    {
     "name": "stderr",
     "output_type": "stream",
     "text": [
      "[mbo] 434: learning_rate=0.06; num_leaves=473; feature_fraction=0.695; min_data_in_leaf=1354; envios=11383; lambda_l1=3.08 : y = 6.19e+07 : 57.2 secs : infill_ei\n",
      "\n"
     ]
    },
    {
     "name": "stdout",
     "output_type": "stream",
     "text": [
      "20250601 050632\tbinary\tcustom\tTRUE\tTRUE\tFALSE\t-100\t31\t157\tTRUE\t823819\t0.0494956163990598\t432\t0.918296129043998\t169\t10420\t1.42509534965005\t61140000\t459\n"
     ]
    },
    {
     "name": "stderr",
     "output_type": "stream",
     "text": [
      "[mbo] 435: learning_rate=0.0495; num_leaves=432; feature_fraction=0.918; min_data_in_leaf=169; envios=10420; lambda_l1=1.43 : y = 6.11e+07 : 64.5 secs : infill_ei\n",
      "\n",
      "Saved the current state after iteration 436 in the file 5431.RDATA.\n",
      "\n"
     ]
    },
    {
     "name": "stdout",
     "output_type": "stream",
     "text": [
      "20250601 051251\tbinary\tcustom\tTRUE\tTRUE\tFALSE\t-100\t31\t1751\tTRUE\t823819\t0.0104563620431641\t860\t0.435484004646852\t876\t12787\t1.00683604810033\t62685000\t460\n"
     ]
    },
    {
     "name": "stderr",
     "output_type": "stream",
     "text": [
      "[mbo] 436: learning_rate=0.0105; num_leaves=860; feature_fraction=0.435; min_data_in_leaf=876; envios=12787; lambda_l1=1.01 : y = 6.27e+07 : 363.0 secs : infill_ei\n",
      "\n"
     ]
    },
    {
     "name": "stdout",
     "output_type": "stream",
     "text": [
      "20250601 051445\tbinary\tcustom\tTRUE\tTRUE\tFALSE\t-100\t31\t602\tTRUE\t823819\t0.0368078918991026\t585\t0.227282934107005\t603\t13932\t3.47471286519526\t61890000\t461\n"
     ]
    },
    {
     "name": "stderr",
     "output_type": "stream",
     "text": [
      "[mbo] 437: learning_rate=0.0368; num_leaves=585; feature_fraction=0.227; min_data_in_leaf=603; envios=13932; lambda_l1=3.47 : y = 6.19e+07 : 107.9 secs : infill_ei\n",
      "\n"
     ]
    },
    {
     "name": "stdout",
     "output_type": "stream",
     "text": [
      "20250601 051841\tbinary\tcustom\tTRUE\tTRUE\tFALSE\t-100\t31\t1263\tTRUE\t823819\t0.0171079186856361\t342\t0.591778117497819\t782\t14862\t4.57012497190529\t61380000\t462\n"
     ]
    },
    {
     "name": "stderr",
     "output_type": "stream",
     "text": [
      "[mbo] 438: learning_rate=0.0171; num_leaves=342; feature_fraction=0.592; min_data_in_leaf=782; envios=14862; lambda_l1=4.57 : y = 6.14e+07 : 229.4 secs : infill_ei\n",
      "\n",
      "Saved the current state after iteration 439 in the file 5431.RDATA.\n",
      "\n"
     ]
    },
    {
     "name": "stdout",
     "output_type": "stream",
     "text": [
      "20250601 052309\tbinary\tcustom\tTRUE\tTRUE\tFALSE\t-100\t31\t1265\tTRUE\t823819\t0.0103051413657976\t859\t0.464638682021148\t2395\t13573\t1.58722432683417\t60090000\t463\n"
     ]
    },
    {
     "name": "stderr",
     "output_type": "stream",
     "text": [
      "[mbo] 439: learning_rate=0.0103; num_leaves=859; feature_fraction=0.465; min_data_in_leaf=2395; envios=13573; lambda_l1=1.59 : y = 6.01e+07 : 252.6 secs : infill_ei\n",
      "\n"
     ]
    },
    {
     "name": "stdout",
     "output_type": "stream",
     "text": [
      "20250601 052430\tbinary\tcustom\tTRUE\tTRUE\tFALSE\t-100\t31\t202\tTRUE\t823819\t0.0532499358513165\t827\t0.4663301872301\t392\t14331\t2.75785663701323\t62010000\t464\n"
     ]
    },
    {
     "name": "stderr",
     "output_type": "stream",
     "text": [
      "[mbo] 440: learning_rate=0.0532; num_leaves=827; feature_fraction=0.466; min_data_in_leaf=392; envios=14331; lambda_l1=2.76 : y = 6.2e+07 : 74.7 secs : infill_ei\n",
      "\n"
     ]
    },
    {
     "name": "stdout",
     "output_type": "stream",
     "text": [
      "20250601 052619\tbinary\tcustom\tTRUE\tTRUE\tFALSE\t-100\t31\t407\tTRUE\t823819\t0.0209484242723591\t608\t0.671921481365804\t828\t10671\t0.235620956735712\t62430000\t465\n"
     ]
    },
    {
     "name": "stderr",
     "output_type": "stream",
     "text": [
      "[mbo] 441: learning_rate=0.0209; num_leaves=608; feature_fraction=0.672; min_data_in_leaf=828; envios=10671; lambda_l1=0.236 : y = 6.24e+07 : 103.0 secs : infill_ei\n",
      "\n"
     ]
    },
    {
     "name": "stdout",
     "output_type": "stream",
     "text": [
      "20250601 052947\tbinary\tcustom\tTRUE\tTRUE\tFALSE\t-100\t31\t1070\tTRUE\t823819\t0.0147860246635098\t185\t0.689591556330309\t916\t11977\t1.65057040604651\t61995000\t466\n"
     ]
    },
    {
     "name": "stderr",
     "output_type": "stream",
     "text": [
      "[mbo] 442: learning_rate=0.0148; num_leaves=185; feature_fraction=0.69; min_data_in_leaf=916; envios=11977; lambda_l1=1.65 : y = 6.2e+07 : 195.4 secs : infill_ei\n",
      "\n",
      "Saved the current state after iteration 443 in the file 5431.RDATA.\n",
      "\n"
     ]
    },
    {
     "name": "stdout",
     "output_type": "stream",
     "text": [
      "20250601 053147\tbinary\tcustom\tTRUE\tTRUE\tFALSE\t-100\t31\t567\tTRUE\t823819\t0.0257485482925053\t359\t0.833181042083632\t1066\t9354\t1.12163466122209\t61230000\t467\n"
     ]
    },
    {
     "name": "stderr",
     "output_type": "stream",
     "text": [
      "[mbo] 443: learning_rate=0.0257; num_leaves=359; feature_fraction=0.833; min_data_in_leaf=1066; envios=9354; lambda_l1=1.12 : y = 6.12e+07 : 104.5 secs : infill_ei\n",
      "\n"
     ]
    },
    {
     "name": "stdout",
     "output_type": "stream",
     "text": [
      "20250601 053314\tbinary\tcustom\tTRUE\tTRUE\tFALSE\t-100\t31\t228\tTRUE\t823819\t0.0284897812190483\t692\t0.882485122952216\t24\t12786\t5.05286084484373\t61605000\t468\n"
     ]
    },
    {
     "name": "stderr",
     "output_type": "stream",
     "text": [
      "[mbo] 444: learning_rate=0.0285; num_leaves=692; feature_fraction=0.882; min_data_in_leaf=24; envios=12786; lambda_l1=5.05 : y = 6.16e+07 : 82.3 secs : infill_ei\n",
      "\n"
     ]
    },
    {
     "name": "stdout",
     "output_type": "stream",
     "text": [
      "20250601 053625\tbinary\tcustom\tTRUE\tTRUE\tFALSE\t-100\t31\t966\tTRUE\t823819\t0.0134329525257182\t464\t0.872210013988756\t975\t12567\t1.56738914720762\t62145000\t469\n"
     ]
    },
    {
     "name": "stderr",
     "output_type": "stream",
     "text": [
      "[mbo] 445: learning_rate=0.0134; num_leaves=464; feature_fraction=0.872; min_data_in_leaf=975; envios=12567; lambda_l1=1.57 : y = 6.21e+07 : 178.0 secs : infill_ei\n",
      "\n"
     ]
    },
    {
     "name": "stdout",
     "output_type": "stream",
     "text": [
      "20250601 053954\tbinary\tcustom\tTRUE\tTRUE\tFALSE\t-100\t31\t1158\tTRUE\t823819\t0.0149025920706798\t351\t0.948323774449796\t808\t11067\t1.4960965019966\t62205000\t470\n"
     ]
    },
    {
     "name": "stderr",
     "output_type": "stream",
     "text": [
      "[mbo] 446: learning_rate=0.0149; num_leaves=351; feature_fraction=0.948; min_data_in_leaf=808; envios=11067; lambda_l1=1.5 : y = 6.22e+07 : 203.5 secs : infill_ei\n",
      "\n"
     ]
    },
    {
     "name": "stdout",
     "output_type": "stream",
     "text": [
      "20250601 054243\tbinary\tcustom\tTRUE\tTRUE\tFALSE\t-100\t31\t614\tTRUE\t823819\t0.0119330450472276\t533\t0.382353509270343\t1261\t10329\t0.232636690503763\t60585000\t471\n"
     ]
    },
    {
     "name": "stderr",
     "output_type": "stream",
     "text": [
      "[mbo] 447: learning_rate=0.0119; num_leaves=533; feature_fraction=0.382; min_data_in_leaf=1261; envios=10329; lambda_l1=0.233 : y = 6.06e+07 : 158.0 secs : infill_ei\n",
      "\n",
      "Saved the current state after iteration 448 in the file 5431.RDATA.\n",
      "\n"
     ]
    },
    {
     "name": "stdout",
     "output_type": "stream",
     "text": [
      "20250601 054428\tbinary\tcustom\tTRUE\tTRUE\tFALSE\t-100\t31\t447\tTRUE\t823819\t0.0342320171913009\t472\t0.803849054919474\t1079\t11962\t0.712342063077889\t61680000\t472\n"
     ]
    },
    {
     "name": "stderr",
     "output_type": "stream",
     "text": [
      "[mbo] 448: learning_rate=0.0342; num_leaves=472; feature_fraction=0.804; min_data_in_leaf=1079; envios=11962; lambda_l1=0.712 : y = 6.17e+07 : 83.4 secs : infill_ei\n",
      "\n"
     ]
    },
    {
     "name": "stdout",
     "output_type": "stream",
     "text": [
      "20250601 054747\tbinary\tcustom\tTRUE\tTRUE\tFALSE\t-100\t31\t1028\tTRUE\t823819\t0.0202780355146509\t250\t0.561527894800999\t1377\t12654\t0.88870279479211\t61650000\t473\n"
     ]
    },
    {
     "name": "stderr",
     "output_type": "stream",
     "text": [
      "[mbo] 449: learning_rate=0.0203; num_leaves=250; feature_fraction=0.562; min_data_in_leaf=1377; envios=12654; lambda_l1=0.889 : y = 6.16e+07 : 193.2 secs : infill_ei\n",
      "\n"
     ]
    },
    {
     "name": "stdout",
     "output_type": "stream",
     "text": [
      "20250601 054936\tbinary\tcustom\tTRUE\tTRUE\tFALSE\t-100\t31\t456\tTRUE\t823819\t0.0266199885478747\t942\t0.827373714979719\t381\t12306\t2.74610634033849\t62565000\t474\n"
     ]
    },
    {
     "name": "stderr",
     "output_type": "stream",
     "text": [
      "[mbo] 450: learning_rate=0.0266; num_leaves=942; feature_fraction=0.827; min_data_in_leaf=381; envios=12306; lambda_l1=2.75 : y = 6.26e+07 : 102.2 secs : infill_ei\n",
      "\n"
     ]
    },
    {
     "name": "stdout",
     "output_type": "stream",
     "text": [
      "20250601 055313\tbinary\tcustom\tTRUE\tTRUE\tFALSE\t-100\t31\t787\tTRUE\t823819\t0.0100841310872755\t974\t0.804219099050245\t489\t11591\t0.483217823478382\t62070000\t475\n"
     ]
    },
    {
     "name": "stderr",
     "output_type": "stream",
     "text": [
      "[mbo] 451: learning_rate=0.0101; num_leaves=974; feature_fraction=0.804; min_data_in_leaf=489; envios=11591; lambda_l1=0.483 : y = 6.21e+07 : 210.7 secs : infill_ei\n",
      "\n",
      "Saved the current state after iteration 452 in the file 5431.RDATA.\n",
      "\n"
     ]
    },
    {
     "name": "stdout",
     "output_type": "stream",
     "text": [
      "20250601 055522\tbinary\tcustom\tTRUE\tTRUE\tFALSE\t-100\t31\t420\tTRUE\t823819\t0.0188112840184074\t700\t0.632856710117319\t698\t12572\t0.576904212397593\t62010000\t476\n"
     ]
    },
    {
     "name": "stderr",
     "output_type": "stream",
     "text": [
      "[mbo] 452: learning_rate=0.0188; num_leaves=700; feature_fraction=0.633; min_data_in_leaf=698; envios=12572; lambda_l1=0.577 : y = 6.2e+07 : 112.7 secs : infill_ei\n",
      "\n"
     ]
    },
    {
     "name": "stdout",
     "output_type": "stream",
     "text": [
      "20250601 055637\tbinary\tcustom\tTRUE\tTRUE\tFALSE\t-100\t31\t370\tTRUE\t823819\t0.0502424552234393\t142\t0.694805532043055\t1054\t11605\t0.844605149893049\t62025000\t477\n"
     ]
    },
    {
     "name": "stderr",
     "output_type": "stream",
     "text": [
      "[mbo] 453: learning_rate=0.0502; num_leaves=142; feature_fraction=0.695; min_data_in_leaf=1054; envios=11605; lambda_l1=0.845 : y = 6.2e+07 : 69.0 secs : infill_ei\n",
      "\n"
     ]
    },
    {
     "name": "stdout",
     "output_type": "stream",
     "text": [
      "20250601 055813\tbinary\tcustom\tTRUE\tTRUE\tFALSE\t-100\t31\t458\tTRUE\t823819\t0.0470911189473067\t979\t0.537442235456719\t1715\t12080\t3.26812660288648\t61800000\t478\n"
     ]
    },
    {
     "name": "stderr",
     "output_type": "stream",
     "text": [
      "[mbo] 454: learning_rate=0.0471; num_leaves=979; feature_fraction=0.537; min_data_in_leaf=1715; envios=12080; lambda_l1=3.27 : y = 6.18e+07 : 88.9 secs : infill_ei\n",
      "\n"
     ]
    },
    {
     "name": "stdout",
     "output_type": "stream",
     "text": [
      "20250601 055859\tbinary\tcustom\tTRUE\tTRUE\tFALSE\t-100\t31\t156\tTRUE\t823819\t0.0433472888865046\t710\t0.693354018268686\t1222\t9842\t2.84847923025867\t60720000\t479\n"
     ]
    },
    {
     "name": "stderr",
     "output_type": "stream",
     "text": [
      "[mbo] 455: learning_rate=0.0433; num_leaves=710; feature_fraction=0.693; min_data_in_leaf=1222; envios=9842; lambda_l1=2.85 : y = 6.07e+07 : 38.0 secs : infill_ei\n",
      "\n"
     ]
    },
    {
     "name": "stdout",
     "output_type": "stream",
     "text": [
      "20250601 060002\tbinary\tcustom\tTRUE\tTRUE\tFALSE\t-100\t31\t157\tTRUE\t823819\t0.0380359480592301\t265\t0.956191773745991\t178\t11614\t3.05331037102958\t62490000\t480\n"
     ]
    },
    {
     "name": "stderr",
     "output_type": "stream",
     "text": [
      "[mbo] 456: learning_rate=0.038; num_leaves=265; feature_fraction=0.956; min_data_in_leaf=178; envios=11614; lambda_l1=3.05 : y = 6.25e+07 : 57.7 secs : infill_ei\n",
      "\n"
     ]
    },
    {
     "name": "stdout",
     "output_type": "stream",
     "text": [
      "20250601 060153\tbinary\tcustom\tTRUE\tTRUE\tFALSE\t-100\t31\t207\tTRUE\t823819\t0.0263804847347374\t705\t0.893930273229375\t10\t12330\t3.02724246675559\t60810000\t481\n"
     ]
    },
    {
     "name": "stderr",
     "output_type": "stream",
     "text": [
      "[mbo] 457: learning_rate=0.0264; num_leaves=705; feature_fraction=0.894; min_data_in_leaf=10; envios=12330; lambda_l1=3.03 : y = 6.08e+07 : 97.8 secs : infill_ei\n",
      "\n"
     ]
    },
    {
     "name": "stdout",
     "output_type": "stream",
     "text": [
      "20250601 060514\tbinary\tcustom\tTRUE\tTRUE\tFALSE\t-100\t31\t1081\tTRUE\t823819\t0.0152515072359848\t918\t0.807813429142651\t819\t13237\t2.69317025783052\t63135000\t482\n",
      "20250601 060556\tbinary\tcustom\tTRUE\tTRUE\tFALSE\t-100\t31\t1081\tTRUE\t823819\t0.0152515072359848\t918\t0.807813429142651\t819\t13237\t2.69317025783052\t63135000\t482\n"
     ]
    },
    {
     "name": "stderr",
     "output_type": "stream",
     "text": [
      "[mbo] 458: learning_rate=0.0153; num_leaves=918; feature_fraction=0.808; min_data_in_leaf=819; envios=13237; lambda_l1=2.69 : y = 6.31e+07 : 229.8 secs : infill_ei\n",
      "\n",
      "Saved the current state after iteration 459 in the file 5431.RDATA.\n",
      "\n"
     ]
    },
    {
     "name": "stdout",
     "output_type": "stream",
     "text": [
      "20250601 060820\tbinary\tcustom\tTRUE\tTRUE\tFALSE\t-100\t31\t633\tTRUE\t823819\t0.0190090973028419\t929\t0.828696016481065\t843\t12710\t2.5546695341925\t61350000\t483\n"
     ]
    },
    {
     "name": "stderr",
     "output_type": "stream",
     "text": [
      "[mbo] 459: learning_rate=0.019; num_leaves=929; feature_fraction=0.829; min_data_in_leaf=843; envios=12710; lambda_l1=2.55 : y = 6.14e+07 : 122.7 secs : infill_ei\n",
      "\n"
     ]
    },
    {
     "name": "stdout",
     "output_type": "stream",
     "text": [
      "20250601 061037\tbinary\tcustom\tTRUE\tTRUE\tFALSE\t-100\t31\t620\tTRUE\t823819\t0.0173516221830692\t735\t0.746594086578934\t810\t13998\t2.74605979894753\t61575000\t484\n"
     ]
    },
    {
     "name": "stderr",
     "output_type": "stream",
     "text": [
      "[mbo] 460: learning_rate=0.0174; num_leaves=735; feature_fraction=0.747; min_data_in_leaf=810; envios=13998; lambda_l1=2.75 : y = 6.16e+07 : 122.1 secs : infill_ei\n",
      "\n"
     ]
    },
    {
     "name": "stdout",
     "output_type": "stream",
     "text": [
      "20250601 061152\tbinary\tcustom\tTRUE\tTRUE\tFALSE\t-100\t31\t309\tTRUE\t823819\t0.0328370501335826\t657\t0.223262078773593\t1611\t13640\t1.34091562516999\t59760000\t485\n"
     ]
    },
    {
     "name": "stderr",
     "output_type": "stream",
     "text": [
      "[mbo] 461: learning_rate=0.0328; num_leaves=657; feature_fraction=0.223; min_data_in_leaf=1611; envios=13640; lambda_l1=1.34 : y = 5.98e+07 : 66.2 secs : infill_ei\n",
      "\n"
     ]
    },
    {
     "name": "stdout",
     "output_type": "stream",
     "text": [
      "20250601 061454\tbinary\tcustom\tTRUE\tTRUE\tFALSE\t-100\t31\t728\tTRUE\t823819\t0.0104522176275355\t944\t0.820494821060852\t786\t10807\t2.76583912160637\t60465000\t486\n"
     ]
    },
    {
     "name": "stderr",
     "output_type": "stream",
     "text": [
      "[mbo] 462: learning_rate=0.0105; num_leaves=944; feature_fraction=0.82; min_data_in_leaf=786; envios=10807; lambda_l1=2.77 : y = 6.05e+07 : 166.8 secs : infill_ei\n",
      "\n"
     ]
    },
    {
     "name": "stdout",
     "output_type": "stream",
     "text": [
      "20250601 061656\tbinary\tcustom\tTRUE\tTRUE\tFALSE\t-100\t31\t534\tTRUE\t823819\t0.0426551150807383\t821\t0.492318895713739\t1499\t12095\t1.14116744127595\t62475000\t487\n"
     ]
    },
    {
     "name": "stderr",
     "output_type": "stream",
     "text": [
      "[mbo] 463: learning_rate=0.0427; num_leaves=821; feature_fraction=0.492; min_data_in_leaf=1499; envios=12095; lambda_l1=1.14 : y = 6.25e+07 : 106.8 secs : infill_ei\n",
      "\n",
      "Saved the current state after iteration 464 in the file 5431.RDATA.\n",
      "\n"
     ]
    },
    {
     "name": "stdout",
     "output_type": "stream",
     "text": [
      "20250601 062016\tbinary\tcustom\tTRUE\tTRUE\tFALSE\t-100\t31\t995\tTRUE\t823819\t0.0145525847531232\t854\t0.793700242118118\t1131\t12778\t0.0377730544354275\t62475000\t488\n"
     ]
    },
    {
     "name": "stderr",
     "output_type": "stream",
     "text": [
      "[mbo] 464: learning_rate=0.0146; num_leaves=854; feature_fraction=0.794; min_data_in_leaf=1131; envios=12778; lambda_l1=0.0378 : y = 6.25e+07 : 181.3 secs : infill_ei\n",
      "\n"
     ]
    },
    {
     "name": "stdout",
     "output_type": "stream",
     "text": [
      "20250601 062301\tbinary\tcustom\tTRUE\tTRUE\tFALSE\t-100\t31\t546\tTRUE\t823819\t0.0100399543943487\t867\t0.591541917322644\t987\t11334\t0.511003577221353\t60930000\t489\n"
     ]
    },
    {
     "name": "stderr",
     "output_type": "stream",
     "text": [
      "[mbo] 465: learning_rate=0.01; num_leaves=867; feature_fraction=0.592; min_data_in_leaf=987; envios=11334; lambda_l1=0.511 : y = 6.09e+07 : 155.8 secs : infill_ei\n",
      "\n"
     ]
    },
    {
     "name": "stdout",
     "output_type": "stream",
     "text": [
      "20250601 062650\tbinary\tcustom\tTRUE\tTRUE\tFALSE\t-100\t31\t1160\tTRUE\t823819\t0.0150584054931632\t986\t0.816229388160314\t493\t13724\t2.87220900808068\t62040000\t490\n"
     ]
    },
    {
     "name": "stderr",
     "output_type": "stream",
     "text": [
      "[mbo] 466: learning_rate=0.0151; num_leaves=986; feature_fraction=0.816; min_data_in_leaf=493; envios=13724; lambda_l1=2.87 : y = 6.2e+07 : 215.4 secs : infill_ei\n",
      "\n"
     ]
    },
    {
     "name": "stdout",
     "output_type": "stream",
     "text": [
      "20250601 062937\tbinary\tcustom\tTRUE\tTRUE\tFALSE\t-100\t31\t898\tTRUE\t823819\t0.0145806596169874\t896\t0.892383017844325\t1209\t14206\t2.67023633879504\t61065000\t491\n"
     ]
    },
    {
     "name": "stderr",
     "output_type": "stream",
     "text": [
      "[mbo] 467: learning_rate=0.0146; num_leaves=896; feature_fraction=0.892; min_data_in_leaf=1209; envios=14206; lambda_l1=2.67 : y = 6.11e+07 : 153.1 secs : infill_ei\n",
      "\n",
      "Saved the current state after iteration 468 in the file 5431.RDATA.\n",
      "\n"
     ]
    },
    {
     "name": "stdout",
     "output_type": "stream",
     "text": [
      "20250601 063154\tbinary\tcustom\tTRUE\tTRUE\tFALSE\t-100\t31\t378\tTRUE\t823819\t0.0287196230961818\t297\t0.464587984664942\t147\t11378\t1.98623183161865\t61875000\t492\n"
     ]
    },
    {
     "name": "stderr",
     "output_type": "stream",
     "text": [
      "[mbo] 468: learning_rate=0.0287; num_leaves=297; feature_fraction=0.465; min_data_in_leaf=147; envios=11378; lambda_l1=1.99 : y = 6.19e+07 : 117.3 secs : infill_ei\n",
      "\n"
     ]
    },
    {
     "name": "stdout",
     "output_type": "stream",
     "text": [
      "20250601 063321\tbinary\tcustom\tTRUE\tTRUE\tFALSE\t-100\t31\t332\tTRUE\t823819\t0.04910681557279\t94\t0.463004295214033\t818\t11243\t1.71493291970794\t62280000\t493\n"
     ]
    },
    {
     "name": "stderr",
     "output_type": "stream",
     "text": [
      "[mbo] 469: learning_rate=0.0491; num_leaves=94; feature_fraction=0.463; min_data_in_leaf=818; envios=11243; lambda_l1=1.71 : y = 6.23e+07 : 77.1 secs : infill_ei\n",
      "\n"
     ]
    },
    {
     "name": "stdout",
     "output_type": "stream",
     "text": [
      "20250601 063429\tbinary\tcustom\tTRUE\tTRUE\tFALSE\t-100\t31\t209\tTRUE\t823819\t0.0412214017541882\t844\t0.526081600189823\t1317\t12875\t1.15790242259312\t61215000\t494\n"
     ]
    },
    {
     "name": "stderr",
     "output_type": "stream",
     "text": [
      "[mbo] 470: learning_rate=0.0412; num_leaves=844; feature_fraction=0.526; min_data_in_leaf=1317; envios=12875; lambda_l1=1.16 : y = 6.12e+07 : 58.6 secs : infill_ei\n",
      "\n"
     ]
    },
    {
     "name": "stdout",
     "output_type": "stream",
     "text": [
      "20250601 063618\tbinary\tcustom\tTRUE\tTRUE\tFALSE\t-100\t31\t489\tTRUE\t823819\t0.0454431718981182\t550\t0.431681833805918\t1695\t11147\t1.11949555029902\t62085000\t495\n"
     ]
    },
    {
     "name": "stderr",
     "output_type": "stream",
     "text": [
      "[mbo] 471: learning_rate=0.0454; num_leaves=550; feature_fraction=0.432; min_data_in_leaf=1695; envios=11147; lambda_l1=1.12 : y = 6.21e+07 : 93.7 secs : infill_ei\n",
      "\n"
     ]
    },
    {
     "name": "stdout",
     "output_type": "stream",
     "text": [
      "20250601 063919\tbinary\tcustom\tTRUE\tTRUE\tFALSE\t-100\t31\t973\tTRUE\t823819\t0.0158533227056841\t889\t0.692797100875639\t996\t11724\t1.0513023306495\t62040000\t496\n"
     ]
    },
    {
     "name": "stderr",
     "output_type": "stream",
     "text": [
      "[mbo] 472: learning_rate=0.0159; num_leaves=889; feature_fraction=0.693; min_data_in_leaf=996; envios=11724; lambda_l1=1.05 : y = 6.2e+07 : 171.4 secs : infill_ei\n",
      "\n"
     ]
    },
    {
     "name": "stdout",
     "output_type": "stream",
     "text": [
      "20250601 064053\tbinary\tcustom\tTRUE\tTRUE\tFALSE\t-100\t31\t415\tTRUE\t823819\t0.0401281667854314\t968\t0.500115323145263\t2409\t7738\t2.45686298339575\t57915000\t497\n"
     ]
    },
    {
     "name": "stderr",
     "output_type": "stream",
     "text": [
      "[mbo] 473: learning_rate=0.0401; num_leaves=968; feature_fraction=0.5; min_data_in_leaf=2409; envios=7738; lambda_l1=2.46 : y = 5.79e+07 : 84.9 secs : infill_ei\n",
      "\n",
      "Saved the current state after iteration 474 in the file 5431.RDATA.\n",
      "\n"
     ]
    },
    {
     "name": "stdout",
     "output_type": "stream",
     "text": [
      "20250601 064246\tbinary\tcustom\tTRUE\tTRUE\tFALSE\t-100\t31\t172\tTRUE\t823819\t0.0279713826684513\t1022\t0.703543560213413\t15\t11089\t1.94235564025065\t59985000\t498\n"
     ]
    },
    {
     "name": "stderr",
     "output_type": "stream",
     "text": [
      "[mbo] 474: learning_rate=0.028; num_leaves=1022; feature_fraction=0.704; min_data_in_leaf=15; envios=11089; lambda_l1=1.94 : y = 6e+07 : 94.4 secs : infill_ei\n",
      "\n"
     ]
    },
    {
     "name": "stdout",
     "output_type": "stream",
     "text": [
      "20250601 064459\tbinary\tcustom\tTRUE\tTRUE\tFALSE\t-100\t31\t634\tTRUE\t823819\t0.0157192844614864\t712\t0.798586726960143\t968\t12528\t3.18661759854692\t61065000\t499\n"
     ]
    },
    {
     "name": "stderr",
     "output_type": "stream",
     "text": [
      "[mbo] 475: learning_rate=0.0157; num_leaves=712; feature_fraction=0.799; min_data_in_leaf=968; envios=12528; lambda_l1=3.19 : y = 6.11e+07 : 121.4 secs : infill_ei\n",
      "\n"
     ]
    },
    {
     "name": "stdout",
     "output_type": "stream",
     "text": [
      "20250601 064738\tbinary\tcustom\tTRUE\tTRUE\tFALSE\t-100\t31\t627\tTRUE\t823819\t0.0217764838808967\t583\t0.408631817379532\t820\t12367\t0.897394988271022\t61185000\t500\n"
     ]
    },
    {
     "name": "stderr",
     "output_type": "stream",
     "text": [
      "[mbo] 476: learning_rate=0.0218; num_leaves=583; feature_fraction=0.409; min_data_in_leaf=820; envios=12367; lambda_l1=0.897 : y = 6.12e+07 : 141.3 secs : infill_ei\n",
      "\n"
     ]
    },
    {
     "name": "stdout",
     "output_type": "stream",
     "text": [
      "20250601 064907\tbinary\tcustom\tTRUE\tTRUE\tFALSE\t-100\t31\t327\tTRUE\t823819\t0.0468345132909907\t632\t0.480066841069066\t1172\t12144\t1.44257160214235\t61860000\t501\n"
     ]
    },
    {
     "name": "stderr",
     "output_type": "stream",
     "text": [
      "[mbo] 477: learning_rate=0.0468; num_leaves=632; feature_fraction=0.48; min_data_in_leaf=1172; envios=12144; lambda_l1=1.44 : y = 6.19e+07 : 75.4 secs : infill_ei\n",
      "\n"
     ]
    },
    {
     "name": "stdout",
     "output_type": "stream",
     "text": [
      "20250601 065049\tbinary\tcustom\tTRUE\tTRUE\tFALSE\t-100\t31\t517\tTRUE\t823819\t0.0280105752173087\t914\t0.804695345161631\t1450\t14030\t2.69230293855405\t61590000\t502\n"
     ]
    },
    {
     "name": "stderr",
     "output_type": "stream",
     "text": [
      "[mbo] 478: learning_rate=0.028; num_leaves=914; feature_fraction=0.805; min_data_in_leaf=1450; envios=14030; lambda_l1=2.69 : y = 6.16e+07 : 86.5 secs : infill_ei\n",
      "\n"
     ]
    },
    {
     "name": "stdout",
     "output_type": "stream",
     "text": [
      "20250601 065245\tbinary\tcustom\tTRUE\tTRUE\tFALSE\t-100\t31\t501\tTRUE\t823819\t0.0245759990393175\t190\t0.565872612550775\t638\t10255\t7.42795054370259\t60915000\t503\n"
     ]
    },
    {
     "name": "stderr",
     "output_type": "stream",
     "text": [
      "[mbo] 479: learning_rate=0.0246; num_leaves=190; feature_fraction=0.566; min_data_in_leaf=638; envios=10255; lambda_l1=7.43 : y = 6.09e+07 : 107.9 secs : infill_ei\n",
      "\n",
      "Saved the current state after iteration 480 in the file 5431.RDATA.\n",
      "\n"
     ]
    },
    {
     "name": "stdout",
     "output_type": "stream",
     "text": [
      "20250601 065448\tbinary\tcustom\tTRUE\tTRUE\tFALSE\t-100\t31\t362\tTRUE\t823819\t0.0194267159039222\t410\t0.580831092707482\t1005\t11070\t1.48263116439768\t60990000\t504\n"
     ]
    },
    {
     "name": "stderr",
     "output_type": "stream",
     "text": [
      "[mbo] 480: learning_rate=0.0194; num_leaves=410; feature_fraction=0.581; min_data_in_leaf=1005; envios=11070; lambda_l1=1.48 : y = 6.1e+07 : 97.6 secs : infill_ei\n",
      "\n"
     ]
    },
    {
     "name": "stdout",
     "output_type": "stream",
     "text": [
      "20250601 065554\tbinary\tcustom\tTRUE\tTRUE\tFALSE\t-100\t31\t270\tTRUE\t823819\t0.0763889449644601\t609\t0.586014492035487\t834\t11651\t4.19466621553058\t61530000\t505\n"
     ]
    },
    {
     "name": "stderr",
     "output_type": "stream",
     "text": [
      "[mbo] 481: learning_rate=0.0764; num_leaves=609; feature_fraction=0.586; min_data_in_leaf=834; envios=11651; lambda_l1=4.19 : y = 6.15e+07 : 56.2 secs : infill_ei\n",
      "\n"
     ]
    },
    {
     "name": "stdout",
     "output_type": "stream",
     "text": [
      "20250601 065847\tbinary\tcustom\tTRUE\tTRUE\tFALSE\t-100\t31\t524\tTRUE\t823819\t0.0242283170683883\t663\t0.523093179596146\t146\t10379\t1.45173979932365\t61755000\t506\n"
     ]
    },
    {
     "name": "stderr",
     "output_type": "stream",
     "text": [
      "[mbo] 482: learning_rate=0.0242; num_leaves=663; feature_fraction=0.523; min_data_in_leaf=146; envios=10379; lambda_l1=1.45 : y = 6.18e+07 : 163.3 secs : infill_ei\n",
      "\n"
     ]
    },
    {
     "name": "stdout",
     "output_type": "stream",
     "text": [
      "20250601 070230\tbinary\tcustom\tTRUE\tTRUE\tFALSE\t-100\t31\t1085\tTRUE\t823819\t0.0147412813146555\t925\t0.675873312051047\t747\t13419\t2.60902091901814\t61995000\t507\n"
     ]
    },
    {
     "name": "stderr",
     "output_type": "stream",
     "text": [
      "[mbo] 483: learning_rate=0.0147; num_leaves=925; feature_fraction=0.676; min_data_in_leaf=747; envios=13419; lambda_l1=2.61 : y = 6.2e+07 : 207.7 secs : infill_ei\n",
      "\n"
     ]
    },
    {
     "name": "stdout",
     "output_type": "stream",
     "text": [
      "20250601 070401\tbinary\tcustom\tTRUE\tTRUE\tFALSE\t-100\t31\t301\tTRUE\t823819\t0.0517563924280969\t663\t0.528214976550695\t1078\t12853\t3.03998048968786\t61650000\t508\n"
     ]
    },
    {
     "name": "stderr",
     "output_type": "stream",
     "text": [
      "[mbo] 484: learning_rate=0.0518; num_leaves=663; feature_fraction=0.528; min_data_in_leaf=1078; envios=12853; lambda_l1=3.04 : y = 6.16e+07 : 73.7 secs : infill_ei\n",
      "\n",
      "Saved the current state after iteration 485 in the file 5431.RDATA.\n",
      "\n"
     ]
    },
    {
     "name": "stdout",
     "output_type": "stream",
     "text": [
      "20250601 070604\tbinary\tcustom\tTRUE\tTRUE\tFALSE\t-100\t31\t651\tTRUE\t823819\t0.0425284760041903\t1011\t0.639343330943099\t2115\t11078\t1.39739307068687\t61455000\t509\n"
     ]
    },
    {
     "name": "stderr",
     "output_type": "stream",
     "text": [
      "[mbo] 485: learning_rate=0.0425; num_leaves=1011; feature_fraction=0.639; min_data_in_leaf=2115; envios=11078; lambda_l1=1.4 : y = 6.15e+07 : 96.0 secs : infill_ei\n",
      "\n"
     ]
    },
    {
     "name": "stdout",
     "output_type": "stream",
     "text": [
      "20250601 070846\tbinary\tcustom\tTRUE\tTRUE\tFALSE\t-100\t31\t698\tTRUE\t823819\t0.0245196394733423\t419\t0.506545323763655\t1359\t11868\t2.2083547589475\t62445000\t510\n"
     ]
    },
    {
     "name": "stderr",
     "output_type": "stream",
     "text": [
      "[mbo] 486: learning_rate=0.0245; num_leaves=419; feature_fraction=0.507; min_data_in_leaf=1359; envios=11868; lambda_l1=2.21 : y = 6.24e+07 : 146.6 secs : infill_ei\n",
      "\n"
     ]
    },
    {
     "name": "stdout",
     "output_type": "stream",
     "text": [
      "20250601 071022\tbinary\tcustom\tTRUE\tTRUE\tFALSE\t-100\t31\t276\tTRUE\t823819\t0.0233345721941398\t287\t0.666438922901379\t417\t11257\t3.94543925170796\t60555000\t511\n"
     ]
    },
    {
     "name": "stderr",
     "output_type": "stream",
     "text": [
      "[mbo] 487: learning_rate=0.0233; num_leaves=287; feature_fraction=0.666; min_data_in_leaf=417; envios=11257; lambda_l1=3.95 : y = 6.06e+07 : 78.2 secs : infill_ei\n",
      "\n"
     ]
    },
    {
     "name": "stdout",
     "output_type": "stream",
     "text": [
      "20250601 071309\tbinary\tcustom\tTRUE\tTRUE\tFALSE\t-100\t31\t757\tTRUE\t823819\t0.0270118445003763\t649\t0.473717060296218\t878\t14198\t3.78765819501916\t62055000\t512\n"
     ]
    },
    {
     "name": "stderr",
     "output_type": "stream",
     "text": [
      "[mbo] 488: learning_rate=0.027; num_leaves=649; feature_fraction=0.474; min_data_in_leaf=878; envios=14198; lambda_l1=3.79 : y = 6.21e+07 : 154.2 secs : infill_ei\n",
      "\n"
     ]
    },
    {
     "name": "stdout",
     "output_type": "stream",
     "text": [
      "20250601 071425\tbinary\tcustom\tTRUE\tTRUE\tFALSE\t-100\t31\t325\tTRUE\t823819\t0.0468088646743638\t837\t0.355512141823199\t641\t12280\t8.03726853359047\t60120000\t513\n"
     ]
    },
    {
     "name": "stderr",
     "output_type": "stream",
     "text": [
      "[mbo] 489: learning_rate=0.0468; num_leaves=837; feature_fraction=0.356; min_data_in_leaf=641; envios=12280; lambda_l1=8.04 : y = 6.01e+07 : 68.7 secs : infill_ei\n",
      "\n",
      "Saved the current state after iteration 490 in the file 5431.RDATA.\n",
      "\n"
     ]
    },
    {
     "name": "stdout",
     "output_type": "stream",
     "text": [
      "20250601 071554\tbinary\tcustom\tTRUE\tTRUE\tFALSE\t-100\t31\t243\tTRUE\t823819\t0.0516161332403073\t654\t0.370526634586698\t748\t11258\t1.53600727078347\t62595000\t514\n"
     ]
    },
    {
     "name": "stderr",
     "output_type": "stream",
     "text": [
      "[mbo] 490: learning_rate=0.0516; num_leaves=654; feature_fraction=0.371; min_data_in_leaf=748; envios=11258; lambda_l1=1.54 : y = 6.26e+07 : 64.0 secs : infill_ei\n",
      "\n"
     ]
    },
    {
     "name": "stdout",
     "output_type": "stream",
     "text": [
      "20250601 071708\tbinary\tcustom\tTRUE\tTRUE\tFALSE\t-100\t31\t199\tTRUE\t823819\t0.0519398595508667\t335\t0.461094104381997\t188\t12452\t3.78083302687904\t61530000\t515\n"
     ]
    },
    {
     "name": "stderr",
     "output_type": "stream",
     "text": [
      "[mbo] 491: learning_rate=0.0519; num_leaves=335; feature_fraction=0.461; min_data_in_leaf=188; envios=12452; lambda_l1=3.78 : y = 6.15e+07 : 65.8 secs : infill_ei\n",
      "\n"
     ]
    },
    {
     "name": "stdout",
     "output_type": "stream",
     "text": [
      "20250601 071836\tbinary\tcustom\tTRUE\tTRUE\tFALSE\t-100\t31\t280\tTRUE\t823819\t0.0429393899207792\t752\t0.486833087978921\t369\t12626\t2.90001678070035\t61125000\t516\n"
     ]
    },
    {
     "name": "stderr",
     "output_type": "stream",
     "text": [
      "[mbo] 492: learning_rate=0.0429; num_leaves=752; feature_fraction=0.487; min_data_in_leaf=369; envios=12626; lambda_l1=2.9 : y = 6.11e+07 : 80.4 secs : infill_ei\n",
      "\n"
     ]
    },
    {
     "name": "stdout",
     "output_type": "stream",
     "text": [
      "20250601 071931\tbinary\tcustom\tTRUE\tTRUE\tFALSE\t-100\t31\t132\tTRUE\t823819\t0.0306431651088778\t537\t0.952420621395225\t803\t11471\t1.87113295834927\t60630000\t517\n"
     ]
    },
    {
     "name": "stderr",
     "output_type": "stream",
     "text": [
      "[mbo] 493: learning_rate=0.0306; num_leaves=537; feature_fraction=0.952; min_data_in_leaf=803; envios=11471; lambda_l1=1.87 : y = 6.06e+07 : 46.3 secs : infill_ei\n",
      "\n"
     ]
    },
    {
     "name": "stdout",
     "output_type": "stream",
     "text": [
      "20250601 072022\tbinary\tcustom\tTRUE\tTRUE\tFALSE\t-100\t31\t105\tTRUE\t823819\t0.0499653571162318\t158\t0.95806594710314\t132\t10605\t3.5425070894492\t60585000\t518\n"
     ]
    },
    {
     "name": "stderr",
     "output_type": "stream",
     "text": [
      "[mbo] 494: learning_rate=0.05; num_leaves=158; feature_fraction=0.958; min_data_in_leaf=132; envios=10605; lambda_l1=3.54 : y = 6.06e+07 : 42.9 secs : infill_ei\n",
      "\n"
     ]
    },
    {
     "name": "stdout",
     "output_type": "stream",
     "text": [
      "20250601 072152\tbinary\tcustom\tTRUE\tTRUE\tFALSE\t-100\t31\t313\tTRUE\t823819\t0.04659585641575\t1007\t0.460155125912128\t1586\t12154\t1.11198665362286\t61350000\t519\n"
     ]
    },
    {
     "name": "stderr",
     "output_type": "stream",
     "text": [
      "[mbo] 495: learning_rate=0.0466; num_leaves=1007; feature_fraction=0.46; min_data_in_leaf=1586; envios=12154; lambda_l1=1.11 : y = 6.14e+07 : 71.7 secs : infill_ei\n",
      "\n"
     ]
    },
    {
     "name": "stdout",
     "output_type": "stream",
     "text": [
      "20250601 072403\tbinary\tcustom\tTRUE\tTRUE\tFALSE\t-100\t31\t601\tTRUE\t823819\t0.0404910893120081\t834\t0.458818603783684\t1655\t11826\t1.43950420656104\t61965000\t520\n"
     ]
    },
    {
     "name": "stderr",
     "output_type": "stream",
     "text": [
      "[mbo] 496: learning_rate=0.0405; num_leaves=834; feature_fraction=0.459; min_data_in_leaf=1655; envios=11826; lambda_l1=1.44 : y = 6.2e+07 : 114.6 secs : infill_ei\n",
      "\n"
     ]
    },
    {
     "name": "stdout",
     "output_type": "stream",
     "text": [
      "20250601 072930\tbinary\tcustom\tTRUE\tTRUE\tFALSE\t-100\t31\t1775\tTRUE\t823819\t0.010995475165556\t459\t0.848422390240451\t712\t11462\t1.22455879992848\t63180000\t521\n",
      "20250601 073049\tbinary\tcustom\tTRUE\tTRUE\tFALSE\t-100\t31\t1775\tTRUE\t823819\t0.010995475165556\t459\t0.848422390240451\t712\t11462\t1.22455879992848\t63180000\t521\n"
     ]
    },
    {
     "name": "stderr",
     "output_type": "stream",
     "text": [
      "[mbo] 497: learning_rate=0.011; num_leaves=459; feature_fraction=0.848; min_data_in_leaf=712; envios=11462; lambda_l1=1.22 : y = 6.32e+07 : 398.3 secs : infill_ei\n",
      "\n",
      "Saved the current state after iteration 498 in the file 5431.RDATA.\n",
      "\n"
     ]
    },
    {
     "name": "stdout",
     "output_type": "stream",
     "text": [
      "20250601 073203\tbinary\tcustom\tTRUE\tTRUE\tFALSE\t-100\t31\t209\tTRUE\t823819\t0.0441995784784712\t196\t0.685118751487979\t1307\t13052\t1.65188140656762\t59850000\t522\n"
     ]
    },
    {
     "name": "stderr",
     "output_type": "stream",
     "text": [
      "[mbo] 498: learning_rate=0.0442; num_leaves=196; feature_fraction=0.685; min_data_in_leaf=1307; envios=13052; lambda_l1=1.65 : y = 5.98e+07 : 48.3 secs : infill_ei\n",
      "\n"
     ]
    },
    {
     "name": "stdout",
     "output_type": "stream",
     "text": [
      "20250601 073358\tbinary\tcustom\tTRUE\tTRUE\tFALSE\t-100\t31\t410\tTRUE\t823819\t0.017813503529445\t263\t0.680011984814974\t724\t13113\t0.749608115608192\t62550000\t523\n"
     ]
    },
    {
     "name": "stderr",
     "output_type": "stream",
     "text": [
      "[mbo] 499: learning_rate=0.0178; num_leaves=263; feature_fraction=0.68; min_data_in_leaf=724; envios=13113; lambda_l1=0.75 : y = 6.26e+07 : 104.6 secs : infill_ei\n",
      "\n"
     ]
    },
    {
     "name": "stdout",
     "output_type": "stream",
     "text": [
      "20250601 073727\tbinary\tcustom\tTRUE\tTRUE\tFALSE\t-100\t31\t1043\tTRUE\t823819\t0.015643233276687\t957\t0.811480454192812\t664\t12608\t2.42682985127488\t62145000\t524\n"
     ]
    },
    {
     "name": "stderr",
     "output_type": "stream",
     "text": [
      "[mbo] 500: learning_rate=0.0156; num_leaves=957; feature_fraction=0.811; min_data_in_leaf=664; envios=12608; lambda_l1=2.43 : y = 6.21e+07 : 189.9 secs : infill_ei\n",
      "\n",
      "Saved the final state in the file 5431.RDATA\n",
      "\n"
     ]
    }
   ],
   "source": [
    "# inicio la optimizacion bayesiana\n",
    "\n",
    "if (!file.exists(kbayesiana)) {\n",
    "  run <- mbo(obj.fun, learner = surr.km, control = ctrl)\n",
    "} else {\n",
    "  run <- mboContinue(kbayesiana) # retomo en caso que ya exista\n",
    "}"
   ]
  },
  {
   "cell_type": "markdown",
   "metadata": {
    "id": "0vu-1vf5LrVg"
   },
   "source": [
    "\n",
    "\n",
    "---\n",
    "\n"
   ]
  }
 ],
 "metadata": {
  "colab": {
   "provenance": []
  },
  "kernelspec": {
   "display_name": "R",
   "language": "R",
   "name": "ir"
  },
  "language_info": {
   "codemirror_mode": "r",
   "file_extension": ".r",
   "mimetype": "text/x-r-source",
   "name": "R",
   "pygments_lexer": "r",
   "version": "4.4.3"
  }
 },
 "nbformat": 4,
 "nbformat_minor": 4
}
